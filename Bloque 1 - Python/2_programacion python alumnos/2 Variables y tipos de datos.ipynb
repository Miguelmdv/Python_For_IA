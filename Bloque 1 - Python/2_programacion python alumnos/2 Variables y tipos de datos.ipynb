{
 "cells": [
  {
   "cell_type": "markdown",
   "id": "9e4b6827",
   "metadata": {
    "editable": true,
    "slideshow": {
     "slide_type": ""
    },
    "tags": []
   },
   "source": [
    "# Variables en Python\n",
    "\n",
    "Las variables se pueden representar como cajas donde se almacena información.\n",
    "\n",
    "Estas cajas tienen una posición en la memoria del programa y para ayudar a los desarrolladores, también tienen un nombre\n",
    "\n",
    "![Variables en Python](imagenes/Variables_en_Python.jpg)\n",
    "\n",
    "En Python cada variable tiene siempre un tipo de dato asociado y define las opreaciones que se pueden realizar sobre la variable\n",
    "\n",
    "Por defecto hay una lista muy extensa de tipos de datos pero siempre se puede extender o crear nuevos tipos de datos que se adapten mejor a cualquier necesidad"
   ]
  },
  {
   "cell_type": "markdown",
   "id": "4c1348f5",
   "metadata": {},
   "source": [
    "# Tipos de datos en build-in\n",
    "\n",
    "Por defecto python tiene los siguiente lista de tipos de datos:\n",
    "\n",
    "Nombre | clase | tipo | Almacena datos? | es Mutable?\n",
    "-------:|:-------:|:------:|:-----------------:|:------------\n",
    "Lista | list | secuencia | sí | si\n",
    "Tupla | tuple | secuencia | sí | no\n",
    "Conjunto | set | secuencia | sí | no\n",
    "Conjuntos estáticos | frozenset | secuencia | sí | no\n",
    "Rango | range | secuencia | no | no\n",
    "Diccionario | dict | mapa |  sí | sí\n",
    "Cadena de caracteres | str | cadena | no | no\n",
    "Cadenas binarias | bytes | cadena | no | no\n",
    "Array de cadenas binarias | bytesarray | cadena | no | no\n",
    "Entero | int | numérico | no | no\n",
    "Punto flotante | float | numérico | no | no\n",
    "Complejos | complex | numérico | no | no\n",
    "\n"
   ]
  },
  {
   "cell_type": "markdown",
   "id": "89ac0711",
   "metadata": {},
   "source": [
    "## Identificadores de una variable (id)\n",
    "\n",
    "Cada variable tiene asignado un identificador interno y se puede obtener usando la función `id`."
   ]
  },
  {
   "cell_type": "code",
   "execution_count": null,
   "id": "012834ef",
   "metadata": {},
   "outputs": [],
   "source": [
    "id(42), id([1, 2, 3]), id('Pepe')"
   ]
  },
  {
   "cell_type": "markdown",
   "id": "90af5688",
   "metadata": {},
   "source": [
    "Como podemos ver las cadenas de caracteres que son iguales apuntan a la misma variable, pero las listas aunque tengan los mismos elementos, tienen identificadores distintos\n",
    "\n",
    "Esta es una característica de la mutabilidad de los tipos de datos"
   ]
  },
  {
   "cell_type": "markdown",
   "id": "57d2080e-f5d6-4e2e-a030-82077ea387d0",
   "metadata": {},
   "source": [
    "## Ejercicio 1 - Identificar\n",
    "\n",
    "Identificar donde están los números del 1 - 10"
   ]
  },
  {
   "cell_type": "code",
   "execution_count": 1,
   "id": "9256928f-b575-4a10-b0d4-e1aacc49b5af",
   "metadata": {},
   "outputs": [
    {
     "data": {
      "text/plain": [
       "(1, 2)"
      ]
     },
     "execution_count": 1,
     "metadata": {},
     "output_type": "execute_result"
    }
   ],
   "source": [
    "a = 1\n",
    "b = 2\n",
    "a,b"
   ]
  },
  {
   "cell_type": "markdown",
   "id": "19918982-ace2-421d-8667-cab7c5805d4a",
   "metadata": {},
   "source": [
    "## Ejercicio 2 - Identificar cadenas de caracteres\n",
    "\n",
    "Identificar las cadenas:\n",
    "* 'Hola Mundo'\n",
    "* Su nombre y sus apellidos"
   ]
  },
  {
   "cell_type": "code",
   "execution_count": null,
   "id": "2a824a0d-6f6d-4587-afad-dde96b81d576",
   "metadata": {},
   "outputs": [],
   "source": []
  },
  {
   "cell_type": "markdown",
   "id": "472861e8",
   "metadata": {},
   "source": [
    "# Mutabilidad de los tipos de datos\n",
    "\n",
    "En python existen tipos mutables e inmutables.\n",
    "\n",
    "Si un tipo es **mutable** significa que sus elementos se pueden cambiar\n",
    "\n",
    "Si un tipo de **inmutable** significa que una vez inicializado el tipo de dato, no se podrá cambiar a posteriori y será necesario crear una nueva instancia"
   ]
  },
  {
   "cell_type": "code",
   "execution_count": null,
   "id": "70dad034",
   "metadata": {},
   "outputs": [],
   "source": []
  },
  {
   "cell_type": "markdown",
   "id": "58cb6eff",
   "metadata": {},
   "source": [
    "## Tipos de datos mutables\n",
    "\n",
    "Nombre | clase | tipo | Almacena datos? | es Mutable?\n",
    "-------:|:-------:|:------:|:-----------------:|:------------\n",
    "Lista | list | secuencia | sí | si\n",
    "Conjunto | set | secuencia | sí | sí\n",
    "Diccionario | dict | mapa |  sí | sí\n",
    "Array de cadenas binarias | bytesarray | cadena | no | sí\n",
    "\n",
    "## Tipos de datos inmutables\n",
    "\n",
    "Nombre | clase | tipo | Almacena datos? | es Mutable?\n",
    "-------:|:-------:|:------:|:-----------------:|:------------\n",
    "Tupla | tuple | secuencia | sí | no\n",
    "Conjuntos estáticos | frozenset | secuencia | sí | no\n",
    "Rango | range | secuencia | no | no\n",
    "Cadena de caracteres | str | cadena | no | no\n",
    "Cadenas binarias | bytes | cadena | no | no\n",
    "Array de cadenas binarias | bytesarray | cadena | no | no\n",
    "Entero | int | numérico | no | no\n",
    "Punto flotante | float | numérico | no | no\n",
    "Complejos | complex | numérico | no | no"
   ]
  },
  {
   "cell_type": "markdown",
   "id": "7040e758-0626-430d-93ea-21d4cff067ef",
   "metadata": {},
   "source": [
    "# Método type e isinstance\n",
    "\n",
    "En Python se puede inspeccionar qué tipo es cualquier variable usando el método `type`y se puede comprobar si es de un tipo específico con `isinsntaceof`"
   ]
  },
  {
   "cell_type": "code",
   "execution_count": null,
   "id": "cde77ab9-5281-4509-a2bf-0b5a112d341e",
   "metadata": {},
   "outputs": [],
   "source": []
  },
  {
   "cell_type": "markdown",
   "id": "3d937fe1",
   "metadata": {},
   "source": [
    "## Métodos definidos para cada tipo de dato (dir)\n",
    "\n",
    "Para cualquier tipo de dato en Python se puede obtener la lista de atributos y métodos disponibles utilizando la función `dir` sobre la variable elegida"
   ]
  },
  {
   "cell_type": "code",
   "execution_count": null,
   "id": "4a33a83c",
   "metadata": {},
   "outputs": [],
   "source": [
    "# métodos de un número entero"
   ]
  },
  {
   "cell_type": "markdown",
   "id": "189ae0f0",
   "metadata": {},
   "source": [
    "Los métodos que comienzan y terminan con `__` son métodos mágicos y sirven para realizar operaciones especiales.\n",
    "\n",
    "Los métodos y atributos con uno o dos `_` al inicio del nombre se consideran privados y no se deberían de acceder desde contextos fuera del módulo que los define"
   ]
  },
  {
   "cell_type": "markdown",
   "id": "7ae68bb2-6cd9-4043-9012-5d4822e97118",
   "metadata": {},
   "source": [
    "## Ejercicio 1 - Métodos en cadenas\n",
    "\n",
    "Métodos disponibles de la cadena `'elpythonista'`"
   ]
  },
  {
   "cell_type": "code",
   "execution_count": null,
   "id": "001b1eaf",
   "metadata": {},
   "outputs": [],
   "source": [
    "# Métodos de una cadena de texto"
   ]
  },
  {
   "cell_type": "markdown",
   "id": "d7b01d8f-c7be-420b-a3ac-86b04fef28eb",
   "metadata": {},
   "source": [
    "## Ejercicio 2 - Métodos disponibles en números\n",
    "\n",
    "Métodos disponibles para el número 14"
   ]
  },
  {
   "cell_type": "code",
   "execution_count": 12,
   "id": "346af266-9e32-4071-9257-1c92c7e0e129",
   "metadata": {},
   "outputs": [
    {
     "data": {
      "text/plain": [
       "'hola mundo12'"
      ]
     },
     "execution_count": 12,
     "metadata": {},
     "output_type": "execute_result"
    }
   ],
   "source": []
  },
  {
   "cell_type": "markdown",
   "id": "c65ecfeb",
   "metadata": {},
   "source": [
    "## Documentación usando `__doc__`\n",
    "\n",
    "Para poder saber la información sobre cualquier método se puede usar su método mágico `__doc__`"
   ]
  },
  {
   "cell_type": "code",
   "execution_count": null,
   "id": "74d7bacd",
   "metadata": {},
   "outputs": [],
   "source": [
    "[].append.__doc__"
   ]
  },
  {
   "cell_type": "code",
   "execution_count": null,
   "id": "80cb163a-1e93-4768-a86b-f80481a11b97",
   "metadata": {},
   "outputs": [],
   "source": [
    "# ¿Cómo mirariamos la documentación del método title en una cadena?\n"
   ]
  },
  {
   "cell_type": "markdown",
   "id": "03e29b77-d1e5-40e4-8c4e-6ddb1378dc8d",
   "metadata": {},
   "source": [
    "## Ejercicio 1 \n",
    "\n",
    "Documentación sobre:\n",
    "* len\n",
    "* sum\n",
    "* range"
   ]
  },
  {
   "cell_type": "code",
   "execution_count": null,
   "id": "3f7d241d-723c-49c5-8d56-f84d7461d0ba",
   "metadata": {
    "editable": true,
    "slideshow": {
     "slide_type": "slide"
    },
    "tags": []
   },
   "outputs": [],
   "source": []
  },
  {
   "cell_type": "markdown",
   "id": "8fd01221-bb70-4cf8-9073-99d6310c2907",
   "metadata": {},
   "source": [
    "## Ejercicio 2 \n",
    "\n",
    "Documentación sobre:\n",
    "* list\n",
    "* list.copy\n",
    "* list.count\n",
    "* list.remove"
   ]
  },
  {
   "cell_type": "code",
   "execution_count": null,
   "id": "3070077a-f548-4298-a299-e054cbf63796",
   "metadata": {},
   "outputs": [],
   "source": []
  },
  {
   "cell_type": "markdown",
   "id": "673e369d-fc7b-4332-94d9-1e6a5f9de05d",
   "metadata": {},
   "source": [
    "# ¿Cómo se nombran las variables en Python según PEP 8?"
   ]
  },
  {
   "cell_type": "markdown",
   "id": "80c0099a-d00f-40a1-a5f4-d70bae1095af",
   "metadata": {},
   "source": [
    "Podemos verlo en la propia definición oficial https://peps.python.org/pep-0008/#function-and-variable-names\n",
    "\n",
    "### [Function and Variable Names](https://peps.python.org/pep-0008/#function-and-variable-names)\n",
    "\n",
    "Function names should be lowercase, with words separated by underscores as necessary to improve readability.\n",
    "\n",
    "Variable names follow the same convention as function names.\n",
    "\n",
    "mixedCase is allowed only in contexts where that’s already the prevailing style (e.g. threading.py), to retain backwards compatibility."
   ]
  },
  {
   "cell_type": "markdown",
   "id": "a53d438d-f47e-4f1f-b719-782cded0491b",
   "metadata": {},
   "source": [
    "Principalmente usar Snake Case: \n",
    "\n",
    "`Nombres de variables y funciones: se usan palabras en minúscula separadas por barras bajas, nunca empezando por número.`\n",
    "    \n",
    "Ejemplos bien y mal:\n",
    "```\n",
    "taxes_2023 = 453.34\n",
    "coche_azul = {'name': 'coche', 'color': 'blue'} # Coche(color='blue')\n",
    "player_4 = dict(name='Juan', position=24) # Player(name='Juan', position=24)\n",
    "```\n",
    "\n",
    "Ejemplos mal\n",
    "```\n",
    "    2023_taxes = 453.34\n",
    "    coche-azul = {'name': 'coche', 'color': 'blue'}\n",
    "    player 4 = dict(name='Juan', position=24)\n",
    "```"
   ]
  },
  {
   "cell_type": "code",
   "execution_count": null,
   "id": "08137dbe-aeda-4197-a5e3-4fc60a00a794",
   "metadata": {},
   "outputs": [],
   "source": [
    "taxes_2023 = 453.34\n",
    "coche_azul = {'name': 'coche', 'color': 'blue'} # Coche(color='blue')\n",
    "player_4 = dict(name='Juan', position=24) # Player(name='Juan', position=24)"
   ]
  },
  {
   "cell_type": "code",
   "execution_count": null,
   "id": "4e2fea8f-e86a-4d61-b99c-c5e5ee6c09d2",
   "metadata": {},
   "outputs": [],
   "source": [
    "taxes_2023"
   ]
  },
  {
   "cell_type": "markdown",
   "id": "7f7ad7f2-627f-4558-ab80-a9ac0fd21b3a",
   "metadata": {},
   "source": [
    "# Python en de tipado dinámico y fuertemente tipado"
   ]
  },
  {
   "cell_type": "markdown",
   "id": "dc93eae4-46ef-47c9-90ef-e7f26503ef5f",
   "metadata": {},
   "source": [
    "Eso quiere decir que una misma variable puede cambiar de tipo de valor (siendo un entero y despues una cadena) pero que al ser fuertemente tipado no se cambia para ajustarse a cualquier operación (la suma de un entero con una cadena no es posible - ni aunque se parezcan)"
   ]
  },
  {
   "cell_type": "code",
   "execution_count": null,
   "id": "ba60d514-19cc-4777-bb48-6ce798ad956f",
   "metadata": {},
   "outputs": [],
   "source": [
    "mi_variable = 1\n",
    "print(mi_variable, type(mi_variable))\n",
    "\n",
    "mi_variable = 2.34\n",
    "print(mi_variable, type(mi_variable))\n",
    "\n"
   ]
  },
  {
   "cell_type": "code",
   "execution_count": null,
   "id": "231129f3-d524-4e8a-b46c-5874780bf9b0",
   "metadata": {},
   "outputs": [],
   "source": [
    "mi_variable = 16\n",
    "otra_variable = \"hola\"\n",
    "print(mi_variable, type(mi_variable))\n",
    "print(otra_variable, type(otra_variable))\n",
    "\n",
    "mi_variable + otra_variable"
   ]
  },
  {
   "cell_type": "code",
   "execution_count": null,
   "id": "58833832-b3d8-4bef-8c60-3a51c5a0d688",
   "metadata": {},
   "outputs": [],
   "source": [
    "mi_variable = 16\n",
    "otra_variable = \"1\"\n",
    "print(mi_variable, type(mi_variable))\n",
    "print(otra_variable, type(otra_variable))\n",
    "\n",
    "mi_variable + otra_variable"
   ]
  },
  {
   "cell_type": "code",
   "execution_count": null,
   "id": "05840d0f-56f3-4a88-a94b-cb49bc3120ef",
   "metadata": {
    "editable": true,
    "slideshow": {
     "slide_type": "slide"
    },
    "tags": []
   },
   "outputs": [],
   "source": []
  },
  {
   "cell_type": "markdown",
   "id": "127388ed-9d03-4e67-ba0f-675d2a1e96a5",
   "metadata": {},
   "source": [
    "# Inicialización de tipos\n",
    "\n",
    "Muchos tipos de datos en Python se pueden inicializar de varias formas:\n",
    "* Usando un literal: `1, \"hola\", {\"jugador\": \"Juan\"}`\n",
    "* Usando el inicializador/constructor del objeto: `int(1), tuple(True, 'Hola')`\n",
    "* Usando un casting para convertir de un tipo a otro `str(1), str(tuple(\"hola\")), int('34'), list(\"hola mundo\")`"
   ]
  },
  {
   "cell_type": "code",
   "execution_count": null,
   "id": "7fb586b6-9445-42d8-b577-631444baff16",
   "metadata": {
    "editable": true,
    "slideshow": {
     "slide_type": ""
    },
    "tags": []
   },
   "outputs": [],
   "source": []
  }
 ],
 "metadata": {
  "kernelspec": {
   "display_name": "Python 3 (ipykernel)",
   "language": "python",
   "name": "python3"
  },
  "language_info": {
   "codemirror_mode": {
    "name": "ipython",
    "version": 3
   },
   "file_extension": ".py",
   "mimetype": "text/x-python",
   "name": "python",
   "nbconvert_exporter": "python",
   "pygments_lexer": "ipython3",
   "version": "3.11.5"
  }
 },
 "nbformat": 4,
 "nbformat_minor": 5
}
