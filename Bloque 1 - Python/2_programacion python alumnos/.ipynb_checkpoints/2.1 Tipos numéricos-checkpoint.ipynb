{
 "cells": [
  {
   "cell_type": "markdown",
   "id": "28d2f917",
   "metadata": {
    "editable": true,
    "slideshow": {
     "slide_type": ""
    },
    "tags": []
   },
   "source": [
    "# Enteros y punto flotante\n",
    "\n",
    "Los tipos numéricos en Python son uno de los tipos más simples y más utilizados en el lenguaje.\n",
    "\n",
    "![Numeros_En_Python](imagenes/Numeros_En_Python.jpeg)\n",
    "\n",
    "Los tipos básicos son los enteros (`int`) y los punto flotante (`float`).\n",
    "\n",
    "La principal diferencia es que unos tienen decimales y otros no pero ambos están creados de la misma forma y comparten practicamente todos los métodos.\n",
    "\n",
    "Se pueden instanciar como simples literales:\n",
    "* Enteros: 0, -51, 4, 5, 6, 3, 1, 938475629, 495723, 42\n",
    "* Punto flotantes: 4.3, -2.3, -8.453241\n",
    "\n",
    "Y también se pueden hacer castings desde cadenas de caracteres:\n",
    "* Enteros: int(-1), int(0), int(453)\n",
    "* Punto flotantes: float('473.32'), float(inf), float('-43.25122')\n",
    "\n",
    "Un punto importante de los punto flotante es que facilmente se pueden instanciar usando su notación científica:"
   ]
  },
  {
   "cell_type": "code",
   "execution_count": null,
   "id": "13e0691a",
   "metadata": {},
   "outputs": [],
   "source": [
    "10e3, -4.5e-5, 8.943e6, 98e987, float('4938.23'), int('09473')"
   ]
  },
  {
   "cell_type": "markdown",
   "id": "45d0f6b7",
   "metadata": {},
   "source": [
    "Dentro de los coma flotantes existen los conceptos de infinito y menos infinito"
   ]
  },
  {
   "cell_type": "code",
   "execution_count": null,
   "id": "baa4fb42",
   "metadata": {},
   "outputs": [],
   "source": [
    "float('inf'), float('-inf')"
   ]
  },
  {
   "cell_type": "markdown",
   "id": "bedf2ccd",
   "metadata": {},
   "source": [
    "Gracias a que los tipos de datos numéricos comparten la implementación, se pueden intercambiar más facilmente para realizar operaciones que otros tipos de datos que se construyen totalmente diferentes"
   ]
  },
  {
   "cell_type": "code",
   "execution_count": null,
   "id": "178f05c6",
   "metadata": {},
   "outputs": [],
   "source": [
    "4 + 9.5"
   ]
  },
  {
   "cell_type": "code",
   "execution_count": null,
   "id": "71a2e9c9",
   "metadata": {},
   "outputs": [],
   "source": [
    "98 / 54e9"
   ]
  },
  {
   "cell_type": "markdown",
   "id": "300e0d41",
   "metadata": {},
   "source": [
    "Otra forma muy útil de construir enteros es cambiando de base:"
   ]
  },
  {
   "cell_type": "code",
   "execution_count": null,
   "id": "217c1950",
   "metadata": {},
   "outputs": [],
   "source": [
    "int('101', base=2)"
   ]
  },
  {
   "cell_type": "code",
   "execution_count": null,
   "id": "fcd2e048",
   "metadata": {},
   "outputs": [],
   "source": [
    "int('AF9', base=16)"
   ]
  },
  {
   "cell_type": "code",
   "execution_count": null,
   "id": "678eb131",
   "metadata": {},
   "outputs": [],
   "source": [
    "int('AZX3', base=36)"
   ]
  },
  {
   "cell_type": "markdown",
   "id": "e21237e2-f351-4727-b378-3ea23deec871",
   "metadata": {},
   "source": [
    "## Ejemplos\n",
    "\n",
    "Calcular vuestro nombre en base 27"
   ]
  },
  {
   "cell_type": "code",
   "execution_count": null,
   "id": "1fb4478c-7e52-452f-9bb1-97755eb4a0e7",
   "metadata": {},
   "outputs": [],
   "source": []
  },
  {
   "cell_type": "markdown",
   "id": "3f23cdbc",
   "metadata": {},
   "source": [
    "# Rangos en Python\n",
    "\n",
    "Uno de los tipos más útiles para crear series de datos es el tipo `range`.\n",
    "\n",
    "![Range_Enumerate](imagenes/Range_Enumerate.jpeg)\n",
    "\n",
    "Permite crear series de números con un inicio, fin y paso especificados con la siguiente sintaxis:\n",
    "\n",
    "```python\n",
    "range(fin) == 0, 1, ... fin - 1\n",
    "range(inicio, fin) == inicio, inicio + 1, inicio + 2, ... fin - 1\n",
    "range(inicio, fin, paso) == inicio + paso, inicio + (paso * 2), ... (fin < (inicio + paso * n))\n",
    "```\n"
   ]
  },
  {
   "cell_type": "code",
   "execution_count": null,
   "id": "50fbb159",
   "metadata": {},
   "outputs": [],
   "source": [
    "list(range(5))"
   ]
  },
  {
   "cell_type": "code",
   "execution_count": null,
   "id": "990f2110",
   "metadata": {},
   "outputs": [],
   "source": [
    "list(range(5, 10))"
   ]
  },
  {
   "cell_type": "code",
   "execution_count": null,
   "id": "64860052",
   "metadata": {},
   "outputs": [],
   "source": [
    "list(range(10, 5, -1))"
   ]
  },
  {
   "cell_type": "code",
   "execution_count": null,
   "id": "791c5a7e",
   "metadata": {},
   "outputs": [],
   "source": [
    "list(range(5, 10, 3))"
   ]
  },
  {
   "cell_type": "code",
   "execution_count": null,
   "id": "6f18d3de",
   "metadata": {},
   "outputs": [],
   "source": [
    "list(range(8, 20, 8))"
   ]
  },
  {
   "cell_type": "markdown",
   "id": "a70d9b0c",
   "metadata": {},
   "source": [
    "## Ejercicio 1 - Obtener una serie de valores múltiplos de 6\n",
    "\n",
    "Obtener los números múltiplos de 6 desde el 10 hasta el 100"
   ]
  },
  {
   "cell_type": "code",
   "execution_count": null,
   "id": "f1a898a4",
   "metadata": {},
   "outputs": [],
   "source": []
  },
  {
   "cell_type": "markdown",
   "id": "e3b8c7d8-4eb2-4ea8-bc88-f2054dd0c80e",
   "metadata": {},
   "source": [
    "# Enumerate en Python\n",
    "\n",
    "La función enumerate permite iterar por una variable tipo iterador devolviendo una tupla con 2 valores, la posición del elemento y el elemento en sí\n",
    "\n",
    "```\n",
    "for idx, value in enumerate(\"hola\"):\n",
    "    print(idx, value)\n",
    "```"
   ]
  },
  {
   "cell_type": "code",
   "execution_count": null,
   "id": "ef564ac2-83ab-48f9-a467-444d7d486a22",
   "metadata": {},
   "outputs": [],
   "source": [
    "for idx, value in enumerate(\"hola\"):\n",
    "    print(idx, value)"
   ]
  },
  {
   "cell_type": "code",
   "execution_count": null,
   "id": "525032b2-9c1d-49d8-93dd-47af3d7a0205",
   "metadata": {},
   "outputs": [],
   "source": [
    "for idx, value in enumerate([45, 21, 367, 44, 53]):\n",
    "    print(idx, value)"
   ]
  },
  {
   "cell_type": "markdown",
   "id": "7ac583e6",
   "metadata": {},
   "source": [
    "## Uso de `enumerate` con rangos\n",
    "\n",
    "Un uso muy cómo de iterar por valores es el uso de `enumerate`, el cual crea un índice para cada elemento en el iterador, y en conjunción con rangos permite potenciar el tipo de dato dramaticamente"
   ]
  },
  {
   "cell_type": "code",
   "execution_count": null,
   "id": "a5432c15",
   "metadata": {},
   "outputs": [],
   "source": [
    "list(enumerate(range(4)))"
   ]
  },
  {
   "cell_type": "code",
   "execution_count": null,
   "id": "6ee53e3d",
   "metadata": {},
   "outputs": [],
   "source": [
    "list(enumerate(range(10, 5, -1)))"
   ]
  },
  {
   "cell_type": "code",
   "execution_count": null,
   "id": "12ae056a",
   "metadata": {
    "scrolled": true
   },
   "outputs": [],
   "source": [
    "for idx, elem in enumerate(range(20, 10, -3)):\n",
    "    print(f'El elemento {idx} es {elem}')"
   ]
  },
  {
   "cell_type": "markdown",
   "id": "d56709a1",
   "metadata": {},
   "source": [
    "# Operadores comunes\n",
    "\n",
    "Por defecto el build-in de Python define muchas operaciones para los tipos de datos que se pueden utilizar.\n",
    "\n",
    "Hay que tener en cuenta que el lenguaje es fuertemente tipado, por lo que en multitud de ocasiones no se podrán aplicar las mismas operaciones entre tipos de datos distintos.\n",
    "\n",
    "Todas las operaciones simples realmente hacen uso de las funciones mágicas como sigue:\n",
    "\n",
    "Operador| Descripción | Función mágica\n",
    "---------:|:-----------:|:-------------\n",
    "`+`| Suma | `__add__`\n",
    "`-`| Resta | `__sub__`\n",
    "`*`| Multiplicación | `__mul__`\n",
    "`/`| División simple | `__truediv__`\n",
    "`//`| División entera | `__floordiv__`\n",
    "`in` | Contener | `__contains__`\n",
    "`**` | Elevado | `__pow__`\n",
    "`%` | Módulo | `__mod__`\n",
    "`>` | Mayor que | `__gt__`\n",
    "`<` | Menor que | `__lt__`\n",
    "`==` | Igual | `__eq__`\n"
   ]
  },
  {
   "cell_type": "code",
   "execution_count": null,
   "id": "c4f4d208",
   "metadata": {},
   "outputs": [],
   "source": [
    "5 + 98"
   ]
  },
  {
   "cell_type": "code",
   "execution_count": null,
   "id": "6d4c92c7",
   "metadata": {},
   "outputs": [],
   "source": [
    "'45' + ' juan'"
   ]
  },
  {
   "cell_type": "code",
   "execution_count": null,
   "id": "0058bb24",
   "metadata": {},
   "outputs": [],
   "source": [
    "45 + 'juan'"
   ]
  },
  {
   "cell_type": "markdown",
   "id": "17703fef-236b-461c-b38d-b38325f9b414",
   "metadata": {},
   "source": [
    "## Operaciones básicas sobre números\n",
    "\n",
    "* `min`: permite obtener el mínimo valor en una secuencia de números (o de objetos)\n",
    "* `max`: permite obtener el máximo entre en una secuencia de números (o de objetos)\n",
    "* `round`: permite redondear un `float` a un `int`"
   ]
  },
  {
   "cell_type": "code",
   "execution_count": null,
   "id": "3a722c0d-7dc3-466d-920e-a5965641aaae",
   "metadata": {},
   "outputs": [],
   "source": [
    "min(3, 4)"
   ]
  },
  {
   "cell_type": "code",
   "execution_count": null,
   "id": "2b78bd91-747f-4697-94e1-4845fb7b622a",
   "metadata": {},
   "outputs": [],
   "source": [
    "max(5, 6)"
   ]
  },
  {
   "cell_type": "code",
   "execution_count": null,
   "id": "30e2afe5-16b7-4528-ad60-51ed4b81b559",
   "metadata": {},
   "outputs": [],
   "source": [
    "max(5, 4, 23, 2, 6, 6, 3, 4.3, 98.7)"
   ]
  },
  {
   "cell_type": "code",
   "execution_count": null,
   "id": "c6227acb-4bc8-4bdd-b307-1a8d37fad1d2",
   "metadata": {},
   "outputs": [],
   "source": [
    "round(4.5)"
   ]
  },
  {
   "cell_type": "code",
   "execution_count": null,
   "id": "a6dbd8c9-8a2b-47bc-8584-fcb40fa515e3",
   "metadata": {},
   "outputs": [],
   "source": [
    "round(3.5) # el redondeo se hace hacia arriba en los impares!"
   ]
  },
  {
   "cell_type": "markdown",
   "id": "255e3d99",
   "metadata": {},
   "source": [
    "# Booleanos\n",
    "\n",
    "En Python existen tres estados lógicos:\n",
    "* `True`: Verdadero\n",
    "* `False`: Falso\n",
    "* `None`: Nada o vacio\n",
    "\n",
    "Los dos primeros se construyen a base de enteros y None es una constante que se evalua como `False`a nivel lógico.\n",
    "\n",
    "Para construir valores lógicos se utiliza `bool` aunque en Python todos los valores son verdaderos a no ser que explicitamente se especifique lo contrario siendo pocos los valores evaluados como `False`:\n",
    "* Ejemplos de valores `False`: `bool(0)`, `bool([])`, `bool(None)`, `bool({})`\n",
    "* Ejemplos de valores `True`: `bool(1)`, `bool(-1)`, `bool('pepe')`, `bool([0])`\n",
    "\n",
    "Conocer bien los conceptos de valores lógicos es importansimo al usar operadores lógicos y evaluaciones en general."
   ]
  },
  {
   "cell_type": "code",
   "execution_count": null,
   "id": "7510cac7",
   "metadata": {},
   "outputs": [],
   "source": [
    "bool(1), bool(-298), bool(\"\")"
   ]
  },
  {
   "cell_type": "code",
   "execution_count": null,
   "id": "08acc1c0",
   "metadata": {},
   "outputs": [],
   "source": [
    "True * 4"
   ]
  },
  {
   "cell_type": "code",
   "execution_count": null,
   "id": "00fff0f8",
   "metadata": {},
   "outputs": [],
   "source": [
    "False + True"
   ]
  },
  {
   "cell_type": "code",
   "execution_count": null,
   "id": "410bccdc",
   "metadata": {
    "scrolled": true
   },
   "outputs": [],
   "source": [
    "False * 6"
   ]
  },
  {
   "cell_type": "code",
   "execution_count": null,
   "id": "77a632b4",
   "metadata": {},
   "outputs": [],
   "source": [
    "[False] * 4"
   ]
  },
  {
   "cell_type": "markdown",
   "id": "86d89002",
   "metadata": {},
   "source": [
    "# Operadores lógicos\n",
    "\n",
    "Como ocurre en los demás operadores, los operadores lógicos tienen su método mágico asociado pero tienen algunas particularidades como:\n",
    "\n",
    "* Las operaciones lógicas tienen cortocircuitos lógicos implementados, por lo que una vez que un `and` es evaluado como `False`se corta la ejecución y lo mismo ocurre con un `or`que se evalua como `True`\n",
    "* Las operaciones lógicas devuelve el último valor evaluado y no valores lógicos\n"
   ]
  },
  {
   "cell_type": "code",
   "execution_count": null,
   "id": "f2ef7511",
   "metadata": {},
   "outputs": [],
   "source": [
    "1 and 0"
   ]
  },
  {
   "cell_type": "code",
   "execution_count": null,
   "id": "a2d64d27",
   "metadata": {},
   "outputs": [],
   "source": [
    "1 or 0"
   ]
  },
  {
   "cell_type": "code",
   "execution_count": null,
   "id": "71c76747",
   "metadata": {},
   "outputs": [],
   "source": [
    "'Juan' or 0"
   ]
  },
  {
   "cell_type": "code",
   "execution_count": null,
   "id": "f75a1652",
   "metadata": {},
   "outputs": [],
   "source": [
    "'' and 'Ernesto'"
   ]
  },
  {
   "cell_type": "code",
   "execution_count": null,
   "id": "cf881e09",
   "metadata": {},
   "outputs": [],
   "source": [
    "1 > 0 and 'Juan' < 'Jul'"
   ]
  },
  {
   "cell_type": "markdown",
   "id": "52fc6a26-1b4a-41bb-9c9d-d941de2279f1",
   "metadata": {},
   "source": [
    "## Ejercicio\n",
    "\n",
    "Comparar qué es más grande 'El perro de san Roque' o 'En un lugar de la mancha'"
   ]
  },
  {
   "cell_type": "code",
   "execution_count": null,
   "id": "403953eb-e242-4aef-ba0c-f012846f96ee",
   "metadata": {},
   "outputs": [],
   "source": []
  },
  {
   "cell_type": "markdown",
   "id": "173f2f5f-2718-4606-a982-643c3b0a84ae",
   "metadata": {},
   "source": [
    "## Ejercicio 2\n",
    "\n",
    "Pedir al usuario dos cadenas y comprobar cuál es la mayor"
   ]
  },
  {
   "cell_type": "code",
   "execution_count": null,
   "id": "ab20e380-36fa-4601-a1a2-a52c79f19307",
   "metadata": {
    "editable": true,
    "slideshow": {
     "slide_type": ""
    },
    "tags": []
   },
   "outputs": [],
   "source": []
  },
  {
   "cell_type": "markdown",
   "id": "1d8bd661-5baa-4d7b-b170-29389db20346",
   "metadata": {},
   "source": [
    "# Evaluación perezosa\n",
    "\n",
    "En Python las operaciones condicionadas se evalúan de forma perezosa, (o con cortocircuito) si en operaciones `and`se se demuestra que la condición es False se devuelve directamente False sin seguir evaluando las demás condiciones"
   ]
  },
  {
   "cell_type": "code",
   "execution_count": null,
   "id": "9addbe41-1e3a-44aa-a902-faf99f9e2a9e",
   "metadata": {},
   "outputs": [],
   "source": [
    "a*2"
   ]
  },
  {
   "cell_type": "code",
   "execution_count": null,
   "id": "c148c78b-c299-442f-b9be-ed64138759a5",
   "metadata": {},
   "outputs": [],
   "source": [
    "0 and a*2"
   ]
  },
  {
   "cell_type": "markdown",
   "id": "13959b9b-9186-43f9-baf7-78a9db5a0c41",
   "metadata": {},
   "source": [
    "Un caso similar se da en las operaciones `or` pero con las evaluaciones `True`"
   ]
  },
  {
   "cell_type": "code",
   "execution_count": null,
   "id": "dfb92ffc-2e6d-4362-a9b9-fdcf92df3186",
   "metadata": {},
   "outputs": [],
   "source": [
    "1 or a*2"
   ]
  },
  {
   "cell_type": "markdown",
   "id": "5110c8e7-faa2-45db-bfa0-afd9eef5bdd8",
   "metadata": {},
   "source": [
    "Además, dado que las variables en sí pueden ser evaluadas de forma intrínseca, es el último valor evaluado el que se devuelve de la operación condicionada"
   ]
  },
  {
   "cell_type": "code",
   "execution_count": null,
   "id": "b4c8c649-4811-48d2-b820-24b1cee3ccea",
   "metadata": {},
   "outputs": [],
   "source": [
    "0 or 'Hola'"
   ]
  },
  {
   "cell_type": "code",
   "execution_count": null,
   "id": "702fcd20-edfd-4794-ae52-d91cf6f64ec8",
   "metadata": {},
   "outputs": [],
   "source": [
    "bool(0 or 'Hola')"
   ]
  },
  {
   "cell_type": "markdown",
   "id": "4c6cc965-a63b-4057-a178-bac2d0804871",
   "metadata": {},
   "source": [
    "# Puntos débiles y a tener en cuenta de floats en Python\n",
    "\n",
    "La precisión y el redondeo\n",
    "TODO: round, 0.333, 0.1, 0.1 + 0.2, round(2.675)"
   ]
  },
  {
   "cell_type": "code",
   "execution_count": null,
   "id": "3673779e-d0f6-4747-bff9-93485ccc2880",
   "metadata": {},
   "outputs": [],
   "source": [
    "0.1 + 0.1 + 0.1  # usar la librería decimals a usar operaciones con números flotantes"
   ]
  },
  {
   "cell_type": "code",
   "execution_count": null,
   "id": "dc882254-2211-4ac7-91e7-1531e4d96539",
   "metadata": {},
   "outputs": [],
   "source": [
    "a_pagar_al_dia = (0.1 + 0.1 + 0.1) * 100\n",
    "a_pagar_anualmente = a_pagar_al_dia * 365\n",
    "\n",
    "print(a_pagar_anualmente)\n",
    "print(a_pagar_anualmente * 100000)\n",
    "print(a_pagar_anualmente * 100000000000)"
   ]
  },
  {
   "cell_type": "code",
   "execution_count": null,
   "id": "330b83f9-e644-4685-91a5-9eb2c3d27b17",
   "metadata": {},
   "outputs": [],
   "source": [
    "5 / 6"
   ]
  },
  {
   "cell_type": "code",
   "execution_count": null,
   "id": "47bb3b68-11bf-4ccd-8f38-1f114dea34f3",
   "metadata": {},
   "outputs": [],
   "source": [
    "10 / 2.0"
   ]
  },
  {
   "cell_type": "code",
   "execution_count": null,
   "id": "1a19eedd-3c8a-4496-8f4a-b10105f7835b",
   "metadata": {},
   "outputs": [],
   "source": [
    "10 / 2  # se devuelve un float"
   ]
  },
  {
   "cell_type": "code",
   "execution_count": null,
   "id": "3c6ee828-dd53-4679-9997-388a267a4f6e",
   "metadata": {},
   "outputs": [],
   "source": [
    "(14 / 3) + (14 / 3) + (14 / 3)"
   ]
  },
  {
   "cell_type": "code",
   "execution_count": null,
   "id": "e7692ee2-dc1f-4fc4-bc47-a4ae007ac1b8",
   "metadata": {},
   "outputs": [],
   "source": [
    "(14 / 3) + (14 * 2 / 3)"
   ]
  },
  {
   "cell_type": "code",
   "execution_count": null,
   "id": "331ba640-180e-4c8a-98a7-0a57e1eb4110",
   "metadata": {
    "editable": true,
    "slideshow": {
     "slide_type": "slide"
    },
    "tags": []
   },
   "outputs": [],
   "source": [
    "round(2.675)"
   ]
  },
  {
   "cell_type": "code",
   "execution_count": null,
   "id": "1b3a1d47-3efd-4c3b-9a82-5de01346ee47",
   "metadata": {},
   "outputs": [],
   "source": [
    "round(3.67)"
   ]
  },
  {
   "cell_type": "code",
   "execution_count": null,
   "id": "ce885c00-68bc-4b74-98cc-39ced9750053",
   "metadata": {},
   "outputs": [],
   "source": [
    "round(1.5)"
   ]
  },
  {
   "cell_type": "code",
   "execution_count": null,
   "id": "1779437f-a7c2-4214-8b36-92f0a66a79b5",
   "metadata": {},
   "outputs": [],
   "source": [
    "round(2.5)\n",
    "# los números pares se rendondean a la baja por defecto!"
   ]
  }
 ],
 "metadata": {
  "kernelspec": {
   "display_name": "Python 3 (ipykernel)",
   "language": "python",
   "name": "python3"
  },
  "language_info": {
   "codemirror_mode": {
    "name": "ipython",
    "version": 3
   },
   "file_extension": ".py",
   "mimetype": "text/x-python",
   "name": "python",
   "nbconvert_exporter": "python",
   "pygments_lexer": "ipython3",
   "version": "3.10.10"
  }
 },
 "nbformat": 4,
 "nbformat_minor": 5
}
