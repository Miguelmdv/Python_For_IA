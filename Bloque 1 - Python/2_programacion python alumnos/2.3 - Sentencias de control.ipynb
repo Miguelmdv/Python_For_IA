{
 "cells": [
  {
   "cell_type": "markdown",
   "id": "d5cdc2bd",
   "metadata": {},
   "source": [
    "# Sentencias de control\n",
    "\n",
    "Para programar los algoritmos siempre es necesario hacer uso de las sentencias de control que permitan controlar el flujo de ejecución\n",
    "\n",
    "Las sentencias de control en Python son 3:\n",
    "\n",
    "* **If** - permite añadir condicionales\n",
    "* **For** - permite iterar por bucles definidos\n",
    "* **While** - permite iterar mientras ocurra una condición"
   ]
  },
  {
   "cell_type": "markdown",
   "id": "ed540f32",
   "metadata": {},
   "source": [
    "# Sentencia `if`\n",
    "\n",
    "La sentencia de control if se traduce como \"si\" y se utiliza para realizar acciones si se cumple alguna condicion específica pudiendo ser de la siguiente forma:\n",
    "\n",
    "* **if <condicion>**: ejecuta el código si la condición se evalua como verdadero\n",
    "* **elif <condicion>**: se ejecuta si las anteriores condiciones de if se evaluan como falso y la de esta sentencia es verdadero\n",
    "* **else**: se ejecuta si todas las anteriores condiciones se han evaluado como falso\n",
    "\n",
    "Las sentencias `elif` y `else` son opcionales.\n",
    "Puede haber sólo una sentencia `if` y una sentencia `else`, pero puede haber tantas `elif` como sean necesarias.\n",
    "    \n",
    "    "
   ]
  },
  {
   "cell_type": "markdown",
   "id": "ea788bab",
   "metadata": {},
   "source": [
    "## Ejemplo 1\n",
    "\n",
    "Hay una variable `velocidad` que contiene la velocidad actual y se debe de `accionar_freno()` cuando la velocidad sea mayor que `velocidad_limite`    \n",
    "    \n",
    "```python\n",
    "if velocidad > velocidad_limite:\n",
    "    accionar_freno()\n",
    "```"
   ]
  },
  {
   "cell_type": "markdown",
   "id": "a001c860",
   "metadata": {},
   "source": [
    "    \n",
    "    \n",
    "    "
   ]
  },
  {
   "cell_type": "markdown",
   "id": "866103c1",
   "metadata": {},
   "source": [
    "## Ejemplo 2\n",
    "\n",
    "Dependiendo del `color` que muestre un semáforo `rojo`, `ambar` o `verde` se realiza una acción diferente de un vehículo\n",
    "\n",
    "```python\n",
    "vehiculo = Vehiculo()\n",
    "\n",
    "if color == 'rojo':\n",
    "    vehiculo.parar()\n",
    "elif color == 'ambar':\n",
    "    vehiculo.aminorar()\n",
    "elif color == 'verde':\n",
    "    vehiculo.circular()\n",
    "```"
   ]
  },
  {
   "cell_type": "markdown",
   "id": "f3c80ad5",
   "metadata": {},
   "source": [
    "## Ejemplo 3\n",
    "\n",
    "Según la `edad` de una persona se puede determinar si es adulto o menor de edad:\n"
   ]
  },
  {
   "cell_type": "code",
   "execution_count": null,
   "id": "089e560b",
   "metadata": {
    "editable": true,
    "slideshow": {
     "slide_type": ""
    },
    "tags": []
   },
   "outputs": [],
   "source": [
    "edad = int(input('Escriba la edad de la persona: '))\n",
    "\n",
    "if edad >= 18:\n",
    "    print('Adulto')\n",
    "else:\n",
    "    print('Menor de edad')"
   ]
  },
  {
   "cell_type": "markdown",
   "id": "0508322c",
   "metadata": {},
   "source": [
    "## Ejercicio 1\n",
    "\n",
    "Crear un programa que acepte un número utilizando `input` y diga si es un número par o impar.\n",
    "\n",
    "Para comprobar si un número es par se puede usar la operación módulo `%`\n"
   ]
  },
  {
   "cell_type": "code",
   "execution_count": null,
   "id": "1315c7be",
   "metadata": {},
   "outputs": [],
   "source": []
  },
  {
   "cell_type": "markdown",
   "id": "35aae897",
   "metadata": {},
   "source": [
    "## Ejercicio 2\n",
    "\n",
    "Preguntar una palabra al usuario y dar puntuaciones según el número de letras que tenga y su puntuación:\n",
    "* Por cada `a` 5 puntos\n",
    "* Por cada `b` 10 puntos\n",
    "* Por cada `e` 15 puntos\n"
   ]
  },
  {
   "cell_type": "code",
   "execution_count": null,
   "id": "bdba8294",
   "metadata": {},
   "outputs": [],
   "source": []
  },
  {
   "cell_type": "markdown",
   "id": "1c41a776-eea3-4789-886e-ba2365a0c5bd",
   "metadata": {},
   "source": [
    "## Ejercicio 3\n",
    "\n",
    "Calcular la nota en el sistema americano donde está A, B, C, D y suspenso en los rangos de:\n",
    "* nota > 90 - A\n",
    "* 80 - 90 - B\n",
    "* 70 - 80 - C\n",
    "* 60 - 70 - D\n",
    "* menos de 70 - Suspenso"
   ]
  },
  {
   "cell_type": "code",
   "execution_count": null,
   "id": "d48fd622-2db1-463e-8609-87090bf10610",
   "metadata": {},
   "outputs": [],
   "source": []
  },
  {
   "cell_type": "markdown",
   "id": "ceb0df23",
   "metadata": {},
   "source": [
    "# Sentencia `for`\n",
    "\n",
    "\n",
    "La sentencia **for** permite iterar por elementos hasta que se llegue al final de todos ellos uno por uno.\n",
    "\n",
    "Se suele utilizar con iteradores como listas, tuplas, diccionarios o cadenas de caracteres."
   ]
  },
  {
   "cell_type": "code",
   "execution_count": null,
   "id": "7a16dd66",
   "metadata": {},
   "outputs": [],
   "source": [
    "for x in [1, 2, 3, 4, 5, 6]:\n",
    "    print(x ** 2)"
   ]
  },
  {
   "cell_type": "markdown",
   "id": "3e040cdf-15d8-44d6-aee0-1808c3bdcd2d",
   "metadata": {},
   "source": [
    "## Suma de números de una lista o un iterador"
   ]
  },
  {
   "cell_type": "code",
   "execution_count": null,
   "id": "3aab90d4-216e-4f0f-a602-a6437016a730",
   "metadata": {},
   "outputs": [],
   "source": [
    "numeros = [1, 2, 3, 4, 5]\n",
    "suma = 0\n",
    "\n",
    "for numero in numeros:\n",
    "    suma += numero\n",
    "\n",
    "print(\"La suma de los números es:\", suma)"
   ]
  },
  {
   "cell_type": "markdown",
   "id": "22f20691-65ca-4533-bf16-441d8b9e3a8d",
   "metadata": {},
   "source": [
    "## Iterar sobre cadenas de caracteres\n"
   ]
  },
  {
   "cell_type": "code",
   "execution_count": null,
   "id": "50cacbef-ea1d-49c5-819d-2d28b90699ec",
   "metadata": {},
   "outputs": [],
   "source": [
    "for caracter in 'Juana de arco':\n",
    "    print(caracter.upper())"
   ]
  },
  {
   "cell_type": "markdown",
   "id": "138dddb8",
   "metadata": {},
   "source": [
    "Cuando se pretende para la ejecución actual para seguir en la siguiente se utiliza `continue`"
   ]
  },
  {
   "cell_type": "code",
   "execution_count": null,
   "id": "532194c4",
   "metadata": {},
   "outputs": [],
   "source": [
    "for caracter in 'Juana de arco':\n",
    "    if caracter == 'a':\n",
    "        continue\n",
    "    print(caracter.upper())"
   ]
  },
  {
   "cell_type": "markdown",
   "id": "f2e64b98",
   "metadata": {},
   "source": [
    "Cuando se quiere parar la ejecución por completo del bucle se utiliza `break`"
   ]
  },
  {
   "cell_type": "code",
   "execution_count": null,
   "id": "d112516a",
   "metadata": {},
   "outputs": [],
   "source": [
    "for caracter in 'Juana de arco':\n",
    "    if caracter == 'a':\n",
    "        break\n",
    "    print(caracter.upper())"
   ]
  },
  {
   "cell_type": "markdown",
   "id": "77b9184b",
   "metadata": {},
   "source": [
    "En conjunción con los bucles for se utilizan `range` y `enumerate` para iterar sobre una serie definida y añadir el índice de cada elemento"
   ]
  },
  {
   "cell_type": "code",
   "execution_count": null,
   "id": "e47847a9",
   "metadata": {},
   "outputs": [],
   "source": [
    "for elem in range(5):\n",
    "    print(elem)"
   ]
  },
  {
   "cell_type": "code",
   "execution_count": null,
   "id": "89b5ec3d",
   "metadata": {},
   "outputs": [],
   "source": [
    "for elem in range(5, 10, 2):\n",
    "    print(elem)"
   ]
  },
  {
   "cell_type": "code",
   "execution_count": null,
   "id": "8e5d8cd5",
   "metadata": {
    "scrolled": true
   },
   "outputs": [],
   "source": [
    "for idx, elem in enumerate(range(5, 10, 2)):\n",
    "    print(f'índice: {idx} - valor {elem}')"
   ]
  },
  {
   "cell_type": "markdown",
   "id": "16603058-be34-467c-bbc1-f83371060cff",
   "metadata": {},
   "source": [
    "## Ejercicio - Calcular si una contraseña el válida conteniendo al menos un número\n",
    "\n",
    "Comprobando la clave `MiClave123`"
   ]
  },
  {
   "cell_type": "code",
   "execution_count": null,
   "id": "c49d573f-9e8d-44f1-957d-1ead799b756d",
   "metadata": {},
   "outputs": [],
   "source": []
  },
  {
   "cell_type": "markdown",
   "id": "0d2624cf",
   "metadata": {},
   "source": [
    "## Ejercicios de iteraciones"
   ]
  },
  {
   "cell_type": "markdown",
   "id": "d75f272f-187a-4d35-9c1e-d8c8104cc71e",
   "metadata": {},
   "source": [
    "Encontrar las palabras que contengan la letra `e`\n",
    "\n",
    "```python\n",
    "palabras = [\"manzana\", \"banana\", \"cereza\", \"dátil\"]\n",
    "```"
   ]
  },
  {
   "cell_type": "code",
   "execution_count": null,
   "id": "52d1da87-6bc2-4911-aed1-621d5a3a127c",
   "metadata": {},
   "outputs": [],
   "source": []
  },
  {
   "cell_type": "markdown",
   "id": "9dfa7c75",
   "metadata": {},
   "source": [
    "## Ejercicio 2\n",
    "Crear un programa que sume todos los números desde 1 hasta n siguiendo la ecuación\n",
    "\n",
    "\\begin{equation*}\n",
    "\\sum_{i=1}^{n}x_{i}=\\frac{x_{i-1}*(x_{i-1}+1)}{2}\n",
    "\\end{equation*}\n"
   ]
  },
  {
   "cell_type": "code",
   "execution_count": null,
   "id": "f548e43c",
   "metadata": {},
   "outputs": [],
   "source": []
  },
  {
   "cell_type": "markdown",
   "id": "5e5999c0",
   "metadata": {},
   "source": [
    "## bis\n",
    "\n",
    "Ir dando los datos en cada iteración como:\n",
    "\n",
    "Iteración \"n\" con valor actual \"total\""
   ]
  },
  {
   "cell_type": "code",
   "execution_count": null,
   "id": "d079f969",
   "metadata": {},
   "outputs": [],
   "source": []
  },
  {
   "cell_type": "markdown",
   "id": "fc0b4ece",
   "metadata": {},
   "source": [
    "## Ejercicio 3 - Interés compuesto\n",
    "Escribir un programa que saque el interes compuesto de `n` años calculando las cuantias cada año.\n",
    "\n",
    "Siendo el % de interés definido como `interes` y teniendo en cuenta que el usuario tambien debe de añadir la cuantía inicial como `inicial`.\n",
    "\n",
    "Los datos hay que pedirlos al usuario."
   ]
  },
  {
   "cell_type": "code",
   "execution_count": null,
   "id": "d1555271",
   "metadata": {},
   "outputs": [],
   "source": []
  },
  {
   "cell_type": "markdown",
   "id": "d41653e5",
   "metadata": {},
   "source": [
    "# Sentencia while\n",
    "\n",
    "Las sentencias `while` se utilizan para crear bucles que deberán de ejecutar el mismo código hasta que ocurra alguna condición especial"
   ]
  },
  {
   "cell_type": "code",
   "execution_count": null,
   "id": "9077d548",
   "metadata": {},
   "outputs": [],
   "source": [
    "ind = 0\n",
    "while ind < 4:\n",
    "    print('Aún esperando')\n",
    "    ind += 1\n",
    "print('Terminado')"
   ]
  },
  {
   "cell_type": "markdown",
   "id": "c81bca13",
   "metadata": {},
   "source": [
    "La forma más usual de utilizar `while` es modificando la condición dentro del bloque que se ejecuta"
   ]
  },
  {
   "cell_type": "code",
   "execution_count": null,
   "id": "6c3b9c2d",
   "metadata": {},
   "outputs": [],
   "source": [
    "color = input('De qué color es el semaforo: ')\n",
    "while color != 'verde':\n",
    "    print('Espere por favor')\n",
    "    color = input('¿qué color tiene ahora?: ')\n",
    "print('Puede continuar')"
   ]
  },
  {
   "cell_type": "markdown",
   "id": "f91c91b2",
   "metadata": {},
   "source": [
    "Las sentencias de `break` y de `continue` también se pueden aplicar en los bucles `while`"
   ]
  },
  {
   "cell_type": "markdown",
   "id": "6614b6b0-189a-4ef2-8dba-61b8286a9845",
   "metadata": {},
   "source": []
  },
  {
   "cell_type": "markdown",
   "id": "88196e66-be2f-44f8-a5a9-107d06e805a6",
   "metadata": {},
   "source": []
  },
  {
   "cell_type": "markdown",
   "id": "dca5c7c1",
   "metadata": {},
   "source": [
    "## Ejercicio 2 - Eco hasta cambio de estado\n",
    "\n",
    "Un programa que tenga un estado interno que pueda ser:\n",
    "* 'Funcionando': 'Echando agua'\n",
    "* 'Cortado': 'Sin echar agua'\n",
    "* 'Apagado': corta la ejecución\n",
    "\n",
    "Por defecto está cortado, cuando el usuario introduce `activar`, cambia de estado a Funcionando.\n",
    "\n",
    "Cada 3 segundos debe de preguntar al usuario por qué hacer.\n",
    "\n",
    "Si el usuario escribe `Apagar` debe de parar el programa.\n",
    "\n",
    "El programa debe de mostrar: `Sin echar agua`o `Echando agua` dependiendo del estado en el que se encuentre, siendo Funcionando o Cortado respectivamente."
   ]
  },
  {
   "cell_type": "code",
   "execution_count": null,
   "id": "49d7953c",
   "metadata": {
    "scrolled": true
   },
   "outputs": [],
   "source": []
  },
  {
   "cell_type": "markdown",
   "id": "a780d067",
   "metadata": {},
   "source": [
    "## Ejercicio 1 - Cuenta atrás\n",
    "\n",
    "Hacer un programa que haga una cuenta atrás en segundos.\n",
    "\n",
    "Que pida el número de segundos a esperar al usuario e ir esperando hasta que termine."
   ]
  },
  {
   "cell_type": "markdown",
   "id": "001ee3e1-43e3-4e96-8297-8b6ddb5965a5",
   "metadata": {},
   "source": [
    "# Structural Pattern Matching\n",
    "\n",
    "El Structural Pattern Matching (también conocido como \"match\" o \"pattern matching\") es sentencia de control introducida en Python 3.10 que permite realizar coincidencias de patrones en datos y ejecutar código basado en esos patrones. \n",
    "\n",
    "Puedes utilizarlo para simplificar el código y hacerlo más legible en situaciones donde necesitas realizar múltiples comprobaciones en un valor. A veces comparable con \"switch\" de otros lenguajes pero mucho más poderoso.\n",
    "\n",
    "\n",
    "## Ejemplo 1: Coincidencia simple\n",
    "\n",
    "Vamos a verificar si una cadena representa un día de la semana y, en función del día, realizar una acción específica. \n",
    "\n",
    "* dia = 'Martes'\n",
    "* Para cada día entre semana devolver una frase diferente y si es otro día (fin de semana o cualquier otra cadena) decir que no es válida"
   ]
  },
  {
   "cell_type": "code",
   "execution_count": null,
   "id": "49f3da92-2225-41b4-bc41-200bfc1efdf3",
   "metadata": {},
   "outputs": [],
   "source": [
    "dia = \"Martes\"\n",
    "\n",
    "match dia:\n",
    "    case \"Lunes\":\n",
    "        print(\"Hoy es el primer día laborable.\")\n",
    "    case \"Martes\":\n",
    "        print(\"Hoy es un buen día para aprender Python.\")\n",
    "    case \"Miércoles\":\n",
    "        print(\"Mitad de semana, ¡sigamos aprendiendo!\")\n",
    "    case \"Jueves\":\n",
    "        print(\"Cerca del fin de semana.\")\n",
    "    case \"Viernes\":\n",
    "        print(\"¡Viernes, finalmente!\")\n",
    "    case _:\n",
    "        print(\"No es un día de la semana válido.\")"
   ]
  },
  {
   "cell_type": "markdown",
   "id": "9498438a-378e-49e7-9a56-86c31196374b",
   "metadata": {},
   "source": [
    "## Ejemplo 2: Coincidencia de patrones personalizados\n",
    "\n",
    "Supongamos que deseas validar una dirección de correo electrónico simple \n",
    "\n",
    "Tened en cuenta que siempre un email tiene un `@`"
   ]
  },
  {
   "cell_type": "code",
   "execution_count": null,
   "id": "0dc5af72-fe89-4cde-8b30-2a634b3bf182",
   "metadata": {},
   "outputs": [],
   "source": [
    "email = \"oramirez@gmail.com\"\n",
    "\n",
    "match email.split(\"@\"):\n",
    "    case [usuario, \"gmail.com\"]:\n",
    "        print(f\"Dirección de correo electrónico de Google válida con usuario {usuario}\")\n",
    "    case [usuario, dominio]:\n",
    "        print(f\"Dirección de correo electrónico válida con usuario {usuario}\")\n",
    "    case _:\n",
    "        print(\"Dirección de correo electrónico no válida.\")"
   ]
  },
  {
   "cell_type": "markdown",
   "id": "6e0ae7a5-6c79-4517-941c-646c7a7a6fad",
   "metadata": {},
   "source": [
    "## Ejemplo 3: Clasificación de palabras por longitud\n",
    "\n",
    "Supongamos que tienes una lista de palabras y quieres clasificarlas en tres categorías según su longitud:\n",
    "* `< 4`: \"Palabras cortas\"\n",
    "* `4 <= x <= 6`: \"Longitud media\"\n",
    "* `> 6`: \"Palabra larga\""
   ]
  },
  {
   "cell_type": "code",
   "execution_count": null,
   "id": "18eb9494-e743-440d-be11-55e25382799a",
   "metadata": {},
   "outputs": [],
   "source": [
    "palabras = [\"python\", \"es\", \"genial\", \"para\", \"aprender\", \"programación\"]\n",
    "for palabra in palabras:\n",
    "    match palabra:\n",
    "        case p if len(p) < 4:\n",
    "            print(\"Palabra corta:\", p)\n",
    "        case p if 4 <= len(p) <= 6:\n",
    "            print(\"Palabra de longitud media:\", p)\n",
    "        case p if 6 < len(p):\n",
    "            print(\"Palabra larga:\", p)"
   ]
  },
  {
   "cell_type": "markdown",
   "id": "e13db9cc-c610-4b50-a053-70d7d9cf033f",
   "metadata": {},
   "source": [
    "## Ejercicio: Coincidencia de rangos numéricos\n",
    "\n",
    "Supongamos que tienes una puntuación de un examen y deseas calificarla según un rango de puntuaciones:\n",
    "\n",
    "* 0, 1, 2, 3, 4 - Suspenso\n",
    "* 5 - Aprobado\n",
    "* 6 - Bien\n",
    "* 7, 8 - Notable\n",
    "* 9 - Sobresaliente\n",
    "* 10 - Matrícula de Honor\n"
   ]
  },
  {
   "cell_type": "code",
   "execution_count": null,
   "id": "4f0fc38d-b341-4f2e-9a7d-09c8fbef0f37",
   "metadata": {},
   "outputs": [],
   "source": []
  },
  {
   "cell_type": "code",
   "execution_count": null,
   "id": "7052bb96-b0a7-48d6-ab1a-0714f0b287e6",
   "metadata": {},
   "outputs": [],
   "source": []
  },
  {
   "cell_type": "markdown",
   "id": "77cb96b4-d82d-43a7-becf-665982d82941",
   "metadata": {},
   "source": [
    "## Ejericicio: Validación de números de teléfono\n",
    "\n",
    "Supongamos que deseas validar números de teléfono españoles (empezando por +34)\n",
    "\n",
    "```python\n",
    "numero = \"+34 666555222\"\n",
    "```"
   ]
  },
  {
   "cell_type": "code",
   "execution_count": 14,
   "id": "6047508d-6fda-4464-91f9-7994bd0c641d",
   "metadata": {},
   "outputs": [
    {
     "name": "stdout",
     "output_type": "stream",
     "text": [
      "['+34', '666555222']\n",
      "El numero es correcto\n"
     ]
    }
   ],
   "source": [
    "numero = \"+34 666555222\"\n",
    "\n",
    "token = numero.split(\" \")\n",
    "print(token)\n",
    "\n",
    "if token[0] == \"+34\" and len(token[1]) == 9 and token[1].isdigit():\n",
    "    print(\"El numero es correcto\")\n",
    "else:\n",
    "    print(\"No es correcto\")\n",
    "    \n"
   ]
  },
  {
   "cell_type": "markdown",
   "id": "376edc35-6da5-4fe9-b950-a82c4f7e7354",
   "metadata": {},
   "source": [
    "## Ejercicio: Validación de números primos\n",
    "\n",
    "Supongamos que deseas verificar si un número es primo o no"
   ]
  },
  {
   "cell_type": "code",
   "execution_count": null,
   "id": "fad30716-6846-400f-b997-8b2e164cda17",
   "metadata": {},
   "outputs": [],
   "source": [
    "\n",
    "    \n"
   ]
  },
  {
   "cell_type": "markdown",
   "id": "8e1db98a-34d5-475a-9068-d718691efdf7",
   "metadata": {},
   "source": [
    "# Ejercicio extra\n",
    "\n",
    "* Ejercicio para calcular la posición de un jugador, partiendo de la posición (0,0), analizar cada elemento de una cadena compuesta por letras \"WSDA\" e ir cambiado la posición hasta calcular la posición final, omitiendo cualquier otro caracter \n",
    "\n"
   ]
  },
  {
   "cell_type": "code",
   "execution_count": 23,
   "id": "85de1b44-81f2-4f01-8d0c-416833d50e95",
   "metadata": {},
   "outputs": [
    {
     "name": "stdout",
     "output_type": "stream",
     "text": [
      "[0, 6]\n"
     ]
    }
   ],
   "source": [
    "exit = True\n",
    "\n",
    "pos = [0,0]\n",
    "\n",
    "\n",
    "while exit:\n",
    "    key = input(\"Hacia que direccion quieres ir, usando WASD, para salir usa E\")\n",
    "    \n",
    "    if key == \"e\":\n",
    "        break\n",
    "    \n",
    "    if key == \"w\":\n",
    "        pos[1] += 1\n",
    "        \n",
    "    elif key == \"a\":\n",
    "        pos[0] -= 1\n",
    "        \n",
    "    elif key == \"s\":\n",
    "        pos[1] -= 1\n",
    "        \n",
    "    elif key[0] == \"d\":\n",
    "        pos[0] += 1\n",
    "\n",
    "print(pos)"
   ]
  }
 ],
 "metadata": {
  "kernelspec": {
   "display_name": "Python 3 (ipykernel)",
   "language": "python",
   "name": "python3"
  },
  "language_info": {
   "codemirror_mode": {
    "name": "ipython",
    "version": 3
   },
   "file_extension": ".py",
   "mimetype": "text/x-python",
   "name": "python",
   "nbconvert_exporter": "python",
   "pygments_lexer": "ipython3",
   "version": "3.11.5"
  }
 },
 "nbformat": 4,
 "nbformat_minor": 5
}
