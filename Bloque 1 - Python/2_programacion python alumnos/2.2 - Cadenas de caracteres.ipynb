{
 "cells": [
  {
   "cell_type": "markdown",
   "id": "b35940a7",
   "metadata": {
    "editable": true,
    "slideshow": {
     "slide_type": ""
    },
    "tags": []
   },
   "source": [
    "# Cadenas de caracteres"
   ]
  },
  {
   "cell_type": "markdown",
   "id": "7aa435e0",
   "metadata": {},
   "source": [
    "Las cadenas de caracteres son una secuencia de carateres simples con un tipo de codificación y por defecto es utf-8\n",
    "\n",
    "![Strings_En_Python](imagenes/Strings_En_Python.jpeg)\n",
    "\n",
    "Las cadenas tienen las siguientes características:\n",
    "* Son tipos de datos inmutables\n",
    "* Se pueden acceder directamente a cualquier elemento por índice\n",
    "* Se utilizan para documentaciones\n",
    "\n",
    "Las cadenas de caracteres en Python se suelen crear directamente usando **literales** que permiten especificar qué tipo de cadena es tal como sigue:"
   ]
  },
  {
   "cell_type": "code",
   "execution_count": null,
   "id": "ba0cef3f",
   "metadata": {},
   "outputs": [],
   "source": [
    "mi_cadena = 'Hola Mundo'\n",
    "mi_cadena"
   ]
  },
  {
   "cell_type": "code",
   "execution_count": null,
   "id": "1cac4236",
   "metadata": {},
   "outputs": [],
   "source": [
    "'Hola ' + 'Mundo'"
   ]
  },
  {
   "cell_type": "code",
   "execution_count": null,
   "id": "c51c88cb",
   "metadata": {},
   "outputs": [],
   "source": [
    "mi_cadena * 4"
   ]
  },
  {
   "cell_type": "markdown",
   "id": "9eb485b3",
   "metadata": {},
   "source": [
    "O por la representación de un objeto cualquiera:"
   ]
  },
  {
   "cell_type": "code",
   "execution_count": null,
   "id": "d6c8ce86",
   "metadata": {},
   "outputs": [],
   "source": [
    "str(None), str(1), str(3.421234)"
   ]
  },
  {
   "cell_type": "code",
   "execution_count": null,
   "id": "a8ece2d9",
   "metadata": {
    "scrolled": true
   },
   "outputs": [],
   "source": [
    "# Métodos disponibles\n",
    "dir('')"
   ]
  },
  {
   "cell_type": "markdown",
   "id": "cef8621d-b841-4a6d-ab29-32e2c1c2d5d7",
   "metadata": {},
   "source": [
    "# Cadenas como literales\n",
    "\n",
    "En Python se pueden inicializar las cadenas en forma de literal usando comillas dobles (`\"`) o comillas simples (`'`) para cadenas de una sola línea.\n",
    "\n",
    "Pero para cadenas de varias líneas hay que usar 3 comillas (ya sean dobles o simples)"
   ]
  },
  {
   "cell_type": "code",
   "execution_count": null,
   "id": "dea8d8a8-f5ff-4c4a-a3ce-f9ae9aa4b83c",
   "metadata": {},
   "outputs": [],
   "source": [
    "\"hola\", 'hola'"
   ]
  },
  {
   "cell_type": "code",
   "execution_count": null,
   "id": "52d67f3e-7b3d-4475-b616-ed4429e9b584",
   "metadata": {},
   "outputs": [],
   "source": [
    "\"\"\"En un lugar de la mancha\n",
    "de cuyo nombre no quiero acordarme\n",
    "\"\"\""
   ]
  },
  {
   "cell_type": "code",
   "execution_count": null,
   "id": "0376d15e-1ed8-4971-a3de-c898d96837cf",
   "metadata": {},
   "outputs": [],
   "source": [
    "'''no ha mucho tiempo que vivía un hidalgo de los de \n",
    "lanza en astillero'''"
   ]
  },
  {
   "cell_type": "markdown",
   "id": "c0212cef-41d6-4eef-a70d-ad86635e3680",
   "metadata": {},
   "source": [
    "Además las cadenas de caracteres en Python 3+ son cadenas unicode con soporte de cualquier carácter y lengua"
   ]
  },
  {
   "cell_type": "code",
   "execution_count": null,
   "id": "6b4bb192-7b33-4fd4-b959-ee7069d1e092",
   "metadata": {},
   "outputs": [],
   "source": [
    "\"✅🐱🐣\""
   ]
  },
  {
   "cell_type": "code",
   "execution_count": null,
   "id": "94b75f33-0ea1-45fb-813c-f53a94fe452a",
   "metadata": {},
   "outputs": [],
   "source": [
    "print(\"\\u03C0\")"
   ]
  },
  {
   "cell_type": "code",
   "execution_count": null,
   "id": "c250d89e-8090-4cdd-a3f5-be0d9abf3fac",
   "metadata": {},
   "outputs": [],
   "source": [
    "print(\"\\u03D4\")  # Greek upsilon with diaeresis and hook symbol\n",
    "ord(chr(int('03D4', base=16)))"
   ]
  },
  {
   "cell_type": "code",
   "execution_count": null,
   "id": "9f848bdc-02f8-41d1-ac64-8a34cb8b44b9",
   "metadata": {},
   "outputs": [],
   "source": [
    "chr(980)"
   ]
  },
  {
   "cell_type": "code",
   "execution_count": null,
   "id": "20f2a936-dc15-40d5-b68f-dbab37f49cb2",
   "metadata": {},
   "outputs": [],
   "source": [
    "int('03D4', base=16)"
   ]
  },
  {
   "cell_type": "code",
   "execution_count": null,
   "id": "fc5cc130-2581-42fb-856f-d3ebc4c4a270",
   "metadata": {},
   "outputs": [],
   "source": [
    "ord(\"🐱\") # U+1F431"
   ]
  },
  {
   "cell_type": "code",
   "execution_count": null,
   "id": "5a94bd3f-7b7c-4134-a781-a7b82e369d90",
   "metadata": {},
   "outputs": [],
   "source": [
    "chr(128049)"
   ]
  },
  {
   "cell_type": "code",
   "execution_count": null,
   "id": "8167466f-84dd-4536-97c8-f350cb277583",
   "metadata": {},
   "outputs": [],
   "source": [
    "f'{128049:X}'"
   ]
  },
  {
   "cell_type": "code",
   "execution_count": null,
   "id": "8920f6b8-3f90-4593-9b01-a9d6ba7c5756",
   "metadata": {},
   "outputs": [],
   "source": [
    "hex(128049)"
   ]
  },
  {
   "cell_type": "code",
   "execution_count": null,
   "id": "e096cd12-db68-499e-961d-39cb79ffbca6",
   "metadata": {},
   "outputs": [],
   "source": [
    "print(\"\\uf970\")"
   ]
  },
  {
   "cell_type": "code",
   "execution_count": null,
   "id": "a963b51b-f685-4c4b-b974-ae3305e109a5",
   "metadata": {},
   "outputs": [],
   "source": [
    "print(\"\\uf970\"), chr(3058), chr(int('03D4', base=16))"
   ]
  },
  {
   "cell_type": "code",
   "execution_count": null,
   "id": "3cf90501-5e8d-4189-86a1-aab1c6f5d754",
   "metadata": {},
   "outputs": [],
   "source": [
    "\"الطالب الى\""
   ]
  },
  {
   "cell_type": "markdown",
   "id": "45d3989e",
   "metadata": {},
   "source": [
    "## Métodos disponibles para cadenas\n",
    "\n",
    "Los métodos disponibles son los siguientes:\n",
    "\n",
    "Nombre|Acción|ejemplo\n",
    "------|:------:|:-------\n",
    " capitalize | Transporma el formato de la cadena en forma capital | `'Hola'.capitalize()`\n",
    " casefold | Permite comparar cadenas sin importar el tamaño de los caracteres | `'ß'.casefold('s') == True`\n",
    " center | Permite formatear la cadena centrada con caracteres de padding | `'Hola'.center(20, '_')`\n",
    " count | Devuelve el número de ocurrencias que hay de un caracter en la cadena | `'HHolla'.count('H')`\n",
    " encode | Permite añadir la codificación de la cadena | `str1.encode('latin-1')`\n",
    " endswith | Devuelve `True` si la cadena principal termina con una cadena como argumento | `str1.endswith(str2)`\n",
    " expandtabs | Devuelve una cadena donde los caracteres tabulador se expanden usando espacios | `str1.expandtabs()`\n",
    " find | Devuelve la posición de una cadena sobre la cadena principal. Si no la encuentra devuelve `-1` | `str1.find(str2)`\n",
    " format | Permite formatear una cadena con argumentos. Desde Python 3 se suelen usar f-strings en vez de format cuando es posible | `str1.format(color='Red')`\n",
    " format_map | Permite crear un mapeo para ser usado en la función format | `str1.format_map({'color': 'red'})`\n",
    " index | Devuelve la posición exacta de una sub-cadena sobre la principal. Si no la encuentra devuelve un error | `str1.index('pepe')`\n",
    " isalnum | Devuelve si la cadena es alfanumérica | `str1.isalnum()`\n",
    " isalpha | Devuelve si la cadena es alfa | `str1.isalpha()`\n",
    " isascii | Devuelve `True` si todos los caracteres están en el rango unicode U+0000-U+007F | `str1.isascii()`\n",
    " isdecimal | Devuelve `True` si todos los caracteres son decimales | `str.isdecimal()`\n",
    "isdigit|Devuelve `True` si todos los caracteres son dígitos  | `str1.isdigit()`\n",
    "isidentifier|Devuelve `True` si la cadena es un identificador reservado  | `str1.isidentifier()`\n",
    "islower|Devuelve `True` si todos los caracteres de la cadena estén en su forma minúscula  | `str1.islower()`\n",
    "isnumeric|Devuelve `True` si todos los caracteres son numéricos  | `str1.isnumeric()`\n",
    "isprintable|Devuelve `True` si todos los caracteres de la cadena son imprimibles  | `str1.isprintable()`\n",
    "isspace|Devuelve `True` si todos los caracteres de la cadena son espacios  | `str1.isspace()`\n",
    "istitle|Devuelve `True` si la cadena está en formato de título  | `str1.istitle()`\n",
    "isupper|Devuelve `True` si todos los caracteres de la cadena estén en su forma mayúscula.  | `str1.isupper()`\n",
    "join|Une todos los caracteres pasados como argumentos usando la cadena como carácter de unión  | `str1.join('hola')`\n",
    "ljust|Devuelve una cadena justificada a la izquierda  | `str1.ljust(50)`\n",
    "lower|Return a copy of the string converted to lowercase  | `str1.lower(5)`\n",
    "lstrip|Devuelve una cadena sin espacios a la izquierda  | `str1.lstrip()`\n",
    "maketrans|Devuelve una tabla para mapear caracteres  | `str1.maketrans({45: 'a', 43: 'b'})`\n",
    "partition|Devuelve 3 cadenas separando la principal con un carácter pasado como argumento  | `str1.partition(',')`\n",
    "removeprefix|Devuelve una nueva cadena con el prefijo como argumento eliminado (si existe)  | `str1.removeprefix('hello')`\n",
    "removesuffix|Devuelve una nueva cadena con el sufijo como argumento eliminado (si existe)  | `str1.removesuffix('world')`\n",
    "replace|Devuelve una nueva cadena con los caracteres reemplazados  | `str1.replace('a', 'b')`\n",
    "rfind|Devuelve el índice donde aparece una sub-cadena en la cadena principal o -1  | `str1.rfind(5)`\n",
    "rindex|Devuelve el índice donde aparece una sub-cadena en la cadena principal o eleva un error  | `str1.rindex(5)`\n",
    "rjust|Devuelve una cadena justificada a la derecha  | `str1.rjust(50)`\n",
    "rpartition|Similar a partition pero comenzando desde la derecha  | `str1.rpartition(',')`\n",
    "rsplit|Similar a split pero comenzando desde la derecha  | `str1.rsplit(',')`\n",
    "rstrip|Similar a strip pero comenzando desde la derecha  | `str1.rstrip()`\n",
    "split|Separa la cadena original en sub-cadenas donde se encuentre el separador pasado como argumento. Devuelve una lista  | `str1.split(',')`\n",
    "splitlines|Devuelve una lista de cadenas separando la original por sus saltos de línea  | `str1.splitlines()`\n",
    "startswith|Devuelve `True` si la cadena principal comienza con la que se pasa como argumento  | `str1.startswith(str2)`\n",
    "strip|Devuelve una copia de la cadena original con los espacios al comienzo y final eliminados  | `str1.strip()`\n",
    "swapcase|Cambia el tamaño de todos los caracteres de la cadena principal  | `str1.swapcase()`\n",
    "title|Devuelve una versión de la cadena principal en formato titulo  | `str1.title()`\n",
    "translate|Reemplaza la cadena principal con una tabla de conversión  | `str1.translate({1: None, 10: None, 99: 145})`\n",
    "upper|Devuelve una copia de la cadena principal con todos los caracteres en mayúsculas  | `str1.upper(5)`\n",
    "zfill|Rellena la cadena con ceros a la izquierda  | `str1.zfill(50)`"
   ]
  },
  {
   "cell_type": "code",
   "execution_count": null,
   "id": "cfb3d91a",
   "metadata": {},
   "outputs": [],
   "source": [
    "msg = '  En UN lugar DE La ManChA'"
   ]
  },
  {
   "cell_type": "code",
   "execution_count": null,
   "id": "34825e31-1d7b-46bb-be6b-d349bbc6c687",
   "metadata": {},
   "outputs": [],
   "source": [
    "msg[5]"
   ]
  },
  {
   "cell_type": "code",
   "execution_count": null,
   "id": "ddb82bf0-ddfd-43ea-8665-56112d42673c",
   "metadata": {},
   "outputs": [],
   "source": [
    "msg[-1], msg[-2]"
   ]
  },
  {
   "cell_type": "code",
   "execution_count": null,
   "id": "c8296725",
   "metadata": {
    "scrolled": true
   },
   "outputs": [],
   "source": [
    "msg.capitalize()"
   ]
  },
  {
   "cell_type": "code",
   "execution_count": null,
   "id": "ee68afeb",
   "metadata": {},
   "outputs": [],
   "source": [
    "msg.casefold()"
   ]
  },
  {
   "cell_type": "code",
   "execution_count": null,
   "id": "e112b4e3",
   "metadata": {},
   "outputs": [],
   "source": [
    "msg.center(70, '_').title()"
   ]
  },
  {
   "cell_type": "code",
   "execution_count": null,
   "id": "55d1f4a7",
   "metadata": {},
   "outputs": [],
   "source": [
    "msg.find('DE')"
   ]
  },
  {
   "cell_type": "code",
   "execution_count": null,
   "id": "5ba46b42",
   "metadata": {
    "jupyter": {
     "source_hidden": true
    }
   },
   "outputs": [],
   "source": [
    "msg.isascii()"
   ]
  },
  {
   "cell_type": "code",
   "execution_count": null,
   "id": "10e05431-79dc-4049-bd8c-1bc57681334d",
   "metadata": {},
   "outputs": [],
   "source": [
    "msg.strip()"
   ]
  },
  {
   "cell_type": "code",
   "execution_count": null,
   "id": "ca535d67",
   "metadata": {},
   "outputs": [],
   "source": [
    "msg.split(' ')"
   ]
  },
  {
   "cell_type": "code",
   "execution_count": null,
   "id": "df19061f-576b-4d59-b79a-28b98bfb0409",
   "metadata": {},
   "outputs": [],
   "source": [
    "msg.strip().lower().split(' ')"
   ]
  },
  {
   "cell_type": "code",
   "execution_count": null,
   "id": "73fa05e1",
   "metadata": {
    "scrolled": true
   },
   "outputs": [],
   "source": [
    "'-'.join(msg.split(' '))"
   ]
  },
  {
   "cell_type": "markdown",
   "id": "669cc01e",
   "metadata": {},
   "source": [
    "## Ejercicio 1 - Substring y split\n",
    "\n",
    "Obten el segundo caracter de cada una de las palabras que hay en msg"
   ]
  },
  {
   "cell_type": "code",
   "execution_count": null,
   "id": "f9c8d1a6",
   "metadata": {
    "scrolled": true
   },
   "outputs": [],
   "source": []
  },
  {
   "cell_type": "markdown",
   "id": "5ad55c71",
   "metadata": {},
   "source": [
    "## Ejercicio 2 - \n",
    "\n",
    "Devolver todos los elementos que tengan más de 3 caracteres unidos por `-` de `msg\n"
   ]
  },
  {
   "cell_type": "code",
   "execution_count": null,
   "id": "55b6b8d5",
   "metadata": {
    "scrolled": true
   },
   "outputs": [],
   "source": []
  },
  {
   "cell_type": "markdown",
   "id": "e71ed855",
   "metadata": {},
   "source": [
    "## Formateado de cadenas\n",
    "\n",
    "Una parte fundamental de las cadenas es el formateado de las cadenas en diferentes formas:\n",
    "* Usando format con clave valor\n",
    "* Usando % para añadir los bloques de las plantillas\n",
    "* Usando f-string desde Python 3\n",
    "\n",
    "Todos los sistemas de formateado en Python usan una especie de lenguaje especial basado en plantillas pero dependiendo de cúal se use es más potente o menos"
   ]
  },
  {
   "cell_type": "markdown",
   "id": "3151c8de",
   "metadata": {},
   "source": [
    "### Clave valor (str.format)\n",
    "\n",
    "Usa la función `.format` y una serie de parametros pasados por clave valor. Espera que todas las claves estén presentes en la plantilla, aunque tambien se pueden pasar como posicionales"
   ]
  },
  {
   "cell_type": "code",
   "execution_count": null,
   "id": "441b2637",
   "metadata": {},
   "outputs": [],
   "source": [
    "'Hola {nombre}, ¿Que tal?, este email es para pedirle {cantidad}€'.format(\n",
    "    nombre='juan', cantidad=89)"
   ]
  },
  {
   "cell_type": "code",
   "execution_count": null,
   "id": "3d8d885d",
   "metadata": {},
   "outputs": [],
   "source": [
    "'Hola {}, ¿Que tal?, este email es para pedirle {}€'.format(\n",
    "    'juan', 89)"
   ]
  },
  {
   "cell_type": "code",
   "execution_count": null,
   "id": "edf0b3cb",
   "metadata": {
    "scrolled": true
   },
   "outputs": [],
   "source": [
    "# Tambien se puede especificar la posición en la plantilla\n",
    "'Hola {1}, ¿Que tal?, este email es para pedirle {0}€'.format(\n",
    "    'juan', 89)"
   ]
  },
  {
   "cell_type": "markdown",
   "id": "d3440f24",
   "metadata": {},
   "source": [
    "### Forma antigua usando %\n",
    "\n",
    "Esta forma está en desuso desde que aparecieron formas más explicitas, más simples de formatear cadenas y más potentes. \n",
    "\n",
    "Se basa en usar % y anclas como %s, %d, %f similar a cómo se usan en otros lenguajes como C"
   ]
  },
  {
   "cell_type": "code",
   "execution_count": null,
   "id": "faaf023a",
   "metadata": {},
   "outputs": [],
   "source": [
    "'%s su nota es %f' % ('Juan', 9.8)"
   ]
  },
  {
   "cell_type": "markdown",
   "id": "53e7ccae",
   "metadata": {},
   "source": [
    "### Uso de f-string\n",
    "\n",
    "Es el más potente, rápido y popular desde que apareció en Python 3.\n",
    "\n",
    "Es un formato parecido a format en el sentido de que usa las anclas como `{}` pero además permite ejecución de código y es muy explícito\n",
    "\n",
    "Simplemente es necesario añadir una `f` antes de la cadena y se transforma en una cadena de formateado f-string"
   ]
  },
  {
   "cell_type": "code",
   "execution_count": null,
   "id": "bbfe86ea",
   "metadata": {},
   "outputs": [],
   "source": [
    "nombre = 'Pedro'\n",
    "notas = [5.6, 8.4, 9, 3.4, 5.7]\n",
    "\n",
    "f'Hola {nombre}, ¿Que tal?, la máxima nota ha sido {max(notas)}'"
   ]
  },
  {
   "cell_type": "code",
   "execution_count": null,
   "id": "06b161de",
   "metadata": {},
   "outputs": [],
   "source": [
    "resultado = 0.876943\n",
    "\n",
    "print(f'''El resultado real es: {resultado * 100:.2f}, \n",
    "que ajustado es {(resultado * 0.8 * 100) + 3:.2f}''')\n"
   ]
  },
  {
   "cell_type": "code",
   "execution_count": null,
   "id": "92186453",
   "metadata": {},
   "outputs": [],
   "source": [
    "from datetime import datetime\n",
    "\n",
    "f'La fecha actual es: {datetime.now():%Y-%m-%d %H:%M:%S}'\n"
   ]
  },
  {
   "cell_type": "code",
   "execution_count": null,
   "id": "0090e009",
   "metadata": {},
   "outputs": [],
   "source": [
    "# Formatear las cadenas\n",
    "print(f'''\n",
    "{'Marcas': ^20}\n",
    "{'Honda':_<20}\n",
    "{'Yamaha':.>20}\n",
    "''')"
   ]
  },
  {
   "cell_type": "markdown",
   "id": "05cd1df4",
   "metadata": {},
   "source": [
    "Más información en: [Mini-lenguage](https://docs.python.org/es/3/library/string.html#formatspec)\n",
    "\n",
    "Y sobre cómo formatear fechas: [códigos de formato](https://docs.python.org/es/3/library/datetime.html#strftime-and-strptime-format-codes)"
   ]
  },
  {
   "cell_type": "markdown",
   "id": "0897a665",
   "metadata": {},
   "source": [
    "## Ejercicio 1 - Formatear notas de alumnos\n",
    "\n",
    "Formatear las notas de los alumnos en los que se muestre:\n",
    "\n",
    "Nombre|   Nota   |Edad   \n",
    "-----:|:-------:|:----\n",
    "Juan|   8.7    |37             \n",
    "María|   6.2    |27             \n",
    "Antonio|   9.7    |42             \n",
    " Ana|   5.2    |18             \n",
    "Pedro|   7.5    |31             \n",
    "Pepi|   3.3    |29             \n",
    "Salva|   4.5    |21             \n",
    "Mario|    5     |36       \n",
    "\n",
    "```python\n",
    "notas = {\n",
    "    'Juan': {'nota': 8.7, 'edad': 37},\n",
    "    'María': {'nota': 6.2, 'edad': 27},\n",
    "    'Antonio': {'nota': 9.7, 'edad': 42},\n",
    "    'Ana': {'nota': 5.2, 'edad': 18},\n",
    "    'Pedro': {'nota': 7.5, 'edad': 31},\n",
    "    'Pepi': {'nota': 3.3, 'edad': 29},\n",
    "    'Salva': {'nota': 4.5, 'edad': 21},\n",
    "    'Mario': {'nota': 5, 'edad': 36},\n",
    "}\n",
    "```"
   ]
  },
  {
   "cell_type": "code",
   "execution_count": null,
   "id": "75da272d",
   "metadata": {},
   "outputs": [],
   "source": []
  },
  {
   "cell_type": "markdown",
   "id": "bb08b02b",
   "metadata": {},
   "source": [
    "## Ejercicio 2 - Obtener la hora actual\n",
    "\n",
    "Mostrar la hora actual del sistema"
   ]
  },
  {
   "cell_type": "code",
   "execution_count": null,
   "id": "e21a05fa",
   "metadata": {},
   "outputs": [],
   "source": []
  },
  {
   "cell_type": "markdown",
   "id": "6db9f9bb-84dc-4909-8c8e-2b7d1496fc98",
   "metadata": {},
   "source": [
    "## Ejercicios extra\n",
    "\n",
    "Supongamos que tenemos la siguiente cadena:\n",
    "\n",
    "```python\n",
    "frase = \"La programación en Python es bonita y elegante.\"\n",
    "```\n",
    "\n",
    "Realizar los siguientes ejercicios:"
   ]
  },
  {
   "cell_type": "markdown",
   "id": "993211ec-a888-4646-881d-6ef1c86ab27b",
   "metadata": {},
   "source": [
    "### Encuentra la subcadena `Python` y devuelve su posición"
   ]
  },
  {
   "cell_type": "code",
   "execution_count": null,
   "id": "9b76c026-fbea-4676-a06d-0db044d6fb0c",
   "metadata": {},
   "outputs": [],
   "source": []
  },
  {
   "cell_type": "markdown",
   "id": "4c622d04-0cab-4345-9284-98a6a2fc23ed",
   "metadata": {},
   "source": [
    "### Encuentra la última aparición de la letra `e`"
   ]
  },
  {
   "cell_type": "code",
   "execution_count": null,
   "id": "494b3cb0-c3e7-4b0d-9d08-3fa2bdb2698a",
   "metadata": {},
   "outputs": [],
   "source": []
  },
  {
   "cell_type": "markdown",
   "id": "ff632d3f-f174-44c5-8c69-cc894bc3a617",
   "metadata": {},
   "source": [
    "### Separa la cadena por espacios creando listas de cadenas"
   ]
  },
  {
   "cell_type": "code",
   "execution_count": null,
   "id": "873a07ac-ac71-47c1-b302-b66d8340750b",
   "metadata": {},
   "outputs": [],
   "source": []
  },
  {
   "cell_type": "markdown",
   "id": "c2380080-f6d7-48ff-9783-40877802491d",
   "metadata": {},
   "source": [
    "### Elimina los espacios en la siguiente cadena y divide la lista `es`"
   ]
  },
  {
   "cell_type": "code",
   "execution_count": null,
   "id": "3b843a22-2ee9-4015-9614-f4c8e2522bb6",
   "metadata": {},
   "outputs": [],
   "source": []
  },
  {
   "cell_type": "markdown",
   "id": "9cf917ba-ad6b-43fb-bdad-1f9be007b722",
   "metadata": {},
   "source": [
    "### Encuentra cuantas veces aparece la letra `e`"
   ]
  },
  {
   "cell_type": "code",
   "execution_count": null,
   "id": "7b2be2ff-9e0c-4cca-812a-2e9d2f26bc7c",
   "metadata": {},
   "outputs": [],
   "source": []
  },
  {
   "cell_type": "markdown",
   "id": "68f56342-36f9-41b1-b416-3d67ddee62ad",
   "metadata": {},
   "source": [
    "### Elimina el prefijo \"La programación\""
   ]
  },
  {
   "cell_type": "code",
   "execution_count": null,
   "id": "8b647f8d-2701-4eb1-90c6-ef1f9804a909",
   "metadata": {},
   "outputs": [],
   "source": []
  },
  {
   "cell_type": "markdown",
   "id": "6fdf8f9d-7686-4f63-93fa-df8828024fad",
   "metadata": {},
   "source": [
    "### Proponer un ejemplo de cadena numérica y otro de cadena nó numérica"
   ]
  },
  {
   "cell_type": "code",
   "execution_count": null,
   "id": "ce1ffd1e-d8e1-4117-bc96-8a862293ceed",
   "metadata": {},
   "outputs": [],
   "source": []
  },
  {
   "cell_type": "markdown",
   "id": "3e748bb0-7a7f-4b30-a111-f73e325b8e71",
   "metadata": {},
   "source": [
    "## Ejercicio - Manipula el texto\n",
    "\n",
    "Teniendo el texto: \n",
    "\n",
    "```python\n",
    "txt = \"    ProgramAR en PythoN ES una alegría\"\n",
    "```\n",
    "* Elimiar los espacios extra\n",
    "* Cambiar la frase a formato título\n",
    "* Cambiar \"alegría\" por \"maravilla\"\n",
    "* Cambiar los espacios por barras bajas (_)"
   ]
  },
  {
   "cell_type": "code",
   "execution_count": null,
   "id": "10c61555-bdaa-47d9-a11c-00b448e79dd8",
   "metadata": {},
   "outputs": [],
   "source": []
  }
 ],
 "metadata": {
  "kernelspec": {
   "display_name": "Python 3 (ipykernel)",
   "language": "python",
   "name": "python3"
  },
  "language_info": {
   "codemirror_mode": {
    "name": "ipython",
    "version": 3
   },
   "file_extension": ".py",
   "mimetype": "text/x-python",
   "name": "python",
   "nbconvert_exporter": "python",
   "pygments_lexer": "ipython3",
   "version": "3.10.10"
  }
 },
 "nbformat": 4,
 "nbformat_minor": 5
}
