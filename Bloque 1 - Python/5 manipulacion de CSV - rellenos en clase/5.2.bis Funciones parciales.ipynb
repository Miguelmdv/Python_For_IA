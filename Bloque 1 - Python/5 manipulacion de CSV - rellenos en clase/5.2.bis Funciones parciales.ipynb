{
 "cells": [
  {
   "cell_type": "markdown",
   "id": "2e239120-b05c-41cf-b5e9-a26ef116c938",
   "metadata": {},
   "source": [
    "# Funciones parciales\n",
    "\n",
    "Las funciones parciales son aquellas que tienen alguno de los argumentos ya prefijados y se pueden utilizar con los que tienen aún libres"
   ]
  },
  {
   "cell_type": "code",
   "execution_count": null,
   "id": "e12a5226-a958-4678-9520-03d1db8b2d1e",
   "metadata": {},
   "outputs": [],
   "source": [
    "def multiplica(a, b):\n",
    "    return a * b\n"
   ]
  },
  {
   "cell_type": "code",
   "execution_count": 16,
   "id": "ef96adcd-c644-4c8c-870e-fe01ba7c3907",
   "metadata": {},
   "outputs": [
    {
     "data": {
      "text/plain": [
       "30"
      ]
     },
     "execution_count": 16,
     "metadata": {},
     "output_type": "execute_result"
    }
   ],
   "source": [
    "multiplica(3, 10)"
   ]
  },
  {
   "cell_type": "code",
   "execution_count": 17,
   "id": "c4e07aae-ba2e-434f-8b5e-a48c419d2d30",
   "metadata": {},
   "outputs": [
    {
     "data": {
      "text/plain": [
       "50"
      ]
     },
     "execution_count": 17,
     "metadata": {},
     "output_type": "execute_result"
    }
   ],
   "source": [
    "multiplica(5, 10)"
   ]
  },
  {
   "cell_type": "code",
   "execution_count": 18,
   "id": "b3ffaf57-ac03-4491-9d45-cb43bffd3f1d",
   "metadata": {},
   "outputs": [
    {
     "data": {
      "text/plain": [
       "100"
      ]
     },
     "execution_count": 18,
     "metadata": {},
     "output_type": "execute_result"
    }
   ],
   "source": [
    "multiplica(5, 20)"
   ]
  },
  {
   "cell_type": "code",
   "execution_count": 19,
   "id": "58f1c020-4f4c-4606-97d7-eaf9843a4575",
   "metadata": {},
   "outputs": [
    {
     "data": {
      "text/plain": [
       "75"
      ]
     },
     "execution_count": 19,
     "metadata": {},
     "output_type": "execute_result"
    }
   ],
   "source": [
    "multiplica(5, 15)"
   ]
  },
  {
   "cell_type": "code",
   "execution_count": 20,
   "id": "214a07a2-b8af-463d-9557-851141329c51",
   "metadata": {},
   "outputs": [],
   "source": [
    "from functools import partial\n",
    "\n",
    "multiplica_5 = partial(multiplica, 5)"
   ]
  },
  {
   "cell_type": "code",
   "execution_count": 21,
   "id": "de0d46c2-6386-4d95-992b-ae63ad97b27a",
   "metadata": {},
   "outputs": [
    {
     "data": {
      "text/plain": [
       "50"
      ]
     },
     "execution_count": 21,
     "metadata": {},
     "output_type": "execute_result"
    }
   ],
   "source": [
    "multiplica_5(10)"
   ]
  },
  {
   "cell_type": "code",
   "execution_count": 22,
   "id": "eb3a8be9-6d38-4952-9054-6337747514bb",
   "metadata": {},
   "outputs": [
    {
     "data": {
      "text/plain": [
       "445"
      ]
     },
     "execution_count": 22,
     "metadata": {},
     "output_type": "execute_result"
    }
   ],
   "source": [
    "multiplica_5(89)"
   ]
  },
  {
   "cell_type": "code",
   "execution_count": 23,
   "id": "46e2580d-5e9c-43b1-abac-493f54928cdd",
   "metadata": {},
   "outputs": [
    {
     "data": {
      "text/plain": [
       "18"
      ]
     },
     "execution_count": 23,
     "metadata": {},
     "output_type": "execute_result"
    }
   ],
   "source": [
    "int('10010', base=2)"
   ]
  },
  {
   "cell_type": "code",
   "execution_count": 24,
   "id": "53ff5182-c21f-4f5e-a5c7-ca5c0aa7c7b4",
   "metadata": {},
   "outputs": [],
   "source": [
    "def base_2(num_str):\n",
    "    return int(num_str, base=2)"
   ]
  },
  {
   "cell_type": "code",
   "execution_count": 25,
   "id": "af817424-69ca-4fce-a300-53425c99f3f8",
   "metadata": {},
   "outputs": [
    {
     "data": {
      "text/plain": [
       "5"
      ]
     },
     "execution_count": 25,
     "metadata": {},
     "output_type": "execute_result"
    }
   ],
   "source": [
    "base_2('101')"
   ]
  },
  {
   "cell_type": "code",
   "execution_count": null,
   "id": "961634e0-f29f-4776-bd2e-0904122cb67c",
   "metadata": {},
   "outputs": [],
   "source": []
  },
  {
   "cell_type": "code",
   "execution_count": null,
   "id": "3ff1c84b-f6cc-4a81-ae04-87d76aa00568",
   "metadata": {},
   "outputs": [],
   "source": []
  },
  {
   "cell_type": "code",
   "execution_count": null,
   "id": "ddeb2e81-f853-4fc2-b0cc-3197211bf8de",
   "metadata": {},
   "outputs": [],
   "source": []
  },
  {
   "cell_type": "code",
   "execution_count": null,
   "id": "d501b439-dbdc-49d9-bf34-0983d71114b0",
   "metadata": {},
   "outputs": [],
   "source": []
  },
  {
   "cell_type": "code",
   "execution_count": 26,
   "id": "ad0bf642-fd90-4cae-9d1d-e027158e943d",
   "metadata": {},
   "outputs": [
    {
     "data": {
      "text/plain": [
       "18"
      ]
     },
     "execution_count": 26,
     "metadata": {},
     "output_type": "execute_result"
    }
   ],
   "source": [
    "# de la documentación oficial\n",
    "base_2 = partial(int, base=2)\n",
    "base_2.__doc__ = 'Convert base 2 string to an int.'\n",
    "base_2('10010')\n",
    "\n"
   ]
  },
  {
   "cell_type": "code",
   "execution_count": 27,
   "id": "445618d3-17dd-4fd4-bb2b-1b6ac889234a",
   "metadata": {},
   "outputs": [
    {
     "data": {
      "text/plain": [
       "5444"
      ]
     },
     "execution_count": 27,
     "metadata": {},
     "output_type": "execute_result"
    }
   ],
   "source": [
    "base_2('1010101000100')"
   ]
  },
  {
   "cell_type": "code",
   "execution_count": 28,
   "id": "e328328f-632f-4885-8702-55e4dd040389",
   "metadata": {},
   "outputs": [
    {
     "data": {
      "text/plain": [
       "5"
      ]
     },
     "execution_count": 28,
     "metadata": {},
     "output_type": "execute_result"
    }
   ],
   "source": [
    "base_2('101')"
   ]
  },
  {
   "cell_type": "code",
   "execution_count": null,
   "id": "a40ca1e3-ccef-4139-b08c-74f4d08f54de",
   "metadata": {},
   "outputs": [],
   "source": []
  }
 ],
 "metadata": {
  "kernelspec": {
   "display_name": "Python 3 (ipykernel)",
   "language": "python",
   "name": "python3"
  },
  "language_info": {
   "codemirror_mode": {
    "name": "ipython",
    "version": 3
   },
   "file_extension": ".py",
   "mimetype": "text/x-python",
   "name": "python",
   "nbconvert_exporter": "python",
   "pygments_lexer": "ipython3",
   "version": "3.10.10"
  }
 },
 "nbformat": 4,
 "nbformat_minor": 5
}
