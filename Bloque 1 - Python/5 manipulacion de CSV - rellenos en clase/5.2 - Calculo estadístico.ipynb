{
 "cells": [
  {
   "cell_type": "markdown",
   "id": "3762ac79-52ca-49aa-baa5-075dc5e5ef0f",
   "metadata": {},
   "source": [
    "# Calcular operaciones estadísticas\n",
    "\n",
    "Caclular la media, mediana y las desviaciones estandar de una lista de datos numéricos"
   ]
  },
  {
   "cell_type": "code",
   "execution_count": 5,
   "id": "095bef6b-72e4-43e0-a82a-1ac18a10d4e6",
   "metadata": {},
   "outputs": [],
   "source": [
    "datos = [1.2, 2.4, 3.6, 4.8, 6.0, 9.0]\n",
    "\n",
    "def calcular_media(datos):\n",
    "    return sum(datos) / len(datos)\n",
    "\n",
    "def calcular_mediana(datos_no_ordenados):\n",
    "    datos = sorted(datos_no_ordenados)\n",
    "    if len(datos) % 2 != 0:\n",
    "        mediana = datos[len(datos) / 2]\n",
    "    else:\n",
    "        mediana = (datos[len(datos) // 2 - 1] + datos[len(datos) // 2]) / 2\n",
    "    return mediana\n",
    "\n",
    "def calcular_desviacion_estandar(datos):\n",
    "    media = calcular_media(datos)\n",
    "    suma_cuadrados = sum((x - media) ** 2 for x in datos)\n",
    "    desviacion_estandar = (suma_cuadrados / (len(datos) - 1)) ** 0.5\n",
    "    return desviacion_estandar\n",
    "\n"
   ]
  },
  {
   "cell_type": "code",
   "execution_count": 6,
   "id": "75490530-ac45-42e7-80c8-6ff7350bfcb4",
   "metadata": {},
   "outputs": [],
   "source": [
    "import statistics\n",
    "\n",
    "# Función para calcular la media\n",
    "def calcular_media(datos):\n",
    "    if len(datos) == 0:\n",
    "        return None\n",
    "    else:\n",
    "        return sum(datos) / len(datos)\n",
    "\n",
    "# Función para calcular la mediana\n",
    "def calcular_mediana(datos):\n",
    "    if len(datos) == 0:\n",
    "        return None\n",
    "    else:\n",
    "        return statistics.median(datos)\n",
    "\n",
    "# Función para calcular la desviación estándar (desviación típica)\n",
    "def calcular_desviacion_estandar(datos):\n",
    "    if len(datos) == 0:\n",
    "        return None\n",
    "    else:\n",
    "        return statistics.stdev(datos)"
   ]
  },
  {
   "cell_type": "code",
   "execution_count": 7,
   "id": "4dd91db9-f013-4312-9ad8-bf0427516230",
   "metadata": {},
   "outputs": [
    {
     "name": "stdout",
     "output_type": "stream",
     "text": [
      "Media: 3.6\n",
      "Mediana: 3.6\n",
      "Desviación Estándar: 1.8973665961010275\n"
     ]
    }
   ],
   "source": [
    "datos = [1.2, 2.4, 3.6, 4.8, 6.0]\n",
    "media = calcular_media(datos)\n",
    "mediana = calcular_mediana(datos)\n",
    "desviacion_estandar = calcular_desviacion_estandar(datos)\n",
    "\n",
    "print(\"Media:\", media)\n",
    "print(\"Mediana:\", mediana)\n",
    "print(\"Desviación Estándar:\", desviacion_estandar)"
   ]
  },
  {
   "cell_type": "code",
   "execution_count": null,
   "id": "66e27264-3ea5-4437-abe6-9793eaf90374",
   "metadata": {},
   "outputs": [],
   "source": []
  }
 ],
 "metadata": {
  "kernelspec": {
   "display_name": "Python 3 (ipykernel)",
   "language": "python",
   "name": "python3"
  },
  "language_info": {
   "codemirror_mode": {
    "name": "ipython",
    "version": 3
   },
   "file_extension": ".py",
   "mimetype": "text/x-python",
   "name": "python",
   "nbconvert_exporter": "python",
   "pygments_lexer": "ipython3",
   "version": "3.10.10"
  }
 },
 "nbformat": 4,
 "nbformat_minor": 5
}
