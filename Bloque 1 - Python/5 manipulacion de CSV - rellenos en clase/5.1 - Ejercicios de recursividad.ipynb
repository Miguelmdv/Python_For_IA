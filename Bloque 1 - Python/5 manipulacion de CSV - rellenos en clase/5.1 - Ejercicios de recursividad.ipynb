{
 "cells": [
  {
   "cell_type": "markdown",
   "id": "4bafe5dd-3b92-4f8a-9363-7faaeae470e1",
   "metadata": {
    "editable": true,
    "slideshow": {
     "slide_type": ""
    },
    "tags": []
   },
   "source": [
    "# Recursividad con ejemplos\n",
    "\n",
    "* Cálculo de números primos\n",
    "* Tic tac toe"
   ]
  },
  {
   "cell_type": "markdown",
   "id": "d6031eb4-c3d1-40c5-a70a-d805d27a0b03",
   "metadata": {},
   "source": [
    "## Cálculo de números primos\n",
    "\n",
    "Un número primo es un número mayor o igual que 1 que es solo divisible entre si mismo y no es multiplo de otros"
   ]
  },
  {
   "cell_type": "code",
   "execution_count": 8,
   "id": "4e098adc-a9c6-4ec0-9bf7-84372b146c73",
   "metadata": {},
   "outputs": [],
   "source": [
    "# Solución imperativa\n",
    "def es_primo(numero):\n",
    "    if numero <= 1:\n",
    "        return False\n",
    "    if numero == 2:\n",
    "        return True\n",
    "    if numero % 2 == 0:\n",
    "        return False\n",
    "\n",
    "    elem = 3\n",
    "    while elem < numero:\n",
    "        if numero % elem == 0:\n",
    "            print(f'{numero} es divisor de {elem}')\n",
    "            return False\n",
    "        elem += 1  # Solo comprobar números impares mayores que 2\n",
    "    return True\n",
    "\n"
   ]
  },
  {
   "cell_type": "code",
   "execution_count": 9,
   "id": "31d3a7b5-d8e2-4234-a948-3df150916cd4",
   "metadata": {},
   "outputs": [
    {
     "name": "stdin",
     "output_type": "stream",
     "text": [
      "Introduce un número:  8\n"
     ]
    },
    {
     "name": "stdout",
     "output_type": "stream",
     "text": [
      "8 no es un número primo.\n"
     ]
    }
   ],
   "source": [
    "numero = int(input(\"Introduce un número: \"))\n",
    "if es_primo(numero):\n",
    "    print(f\"{numero} es un número primo.\")\n",
    "else:\n",
    "    print(f\"{numero} no es un número primo.\")"
   ]
  },
  {
   "cell_type": "code",
   "execution_count": 12,
   "id": "76b18935-28b5-4830-bdaa-b1d227b4b28d",
   "metadata": {},
   "outputs": [
    {
     "name": "stdout",
     "output_type": "stream",
     "text": [
      "2\n",
      "3\n",
      "5\n",
      "7\n",
      "11\n",
      "13\n",
      "17\n",
      "19\n",
      "23\n",
      "29\n",
      "31\n",
      "37\n",
      "41\n",
      "43\n",
      "47\n",
      "53\n",
      "59\n",
      "61\n",
      "67\n",
      "71\n",
      "73\n",
      "79\n",
      "83\n",
      "89\n",
      "97\n",
      "101\n",
      "103\n",
      "107\n",
      "109\n",
      "113\n",
      "127\n",
      "131\n",
      "137\n",
      "139\n",
      "149\n",
      "151\n",
      "157\n",
      "163\n",
      "167\n",
      "173\n",
      "179\n",
      "181\n",
      "191\n",
      "193\n",
      "197\n",
      "199\n",
      "211\n",
      "223\n",
      "227\n",
      "229\n",
      "233\n",
      "239\n",
      "241\n",
      "251\n",
      "257\n",
      "263\n",
      "269\n",
      "271\n",
      "277\n",
      "281\n",
      "283\n",
      "293\n",
      "307\n",
      "311\n",
      "313\n",
      "317\n",
      "331\n",
      "337\n",
      "347\n",
      "349\n",
      "353\n",
      "359\n",
      "367\n",
      "373\n",
      "379\n",
      "383\n",
      "389\n",
      "397\n",
      "401\n",
      "409\n",
      "419\n",
      "421\n",
      "431\n",
      "433\n",
      "439\n",
      "443\n",
      "449\n",
      "457\n",
      "461\n",
      "463\n",
      "467\n",
      "479\n",
      "487\n",
      "491\n",
      "499\n",
      "503\n",
      "509\n",
      "521\n",
      "523\n",
      "541\n",
      "547\n",
      "557\n",
      "563\n",
      "569\n",
      "571\n",
      "577\n",
      "587\n",
      "593\n",
      "599\n",
      "601\n",
      "607\n",
      "613\n",
      "617\n",
      "619\n",
      "631\n",
      "641\n",
      "643\n",
      "647\n",
      "653\n",
      "659\n",
      "661\n",
      "673\n",
      "677\n",
      "683\n",
      "691\n",
      "701\n",
      "709\n",
      "719\n",
      "727\n",
      "733\n",
      "739\n",
      "743\n",
      "751\n",
      "757\n",
      "761\n",
      "769\n",
      "773\n",
      "787\n",
      "797\n",
      "809\n",
      "811\n",
      "821\n",
      "823\n",
      "827\n",
      "829\n",
      "839\n",
      "853\n",
      "857\n",
      "859\n",
      "863\n",
      "877\n",
      "881\n",
      "883\n",
      "887\n",
      "907\n",
      "911\n",
      "919\n",
      "929\n",
      "937\n",
      "941\n",
      "947\n",
      "953\n",
      "967\n",
      "971\n",
      "977\n",
      "983\n",
      "991\n",
      "997\n"
     ]
    }
   ],
   "source": [
    "def is_prime(n, divisor=2):\n",
    "  if n <= 1:\n",
    "    return False\n",
    "  if n <= 3:\n",
    "    return True\n",
    "  if n % divisor == 0:\n",
    "    return False\n",
    "  if divisor * divisor > n:\n",
    "    return True\n",
    "  return is_prime(n, divisor + 1)\n",
    "\n",
    "\n",
    "def generar_primos_limite(limit):\n",
    "  current_num = 2\n",
    "  while current_num <= limit:\n",
    "    if is_prime(current_num):\n",
    "      yield current_num\n",
    "\n",
    "    current_num += 1\n",
    "\n",
    "n = 1000\n",
    "for primo in generar_primos_limite(n):\n",
    "  print(primo)"
   ]
  },
  {
   "cell_type": "markdown",
   "id": "64119d7b-9149-4612-a21c-bafa41cc2e59",
   "metadata": {},
   "source": [
    "## Tic Tac Toe\n",
    "\n",
    "El juego consiste en un tablero de 9 posiciones donde en cada turno uno de los jugadores debe de elegir una fila y columna que donde quiere poner su ficha\n",
    "\n",
    "En cada turno se cambia de jugador\n",
    "\n",
    "Gana el jugador que consiga colocar 3 fichas consecutivas de forma vertical, horizontal u oblicua"
   ]
  },
  {
   "cell_type": "code",
   "execution_count": 15,
   "id": "20dfe88a-a2a2-45f1-a38c-c554342628e1",
   "metadata": {},
   "outputs": [
    {
     "name": "stdout",
     "output_type": "stream",
     "text": [
      "[[' ', ' ', ' '], [' ', ' ', ' '], [' ', ' ', ' ']]\n"
     ]
    }
   ],
   "source": [
    "marca_1 = \"x\"\n",
    "marca_2 = \"o\"\n",
    "marca_vacio = \" \"\n",
    "\n",
    "tablero = [[marca_vacio for _ in range(3)] for _ in range(3)]\n",
    "\n",
    "from pprint import pprint\n",
    "pprint(tablero)"
   ]
  },
  {
   "cell_type": "code",
   "execution_count": 26,
   "id": "672712a6-8976-4e93-a2ac-f837c63ba559",
   "metadata": {},
   "outputs": [],
   "source": [
    "def imprimir_tablero(tablero):\n",
    "    for idx, fila in enumerate(tablero):\n",
    "        fila_str = ' | '.join(fila)\n",
    "        print(fila_str)\n",
    "        separador = '----------'\n",
    "        print(separador)"
   ]
  },
  {
   "cell_type": "code",
   "execution_count": 20,
   "id": "2666e47d-3b72-4773-9751-16cdd9fd5750",
   "metadata": {},
   "outputs": [
    {
     "name": "stdout",
     "output_type": "stream",
     "text": [
      " | | \n",
      " | | \n",
      " | | \n"
     ]
    }
   ],
   "source": [
    "imprimir_tablero(tablero)"
   ]
  },
  {
   "cell_type": "code",
   "execution_count": 21,
   "id": "9ca0289a-3702-40aa-9270-71d66fb2ef40",
   "metadata": {},
   "outputs": [],
   "source": [
    "tablero_completo = [['o', 'x', 'x'], [' ', 'o', 'x'], ['x', ' ', 'o']]"
   ]
  },
  {
   "cell_type": "code",
   "execution_count": 27,
   "id": "b85625f2-d108-4c04-b6a8-3e12316f3ed5",
   "metadata": {},
   "outputs": [
    {
     "name": "stdout",
     "output_type": "stream",
     "text": [
      "o | x | x\n",
      "----------\n",
      "  | o | x\n",
      "----------\n",
      "x |   | o\n",
      "----------\n"
     ]
    }
   ],
   "source": [
    "imprimir_tablero(tablero_completo)"
   ]
  },
  {
   "cell_type": "code",
   "execution_count": 28,
   "id": "b9eb3a93-a8d6-4a08-aa13-7367d81d5e45",
   "metadata": {},
   "outputs": [],
   "source": [
    "def input_del_usuario(jugador_actual):\n",
    "    nueva_posicion = input(f'Jugador {jugador_actual}, elige una fila y columna separadas por comas Ej: 0,2')\n",
    "    pos_x, pos_y = nueva_posicion.split(',')\n",
    "    return int(pos_x), int(pos_y)"
   ]
  },
  {
   "cell_type": "code",
   "execution_count": 30,
   "id": "adb0e9f7-61fb-4c55-bc9f-9c9c718620fa",
   "metadata": {},
   "outputs": [
    {
     "name": "stdin",
     "output_type": "stream",
     "text": [
      "Jugador x, elige una fila y columna separadas por comas Ej: 0,2 asdf\n"
     ]
    },
    {
     "ename": "ValueError",
     "evalue": "not enough values to unpack (expected 2, got 1)",
     "output_type": "error",
     "traceback": [
      "\u001b[0;31m---------------------------------------------------------------------------\u001b[0m",
      "\u001b[0;31mValueError\u001b[0m                                Traceback (most recent call last)",
      "Cell \u001b[0;32mIn[30], line 1\u001b[0m\n\u001b[0;32m----> 1\u001b[0m \u001b[43minput_del_usuario\u001b[49m\u001b[43m(\u001b[49m\u001b[43mmarca_1\u001b[49m\u001b[43m)\u001b[49m\n",
      "Cell \u001b[0;32mIn[28], line 3\u001b[0m, in \u001b[0;36minput_del_usuario\u001b[0;34m(jugador_actual)\u001b[0m\n\u001b[1;32m      1\u001b[0m \u001b[38;5;28;01mdef\u001b[39;00m \u001b[38;5;21minput_del_usuario\u001b[39m(jugador_actual):\n\u001b[1;32m      2\u001b[0m     nueva_posicion \u001b[38;5;241m=\u001b[39m \u001b[38;5;28minput\u001b[39m(\u001b[38;5;124mf\u001b[39m\u001b[38;5;124m'\u001b[39m\u001b[38;5;124mJugador \u001b[39m\u001b[38;5;132;01m{\u001b[39;00mjugador_actual\u001b[38;5;132;01m}\u001b[39;00m\u001b[38;5;124m, elige una fila y columna separadas por comas Ej: 0,2\u001b[39m\u001b[38;5;124m'\u001b[39m)\n\u001b[0;32m----> 3\u001b[0m     pos_x, pos_y \u001b[38;5;241m=\u001b[39m nueva_posicion\u001b[38;5;241m.\u001b[39msplit(\u001b[38;5;124m'\u001b[39m\u001b[38;5;124m,\u001b[39m\u001b[38;5;124m'\u001b[39m)\n\u001b[1;32m      4\u001b[0m     \u001b[38;5;28;01mreturn\u001b[39;00m \u001b[38;5;28mint\u001b[39m(pos_x), \u001b[38;5;28mint\u001b[39m(pos_y)\n",
      "\u001b[0;31mValueError\u001b[0m: not enough values to unpack (expected 2, got 1)"
     ]
    }
   ],
   "source": [
    "input_del_usuario(marca_1)"
   ]
  },
  {
   "cell_type": "code",
   "execution_count": 39,
   "id": "70ae5b26-76bb-4c6b-bf44-c534b14284d5",
   "metadata": {},
   "outputs": [],
   "source": [
    "\n",
    "def input_del_usuario(jugador_actual):\n",
    "    opciones_admitidas = list(product('012', '012'))\n",
    "    \n",
    "    nueva_posicion = input(f'Jugador {jugador_actual}, elige una fila y columna separadas por comas Ej: 0,2')\n",
    "    if nueva_posicion.count(',') != 1:\n",
    "        print('Error al formatear la nueva posición, debe de contener una sola coma')\n",
    "        return input_del_usuario(jugador_actual)\n",
    "    \n",
    "    posiciones = tuple(nueva_posicion.remove(' ').split(','))\n",
    "    \n",
    "    if posiciones not in opciones_admitidas:\n",
    "        print('Posiciones fuera de rango')\n",
    "        return input_del_usuario(jugador_actual)\n",
    "\n",
    "    return int(pos_x), int(pos_y)"
   ]
  },
  {
   "cell_type": "code",
   "execution_count": 40,
   "id": "f8f16637-2de6-4320-b321-3305153812b6",
   "metadata": {},
   "outputs": [
    {
     "name": "stdin",
     "output_type": "stream",
     "text": [
      "Jugador x, elige una fila y columna separadas por comas Ej: 0,2 asdf\n"
     ]
    },
    {
     "name": "stdout",
     "output_type": "stream",
     "text": [
      "Error al formatear la nueva posición, debe de contener una sola coma\n"
     ]
    },
    {
     "name": "stdin",
     "output_type": "stream",
     "text": [
      "Jugador x, elige una fila y columna separadas por comas Ej: 0,2 a,a\n"
     ]
    },
    {
     "name": "stdout",
     "output_type": "stream",
     "text": [
      "Posiciones fuera de rango\n"
     ]
    },
    {
     "name": "stdin",
     "output_type": "stream",
     "text": [
      "Jugador x, elige una fila y columna separadas por comas Ej: 0,2 0,       1\n"
     ]
    },
    {
     "name": "stdout",
     "output_type": "stream",
     "text": [
      "Posiciones fuera de rango\n"
     ]
    },
    {
     "ename": "KeyboardInterrupt",
     "evalue": "Interrupted by user",
     "output_type": "error",
     "traceback": [
      "\u001b[0;31m---------------------------------------------------------------------------\u001b[0m",
      "\u001b[0;31mKeyboardInterrupt\u001b[0m                         Traceback (most recent call last)",
      "Cell \u001b[0;32mIn[40], line 1\u001b[0m\n\u001b[0;32m----> 1\u001b[0m \u001b[43minput_del_usuario\u001b[49m\u001b[43m(\u001b[49m\u001b[43mmarca_1\u001b[49m\u001b[43m)\u001b[49m\n",
      "Cell \u001b[0;32mIn[39], line 8\u001b[0m, in \u001b[0;36minput_del_usuario\u001b[0;34m(jugador_actual)\u001b[0m\n\u001b[1;32m      6\u001b[0m \u001b[38;5;28;01mif\u001b[39;00m nueva_posicion\u001b[38;5;241m.\u001b[39mcount(\u001b[38;5;124m'\u001b[39m\u001b[38;5;124m,\u001b[39m\u001b[38;5;124m'\u001b[39m) \u001b[38;5;241m!=\u001b[39m \u001b[38;5;241m1\u001b[39m:\n\u001b[1;32m      7\u001b[0m     \u001b[38;5;28mprint\u001b[39m(\u001b[38;5;124m'\u001b[39m\u001b[38;5;124mError al formatear la nueva posición, debe de contener una sola coma\u001b[39m\u001b[38;5;124m'\u001b[39m)\n\u001b[0;32m----> 8\u001b[0m     \u001b[38;5;28;01mreturn\u001b[39;00m \u001b[43minput_del_usuario\u001b[49m\u001b[43m(\u001b[49m\u001b[43mjugador_actual\u001b[49m\u001b[43m)\u001b[49m\n\u001b[1;32m     10\u001b[0m posiciones \u001b[38;5;241m=\u001b[39m \u001b[38;5;28mtuple\u001b[39m(nueva_posicion\u001b[38;5;241m.\u001b[39msplit(\u001b[38;5;124m'\u001b[39m\u001b[38;5;124m,\u001b[39m\u001b[38;5;124m'\u001b[39m))\n\u001b[1;32m     12\u001b[0m \u001b[38;5;28;01mif\u001b[39;00m posiciones \u001b[38;5;129;01mnot\u001b[39;00m \u001b[38;5;129;01min\u001b[39;00m opciones_admitidas:\n",
      "Cell \u001b[0;32mIn[39], line 14\u001b[0m, in \u001b[0;36minput_del_usuario\u001b[0;34m(jugador_actual)\u001b[0m\n\u001b[1;32m     12\u001b[0m \u001b[38;5;28;01mif\u001b[39;00m posiciones \u001b[38;5;129;01mnot\u001b[39;00m \u001b[38;5;129;01min\u001b[39;00m opciones_admitidas:\n\u001b[1;32m     13\u001b[0m     \u001b[38;5;28mprint\u001b[39m(\u001b[38;5;124m'\u001b[39m\u001b[38;5;124mPosiciones fuera de rango\u001b[39m\u001b[38;5;124m'\u001b[39m)\n\u001b[0;32m---> 14\u001b[0m     \u001b[38;5;28;01mreturn\u001b[39;00m \u001b[43minput_del_usuario\u001b[49m\u001b[43m(\u001b[49m\u001b[43mjugador_actual\u001b[49m\u001b[43m)\u001b[49m\n\u001b[1;32m     16\u001b[0m \u001b[38;5;28;01mreturn\u001b[39;00m \u001b[38;5;28mint\u001b[39m(pos_x), \u001b[38;5;28mint\u001b[39m(pos_y)\n",
      "Cell \u001b[0;32mIn[39], line 14\u001b[0m, in \u001b[0;36minput_del_usuario\u001b[0;34m(jugador_actual)\u001b[0m\n\u001b[1;32m     12\u001b[0m \u001b[38;5;28;01mif\u001b[39;00m posiciones \u001b[38;5;129;01mnot\u001b[39;00m \u001b[38;5;129;01min\u001b[39;00m opciones_admitidas:\n\u001b[1;32m     13\u001b[0m     \u001b[38;5;28mprint\u001b[39m(\u001b[38;5;124m'\u001b[39m\u001b[38;5;124mPosiciones fuera de rango\u001b[39m\u001b[38;5;124m'\u001b[39m)\n\u001b[0;32m---> 14\u001b[0m     \u001b[38;5;28;01mreturn\u001b[39;00m \u001b[43minput_del_usuario\u001b[49m\u001b[43m(\u001b[49m\u001b[43mjugador_actual\u001b[49m\u001b[43m)\u001b[49m\n\u001b[1;32m     16\u001b[0m \u001b[38;5;28;01mreturn\u001b[39;00m \u001b[38;5;28mint\u001b[39m(pos_x), \u001b[38;5;28mint\u001b[39m(pos_y)\n",
      "Cell \u001b[0;32mIn[39], line 5\u001b[0m, in \u001b[0;36minput_del_usuario\u001b[0;34m(jugador_actual)\u001b[0m\n\u001b[1;32m      2\u001b[0m \u001b[38;5;28;01mdef\u001b[39;00m \u001b[38;5;21minput_del_usuario\u001b[39m(jugador_actual):\n\u001b[1;32m      3\u001b[0m     opciones_admitidas \u001b[38;5;241m=\u001b[39m \u001b[38;5;28mlist\u001b[39m(product(\u001b[38;5;124m'\u001b[39m\u001b[38;5;124m012\u001b[39m\u001b[38;5;124m'\u001b[39m, \u001b[38;5;124m'\u001b[39m\u001b[38;5;124m012\u001b[39m\u001b[38;5;124m'\u001b[39m))\n\u001b[0;32m----> 5\u001b[0m     nueva_posicion \u001b[38;5;241m=\u001b[39m \u001b[38;5;28;43minput\u001b[39;49m\u001b[43m(\u001b[49m\u001b[38;5;124;43mf\u001b[39;49m\u001b[38;5;124;43m'\u001b[39;49m\u001b[38;5;124;43mJugador \u001b[39;49m\u001b[38;5;132;43;01m{\u001b[39;49;00m\u001b[43mjugador_actual\u001b[49m\u001b[38;5;132;43;01m}\u001b[39;49;00m\u001b[38;5;124;43m, elige una fila y columna separadas por comas Ej: 0,2\u001b[39;49m\u001b[38;5;124;43m'\u001b[39;49m\u001b[43m)\u001b[49m\n\u001b[1;32m      6\u001b[0m     \u001b[38;5;28;01mif\u001b[39;00m nueva_posicion\u001b[38;5;241m.\u001b[39mcount(\u001b[38;5;124m'\u001b[39m\u001b[38;5;124m,\u001b[39m\u001b[38;5;124m'\u001b[39m) \u001b[38;5;241m!=\u001b[39m \u001b[38;5;241m1\u001b[39m:\n\u001b[1;32m      7\u001b[0m         \u001b[38;5;28mprint\u001b[39m(\u001b[38;5;124m'\u001b[39m\u001b[38;5;124mError al formatear la nueva posición, debe de contener una sola coma\u001b[39m\u001b[38;5;124m'\u001b[39m)\n",
      "File \u001b[0;32m~/CursoPythonJovenes/venv/lib/python3.10/site-packages/ipykernel/kernelbase.py:1202\u001b[0m, in \u001b[0;36mKernel.raw_input\u001b[0;34m(self, prompt)\u001b[0m\n\u001b[1;32m   1200\u001b[0m     msg \u001b[38;5;241m=\u001b[39m \u001b[38;5;124m\"\u001b[39m\u001b[38;5;124mraw_input was called, but this frontend does not support input requests.\u001b[39m\u001b[38;5;124m\"\u001b[39m\n\u001b[1;32m   1201\u001b[0m     \u001b[38;5;28;01mraise\u001b[39;00m StdinNotImplementedError(msg)\n\u001b[0;32m-> 1202\u001b[0m \u001b[38;5;28;01mreturn\u001b[39;00m \u001b[38;5;28;43mself\u001b[39;49m\u001b[38;5;241;43m.\u001b[39;49m\u001b[43m_input_request\u001b[49m\u001b[43m(\u001b[49m\n\u001b[1;32m   1203\u001b[0m \u001b[43m    \u001b[49m\u001b[38;5;28;43mstr\u001b[39;49m\u001b[43m(\u001b[49m\u001b[43mprompt\u001b[49m\u001b[43m)\u001b[49m\u001b[43m,\u001b[49m\n\u001b[1;32m   1204\u001b[0m \u001b[43m    \u001b[49m\u001b[38;5;28;43mself\u001b[39;49m\u001b[38;5;241;43m.\u001b[39;49m\u001b[43m_parent_ident\u001b[49m\u001b[43m[\u001b[49m\u001b[38;5;124;43m\"\u001b[39;49m\u001b[38;5;124;43mshell\u001b[39;49m\u001b[38;5;124;43m\"\u001b[39;49m\u001b[43m]\u001b[49m\u001b[43m,\u001b[49m\n\u001b[1;32m   1205\u001b[0m \u001b[43m    \u001b[49m\u001b[38;5;28;43mself\u001b[39;49m\u001b[38;5;241;43m.\u001b[39;49m\u001b[43mget_parent\u001b[49m\u001b[43m(\u001b[49m\u001b[38;5;124;43m\"\u001b[39;49m\u001b[38;5;124;43mshell\u001b[39;49m\u001b[38;5;124;43m\"\u001b[39;49m\u001b[43m)\u001b[49m\u001b[43m,\u001b[49m\n\u001b[1;32m   1206\u001b[0m \u001b[43m    \u001b[49m\u001b[43mpassword\u001b[49m\u001b[38;5;241;43m=\u001b[39;49m\u001b[38;5;28;43;01mFalse\u001b[39;49;00m\u001b[43m,\u001b[49m\n\u001b[1;32m   1207\u001b[0m \u001b[43m\u001b[49m\u001b[43m)\u001b[49m\n",
      "File \u001b[0;32m~/CursoPythonJovenes/venv/lib/python3.10/site-packages/ipykernel/kernelbase.py:1245\u001b[0m, in \u001b[0;36mKernel._input_request\u001b[0;34m(self, prompt, ident, parent, password)\u001b[0m\n\u001b[1;32m   1242\u001b[0m \u001b[38;5;28;01mexcept\u001b[39;00m \u001b[38;5;167;01mKeyboardInterrupt\u001b[39;00m:\n\u001b[1;32m   1243\u001b[0m     \u001b[38;5;66;03m# re-raise KeyboardInterrupt, to truncate traceback\u001b[39;00m\n\u001b[1;32m   1244\u001b[0m     msg \u001b[38;5;241m=\u001b[39m \u001b[38;5;124m\"\u001b[39m\u001b[38;5;124mInterrupted by user\u001b[39m\u001b[38;5;124m\"\u001b[39m\n\u001b[0;32m-> 1245\u001b[0m     \u001b[38;5;28;01mraise\u001b[39;00m \u001b[38;5;167;01mKeyboardInterrupt\u001b[39;00m(msg) \u001b[38;5;28;01mfrom\u001b[39;00m \u001b[38;5;28;01mNone\u001b[39;00m\n\u001b[1;32m   1246\u001b[0m \u001b[38;5;28;01mexcept\u001b[39;00m \u001b[38;5;167;01mException\u001b[39;00m:\n\u001b[1;32m   1247\u001b[0m     \u001b[38;5;28mself\u001b[39m\u001b[38;5;241m.\u001b[39mlog\u001b[38;5;241m.\u001b[39mwarning(\u001b[38;5;124m\"\u001b[39m\u001b[38;5;124mInvalid Message:\u001b[39m\u001b[38;5;124m\"\u001b[39m, exc_info\u001b[38;5;241m=\u001b[39m\u001b[38;5;28;01mTrue\u001b[39;00m)\n",
      "\u001b[0;31mKeyboardInterrupt\u001b[0m: Interrupted by user"
     ]
    }
   ],
   "source": [
    "input_del_usuario(marca_1)"
   ]
  },
  {
   "cell_type": "code",
   "execution_count": 42,
   "id": "90bfb362-514a-4e28-aec4-6b0eea3a8850",
   "metadata": {},
   "outputs": [],
   "source": [
    "def input_del_usuario(jugador_actual: str) -> tuple[int,int]:\n",
    "    try:\n",
    "        nueva_posicion = input(f\"Jugador {jugador_actual}, elige una fila y columna ((0,0), (0,1), (2,2)...): \").split(',')\n",
    "        pos_x, pos_y = map(int, nueva_posicion)\n",
    "        \n",
    "        if not (0 <= pos_x <=2) or not (0 <= pos_y <=2):\n",
    "            raise ValueError('Posiciones fuera de rango')\n",
    "        \n",
    "        return pos_x, pos_y\n",
    "    except Exception as e:\n",
    "        if nueva_posicion[0].lower() == 'x':\n",
    "            raise ValueError('Juego parado por el usuario')\n",
    "        \n",
    "        print(f'Error en la elección: {e}')\n",
    "        return input_del_usuario(jugador_actual)"
   ]
  },
  {
   "cell_type": "code",
   "execution_count": 43,
   "id": "033054df-ea06-4fad-a571-72719bec34bc",
   "metadata": {},
   "outputs": [
    {
     "name": "stdin",
     "output_type": "stream",
     "text": [
      "Jugador x, elige una fila y columna ((0,0), (0,1), (2,2)...):  23,42\n"
     ]
    },
    {
     "name": "stdout",
     "output_type": "stream",
     "text": [
      "Error en la elección: Posiciones fuera de rango\n"
     ]
    },
    {
     "name": "stdin",
     "output_type": "stream",
     "text": [
      "Jugador x, elige una fila y columna ((0,0), (0,1), (2,2)...):  x\n"
     ]
    },
    {
     "ename": "ValueError",
     "evalue": "Juego parado por el usuario",
     "output_type": "error",
     "traceback": [
      "\u001b[0;31m---------------------------------------------------------------------------\u001b[0m",
      "\u001b[0;31mValueError\u001b[0m                                Traceback (most recent call last)",
      "Cell \u001b[0;32mIn[42], line 7\u001b[0m, in \u001b[0;36minput_del_usuario\u001b[0;34m(jugador_actual)\u001b[0m\n\u001b[1;32m      6\u001b[0m \u001b[38;5;28;01mif\u001b[39;00m \u001b[38;5;129;01mnot\u001b[39;00m (\u001b[38;5;241m0\u001b[39m \u001b[38;5;241m<\u001b[39m\u001b[38;5;241m=\u001b[39m pos_x \u001b[38;5;241m<\u001b[39m\u001b[38;5;241m=\u001b[39m\u001b[38;5;241m2\u001b[39m) \u001b[38;5;129;01mor\u001b[39;00m \u001b[38;5;129;01mnot\u001b[39;00m (\u001b[38;5;241m0\u001b[39m \u001b[38;5;241m<\u001b[39m\u001b[38;5;241m=\u001b[39m pos_y \u001b[38;5;241m<\u001b[39m\u001b[38;5;241m=\u001b[39m\u001b[38;5;241m2\u001b[39m):\n\u001b[0;32m----> 7\u001b[0m     \u001b[38;5;28;01mraise\u001b[39;00m \u001b[38;5;167;01mValueError\u001b[39;00m(\u001b[38;5;124m'\u001b[39m\u001b[38;5;124mPosiciones fuera de rango\u001b[39m\u001b[38;5;124m'\u001b[39m)\n\u001b[1;32m      9\u001b[0m \u001b[38;5;28;01mreturn\u001b[39;00m pos_x, pos_y\n",
      "\u001b[0;31mValueError\u001b[0m: Posiciones fuera de rango",
      "\nDuring handling of the above exception, another exception occurred:\n",
      "\u001b[0;31mValueError\u001b[0m                                Traceback (most recent call last)",
      "Cell \u001b[0;32mIn[42], line 4\u001b[0m, in \u001b[0;36minput_del_usuario\u001b[0;34m(jugador_actual)\u001b[0m\n\u001b[1;32m      3\u001b[0m nueva_posicion \u001b[38;5;241m=\u001b[39m \u001b[38;5;28minput\u001b[39m(\u001b[38;5;124mf\u001b[39m\u001b[38;5;124m\"\u001b[39m\u001b[38;5;124mJugador \u001b[39m\u001b[38;5;132;01m{\u001b[39;00mjugador_actual\u001b[38;5;132;01m}\u001b[39;00m\u001b[38;5;124m, elige una fila y columna ((0,0), (0,1), (2,2)...): \u001b[39m\u001b[38;5;124m\"\u001b[39m)\u001b[38;5;241m.\u001b[39msplit(\u001b[38;5;124m'\u001b[39m\u001b[38;5;124m,\u001b[39m\u001b[38;5;124m'\u001b[39m)\n\u001b[0;32m----> 4\u001b[0m pos_x, pos_y \u001b[38;5;241m=\u001b[39m \u001b[38;5;28mmap\u001b[39m(\u001b[38;5;28mint\u001b[39m, nueva_posicion)\n\u001b[1;32m      6\u001b[0m \u001b[38;5;28;01mif\u001b[39;00m \u001b[38;5;129;01mnot\u001b[39;00m (\u001b[38;5;241m0\u001b[39m \u001b[38;5;241m<\u001b[39m\u001b[38;5;241m=\u001b[39m pos_x \u001b[38;5;241m<\u001b[39m\u001b[38;5;241m=\u001b[39m\u001b[38;5;241m2\u001b[39m) \u001b[38;5;129;01mor\u001b[39;00m \u001b[38;5;129;01mnot\u001b[39;00m (\u001b[38;5;241m0\u001b[39m \u001b[38;5;241m<\u001b[39m\u001b[38;5;241m=\u001b[39m pos_y \u001b[38;5;241m<\u001b[39m\u001b[38;5;241m=\u001b[39m\u001b[38;5;241m2\u001b[39m):\n",
      "\u001b[0;31mValueError\u001b[0m: invalid literal for int() with base 10: 'x'",
      "\nDuring handling of the above exception, another exception occurred:\n",
      "\u001b[0;31mValueError\u001b[0m                                Traceback (most recent call last)",
      "Cell \u001b[0;32mIn[43], line 1\u001b[0m\n\u001b[0;32m----> 1\u001b[0m \u001b[43minput_del_usuario\u001b[49m\u001b[43m(\u001b[49m\u001b[38;5;124;43m'\u001b[39;49m\u001b[38;5;124;43mx\u001b[39;49m\u001b[38;5;124;43m'\u001b[39;49m\u001b[43m)\u001b[49m\n",
      "Cell \u001b[0;32mIn[42], line 15\u001b[0m, in \u001b[0;36minput_del_usuario\u001b[0;34m(jugador_actual)\u001b[0m\n\u001b[1;32m     12\u001b[0m     \u001b[38;5;28;01mraise\u001b[39;00m \u001b[38;5;167;01mValueError\u001b[39;00m(\u001b[38;5;124m'\u001b[39m\u001b[38;5;124mJuego parado por el usuario\u001b[39m\u001b[38;5;124m'\u001b[39m)\n\u001b[1;32m     14\u001b[0m \u001b[38;5;28mprint\u001b[39m(\u001b[38;5;124mf\u001b[39m\u001b[38;5;124m'\u001b[39m\u001b[38;5;124mError en la elección: \u001b[39m\u001b[38;5;132;01m{\u001b[39;00me\u001b[38;5;132;01m}\u001b[39;00m\u001b[38;5;124m'\u001b[39m)\n\u001b[0;32m---> 15\u001b[0m \u001b[38;5;28;01mreturn\u001b[39;00m \u001b[43minput_del_usuario\u001b[49m\u001b[43m(\u001b[49m\u001b[43mjugador_actual\u001b[49m\u001b[43m)\u001b[49m\n",
      "Cell \u001b[0;32mIn[42], line 12\u001b[0m, in \u001b[0;36minput_del_usuario\u001b[0;34m(jugador_actual)\u001b[0m\n\u001b[1;32m     10\u001b[0m \u001b[38;5;28;01mexcept\u001b[39;00m \u001b[38;5;167;01mException\u001b[39;00m \u001b[38;5;28;01mas\u001b[39;00m e:\n\u001b[1;32m     11\u001b[0m     \u001b[38;5;28;01mif\u001b[39;00m nueva_posicion[\u001b[38;5;241m0\u001b[39m]\u001b[38;5;241m.\u001b[39mlower() \u001b[38;5;241m==\u001b[39m \u001b[38;5;124m'\u001b[39m\u001b[38;5;124mx\u001b[39m\u001b[38;5;124m'\u001b[39m:\n\u001b[0;32m---> 12\u001b[0m         \u001b[38;5;28;01mraise\u001b[39;00m \u001b[38;5;167;01mValueError\u001b[39;00m(\u001b[38;5;124m'\u001b[39m\u001b[38;5;124mJuego parado por el usuario\u001b[39m\u001b[38;5;124m'\u001b[39m)\n\u001b[1;32m     14\u001b[0m     \u001b[38;5;28mprint\u001b[39m(\u001b[38;5;124mf\u001b[39m\u001b[38;5;124m'\u001b[39m\u001b[38;5;124mError en la elección: \u001b[39m\u001b[38;5;132;01m{\u001b[39;00me\u001b[38;5;132;01m}\u001b[39;00m\u001b[38;5;124m'\u001b[39m)\n\u001b[1;32m     15\u001b[0m     \u001b[38;5;28;01mreturn\u001b[39;00m input_del_usuario(jugador_actual)\n",
      "\u001b[0;31mValueError\u001b[0m: Juego parado por el usuario"
     ]
    }
   ],
   "source": [
    "input_del_usuario('x')"
   ]
  },
  {
   "cell_type": "code",
   "execution_count": null,
   "id": "e8bc12c5-678f-49e8-bd47-1a4f1c1fd4b5",
   "metadata": {},
   "outputs": [],
   "source": []
  },
  {
   "cell_type": "code",
   "execution_count": 31,
   "id": "db0337b2-1d3d-4ff1-b478-ed5ddb20df3e",
   "metadata": {},
   "outputs": [],
   "source": [
    "from itertools import product"
   ]
  },
  {
   "cell_type": "code",
   "execution_count": 33,
   "id": "63ad8f99-b080-4d41-a77c-4b92e4e55420",
   "metadata": {},
   "outputs": [
    {
     "data": {
      "text/plain": [
       "[('0', '0'),\n",
       " ('0', '1'),\n",
       " ('0', '2'),\n",
       " ('1', '0'),\n",
       " ('1', '1'),\n",
       " ('1', '2'),\n",
       " ('2', '0'),\n",
       " ('2', '1'),\n",
       " ('2', '2')]"
      ]
     },
     "execution_count": 33,
     "metadata": {},
     "output_type": "execute_result"
    }
   ],
   "source": [
    "list(product('012', '012'))"
   ]
  },
  {
   "cell_type": "code",
   "execution_count": null,
   "id": "b4452efd-a31e-4cc1-84b4-66b573e16a7b",
   "metadata": {},
   "outputs": [],
   "source": [
    "def verificar_ganador(tablero, jugador):\n",
    "    # gana si - fila completa == jugador\n",
    "    # gana si - columna completa == jugador\n",
    "    # gana si - diagonal completa == jugador\n",
    "    \n",
    "    return False"
   ]
  },
  {
   "cell_type": "code",
   "execution_count": 44,
   "id": "7160cc10-6ba8-4fc7-bb66-0ac3ffdd96d0",
   "metadata": {},
   "outputs": [
    {
     "data": {
      "text/plain": [
       "[['o', 'x', 'x'], [' ', 'o', 'x'], ['x', ' ', 'o']]"
      ]
     },
     "execution_count": 44,
     "metadata": {},
     "output_type": "execute_result"
    }
   ],
   "source": [
    "tablero_completo"
   ]
  },
  {
   "cell_type": "code",
   "execution_count": 45,
   "id": "b3c6206e-2e09-4841-85ab-b7a5fa443426",
   "metadata": {},
   "outputs": [
    {
     "name": "stdout",
     "output_type": "stream",
     "text": [
      "o | x | x\n",
      "----------\n",
      "  | o | x\n",
      "----------\n",
      "x |   | o\n",
      "----------\n"
     ]
    }
   ],
   "source": [
    "imprimir_tablero(tablero_completo)"
   ]
  },
  {
   "cell_type": "code",
   "execution_count": 46,
   "id": "88148596-ef4a-43f0-a232-a9f349be9ca3",
   "metadata": {},
   "outputs": [],
   "source": [
    "tablero_ganado_columna = [['o', 'x', 'o'], [' ', 'x', 'o'], ['x', ' ', 'o']]"
   ]
  },
  {
   "cell_type": "code",
   "execution_count": 47,
   "id": "efeae625-3ca1-4608-ba3b-165e855ed521",
   "metadata": {},
   "outputs": [
    {
     "name": "stdout",
     "output_type": "stream",
     "text": [
      "o | x | o\n",
      "----------\n",
      "  | x | o\n",
      "----------\n",
      "x |   | o\n",
      "----------\n"
     ]
    }
   ],
   "source": [
    "imprimir_tablero(tablero_ganado_columna)"
   ]
  },
  {
   "cell_type": "code",
   "execution_count": 48,
   "id": "6f9f9ce1-141a-4422-9c10-8f7b6d523809",
   "metadata": {},
   "outputs": [
    {
     "name": "stdout",
     "output_type": "stream",
     "text": [
      "o\n",
      "x\n",
      "o\n",
      " \n",
      "x\n",
      "o\n",
      "x\n",
      " \n",
      "o\n"
     ]
    }
   ],
   "source": [
    "for fila in range(3):\n",
    "    for columna in range(3):\n",
    "        print(tablero_ganado_columna[fila][columna])"
   ]
  },
  {
   "cell_type": "code",
   "execution_count": 49,
   "id": "65fa87f1-cce9-4124-9ddc-96b1b7453cf5",
   "metadata": {},
   "outputs": [
    {
     "data": {
      "text/plain": [
       "[[('0', '0'), ('0', '1'), ('0', '2')],\n",
       " [('1', '0'), ('1', '1'), ('1', '2')],\n",
       " [('2', '0'), ('2', '1'), ('2', '2')]]"
      ]
     },
     "execution_count": 49,
     "metadata": {},
     "output_type": "execute_result"
    }
   ],
   "source": [
    "[[('0', '0'),\n",
    " ('0', '1'),\n",
    " ('0', '2')],\n",
    " [('1', '0'),\n",
    " ('1', '1'),\n",
    " ('1', '2')],\n",
    " [('2', '0'),\n",
    " ('2', '1'),\n",
    " ('2', '2')]]"
   ]
  },
  {
   "cell_type": "code",
   "execution_count": 87,
   "id": "36fe8c78-0ac7-41bc-bf8b-b9c9eed845d2",
   "metadata": {},
   "outputs": [],
   "source": [
    "ganador_por_filas = [\n",
    "    [('0', '0'), ('0', '1'), ('0', '2')], \n",
    "    [('1', '0'), ('1', '1'), ('1', '2')], \n",
    "    [('2', '0'), ('2', '1'), ('2', '2')]\n",
    "]"
   ]
  },
  {
   "cell_type": "code",
   "execution_count": 54,
   "id": "114cfa6d-1e2d-4ea6-9a8a-ccec58c2ae29",
   "metadata": {},
   "outputs": [],
   "source": [
    "ganador_por_columna = [\n",
    "    [('0', '0'), ('1', '0'), ('2', '0')], \n",
    "    [('0', '1'), ('1', '1'), ('2', '1')], \n",
    "    [('0', '2'), ('1', '2'), ('2', '2')]\n",
    "]"
   ]
  },
  {
   "cell_type": "code",
   "execution_count": 55,
   "id": "ef8906e2-50dd-4653-87b8-49a8bb221d6c",
   "metadata": {},
   "outputs": [],
   "source": [
    "ganador_por_diagonal = [\n",
    "    [('0', '0'), ('1', '1'), ('2', '2')], \n",
    "    [('0', '2'), ('1', '1'), ('2', '0')]\n",
    "]"
   ]
  },
  {
   "cell_type": "code",
   "execution_count": 62,
   "id": "b8a5d355-1e22-4d7d-821b-8c6818b9560b",
   "metadata": {},
   "outputs": [],
   "source": [
    "def posiciones_actuales(tablero, jugador):\n",
    "    posiciones = []\n",
    "    for fila in range(3):\n",
    "        for columna in range(3):\n",
    "            marca = tablero[fila][columna]\n",
    "            if marca == jugador:\n",
    "                posicion = tuple(map(str, [fila, columna]))\n",
    "                posiciones.append(posicion)\n",
    "    return posiciones\n",
    "    "
   ]
  },
  {
   "cell_type": "code",
   "execution_count": 63,
   "id": "32ba37ac-3ac3-4bc5-9b83-814e33b3f8ef",
   "metadata": {},
   "outputs": [
    {
     "data": {
      "text/plain": [
       "[('0', '1'), ('1', '1'), ('2', '0')]"
      ]
     },
     "execution_count": 63,
     "metadata": {},
     "output_type": "execute_result"
    }
   ],
   "source": [
    "posiciones_actuales(tablero_ganado_columna, 'x')"
   ]
  },
  {
   "cell_type": "code",
   "execution_count": 65,
   "id": "51fcf58f-38f5-42c3-abda-b53bdac97a09",
   "metadata": {},
   "outputs": [
    {
     "name": "stdout",
     "output_type": "stream",
     "text": [
      "o | x | o\n",
      "----------\n",
      "  | x | o\n",
      "----------\n",
      "x |   | o\n",
      "----------\n"
     ]
    }
   ],
   "source": [
    "imprimir_tablero(tablero_ganado_columna)"
   ]
  },
  {
   "cell_type": "code",
   "execution_count": 66,
   "id": "638bebd4-bf85-418d-a45e-42d25e2da62f",
   "metadata": {},
   "outputs": [
    {
     "data": {
      "text/plain": [
       "[('0', '0'), ('0', '2'), ('1', '2'), ('2', '2')]"
      ]
     },
     "execution_count": 66,
     "metadata": {},
     "output_type": "execute_result"
    }
   ],
   "source": [
    "posiciones_actuales(tablero_ganado_columna, 'o')"
   ]
  },
  {
   "cell_type": "code",
   "execution_count": 67,
   "id": "3bc4950e-457a-4079-a938-78fbfae292b5",
   "metadata": {},
   "outputs": [
    {
     "data": {
      "text/plain": [
       "{('0', '0'), ('0', '2'), ('1', '2'), ('2', '2')}"
      ]
     },
     "execution_count": 67,
     "metadata": {},
     "output_type": "execute_result"
    }
   ],
   "source": [
    "set(posiciones_actuales(tablero_ganado_columna, 'o'))"
   ]
  },
  {
   "cell_type": "code",
   "execution_count": 71,
   "id": "1053009b-2dce-49e6-b5e3-14880e46eb9b",
   "metadata": {},
   "outputs": [],
   "source": [
    "set_posiciones = set(posiciones_actuales(tablero_ganado_columna, 'o'))"
   ]
  },
  {
   "cell_type": "code",
   "execution_count": 68,
   "id": "afaf2dc4-b289-44d3-af48-8ad77d5cbe79",
   "metadata": {},
   "outputs": [],
   "source": [
    "ganador_por_filas = [\n",
    "    [('0', '0'), ('0', '1'), ('0', '2')], \n",
    "    [('1', '0'), ('1', '1'), ('1', '2')], \n",
    "    [('2', '0'), ('2', '1'), ('2', '2')]\n",
    "]"
   ]
  },
  {
   "cell_type": "code",
   "execution_count": 70,
   "id": "2f90975e-b041-4bd4-8b7a-bbb807f423a6",
   "metadata": {},
   "outputs": [
    {
     "data": {
      "text/plain": [
       "{('0', '0'), ('0', '1'), ('0', '2')}"
      ]
     },
     "execution_count": 70,
     "metadata": {},
     "output_type": "execute_result"
    }
   ],
   "source": [
    "set(ganador_por_filas[0])"
   ]
  },
  {
   "cell_type": "code",
   "execution_count": 72,
   "id": "069ef89c-7031-4c61-9af0-d91ca069ca20",
   "metadata": {},
   "outputs": [],
   "source": [
    "set_ganador = set(ganador_por_filas[0])"
   ]
  },
  {
   "cell_type": "code",
   "execution_count": 73,
   "id": "c3521464-6b1c-4072-a43f-ffcb7e93884e",
   "metadata": {},
   "outputs": [
    {
     "data": {
      "text/plain": [
       "({('0', '0'), ('0', '1'), ('0', '2')},\n",
       " {('0', '0'), ('0', '2'), ('1', '2'), ('2', '2')})"
      ]
     },
     "execution_count": 73,
     "metadata": {},
     "output_type": "execute_result"
    }
   ],
   "source": [
    "set_ganador, set_posiciones"
   ]
  },
  {
   "cell_type": "code",
   "execution_count": 74,
   "id": "0d242b7e-ce99-4c8d-8d80-088678cc111b",
   "metadata": {},
   "outputs": [
    {
     "data": {
      "text/plain": [
       "{('0', '0'), ('0', '2')}"
      ]
     },
     "execution_count": 74,
     "metadata": {},
     "output_type": "execute_result"
    }
   ],
   "source": [
    "set_ganador.intersection(set_posiciones)"
   ]
  },
  {
   "cell_type": "code",
   "execution_count": 75,
   "id": "96fbfe98-2ec8-45b3-ad62-a764f0ec6501",
   "metadata": {},
   "outputs": [
    {
     "data": {
      "text/plain": [
       "False"
      ]
     },
     "execution_count": 75,
     "metadata": {},
     "output_type": "execute_result"
    }
   ],
   "source": [
    "len(set_ganador.intersection(set_posiciones)) == 3"
   ]
  },
  {
   "cell_type": "code",
   "execution_count": 77,
   "id": "cdcfb939-37c5-4178-a8ee-3838e3aa44dd",
   "metadata": {},
   "outputs": [],
   "source": [
    "ganador_por_filas = [\n",
    "    set([('0', '0'), ('0', '1'), ('0', '2')]), \n",
    "    set([('1', '0'), ('1', '1'), ('1', '2')]), \n",
    "    set([('2', '0'), ('2', '1'), ('2', '2')])\n",
    "]"
   ]
  },
  {
   "cell_type": "code",
   "execution_count": 78,
   "id": "437c3b43-38c1-4efb-933f-3d45c2898bef",
   "metadata": {},
   "outputs": [
    {
     "data": {
      "text/plain": [
       "[{('0', '0'), ('0', '1'), ('0', '2')},\n",
       " {('1', '0'), ('1', '1'), ('1', '2')},\n",
       " {('2', '0'), ('2', '1'), ('2', '2')}]"
      ]
     },
     "execution_count": 78,
     "metadata": {},
     "output_type": "execute_result"
    }
   ],
   "source": [
    "ganador_por_filas"
   ]
  },
  {
   "cell_type": "code",
   "execution_count": 79,
   "id": "a4d8e387-22ec-4b45-b13e-170a09b7553d",
   "metadata": {},
   "outputs": [],
   "source": [
    "set_a = {('0', '0'), ('0', '1'), ('0', '2')}"
   ]
  },
  {
   "cell_type": "code",
   "execution_count": 80,
   "id": "7f5b2385-7ffd-46e9-8573-32068bcee55d",
   "metadata": {},
   "outputs": [],
   "source": [
    "set_b = {('0', '2'), ('0', '0'), ('0', '1')}"
   ]
  },
  {
   "cell_type": "code",
   "execution_count": 81,
   "id": "fd0ce8a1-5cce-423e-9631-ff6e969dac9e",
   "metadata": {},
   "outputs": [
    {
     "data": {
      "text/plain": [
       "True"
      ]
     },
     "execution_count": 81,
     "metadata": {},
     "output_type": "execute_result"
    }
   ],
   "source": [
    "set_a == set_b"
   ]
  },
  {
   "cell_type": "code",
   "execution_count": 82,
   "id": "54d99707-d9c9-499d-82eb-00f7499edb45",
   "metadata": {},
   "outputs": [],
   "source": [
    "list_of_sets = [set_b]"
   ]
  },
  {
   "cell_type": "code",
   "execution_count": 83,
   "id": "63cc5c84-258e-4b0d-b82a-625b6b8005aa",
   "metadata": {},
   "outputs": [
    {
     "data": {
      "text/plain": [
       "True"
      ]
     },
     "execution_count": 83,
     "metadata": {},
     "output_type": "execute_result"
    }
   ],
   "source": [
    "set_a in list_of_sets"
   ]
  },
  {
   "cell_type": "code",
   "execution_count": 88,
   "id": "4cf89da7-bbbc-4027-9250-3ee4ee73272e",
   "metadata": {},
   "outputs": [],
   "source": [
    "todas_ganadoras = ganador_por_filas + ganador_por_columna + ganador_por_diagonal"
   ]
  },
  {
   "cell_type": "code",
   "execution_count": 89,
   "id": "9f206d03-01ee-4815-b857-96b71bf6de2c",
   "metadata": {},
   "outputs": [
    {
     "data": {
      "text/plain": [
       "[[('0', '0'), ('0', '1'), ('0', '2')],\n",
       " [('1', '0'), ('1', '1'), ('1', '2')],\n",
       " [('2', '0'), ('2', '1'), ('2', '2')],\n",
       " [('0', '0'), ('1', '0'), ('2', '0')],\n",
       " [('0', '1'), ('1', '1'), ('2', '1')],\n",
       " [('0', '2'), ('1', '2'), ('2', '2')],\n",
       " [('0', '0'), ('1', '1'), ('2', '2')],\n",
       " [('0', '2'), ('1', '1'), ('2', '0')]]"
      ]
     },
     "execution_count": 89,
     "metadata": {},
     "output_type": "execute_result"
    }
   ],
   "source": [
    "todas_ganadoras"
   ]
  },
  {
   "cell_type": "code",
   "execution_count": 91,
   "id": "e6c77fcb-ff4e-4965-b7e8-ee8d0f9767e2",
   "metadata": {},
   "outputs": [
    {
     "data": {
      "text/plain": [
       "[{('0', '0'), ('0', '1'), ('0', '2')},\n",
       " {('1', '0'), ('1', '1'), ('1', '2')},\n",
       " {('2', '0'), ('2', '1'), ('2', '2')},\n",
       " {('0', '0'), ('1', '0'), ('2', '0')},\n",
       " {('0', '1'), ('1', '1'), ('2', '1')},\n",
       " {('0', '2'), ('1', '2'), ('2', '2')},\n",
       " {('0', '0'), ('1', '1'), ('2', '2')},\n",
       " {('0', '2'), ('1', '1'), ('2', '0')}]"
      ]
     },
     "execution_count": 91,
     "metadata": {},
     "output_type": "execute_result"
    }
   ],
   "source": [
    "todas_set = []\n",
    "for ganadora in todas_ganadoras:\n",
    "    \n",
    "    todas_set.append(set(ganadora))\n",
    "\n",
    "todas_set"
   ]
  },
  {
   "cell_type": "code",
   "execution_count": 93,
   "id": "79015af1-8008-4ab0-965e-2b2c4b4a8b35",
   "metadata": {},
   "outputs": [],
   "source": [
    "def posiciones_actuales(tablero, jugador):\n",
    "    posiciones = []\n",
    "    for fila in range(3):\n",
    "        for columna in range(3):\n",
    "            marca = tablero[fila][columna]\n",
    "            if marca == jugador:\n",
    "                posicion = tuple(map(str, [fila, columna]))\n",
    "                posiciones.append(posicion)\n",
    "    return posiciones\n",
    "\n",
    "\n",
    "\n",
    "def verificar_ganador(tablero, jugador):\n",
    "    ganadoras = [{('0', '0'), ('0', '1'), ('0', '2')},\n",
    "                 {('1', '0'), ('1', '1'), ('1', '2')},\n",
    "                 {('2', '0'), ('2', '1'), ('2', '2')},\n",
    "                 {('0', '0'), ('1', '0'), ('2', '0')},\n",
    "                 {('0', '1'), ('1', '1'), ('2', '1')},\n",
    "                 {('0', '2'), ('1', '2'), ('2', '2')},\n",
    "                 {('0', '0'), ('1', '1'), ('2', '2')},\n",
    "                 {('0', '2'), ('1', '1'), ('2', '0')}]\n",
    "\n",
    "    posiciones_jugador = posiciones_actuales(tablero, jugador)\n",
    "    for ganadora in ganadoras:\n",
    "        interseccion = ganadora.intersection(posiciones_jugador)\n",
    "        if len(interseccion) == 3:\n",
    "            return True\n",
    "    \n",
    "    return False"
   ]
  },
  {
   "cell_type": "code",
   "execution_count": 94,
   "id": "40d7c174-a2d9-4c06-a2ed-a640206adc4d",
   "metadata": {},
   "outputs": [
    {
     "data": {
      "text/plain": [
       "True"
      ]
     },
     "execution_count": 94,
     "metadata": {},
     "output_type": "execute_result"
    }
   ],
   "source": [
    "verificar_ganador(tablero_ganado_columna, 'o')"
   ]
  },
  {
   "cell_type": "code",
   "execution_count": 95,
   "id": "d7e242d9-1475-48c8-b60f-478fab928f93",
   "metadata": {},
   "outputs": [
    {
     "data": {
      "text/plain": [
       "False"
      ]
     },
     "execution_count": 95,
     "metadata": {},
     "output_type": "execute_result"
    }
   ],
   "source": [
    "verificar_ganador(tablero_ganado_columna, 'x')"
   ]
  },
  {
   "cell_type": "code",
   "execution_count": null,
   "id": "25d5c289-651b-469a-83c7-f21802182386",
   "metadata": {},
   "outputs": [],
   "source": [
    "def verificar_victoria(tablero, jugador):\n",
    "  # comprobando por filas\n",
    "  for fila in tablero:\n",
    "    if all(cell == jugador for cell in fila):\n",
    "      return True\n",
    "\n",
    "  # comprobando por filas\n",
    "  for col in range(3):\n",
    "    if all(tablero[row][col] == jugador for row in range(3)):\n",
    "      return True\n",
    "\n",
    "  if all(tablero[i][i] == jugador for i in range(3)) or all(tablero[i][2 - i] == jugador for i in range(3)):\n",
    "    return True\n",
    "\n",
    "  return False"
   ]
  },
  {
   "cell_type": "code",
   "execution_count": 96,
   "id": "4996a46b-247e-4bc3-becf-1ecf2e914fbf",
   "metadata": {},
   "outputs": [
    {
     "data": {
      "text/plain": [
       "[[('0', '0'), ('0', '1'), ('0', '2')],\n",
       " [('1', '0'), ('1', '1'), ('1', '2')],\n",
       " [('2', '0'), ('2', '1'), ('2', '2')]]"
      ]
     },
     "execution_count": 96,
     "metadata": {},
     "output_type": "execute_result"
    }
   ],
   "source": [
    "[[('0', '0'),\n",
    " ('0', '1'),\n",
    " ('0', '2')],\n",
    " [('1', '0'),\n",
    " ('1', '1'),\n",
    " ('1', '2')],\n",
    " [('2', '0'),\n",
    " ('2', '1'),\n",
    " ('2', '2')]]"
   ]
  },
  {
   "cell_type": "code",
   "execution_count": 97,
   "id": "ad5160d5-802b-4742-8069-b38c5c79c3f8",
   "metadata": {},
   "outputs": [],
   "source": [
    "def imprimir_tablero(tablero):\n",
    "  for fila in tablero:\n",
    "    print(\" | \".join(fila))\n",
    "    print(\"-\" * 9)\n",
    "\n",
    "def verificar_victoria(tablero, jugador):\n",
    "  for fila in tablero:\n",
    "    if all(cell == jugador for cell in fila):\n",
    "      return True\n",
    "\n",
    "  for col in range(3):\n",
    "    if all(tablero[row][col] == jugador for row in range(3)):\n",
    "      return True\n",
    "\n",
    "  if all(tablero[i][i] == jugador for i in range(3)) or all(tablero[i][2 - i] == jugador for i in range(3)):\n",
    "    return True\n",
    "  return False\n",
    "\n",
    "def jugar_tic_tac_toe():\n",
    "  tablero = [[\" \" for _ in range(3)] for _ in range(3)]\n",
    "  jugador_actual = \"X\"\n",
    "  jugadas = 0\n",
    "\n",
    "  while True:\n",
    "    print(\"Turno del jugador\", jugador_actual)\n",
    "    fila = int(input(\"Ingresa el número de fila (0, 1, 2): \"))\n",
    "    columna = int(input(\"Ingresa el número de columna (0, 1, 2): \"))\n",
    "\n",
    "    if fila < 0 or fila > 2 or columna < 0 or columna > 2 or tablero[fila][columna] != \" \":\n",
    "      print(\"Movimiento inválido. Inténtalo de nuevo.\")\n",
    "      continue\n",
    "\n",
    "    tablero[fila][columna] = jugador_actual\n",
    "    imprimir_tablero(tablero)\n",
    "    jugadas += 1\n",
    "    if verificar_victoria(tablero, jugador_actual):\n",
    "      print(\"¡El jugador\", jugador_actual, \"ha ganado!\")\n",
    "      break\n",
    "\n",
    "    elif jugadas == 9:\n",
    "      print(\"¡Empate!\")\n",
    "      break\n",
    "\n",
    "    jugador_actual = \"O\" if jugador_actual == \"X\" else \"X\""
   ]
  },
  {
   "cell_type": "code",
   "execution_count": 98,
   "id": "df3e29dd-41e5-4d8f-8648-d48e84ade4db",
   "metadata": {},
   "outputs": [
    {
     "name": "stdout",
     "output_type": "stream",
     "text": [
      "Turno del jugador X\n"
     ]
    },
    {
     "name": "stdin",
     "output_type": "stream",
     "text": [
      "Ingresa el número de fila (0, 1, 2):  0\n",
      "Ingresa el número de columna (0, 1, 2):  1\n"
     ]
    },
    {
     "name": "stdout",
     "output_type": "stream",
     "text": [
      "  | X |  \n",
      "---------\n",
      "  |   |  \n",
      "---------\n",
      "  |   |  \n",
      "---------\n",
      "Turno del jugador O\n"
     ]
    },
    {
     "name": "stdin",
     "output_type": "stream",
     "text": [
      "Ingresa el número de fila (0, 1, 2):  1\n",
      "Ingresa el número de columna (0, 1, 2):  1\n"
     ]
    },
    {
     "name": "stdout",
     "output_type": "stream",
     "text": [
      "  | X |  \n",
      "---------\n",
      "  | O |  \n",
      "---------\n",
      "  |   |  \n",
      "---------\n",
      "Turno del jugador X\n"
     ]
    },
    {
     "name": "stdin",
     "output_type": "stream",
     "text": [
      "Ingresa el número de fila (0, 1, 2):  0\n",
      "Ingresa el número de columna (0, 1, 2):  0\n"
     ]
    },
    {
     "name": "stdout",
     "output_type": "stream",
     "text": [
      "X | X |  \n",
      "---------\n",
      "  | O |  \n",
      "---------\n",
      "  |   |  \n",
      "---------\n",
      "Turno del jugador O\n"
     ]
    },
    {
     "name": "stdin",
     "output_type": "stream",
     "text": [
      "Ingresa el número de fila (0, 1, 2):  2\n",
      "Ingresa el número de columna (0, 1, 2):  0\n"
     ]
    },
    {
     "name": "stdout",
     "output_type": "stream",
     "text": [
      "X | X |  \n",
      "---------\n",
      "  | O |  \n",
      "---------\n",
      "O |   |  \n",
      "---------\n",
      "Turno del jugador X\n"
     ]
    },
    {
     "name": "stdin",
     "output_type": "stream",
     "text": [
      "Ingresa el número de fila (0, 1, 2):  1\n",
      "Ingresa el número de columna (0, 1, 2):  2\n"
     ]
    },
    {
     "name": "stdout",
     "output_type": "stream",
     "text": [
      "X | X |  \n",
      "---------\n",
      "  | O | X\n",
      "---------\n",
      "O |   |  \n",
      "---------\n",
      "Turno del jugador O\n"
     ]
    },
    {
     "name": "stdin",
     "output_type": "stream",
     "text": [
      "Ingresa el número de fila (0, 1, 2):  0\n",
      "Ingresa el número de columna (0, 1, 2):  2\n"
     ]
    },
    {
     "name": "stdout",
     "output_type": "stream",
     "text": [
      "X | X | O\n",
      "---------\n",
      "  | O | X\n",
      "---------\n",
      "O |   |  \n",
      "---------\n",
      "¡El jugador O ha ganado!\n"
     ]
    }
   ],
   "source": [
    "jugar_tic_tac_toe()"
   ]
  },
  {
   "cell_type": "code",
   "execution_count": null,
   "id": "6860bcc6-ec95-4885-bdff-f553e0138e90",
   "metadata": {},
   "outputs": [],
   "source": []
  },
  {
   "cell_type": "code",
   "execution_count": null,
   "id": "8572310d-62a3-44d2-8b6f-4b131a571b7a",
   "metadata": {},
   "outputs": [],
   "source": []
  },
  {
   "cell_type": "code",
   "execution_count": 99,
   "id": "c44f2824-5d00-448e-8e5d-cbf29d3575a4",
   "metadata": {},
   "outputs": [],
   "source": [
    "# Solución iterativa\n",
    "from IPython.display import display, clear_output\n",
    "\n",
    "vacio = \"⬜\"\n",
    "\n",
    "def input_del_usuario(jugador_actual: str) -> tuple[int,int]:\n",
    "    try:\n",
    "        nueva_posicion = input(f\"Jugador {jugador_actual}, elige una fila y columna ((0,0), (0,1), (2,2)...): \").split(',')\n",
    "        return tuple(map(int, nueva_posicion))\n",
    "    except Exception as e:\n",
    "        if nueva_posicion[0].lower() == 'x':\n",
    "            raise ValueError('Juego parado por el usuario')\n",
    "        print(f'Error en la elección: {e}')\n",
    "        return input_del_usuario(jugador_actual)\n",
    "\n",
    "def imprimir_tablero(tablero, borrando=True):\n",
    "    if borrando:\n",
    "        clear_output(wait=False)\n",
    "\n",
    "    for idx, fila in enumerate(tablero):\n",
    "        print(f'{idx} ' + \"|\".join(fila))\n",
    "        print(\"  \" + \"-\" * 9)\n",
    "    print(\"   \" + '  '.join(map(str, range(3))))\n",
    "\n",
    "def verificar_ganador(tablero, jugador):\n",
    "    # comprobar si ha ganado en horizontal\n",
    "    for fila in tablero:\n",
    "        if all(casilla == jugador for casilla in fila):\n",
    "            return True\n",
    "\n",
    "    # comprobar si ha por filas\n",
    "    for columna in range(3):\n",
    "        if all(tablero[fila][columna] == jugador for fila in range(3)):\n",
    "            return True\n",
    "\n",
    "    # comprobar si ha ganado en oblicuo\n",
    "    if all(tablero[i][i] == jugador for i in range(3)) or all(tablero[i][2 - i] == jugador for i in range(3)):\n",
    "        return True\n",
    "\n",
    "    return False\n",
    "\n",
    "def juego_tic_tac_toe():\n",
    "    tablero = [[vacio for _ in range(3)] for _ in range(3)]\n",
    "    jugador_actual = \"❌\"\n",
    "    jugadas = 0\n",
    "\n",
    "    while jugadas < 9:\n",
    "        imprimir_tablero(tablero)\n",
    "        fila, columna = input_del_usuario(jugador_actual)\n",
    "\n",
    "        if fila is None and columna is None:\n",
    "            print('Juego parado por usuario')\n",
    "            break\n",
    "    \n",
    "        if fila < 0 or fila > 2 or columna < 0 or columna > 2 or tablero[fila][columna] != vacio:\n",
    "            print(\"Movimiento inválido. Inténtalo de nuevo.\")\n",
    "            continue\n",
    "\n",
    "        tablero[fila][columna] = jugador_actual\n",
    "        jugadas += 1\n",
    "\n",
    "        if verificar_ganador(tablero, jugador_actual):\n",
    "            imprimir_tablero(tablero)\n",
    "            print(f\"¡El jugador {jugador_actual} ha ganado!\")\n",
    "            break\n",
    "\n",
    "        jugador_actual = \"⭕️\" if jugador_actual == \"❌\" else \"❌\"\n",
    "\n",
    "    if jugadas == 9:\n",
    "        imprimir_tablero(tablero)\n",
    "        print(\"¡Es un empate!\")"
   ]
  },
  {
   "cell_type": "code",
   "execution_count": null,
   "id": "24a1e932-99fd-4b35-b770-b6295391a377",
   "metadata": {},
   "outputs": [
    {
     "name": "stdout",
     "output_type": "stream",
     "text": [
      "0 ⬜|⭕️|⬜\n",
      "  ---------\n",
      "1 ⬜|❌|⬜\n",
      "  ---------\n",
      "2 ⬜|⬜|⬜\n",
      "  ---------\n",
      "   0  1  2\n"
     ]
    }
   ],
   "source": [
    "juego_tic_tac_toe()\n"
   ]
  },
  {
   "cell_type": "code",
   "execution_count": null,
   "id": "7ebbe6a8-7a1c-4c6f-8466-a727e537086b",
   "metadata": {},
   "outputs": [],
   "source": []
  }
 ],
 "metadata": {
  "kernelspec": {
   "display_name": "Python 3 (ipykernel)",
   "language": "python",
   "name": "python3"
  },
  "language_info": {
   "codemirror_mode": {
    "name": "ipython",
    "version": 3
   },
   "file_extension": ".py",
   "mimetype": "text/x-python",
   "name": "python",
   "nbconvert_exporter": "python",
   "pygments_lexer": "ipython3",
   "version": "3.10.10"
  }
 },
 "nbformat": 4,
 "nbformat_minor": 5
}
