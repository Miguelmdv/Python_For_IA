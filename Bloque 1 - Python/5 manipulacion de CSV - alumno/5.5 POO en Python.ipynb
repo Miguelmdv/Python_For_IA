{
 "cells": [
  {
   "cell_type": "markdown",
   "id": "9efbc428-6f65-4204-8fa9-7754af9fa7e7",
   "metadata": {},
   "source": [
    "# Programación Orientada a objetos\n",
    "\n",
    "La programación orientada a objetos (o POO) es un paradigma de programación, una guia o un conjunto de reglas, que ayudan a modelar entidades del mundo real en código siguiendo unas pautas y proporciona un cojunto de herramientas.\n",
    "\n",
    "En la programación orientada a objetos están los siguentes integrantes:\n",
    "* **Clases**: definene los modelos a seguir de forma genérica.\n",
    "* **Objeto**: instancia específica de una clase.\n",
    "* **Método**: representa una acción o un algoritmo que puede representar un objeto.\n",
    "* **Atributos**: repesentan la información dentro de una clase.\n",
    "* **Estado interno**: cada objeto tiene su propio estado interno.\n",
    "* **Herencia**: permite que crear nuevas clases que comparten los métodos y atributos de las clases padre.\n",
    "\n",
    "## Características de la POO\n",
    "\n",
    "### Herencia\n",
    "\n",
    "Es una característica que permite definir clases que comparten lógica o estructura de información y favorece la reutilización del código.\n",
    "\n",
    "### Polimorfismo\n",
    "\n",
    "Permite que clases diferentes puedan realizar la misma tarea y tener los mismos atributos sin ser exactamente la misma clase.\n",
    "\n",
    "### Abstracción\n",
    "\n",
    "Permite crear clases que definan qué debe de soportar pero no cómo lo deben de implementar.\n",
    "\n",
    "### Encapsulamiento\n",
    "\n",
    "Permite ocultar información que sea sólo relevante para la clase y no para quien hace uso de la misma.\n",
    "\n",
    "\n",
    "## Implementación en Python:\n",
    "\n",
    "En Python los objetos:\n",
    "* Heredan de object\n",
    "* Por convención para hablar de la instancia se usa `self`\n",
    "* Por convención para hablar de la clase se usa `cls`\n",
    "* Existen métodos de clase y de instancia\n",
    "* Existen atributos de clase y de instancia\n",
    "* El encapsulamiento se hace usando `_` o `__` para hacer privado o protegido\n",
    "* **Python soporta herencia multiple**\n",
    "\n",
    "La creación de clases en python se hace de la siguiente forma:"
   ]
  },
  {
   "cell_type": "code",
   "execution_count": 29,
   "id": "92e5be81-af6d-450a-ab0a-be2eb925a098",
   "metadata": {},
   "outputs": [],
   "source": [
    "class Carta:\n",
    "    numero = None\n",
    "    palo = None\n",
    "    \n",
    "    def __init__(self, numero:int, palo: str):\n",
    "        if palo not in self._palos_disponibles():\n",
    "            raise ValueError(f'El palo {palo} no es uno de los disponibles en {self._palos_disponibles()}')\n",
    "\n",
    "        self.palo = palo\n",
    "        self.numero = numero\n",
    "        \n",
    "    def _repr_palo(self):\n",
    "        rep = {'picas': '♠',\n",
    "               'corazones': '♥',\n",
    "               'treboles': '♣',\n",
    "               'rombos': '♦'}\n",
    "        return rep[self.palo]\n",
    "    \n",
    "    @staticmethod\n",
    "    def _palos_disponibles():\n",
    "        return {'picas', 'corazones', 'treboles', 'rombos'}\n",
    "    \n",
    "    def valor(self):\n",
    "        if self.numero == 1:\n",
    "            return 15\n",
    "        return self.numero\n",
    "    \n",
    "    def _letra(self):\n",
    "        letra = str(self.numero)\n",
    "        if self.numero == 1:\n",
    "            letra = 'A'\n",
    "        elif 10 <= self.numero <= 12:\n",
    "            letras = 'JQK'\n",
    "            letra = letras[self.numero - 10]\n",
    "        else:\n",
    "            letra = str(self.numero)\n",
    "        return letra\n",
    "    \n",
    "    def __add__(self, other):\n",
    "        return self.valor() + other.valor()\n",
    "    \n",
    "    def __radd__(self, other):\n",
    "        if isinstance(other, int) or isinstance(other, float):\n",
    "            return self.valor() + other\n",
    "        return self.__add__(other)\n",
    "    \n",
    "    def __repr__(self):\n",
    "        letra = self._letra()\n",
    "        palo_repr = self._repr_palo()\n",
    "        return f'{letra}{palo_repr}'"
   ]
  },
  {
   "cell_type": "code",
   "execution_count": 12,
   "id": "ed807737-a9b8-455c-a25e-addf65d78237",
   "metadata": {},
   "outputs": [
    {
     "data": {
      "text/plain": [
       "(8♥, 9♠, A♣, Q♦)"
      ]
     },
     "execution_count": 12,
     "metadata": {},
     "output_type": "execute_result"
    }
   ],
   "source": [
    "Carta(8, 'corazones'), Carta(9, 'picas'), Carta(1, 'treboles'), Carta(11, 'rombos')"
   ]
  },
  {
   "cell_type": "code",
   "execution_count": 13,
   "id": "af73923d-687e-42cd-8b81-f7d5090d40a6",
   "metadata": {},
   "outputs": [
    {
     "data": {
      "text/plain": [
       "26"
      ]
     },
     "execution_count": 13,
     "metadata": {},
     "output_type": "execute_result"
    }
   ],
   "source": [
    "Carta(1, 'treboles') + Carta(11, 'rombos')"
   ]
  },
  {
   "cell_type": "code",
   "execution_count": 14,
   "id": "a0806d8d-bbaa-4c47-8300-91819554349f",
   "metadata": {},
   "outputs": [
    {
     "data": {
      "text/plain": [
       "[A♣,\n",
       " A♥,\n",
       " A♦,\n",
       " A♠,\n",
       " 2♣,\n",
       " 2♥,\n",
       " 2♦,\n",
       " 2♠,\n",
       " 3♣,\n",
       " 3♥,\n",
       " 3♦,\n",
       " 3♠,\n",
       " 4♣,\n",
       " 4♥,\n",
       " 4♦,\n",
       " 4♠,\n",
       " 5♣,\n",
       " 5♥,\n",
       " 5♦,\n",
       " 5♠,\n",
       " 6♣,\n",
       " 6♥,\n",
       " 6♦,\n",
       " 6♠,\n",
       " 7♣,\n",
       " 7♥,\n",
       " 7♦,\n",
       " 7♠,\n",
       " 8♣,\n",
       " 8♥,\n",
       " 8♦,\n",
       " 8♠,\n",
       " 9♣,\n",
       " 9♥,\n",
       " 9♦,\n",
       " 9♠,\n",
       " J♣,\n",
       " J♥,\n",
       " J♦,\n",
       " J♠,\n",
       " Q♣,\n",
       " Q♥,\n",
       " Q♦,\n",
       " Q♠,\n",
       " K♣,\n",
       " K♥,\n",
       " K♦,\n",
       " K♠]"
      ]
     },
     "execution_count": 14,
     "metadata": {},
     "output_type": "execute_result"
    }
   ],
   "source": [
    "mazo = [Carta(numero, palo) for numero in range(1, 13) for palo in {'picas', 'corazones', 'treboles', 'rombos'}]\n",
    "mazo"
   ]
  },
  {
   "cell_type": "code",
   "execution_count": 15,
   "id": "5545494c-1e62-4410-b05c-9a1958c73ac1",
   "metadata": {},
   "outputs": [
    {
     "name": "stdout",
     "output_type": "stream",
     "text": [
      "Cartas repartidas:\n",
      "    Jugador 1: [J♦, K♠, A♥, 2♥, 2♦]\n",
      "    Jugador 2: [4♠, 3♦, 3♠, A♠, Q♣]\n",
      "    \n",
      "Ha ganado el jugador 1 con 41 puntos\n"
     ]
    }
   ],
   "source": [
    "from random import shuffle\n",
    "\n",
    "\n",
    "def jugar_puntos(mazo):\n",
    "    cartas_jugador_1 = mazo[:5]\n",
    "    cartas_jugador_2 = mazo[5:10]\n",
    "\n",
    "    puntuacion_1 = sum(cartas_jugador_1)\n",
    "    puntuacion_2 = sum(cartas_jugador_2)\n",
    "\n",
    "    print(f'''Cartas repartidas:\n",
    "    Jugador 1: {cartas_jugador_1}\n",
    "    Jugador 2: {cartas_jugador_2}\n",
    "    ''')\n",
    "\n",
    "    if puntuacion_1 > puntuacion_2:\n",
    "        print(f'Ha ganado el jugador 1 con {puntuacion_1} puntos')\n",
    "    else:\n",
    "        print(f'Ha ganado el jugador 2 con {puntuacion_2} puntos')\n",
    "\n",
    "shuffle(mazo)\n",
    "jugar_puntos(mazo)"
   ]
  },
  {
   "cell_type": "markdown",
   "id": "fa9697b0-35ff-4cfe-82c0-840104a04360",
   "metadata": {},
   "source": [
    "## Implementar CartaConPeso\n",
    "\n",
    "Una carta con peso quiere decir que su valor depende tanto del número como del palo el cual multiplicará por 1.1, 1.2, 1.3 o 1.4 su número dependiendo del palo que tenga."
   ]
  },
  {
   "cell_type": "code",
   "execution_count": 16,
   "id": "5e5cc602-0da2-43ea-bc27-81d4543a6527",
   "metadata": {},
   "outputs": [],
   "source": [
    "pesos = {'picas': 1.1, \n",
    "         'corazones': 1.2, \n",
    "         'treboles': 1.3, \n",
    "         'rombos': 1.4}"
   ]
  },
  {
   "cell_type": "code",
   "execution_count": 17,
   "id": "0837bb51-67d8-49fa-8061-9a843fb78823",
   "metadata": {},
   "outputs": [],
   "source": [
    "class CartaConPeso(Carta):\n",
    "    \n",
    "    _pesos = {'picas': 1.1, \n",
    "             'corazones': 1.2, \n",
    "             'treboles': 1.3, \n",
    "             'rombos': 1.4}\n",
    "    \n",
    "    def valor(self):\n",
    "        valor_padre = super(CartaConPeso, self).valor()\n",
    "        return valor_padre * self._pesos[self.palo]\n",
    "    "
   ]
  },
  {
   "cell_type": "code",
   "execution_count": 18,
   "id": "ae8d511b-a8b7-4352-a731-7ea3180e14f4",
   "metadata": {},
   "outputs": [
    {
     "data": {
      "text/plain": [
       "(16.5, 18.0, 21.0)"
      ]
     },
     "execution_count": 18,
     "metadata": {},
     "output_type": "execute_result"
    }
   ],
   "source": [
    "CartaConPeso(1, 'picas').valor(), CartaConPeso(1, 'corazones').valor(), CartaConPeso(1, 'rombos').valor()"
   ]
  },
  {
   "cell_type": "code",
   "execution_count": 24,
   "id": "58f1bf61-6dad-4c39-bafc-9d3055572971",
   "metadata": {},
   "outputs": [
    {
     "name": "stdout",
     "output_type": "stream",
     "text": [
      "Cartas repartidas:\n",
      "    Jugador 1: [5♠, K♥, A♠, 8♠, 3♦]\n",
      "    Jugador 2: [J♣, 6♣, 7♦, 8♣, 8♥]\n",
      "    \n",
      "Ha ganado el jugador 2 con 50.6 puntos\n"
     ]
    }
   ],
   "source": [
    "mazo_con_peso = [CartaConPeso(numero, palo) for numero in range(1, 13) for palo in {'picas', 'corazones', 'treboles', 'rombos'}]\n",
    "shuffle(mazo_con_peso)\n",
    "jugar_puntos(mazo_con_peso)"
   ]
  },
  {
   "cell_type": "markdown",
   "id": "290f250f-bd99-488c-bd4a-a2d47ab9b0f3",
   "metadata": {},
   "source": [
    "## Ejemplo usando Vehiculos y clases abstractas\n",
    "\n",
    "Se puede crear una clase con los métodos y atributos por defecto pero que deban de ser rellenos por las clases que implementen la clase como:"
   ]
  },
  {
   "cell_type": "code",
   "execution_count": 21,
   "id": "73facc39-26d3-429d-9f17-d91634eb4953",
   "metadata": {},
   "outputs": [],
   "source": [
    "from random import random\n",
    "\n",
    "class Vehiculo:\n",
    "    nombre = None\n",
    "    num_ruedas = None\n",
    "    peso = None\n",
    "    \n",
    "    def __init__(self, nombre, posicion_inicial=0):\n",
    "        self.nombre = nombre\n",
    "        self.posicion = posicion_inicial\n",
    "    \n",
    "    def velocidad_maxima(self) -> float:\n",
    "        raise NotImplemented()\n",
    "        \n",
    "    @property\n",
    "    def coef_reduccion(self):\n",
    "        return (self.num_ruedas * 0.1) + (self.peso * 0.01)\n",
    "        \n",
    "    def mover_1h(self):\n",
    "        velocidad_por_hora = self.velocidad_maxima() * random()\n",
    "        movimiento = velocidad_por_hora - self.coef_reduccion\n",
    "        self.posicion += movimiento"
   ]
  },
  {
   "cell_type": "code",
   "execution_count": 22,
   "id": "518bb026-b224-4a9e-a582-6061abf4a0df",
   "metadata": {},
   "outputs": [],
   "source": [
    "class Coche(Vehiculo):\n",
    "    num_ruedas = 4\n",
    "    peso = 2500\n",
    "\n",
    "    def velocidad_maxima(self):\n",
    "        return 120\n",
    "    \n",
    "class Moto(Vehiculo):\n",
    "    num_ruedas = 2\n",
    "    peso = 200\n",
    "\n",
    "    def velocidad_maxima(self):\n",
    "        return 120\n",
    "\n",
    "class Bici(Vehiculo):\n",
    "    num_ruedas = 2\n",
    "    peso = 15\n",
    "    \n",
    "    def velocidad_maxima(self):\n",
    "        return 30"
   ]
  },
  {
   "cell_type": "code",
   "execution_count": 23,
   "id": "027fa30f-30a5-4e92-a115-3b80573a2045",
   "metadata": {},
   "outputs": [
    {
     "name": "stdout",
     "output_type": "stream",
     "text": [
      "Vehiculo: Hamilton en 43.39\n",
      "Vehiculo: Alonso en 102.54\n",
      "Vehiculo: Marquez en 71.50\n",
      "Vehiculo: Rossi en 101.80\n",
      "Vehiculo: Indurain en 17.55\n",
      "Vehiculo: Contador en 107.95\n",
      "Los vehiculos que han llegado antes a la meta son: ['Alonso', 'Rossi', 'Contador']\n"
     ]
    }
   ],
   "source": [
    "coche_1 = Coche('Hamilton')\n",
    "coche_2 = Coche('Alonso', posicion_inicial=20)\n",
    "\n",
    "moto_1 = Moto('Marquez')\n",
    "moto_2 = Moto('Rossi', 30)\n",
    "\n",
    "bici_1 = Bici('Indurain', 10)\n",
    "bici_2 = Bici('Contador', 80)\n",
    "\n",
    "meta = 100\n",
    "\n",
    "vehiculos = (coche_1, coche_2, moto_1, moto_2, bici_1, bici_2)\n",
    "\n",
    "while not any(x.posicion > meta for x in vehiculos):\n",
    "    for vehiculo in vehiculos:\n",
    "        vehiculo.mover_1h()\n",
    "        print(f'Vehiculo: {vehiculo.nombre} en {vehiculo.posicion:.2f}')\n",
    "\n",
    "vehiculos_en_meta = filter(lambda x: x.posicion > meta, vehiculos)\n",
    "nombres_vehiculos = [x.nombre for x in vehiculos_en_meta]\n",
    "print(f'Los vehiculos que han llegado antes a la meta son: {nombres_vehiculos}')"
   ]
  },
  {
   "cell_type": "markdown",
   "id": "2dc9cbae-3f2b-4b38-9cbe-1c33a67d101d",
   "metadata": {},
   "source": [
    "## Operaciones comunes para trabajar con objetos\n",
    "\n",
    "Función | Uso\n",
    "-------:|:-----\n",
    "`isinstance`|Permite saber si un objeto es instancia de una clase (hija o padre)\n",
    "`type`| Devuelve el tipo de una instancia\n",
    "`issubclass`| Evalua si una clase es hija de otra (a nivel de Clase, no de instancia)\n",
    "`__mro__`| Muestra la resolución de herencia\n",
    "`hasattr`| Evalua si una instancia tiene un atributo o método\n",
    "`getattr`| Obtiene un atributo o método\n",
    "`setattr`| Permite cambiar un atributo o método\n"
   ]
  },
  {
   "cell_type": "code",
   "execution_count": 26,
   "id": "9a8d171d-78f2-47a7-a8b5-a210b65530e1",
   "metadata": {},
   "outputs": [
    {
     "data": {
      "text/plain": [
       "(True, True, __main__.Coche)"
      ]
     },
     "execution_count": 26,
     "metadata": {},
     "output_type": "execute_result"
    }
   ],
   "source": [
    "isinstance(coche_1, Coche), isinstance(coche_1, Vehiculo), type(coche_1)"
   ]
  },
  {
   "cell_type": "code",
   "execution_count": 32,
   "id": "76b3972c-e9d1-4030-afd5-1c2f31ab7cc9",
   "metadata": {},
   "outputs": [
    {
     "data": {
      "text/plain": [
       "(False, True, True, False)"
      ]
     },
     "execution_count": 32,
     "metadata": {},
     "output_type": "execute_result"
    }
   ],
   "source": [
    "issubclass(Coche, Carta), issubclass(Coche, Coche), issubclass(Coche, Vehiculo), issubclass(Vehiculo, Coche)"
   ]
  },
  {
   "cell_type": "code",
   "execution_count": 33,
   "id": "a9fdd930-7faa-40d5-92c4-9d2a0bbde494",
   "metadata": {},
   "outputs": [
    {
     "data": {
      "text/plain": [
       "(__main__.Coche, __main__.Vehiculo, object)"
      ]
     },
     "execution_count": 33,
     "metadata": {},
     "output_type": "execute_result"
    }
   ],
   "source": [
    "Moto.__mro__"
   ]
  },
  {
   "cell_type": "code",
   "execution_count": 38,
   "id": "c4551bdf-97a5-4a53-bec5-570adab432b0",
   "metadata": {},
   "outputs": [
    {
     "data": {
      "text/plain": [
       "(True, False, 71.50446892866621, None, 200)"
      ]
     },
     "execution_count": 38,
     "metadata": {},
     "output_type": "execute_result"
    }
   ],
   "source": [
    "hasattr(coche_1, 'mover_1h'), hasattr(coche_1, 'mover_2h'), getattr(moto_1, 'posicion'), setattr(bici_1, 'posicion', 200), bici_1.posicion"
   ]
  },
  {
   "cell_type": "code",
   "execution_count": null,
   "id": "2d480d5e-54b4-4338-a5ff-6f1e45d0b3b3",
   "metadata": {},
   "outputs": [],
   "source": []
  },
  {
   "cell_type": "markdown",
   "id": "d8064af7-6107-4660-b374-dcd9c5b34d12",
   "metadata": {},
   "source": [
    "## Otras inicializaciones de clases (dataclasses) y hints de tipos\n",
    "\n",
    "Se puede utilizar en Python 3 el tipo dataclasses que permite "
   ]
  },
  {
   "cell_type": "code",
   "execution_count": 40,
   "id": "db31deef-9b37-438c-8577-c1f7e1fb9910",
   "metadata": {},
   "outputs": [],
   "source": [
    "from dataclasses import dataclass\n",
    "\n",
    "@dataclass\n",
    "class PhoneInfo:\n",
    "    brand: str\n",
    "    model: str\n",
    "    released: str\n",
    "    gb_ram: int"
   ]
  },
  {
   "cell_type": "code",
   "execution_count": 41,
   "id": "b8afab90-ea77-425d-96b1-41e1074ae5a2",
   "metadata": {},
   "outputs": [],
   "source": [
    "pi = PhoneInfo('Samsung', 'Galaxy', '2021-01-01', 8)"
   ]
  },
  {
   "cell_type": "code",
   "execution_count": 42,
   "id": "4150d8ea-7db1-43a3-a23c-e1042e1aa2ff",
   "metadata": {},
   "outputs": [
    {
     "data": {
      "text/plain": [
       "{'brand': 'Samsung', 'model': 'Galaxy', 'released': '2021-01-01', 'gb_ram': 8}"
      ]
     },
     "execution_count": 42,
     "metadata": {},
     "output_type": "execute_result"
    }
   ],
   "source": [
    "pi.__dict__"
   ]
  },
  {
   "cell_type": "code",
   "execution_count": 43,
   "id": "8dd3ca80-5315-457d-be70-17e09673598b",
   "metadata": {},
   "outputs": [
    {
     "data": {
      "text/plain": [
       "['__annotations__',\n",
       " '__class__',\n",
       " '__dataclass_fields__',\n",
       " '__dataclass_params__',\n",
       " '__delattr__',\n",
       " '__dict__',\n",
       " '__dir__',\n",
       " '__doc__',\n",
       " '__eq__',\n",
       " '__format__',\n",
       " '__ge__',\n",
       " '__getattribute__',\n",
       " '__gt__',\n",
       " '__hash__',\n",
       " '__init__',\n",
       " '__init_subclass__',\n",
       " '__le__',\n",
       " '__lt__',\n",
       " '__module__',\n",
       " '__ne__',\n",
       " '__new__',\n",
       " '__reduce__',\n",
       " '__reduce_ex__',\n",
       " '__repr__',\n",
       " '__setattr__',\n",
       " '__sizeof__',\n",
       " '__str__',\n",
       " '__subclasshook__',\n",
       " '__weakref__',\n",
       " 'brand',\n",
       " 'gb_ram',\n",
       " 'model',\n",
       " 'released']"
      ]
     },
     "execution_count": 43,
     "metadata": {},
     "output_type": "execute_result"
    }
   ],
   "source": [
    "dir(pi)"
   ]
  },
  {
   "cell_type": "code",
   "execution_count": 44,
   "id": "19b364b9-44e7-4441-85de-3eed044489f8",
   "metadata": {},
   "outputs": [
    {
     "data": {
      "text/plain": [
       "{'brand': str, 'model': str, 'released': str, 'gb_ram': int}"
      ]
     },
     "execution_count": 44,
     "metadata": {},
     "output_type": "execute_result"
    }
   ],
   "source": [
    "pi.__annotations__"
   ]
  },
  {
   "cell_type": "code",
   "execution_count": null,
   "id": "8da25297-5431-4d26-a09a-8620bcec584b",
   "metadata": {},
   "outputs": [],
   "source": []
  }
 ],
 "metadata": {
  "kernelspec": {
   "display_name": "Python 3 (ipykernel)",
   "language": "python",
   "name": "python3"
  },
  "language_info": {
   "codemirror_mode": {
    "name": "ipython",
    "version": 3
   },
   "file_extension": ".py",
   "mimetype": "text/x-python",
   "name": "python",
   "nbconvert_exporter": "python",
   "pygments_lexer": "ipython3",
   "version": "3.10.10"
  }
 },
 "nbformat": 4,
 "nbformat_minor": 5
}
