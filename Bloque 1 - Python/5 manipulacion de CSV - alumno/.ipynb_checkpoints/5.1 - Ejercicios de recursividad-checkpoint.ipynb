{
 "cells": [
  {
   "cell_type": "markdown",
   "id": "4bafe5dd-3b92-4f8a-9363-7faaeae470e1",
   "metadata": {
    "editable": true,
    "slideshow": {
     "slide_type": ""
    },
    "tags": []
   },
   "source": [
    "# Recursividad con ejemplos\n",
    "\n",
    "* Cálculo de números primos\n",
    "* Tic tac toe"
   ]
  },
  {
   "cell_type": "markdown",
   "id": "d6031eb4-c3d1-40c5-a70a-d805d27a0b03",
   "metadata": {},
   "source": [
    "## Cálculo de números primos\n",
    "\n",
    "Un número primo es un número mayor o igual que 1 que es solo divisible entre si mismo y no es multiplo de otros"
   ]
  },
  {
   "cell_type": "code",
   "execution_count": 74,
   "id": "d957f7f4-12fd-4d3a-8ffa-8d4697310077",
   "metadata": {},
   "outputs": [
    {
     "name": "stdin",
     "output_type": "stream",
     "text": [
      "Introduce un número:  3421\n"
     ]
    },
    {
     "name": "stdout",
     "output_type": "stream",
     "text": [
      "3421 es divisor de 11\n",
      "3421 no es un número primo.\n"
     ]
    }
   ],
   "source": [
    "# Solución imperativa\n",
    "def es_primo(numero):\n",
    "    if numero <= 1:\n",
    "        return False\n",
    "    if numero == 2:\n",
    "        return True\n",
    "    if numero % 2 == 0:\n",
    "        return False\n",
    "    divisor = 3\n",
    "    while divisor * divisor <= numero:\n",
    "        if numero % divisor == 0:\n",
    "            print(f'{numero} es divisor de {divisor}')\n",
    "            return False\n",
    "        divisor += 2  # Solo comprobar números impares mayores que 2\n",
    "    return True\n",
    "\n",
    "numero = int(input(\"Introduce un número: \"))\n",
    "if es_primo(numero):\n",
    "    print(f\"{numero} es un número primo.\")\n",
    "else:\n",
    "    print(f\"{numero} no es un número primo.\")"
   ]
  },
  {
   "cell_type": "code",
   "execution_count": 75,
   "id": "e73a5295-0aec-494e-9697-a5a901ad5033",
   "metadata": {},
   "outputs": [
    {
     "name": "stdin",
     "output_type": "stream",
     "text": [
      "Introduce un número:  3421\n"
     ]
    },
    {
     "name": "stdout",
     "output_type": "stream",
     "text": [
      "3421 es divisor de 11\n",
      "3421 no es un número primo.\n"
     ]
    }
   ],
   "source": [
    "# solución iterativa\n",
    "def es_primo_optimizado(numero):\n",
    "    if numero <= 1:\n",
    "        return False\n",
    "    elif numero <= 3:\n",
    "        return True\n",
    "    elif numero % 2 == 0 or numero % 3 == 0:\n",
    "        return False\n",
    "    i = 5\n",
    "    while i * i <= numero:\n",
    "        if numero % i == 0 or numero % (i + 2) == 0:\n",
    "            print(f'{numero} es divisor de {i}')\n",
    "            return False\n",
    "        i += 6\n",
    "    return True\n",
    "\n",
    "# Ejemplo de uso\n",
    "numero = int(input(\"Introduce un número: \"))\n",
    "if es_primo_optimizado(numero):\n",
    "    print(f\"{numero} es un número primo.\")\n",
    "else:\n",
    "    print(f\"{numero} no es un número primo.\")"
   ]
  },
  {
   "cell_type": "code",
   "execution_count": 76,
   "id": "a65c6743-931e-4c41-9f3a-f2be511b7f8d",
   "metadata": {},
   "outputs": [
    {
     "name": "stdin",
     "output_type": "stream",
     "text": [
      "Introduce un número:  3425\n"
     ]
    },
    {
     "name": "stdout",
     "output_type": "stream",
     "text": [
      "3425 es divisor de 5\n",
      "3425 no es un número primo.\n"
     ]
    }
   ],
   "source": [
    "# solución recursiva\n",
    "def es_primo_recursiva(numero, divisor=2):\n",
    "    if numero <= 1:\n",
    "        return False\n",
    "    if numero <= 3:\n",
    "        return True\n",
    "    if numero % divisor == 0:\n",
    "        print(f'{numero} es divisor de {divisor}')\n",
    "        return False\n",
    "    if divisor * divisor > numero:\n",
    "        return True\n",
    "    return es_primo_recursiva(numero, divisor + 1)\n",
    "\n",
    "# Ejemplo de uso\n",
    "numero = int(input(\"Introduce un número: \"))\n",
    "if es_primo_recursiva(numero):\n",
    "    print(f\"{numero} es un número primo.\")\n",
    "else:\n",
    "    print(f\"{numero} no es un número primo.\")"
   ]
  },
  {
   "cell_type": "markdown",
   "id": "64119d7b-9149-4612-a21c-bafa41cc2e59",
   "metadata": {},
   "source": [
    "## Tic Tac Toe\n",
    "\n",
    "El juego consiste en un tablero de 9 posiciones donde en cada turno uno de los jugadores debe de elegir una fila y columna que donde quiere poner su ficha\n",
    "\n",
    "En cada turno se cambia de jugador\n",
    "\n",
    "Gana el jugador que consiga colocar 3 fichas consecutivas de forma vertical, horizontal u oblicua"
   ]
  },
  {
   "cell_type": "code",
   "execution_count": 62,
   "id": "50fa859d-26f7-4ec4-86bb-b201cacf0e94",
   "metadata": {},
   "outputs": [],
   "source": [
    "# Solución iterativa\n",
    "from IPython.display import display, clear_output\n",
    "\n",
    "vacio = \"⬜\"\n",
    "\n",
    "def input_del_usuario(jugador_actual: str) -> tuple[int,int]:\n",
    "    try:\n",
    "        nueva_posicion = input(f\"Jugador {jugador_actual}, elige una fila y columna ((0,0), (0,1), (2,2)...): \").split(',')\n",
    "        return tuple(map(int, nueva_posicion))\n",
    "    except Exception as e:\n",
    "        if nueva_posicion[0].lower() == 'x':\n",
    "            raise ValueError('Juego parado por el usuario')\n",
    "        print(f'Error en la elección: {e}')\n",
    "        return input_del_usuario(jugador_actual)\n",
    "\n",
    "def imprimir_tablero(tablero, borrando=True):\n",
    "    if borrando:\n",
    "        clear_output(wait=False)\n",
    "\n",
    "    for idx, fila in enumerate(tablero):\n",
    "        print(f'{idx} ' + \"|\".join(fila))\n",
    "        print(\"  \" + \"-\" * 9)\n",
    "    print(\"   \" + '  '.join(map(str, range(3))))\n",
    "\n",
    "def verificar_ganador(tablero, jugador):\n",
    "    # comprobar si ha ganado en horizontal\n",
    "    for fila in tablero:\n",
    "        if all(casilla == jugador for casilla in fila):\n",
    "            return True\n",
    "\n",
    "    # comprobar si ha por filas\n",
    "    for columna in range(3):\n",
    "        if all(tablero[fila][columna] == jugador for fila in range(3)):\n",
    "            return True\n",
    "\n",
    "    # comprobar si ha ganado en oblicuo\n",
    "    if all(tablero[i][i] == jugador for i in range(3)) or all(tablero[i][2 - i] == jugador for i in range(3)):\n",
    "        return True\n",
    "\n",
    "    return False\n",
    "\n",
    "def juego_tic_tac_toe():\n",
    "    tablero = [[vacio for _ in range(3)] for _ in range(3)]\n",
    "    jugador_actual = \"❌\"\n",
    "    jugadas = 0\n",
    "\n",
    "    while jugadas < 9:\n",
    "        imprimir_tablero(tablero)\n",
    "        fila, columna = input_del_usuario(jugador_actual)\n",
    "\n",
    "        if fila is None and columna is None:\n",
    "            print('Juego parado por usuario')\n",
    "            break\n",
    "    \n",
    "        if fila < 0 or fila > 2 or columna < 0 or columna > 2 or tablero[fila][columna] != vacio:\n",
    "            print(\"Movimiento inválido. Inténtalo de nuevo.\")\n",
    "            continue\n",
    "\n",
    "        tablero[fila][columna] = jugador_actual\n",
    "        jugadas += 1\n",
    "\n",
    "        if verificar_ganador(tablero, jugador_actual):\n",
    "            imprimir_tablero(tablero)\n",
    "            print(f\"¡El jugador {jugador_actual} ha ganado!\")\n",
    "            break\n",
    "\n",
    "        jugador_actual = \"⭕️\" if jugador_actual == \"❌\" else \"❌\"\n",
    "\n",
    "    if jugadas == 9:\n",
    "        imprimir_tablero(tablero)\n",
    "        print(\"¡Es un empate!\")"
   ]
  },
  {
   "cell_type": "code",
   "execution_count": 58,
   "id": "99f7742b-2c28-4f62-8873-5a395ee1d4e2",
   "metadata": {},
   "outputs": [
    {
     "name": "stdout",
     "output_type": "stream",
     "text": [
      "0 ❌|❌|⭕️\n",
      "  ---------\n",
      "1 ⭕️|❌|❌\n",
      "  ---------\n",
      "2 ❌|⭕️|⭕️\n",
      "  ---------\n",
      "   0  1  2\n",
      "¡Es un empate!\n"
     ]
    }
   ],
   "source": [
    "juego_tic_tac_toe()"
   ]
  },
  {
   "cell_type": "code",
   "execution_count": 63,
   "id": "279685cb-92c4-4a18-822f-32b9dcf6254e",
   "metadata": {},
   "outputs": [],
   "source": [
    "# implementación recursiva\n",
    "def juego_tic_tac_toe_recursivo(tablero, jugador_actual):\n",
    "    imprimir_tablero(tablero)\n",
    "    \n",
    "    fila, columna = input_del_usuario(jugador_actual)\n",
    "\n",
    "    if fila < 0 or fila > 2 or columna < 0 or columna > 2 or tablero[fila][columna] != vacio:\n",
    "        print(\"Movimiento inválido. Inténtalo de nuevo.\")\n",
    "        # recursión\n",
    "        return juego_tic_tac_toe_recursivo(tablero, jugador_actual)\n",
    "\n",
    "    tablero[fila][columna] = jugador_actual\n",
    "\n",
    "    # casos base\n",
    "    if verificar_ganador(tablero, jugador_actual):\n",
    "        imprimir_tablero(tablero)\n",
    "        print(f\"¡El jugador {jugador_actual} ha ganado!\")\n",
    "        return True\n",
    "\n",
    "    empate = all(casilla != vacio for fila in tablero for casilla in fila)\n",
    "    if empate:\n",
    "        imprimir_tablero(tablero)\n",
    "        print(\"¡Es un empate!\")\n",
    "        return True\n",
    "\n",
    "    # recursión\n",
    "    jugador_actual = \"⭕️\" if jugador_actual == \"❌\" else \"❌\"\n",
    "    return juego_tic_tac_toe_recursivo(tablero, jugador_actual)"
   ]
  },
  {
   "cell_type": "code",
   "execution_count": 64,
   "id": "b44dfee2-25c1-4758-8718-c4bbdbd2aa31",
   "metadata": {},
   "outputs": [
    {
     "name": "stdout",
     "output_type": "stream",
     "text": [
      "0 ⬜|⬜|⬜\n",
      "  ---------\n",
      "1 ⬜|⬜|⬜\n",
      "  ---------\n",
      "2 ⬜|⬜|⬜\n",
      "  ---------\n",
      "   0  1  2\n"
     ]
    },
    {
     "name": "stdin",
     "output_type": "stream",
     "text": [
      "Jugador ❌, elige una fila y columna ((0,0), (0,1), (2,2)...):  x\n"
     ]
    },
    {
     "ename": "ValueError",
     "evalue": "Juego parado por el usuario",
     "output_type": "error",
     "traceback": [
      "\u001b[0;31m---------------------------------------------------------------------------\u001b[0m",
      "\u001b[0;31mValueError\u001b[0m                                Traceback (most recent call last)",
      "Cell \u001b[0;32mIn[62], line 9\u001b[0m, in \u001b[0;36minput_del_usuario\u001b[0;34m(jugador_actual)\u001b[0m\n\u001b[1;32m      8\u001b[0m     nueva_posicion \u001b[38;5;241m=\u001b[39m \u001b[38;5;28minput\u001b[39m(\u001b[38;5;124mf\u001b[39m\u001b[38;5;124m\"\u001b[39m\u001b[38;5;124mJugador \u001b[39m\u001b[38;5;132;01m{\u001b[39;00mjugador_actual\u001b[38;5;132;01m}\u001b[39;00m\u001b[38;5;124m, elige una fila y columna ((0,0), (0,1), (2,2)...): \u001b[39m\u001b[38;5;124m\"\u001b[39m)\u001b[38;5;241m.\u001b[39msplit(\u001b[38;5;124m'\u001b[39m\u001b[38;5;124m,\u001b[39m\u001b[38;5;124m'\u001b[39m)\n\u001b[0;32m----> 9\u001b[0m     \u001b[38;5;28;01mreturn\u001b[39;00m \u001b[38;5;28;43mtuple\u001b[39;49m\u001b[43m(\u001b[49m\u001b[38;5;28;43mmap\u001b[39;49m\u001b[43m(\u001b[49m\u001b[38;5;28;43mint\u001b[39;49m\u001b[43m,\u001b[49m\u001b[43m \u001b[49m\u001b[43mnueva_posicion\u001b[49m\u001b[43m)\u001b[49m\u001b[43m)\u001b[49m\n\u001b[1;32m     10\u001b[0m \u001b[38;5;28;01mexcept\u001b[39;00m \u001b[38;5;167;01mException\u001b[39;00m \u001b[38;5;28;01mas\u001b[39;00m e:\n",
      "\u001b[0;31mValueError\u001b[0m: invalid literal for int() with base 10: 'x'",
      "\nDuring handling of the above exception, another exception occurred:\n",
      "\u001b[0;31mValueError\u001b[0m                                Traceback (most recent call last)",
      "Cell \u001b[0;32mIn[64], line 4\u001b[0m\n\u001b[1;32m      1\u001b[0m tablero \u001b[38;5;241m=\u001b[39m [[vacio \u001b[38;5;28;01mfor\u001b[39;00m _ \u001b[38;5;129;01min\u001b[39;00m \u001b[38;5;28mrange\u001b[39m(\u001b[38;5;241m3\u001b[39m)] \u001b[38;5;28;01mfor\u001b[39;00m _ \u001b[38;5;129;01min\u001b[39;00m \u001b[38;5;28mrange\u001b[39m(\u001b[38;5;241m3\u001b[39m)]\n\u001b[1;32m      2\u001b[0m jugador_actual \u001b[38;5;241m=\u001b[39m \u001b[38;5;124m\"\u001b[39m\u001b[38;5;124m❌\u001b[39m\u001b[38;5;124m\"\u001b[39m\n\u001b[0;32m----> 4\u001b[0m \u001b[43mjuego_tic_tac_toe_recursivo\u001b[49m\u001b[43m(\u001b[49m\u001b[43mtablero\u001b[49m\u001b[43m,\u001b[49m\u001b[43m \u001b[49m\u001b[43mjugador_actual\u001b[49m\u001b[43m)\u001b[49m\n",
      "Cell \u001b[0;32mIn[63], line 5\u001b[0m, in \u001b[0;36mjuego_tic_tac_toe_recursivo\u001b[0;34m(tablero, jugador_actual)\u001b[0m\n\u001b[1;32m      2\u001b[0m \u001b[38;5;28;01mdef\u001b[39;00m \u001b[38;5;21mjuego_tic_tac_toe_recursivo\u001b[39m(tablero, jugador_actual):\n\u001b[1;32m      3\u001b[0m     imprimir_tablero(tablero)\n\u001b[0;32m----> 5\u001b[0m     fila, columna \u001b[38;5;241m=\u001b[39m \u001b[43minput_del_usuario\u001b[49m\u001b[43m(\u001b[49m\u001b[43mjugador_actual\u001b[49m\u001b[43m)\u001b[49m\n\u001b[1;32m      7\u001b[0m     \u001b[38;5;28;01mif\u001b[39;00m fila \u001b[38;5;241m<\u001b[39m \u001b[38;5;241m0\u001b[39m \u001b[38;5;129;01mor\u001b[39;00m fila \u001b[38;5;241m>\u001b[39m \u001b[38;5;241m2\u001b[39m \u001b[38;5;129;01mor\u001b[39;00m columna \u001b[38;5;241m<\u001b[39m \u001b[38;5;241m0\u001b[39m \u001b[38;5;129;01mor\u001b[39;00m columna \u001b[38;5;241m>\u001b[39m \u001b[38;5;241m2\u001b[39m \u001b[38;5;129;01mor\u001b[39;00m tablero[fila][columna] \u001b[38;5;241m!=\u001b[39m vacio:\n\u001b[1;32m      8\u001b[0m         \u001b[38;5;28mprint\u001b[39m(\u001b[38;5;124m\"\u001b[39m\u001b[38;5;124mMovimiento inválido. Inténtalo de nuevo.\u001b[39m\u001b[38;5;124m\"\u001b[39m)\n",
      "Cell \u001b[0;32mIn[62], line 12\u001b[0m, in \u001b[0;36minput_del_usuario\u001b[0;34m(jugador_actual)\u001b[0m\n\u001b[1;32m     10\u001b[0m \u001b[38;5;28;01mexcept\u001b[39;00m \u001b[38;5;167;01mException\u001b[39;00m \u001b[38;5;28;01mas\u001b[39;00m e:\n\u001b[1;32m     11\u001b[0m     \u001b[38;5;28;01mif\u001b[39;00m nueva_posicion[\u001b[38;5;241m0\u001b[39m]\u001b[38;5;241m.\u001b[39mlower() \u001b[38;5;241m==\u001b[39m \u001b[38;5;124m'\u001b[39m\u001b[38;5;124mx\u001b[39m\u001b[38;5;124m'\u001b[39m:\n\u001b[0;32m---> 12\u001b[0m         \u001b[38;5;28;01mraise\u001b[39;00m \u001b[38;5;167;01mValueError\u001b[39;00m(\u001b[38;5;124m'\u001b[39m\u001b[38;5;124mJuego parado por el usuario\u001b[39m\u001b[38;5;124m'\u001b[39m)\n\u001b[1;32m     13\u001b[0m     \u001b[38;5;28mprint\u001b[39m(\u001b[38;5;124mf\u001b[39m\u001b[38;5;124m'\u001b[39m\u001b[38;5;124mError en la elección: \u001b[39m\u001b[38;5;132;01m{\u001b[39;00me\u001b[38;5;132;01m}\u001b[39;00m\u001b[38;5;124m'\u001b[39m)\n\u001b[1;32m     14\u001b[0m     \u001b[38;5;28;01mreturn\u001b[39;00m input_del_usuario(jugador_actual)\n",
      "\u001b[0;31mValueError\u001b[0m: Juego parado por el usuario"
     ]
    }
   ],
   "source": [
    "tablero = [[vacio for _ in range(3)] for _ in range(3)]\n",
    "jugador_actual = \"❌\"\n",
    "\n",
    "juego_tic_tac_toe_recursivo(tablero, jugador_actual)"
   ]
  }
 ],
 "metadata": {
  "kernelspec": {
   "display_name": "Python 3 (ipykernel)",
   "language": "python",
   "name": "python3"
  },
  "language_info": {
   "codemirror_mode": {
    "name": "ipython",
    "version": 3
   },
   "file_extension": ".py",
   "mimetype": "text/x-python",
   "name": "python",
   "nbconvert_exporter": "python",
   "pygments_lexer": "ipython3",
   "version": "3.10.10"
  }
 },
 "nbformat": 4,
 "nbformat_minor": 5
}
