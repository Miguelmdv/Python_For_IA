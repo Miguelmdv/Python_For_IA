{
 "cells": [
  {
   "cell_type": "markdown",
   "id": "8d7651c8",
   "metadata": {},
   "source": [
    "# Funciones en Python\n",
    "\n",
    "Las funciones en cualquier lenguaje de programación son una pieza fundamental dado que ayudan a mejorar la organización, aislamiento y reutilización del código.\n",
    "\n",
    "## Características básicas de la funciones en Python\n",
    "\n",
    "* Una función permite agrupar una lógica que se quiera reutilizar.\n",
    "* Una función suele tener un nombre.\n",
    "* Las funciones devuelven un valor, y en Python por defecto es `None`\n",
    "* Permiten añadir diferentes valores como argumentos (también llamados parámetros cuando se declara la función)\n",
    "* Todos los parámetros en python se pasan por referencia, por lo que nunca se crean cópias de los mismos, sino que se pasan los propios parámetros.\n"
   ]
  },
  {
   "cell_type": "code",
   "execution_count": 1,
   "id": "2203228c",
   "metadata": {},
   "outputs": [],
   "source": [
    "def es_par(num):\n",
    "    return not num % 2"
   ]
  },
  {
   "cell_type": "code",
   "execution_count": 2,
   "id": "dcc3d030",
   "metadata": {},
   "outputs": [
    {
     "data": {
      "text/plain": [
       "False"
      ]
     },
     "execution_count": 2,
     "metadata": {},
     "output_type": "execute_result"
    }
   ],
   "source": [
    "es_par(5)"
   ]
  },
  {
   "cell_type": "code",
   "execution_count": 3,
   "id": "9afb1f8d",
   "metadata": {},
   "outputs": [
    {
     "data": {
      "text/plain": [
       "False"
      ]
     },
     "execution_count": 3,
     "metadata": {},
     "output_type": "execute_result"
    }
   ],
   "source": [
    "es_par(7)"
   ]
  },
  {
   "cell_type": "code",
   "execution_count": 4,
   "id": "62fab4c9",
   "metadata": {},
   "outputs": [],
   "source": [
    "def es_impart(num):\n",
    "    return not es_par(num)"
   ]
  },
  {
   "cell_type": "code",
   "execution_count": 5,
   "id": "a3b39373",
   "metadata": {},
   "outputs": [
    {
     "data": {
      "text/plain": [
       "True"
      ]
     },
     "execution_count": 5,
     "metadata": {},
     "output_type": "execute_result"
    }
   ],
   "source": [
    "es_impart(5)"
   ]
  },
  {
   "cell_type": "code",
   "execution_count": 6,
   "id": "c536a7b5",
   "metadata": {},
   "outputs": [],
   "source": [
    "def en_celcius(farahait_temp):\n",
    "    return (farahait_temp - 32) * 5/9 "
   ]
  },
  {
   "cell_type": "code",
   "execution_count": 7,
   "id": "9403bc0e",
   "metadata": {},
   "outputs": [
    {
     "data": {
      "text/plain": [
       "0.0"
      ]
     },
     "execution_count": 7,
     "metadata": {},
     "output_type": "execute_result"
    }
   ],
   "source": [
    "en_celcius(32)"
   ]
  },
  {
   "cell_type": "code",
   "execution_count": 8,
   "id": "08ee8735",
   "metadata": {},
   "outputs": [],
   "source": [
    "def en_millas(num, metric='km'):\n",
    "    if metric == 'm':\n",
    "        num /= 1000\n",
    "    return num / 1.609"
   ]
  },
  {
   "cell_type": "code",
   "execution_count": 9,
   "id": "3452d03f",
   "metadata": {},
   "outputs": [
    {
     "data": {
      "text/plain": [
       "3.107520198881293"
      ]
     },
     "execution_count": 9,
     "metadata": {},
     "output_type": "execute_result"
    }
   ],
   "source": [
    "en_millas(5)"
   ]
  },
  {
   "cell_type": "code",
   "execution_count": 10,
   "id": "f3ff743a",
   "metadata": {},
   "outputs": [
    {
     "data": {
      "text/plain": [
       "0.4661280298321939"
      ]
     },
     "execution_count": 10,
     "metadata": {},
     "output_type": "execute_result"
    }
   ],
   "source": [
    "en_millas(750, 'm')"
   ]
  },
  {
   "cell_type": "markdown",
   "id": "6f1eb1cc",
   "metadata": {},
   "source": [
    "## Ejercicio 1 - Cálculo del IVA\n",
    "\n",
    "Crear una función que aplique el IVA a una cantidad.\n",
    "\n",
    "Por defecto el IVA es de un 21 porciento pero podría cambiar para poder usar la misma función en diferentes paises."
   ]
  },
  {
   "cell_type": "code",
   "execution_count": null,
   "id": "ae2a6c15",
   "metadata": {},
   "outputs": [],
   "source": []
  },
  {
   "cell_type": "markdown",
   "id": "b0583ad4",
   "metadata": {},
   "source": [
    "## Ejercicio 2 - Analizador de palabras\n",
    "\n",
    "Crear una función que dada una cadena de caracteres devuelva un diccionario con:\n",
    "* `len`: igual a la longitud de la cadena\n",
    "* `n_vocals`: número de vocales en la palabra\n",
    "* `n_words`: cantidad de palabras que hay en la cadena de caracteres separadas por ` `"
   ]
  },
  {
   "cell_type": "code",
   "execution_count": 11,
   "id": "9f29cffd",
   "metadata": {},
   "outputs": [
    {
     "data": {
      "text/plain": [
       "{'longitud': 15, 'vocales': 8, 'palabras': 3}"
      ]
     },
     "execution_count": 11,
     "metadata": {},
     "output_type": "execute_result"
    }
   ],
   "source": [
    "def analizador(x : str):\n",
    "    result = {}\n",
    "    vocales = \"aeiouAEIOU\"\n",
    "    n_vocals = 0\n",
    "    \n",
    "    result.setdefault(\"longitud\" ,len(x))\n",
    "    for letra in x:\n",
    "        if letra in vocales:\n",
    "            n_vocals += 1\n",
    "    result.setdefault(\"vocales\" , n_vocals)\n",
    "    \n",
    "    n_words = len(x.split(' '))\n",
    "    result.setdefault(\"palabras\", n_words)\n",
    "    return result\n",
    "\n",
    "analizador(\"aaaaa asdqw ade\")"
   ]
  },
  {
   "cell_type": "markdown",
   "id": "53e0e23d",
   "metadata": {},
   "source": [
    "## Args y kwargs\n",
    "\n",
    "En Python se hace distinción entre los argumentos que se pasan por posición o por clave-valor, los primeros son args y los segundos kwargs\n",
    "\n",
    "Estos nombres se definen por convención y se recomienda su uso."
   ]
  },
  {
   "cell_type": "code",
   "execution_count": 12,
   "id": "579de08d",
   "metadata": {},
   "outputs": [],
   "source": [
    "def mi_funcion(*args, **kwargs):\n",
    "    print(f'args: {args}')\n",
    "    print(f'kwargs: {kwargs}')"
   ]
  },
  {
   "cell_type": "code",
   "execution_count": 13,
   "id": "5dfe6f3f",
   "metadata": {},
   "outputs": [
    {
     "name": "stdout",
     "output_type": "stream",
     "text": [
      "args: (1, 2, 3, 4)\n",
      "kwargs: {}\n"
     ]
    }
   ],
   "source": [
    "mi_funcion(1, 2, 3, 4)"
   ]
  },
  {
   "cell_type": "code",
   "execution_count": 14,
   "id": "3fb27fdb",
   "metadata": {},
   "outputs": [
    {
     "name": "stdout",
     "output_type": "stream",
     "text": [
      "args: ()\n",
      "kwargs: {'nombre': 'juan', 'edad': 78}\n"
     ]
    }
   ],
   "source": [
    "mi_funcion(nombre='juan', edad=78)"
   ]
  },
  {
   "cell_type": "code",
   "execution_count": 15,
   "id": "c1b2ff7f",
   "metadata": {},
   "outputs": [
    {
     "name": "stdout",
     "output_type": "stream",
     "text": [
      "args: ('posicional', 3, True)\n",
      "kwargs: {'nombre': 'juan', 'edad': 78}\n"
     ]
    }
   ],
   "source": [
    "mi_funcion('posicional', 3, True, nombre='juan', edad=78)"
   ]
  },
  {
   "cell_type": "markdown",
   "id": "0196ed1e",
   "metadata": {},
   "source": [
    "### Descomponer iteradores y diccionarios `*` y `**`\n",
    "\n",
    "Cuando se quiere desempaquetar la información de un iterador o de un diccionario se utilizan `*`y `**` de ahí que como parámetros de una función se utilicen esos caracteres que hacen que la información se pueda manejar como una lista o como un diccionario respectivamente."
   ]
  },
  {
   "cell_type": "code",
   "execution_count": 16,
   "id": "bf0e814f",
   "metadata": {},
   "outputs": [
    {
     "data": {
      "text/plain": [
       "(1, [2, 3, 4], 5)"
      ]
     },
     "execution_count": 16,
     "metadata": {},
     "output_type": "execute_result"
    }
   ],
   "source": [
    "a, *b, c = [1, 2, 3, 4, 5]\n",
    "a, b, c"
   ]
  },
  {
   "cell_type": "code",
   "execution_count": 17,
   "id": "57532888",
   "metadata": {},
   "outputs": [
    {
     "name": "stdout",
     "output_type": "stream",
     "text": [
      "El tipo es coche y el número 4\n",
      "El tipo es coche y el número 4\n"
     ]
    }
   ],
   "source": [
    "def foo(tipo, num):\n",
    "    return print(f'El tipo es {tipo} y el número {num}')\n",
    "\n",
    "como_lista = ['coche', 4]\n",
    "como_dict = dict(tipo='coche', num=4)\n",
    "foo(*como_lista)\n",
    "foo(**como_dict)"
   ]
  },
  {
   "cell_type": "markdown",
   "id": "59e578dd-70b4-4f02-9649-dbe970b62db3",
   "metadata": {},
   "source": [
    "# Parámetros por defecto\n",
    "\n",
    "Es importante remarcar que se pueden añadir parámetros por defecto para hacer que las funciones los usen si no se les pasa como argumentos al ejecutar la función"
   ]
  },
  {
   "cell_type": "code",
   "execution_count": 18,
   "id": "72e7a25a-738e-42e8-9338-c84b75e116e2",
   "metadata": {},
   "outputs": [
    {
     "name": "stdout",
     "output_type": "stream",
     "text": [
      "El tipo es Avión y el número 4\n"
     ]
    }
   ],
   "source": [
    "def foo(tipo='Avión', num=4):\n",
    "    return print(f'El tipo es {tipo} y el número {num}')\n",
    "\n",
    "foo()"
   ]
  },
  {
   "cell_type": "markdown",
   "id": "f6f00a7e",
   "metadata": {},
   "source": [
    "# Funciones de orden superior\n",
    "\n",
    "Las funciones de orden superior son aquellas que aceptan como parámetros funciones, por tanto no son simples parámetros los que se pasan sino funciones en sí"
   ]
  },
  {
   "cell_type": "code",
   "execution_count": 19,
   "id": "065eb644",
   "metadata": {},
   "outputs": [],
   "source": [
    "def pon_mayuscula(nombre):\n",
    "    return nombre.upper()"
   ]
  },
  {
   "cell_type": "code",
   "execution_count": 20,
   "id": "5e075ba6",
   "metadata": {},
   "outputs": [],
   "source": [
    "def pon_title(nombre):\n",
    "    return nombre.title()"
   ]
  },
  {
   "cell_type": "code",
   "execution_count": 21,
   "id": "30fb9eac",
   "metadata": {},
   "outputs": [],
   "source": [
    "def pon_minuscula(nombre):\n",
    "    return nombre.lower()"
   ]
  },
  {
   "cell_type": "code",
   "execution_count": 22,
   "id": "b452975c",
   "metadata": {},
   "outputs": [
    {
     "data": {
      "text/plain": [
       "'HOLA QUE TAL'"
      ]
     },
     "execution_count": 22,
     "metadata": {},
     "output_type": "execute_result"
    }
   ],
   "source": [
    "msg = 'Hola Que TAL'\n",
    "\n",
    "pon_mayuscula(msg)"
   ]
  },
  {
   "cell_type": "code",
   "execution_count": 23,
   "id": "6d25fdfc",
   "metadata": {
    "scrolled": true
   },
   "outputs": [
    {
     "data": {
      "text/plain": [
       "'Hola Que Tal'"
      ]
     },
     "execution_count": 23,
     "metadata": {},
     "output_type": "execute_result"
    }
   ],
   "source": [
    "pon_title(msg)"
   ]
  },
  {
   "cell_type": "code",
   "execution_count": 24,
   "id": "aea73530",
   "metadata": {},
   "outputs": [
    {
     "data": {
      "text/plain": [
       "'hola que tal'"
      ]
     },
     "execution_count": 24,
     "metadata": {},
     "output_type": "execute_result"
    }
   ],
   "source": [
    "pon_minuscula(msg)"
   ]
  },
  {
   "cell_type": "code",
   "execution_count": 25,
   "id": "40cb554b",
   "metadata": {},
   "outputs": [],
   "source": [
    "def formatea_nombre(cadena, format_func):\n",
    "    return format_func(cadena)"
   ]
  },
  {
   "cell_type": "code",
   "execution_count": 26,
   "id": "86f60df0",
   "metadata": {},
   "outputs": [
    {
     "data": {
      "text/plain": [
       "'Hola Juan Y Pepe'"
      ]
     },
     "execution_count": 26,
     "metadata": {},
     "output_type": "execute_result"
    }
   ],
   "source": [
    "formatea_nombre('hola Juan y pepe', str.title)"
   ]
  },
  {
   "cell_type": "code",
   "execution_count": 27,
   "id": "d006a0bc",
   "metadata": {},
   "outputs": [
    {
     "data": {
      "text/plain": [
       "True"
      ]
     },
     "execution_count": 27,
     "metadata": {},
     "output_type": "execute_result"
    }
   ],
   "source": [
    "formatea_nombre('hola Juan y pepe', str.isascii)"
   ]
  },
  {
   "cell_type": "code",
   "execution_count": 28,
   "id": "0703e5c4",
   "metadata": {},
   "outputs": [
    {
     "data": {
      "text/plain": [
       "'HOLA JUAN Y PEPE'"
      ]
     },
     "execution_count": 28,
     "metadata": {},
     "output_type": "execute_result"
    }
   ],
   "source": [
    "formatea_nombre('hola Juan y pepe', str.upper)"
   ]
  },
  {
   "cell_type": "code",
   "execution_count": 29,
   "id": "92d507a4",
   "metadata": {},
   "outputs": [
    {
     "data": {
      "text/plain": [
       "'Hola Juan Y Pepe'"
      ]
     },
     "execution_count": 29,
     "metadata": {},
     "output_type": "execute_result"
    }
   ],
   "source": [
    "formatea_nombre('hola Juan y pepe', str.title)"
   ]
  },
  {
   "cell_type": "code",
   "execution_count": 30,
   "id": "2e2262b0",
   "metadata": {},
   "outputs": [],
   "source": [
    "def pon_mayuscula(nombre):\n",
    "    return formatea_nombre(nombre, str.upper)\n",
    "\n",
    "def pon_title(nombre):\n",
    "    return formatea_nombre(nombre, str.title)\n",
    "\n",
    "def pon_minuscula(nombre):\n",
    "    return formatea_nombre(nombre, str.lower)"
   ]
  },
  {
   "cell_type": "code",
   "execution_count": 31,
   "id": "c837ebc9",
   "metadata": {},
   "outputs": [
    {
     "data": {
      "text/plain": [
       "('HOLA QUE TAL', 'Hola Que Tal', 'hola que tal')"
      ]
     },
     "execution_count": 31,
     "metadata": {},
     "output_type": "execute_result"
    }
   ],
   "source": [
    "pon_mayuscula(msg), pon_title(msg), pon_minuscula(msg)"
   ]
  },
  {
   "cell_type": "markdown",
   "id": "a2462ad9-59f0-4291-9a8c-f0e68c44cb4a",
   "metadata": {},
   "source": [
    "## Ejercicio\n",
    "\n",
    "Repetir lo mismo pero para cambiar de tamaño toda la cadena"
   ]
  },
  {
   "cell_type": "code",
   "execution_count": null,
   "id": "4f21b20e-d21c-4873-b572-2ff4c3d9f586",
   "metadata": {},
   "outputs": [],
   "source": []
  },
  {
   "cell_type": "markdown",
   "id": "4787c16a",
   "metadata": {},
   "source": [
    "# Funciones recursivas\n",
    "\n",
    "La recursividad de funciones se hace cuando una función se llama a sí misma.\n",
    "\n",
    "Suele componerse de las siguientes partes:\n",
    "* Caso base\n",
    "* Actualización\n",
    "* Llamada recursiva\n",
    "\n",
    "Si no hay caso base, puede degenerar en funciones recursivas infinitas (que nunca paren de ejecutarse)\n",
    "\n",
    "Las aplicaciones de funciones recursivas se pueden dar en:\n",
    "* Funciones que recorren estructuras de datos: iteradores, arboles o grafos entre muchos.\n",
    "* Funciones acumuladoras: las cuales comienzan con unos valores y a medida que van ejecutandose recursivamente van cambiando los mismos.\n",
    "\n",
    "Existen multiples formas de crear funciones recursivas pero las más principales son:\n",
    "* Funciones recursivas con acumulador: se va guardando en una variable el valor acumulado hasta la ejecución actual y es el que se devuelve al final de la ejecución.\n",
    "* Recursivas puras: se van calculando sobre calculos que se deben de realizar recursivamente\n"
   ]
  },
  {
   "cell_type": "code",
   "execution_count": 32,
   "id": "55aaab89",
   "metadata": {},
   "outputs": [
    {
     "name": "stdout",
     "output_type": "stream",
     "text": [
      "45\n"
     ]
    }
   ],
   "source": [
    "def sum_rec(lista):\n",
    "    if len(lista) == 0:  # if not lista\n",
    "        return 0  # caso base\n",
    "    \n",
    "    return lista[0] + sum_rec(lista[1:])  # llamada recursiva\n",
    "\n",
    "numeros = range(10)\n",
    "print(sum_rec(numeros))"
   ]
  },
  {
   "cell_type": "code",
   "execution_count": 33,
   "id": "5bf5cd45",
   "metadata": {},
   "outputs": [
    {
     "name": "stdout",
     "output_type": "stream",
     "text": [
      "45\n"
     ]
    }
   ],
   "source": [
    "def sum_acc(lista, acc=0):\n",
    "    if len(lista) == 0:  # if not lista\n",
    "        return acc  # caso base\n",
    "\n",
    "    acc += lista[0]  # actualización\n",
    "    \n",
    "    return sum_acc(lista[1:], acc)  # llamada recursiva\n",
    "\n",
    "numeros = range(10)\n",
    "print(sum_acc(numeros))"
   ]
  },
  {
   "cell_type": "code",
   "execution_count": null,
   "id": "f6fd24ec",
   "metadata": {},
   "outputs": [],
   "source": []
  },
  {
   "cell_type": "markdown",
   "id": "478c0c11",
   "metadata": {},
   "source": [
    "## Ejercicio 1 - Multiplicación recursiva\n",
    "\n",
    "Hacer un multiplicador recursivo que comience en 1 y:\n",
    "* si el número es par multiplique por 3\n",
    "* si es impar multiplique por 2\n",
    "\n",
    "```python\n",
    "mul_acc([1, 2, 3, 4, 5]) == 8640\n",
    "mul_acc([2, 5]) == 60\n",
    "mul_acc([]) == 1\n",
    "```"
   ]
  },
  {
   "cell_type": "code",
   "execution_count": null,
   "id": "305e092f",
   "metadata": {},
   "outputs": [],
   "source": []
  },
  {
   "cell_type": "code",
   "execution_count": null,
   "id": "2d7c1820",
   "metadata": {},
   "outputs": [],
   "source": []
  },
  {
   "cell_type": "markdown",
   "id": "32cf6af5",
   "metadata": {},
   "source": [
    "## Ejercicio 2 - Fibonacci\n",
    "\n",
    "La serie de Fibonacci se crea sumando los dos valores anteriores de la serie, crear una función recursiva que los calcule.\n",
    "\n",
    "```python\n",
    "fib(0) == 0\n",
    "fib(1) == 1\n",
    "fib(2) == 1\n",
    "fib(3) == 2\n",
    "fib(4) == 3\n",
    "fib(5) == 5\n",
    "fib(6) == 8\n",
    "fib(7) == 13\n",
    "\n",
    "...\n",
    "\n",
    "fib(20) == ?\n",
    "```"
   ]
  },
  {
   "cell_type": "code",
   "execution_count": null,
   "id": "dff0ac47",
   "metadata": {},
   "outputs": [],
   "source": []
  },
  {
   "cell_type": "markdown",
   "id": "81738dbb-57b1-4175-b4f0-6ae12e5efa73",
   "metadata": {},
   "source": [
    "# Funciones generadoras\n",
    "\n",
    "Las funciones generadoras en Python son una forma poderosa y eficiente de generar secuencias de valores en lugar de almacenar todos los valores en la memoria al mismo tiempo. \n",
    "\n",
    "Se definen utilizando la palabra clave `yield` en lugar de `return`. \n",
    "\n",
    "Cuando una función generadora se llama, no se ejecuta completamente en ese momento. En su lugar, devuelve un objeto generador que permite la ejecución pausada de la función. Cada vez que la función alcanza una declaración `yield`, se pausa y devuelve el valor especificado. Luego, la función se reanuda desde ese punto la próxima vez que se llama.\n",
    "\n",
    "### Ejemplo Básico:\n",
    "\n",
    "```python\n",
    "def contador(n):\n",
    "    i = 0\n",
    "    while i < n:\n",
    "        yield i\n",
    "        i += 1\n",
    "\n",
    "# Uso básico\n",
    "gen = contador(5)\n",
    "for num in gen:\n",
    "    print(num)\n",
    "```\n",
    "\n",
    "Este ejemplo genera una secuencia de números del 0 al 4 utilizando una función generadora `contador`.\n",
    "\n",
    "### Ejemplo Medio:\n",
    "\n",
    "```python\n",
    "def fibonacci(n):\n",
    "    a, b = 0, 1\n",
    "    for _ in range(n):\n",
    "        yield a\n",
    "        a, b = b, a + b\n",
    "\n",
    "# Uso medio\n",
    "gen = fibonacci(10)\n",
    "for num in gen:\n",
    "    print(num)\n",
    "```\n",
    "\n",
    "En este ejemplo, la función generadora `fibonacci` genera una secuencia de los primeros 10 números de la serie Fibonacci de manera eficiente sin almacenarlos todos en memoria.\n",
    "\n",
    "### Ejemplo Avanzado:\n",
    "\n",
    "```python\n",
    "def busca_archivos(directorio, extension):\n",
    "    for root, _, files in os.walk(directorio):\n",
    "        for file in files:\n",
    "            if file.endswith(extension):\n",
    "                yield os.path.join(root, file)\n",
    "\n",
    "# Uso avanzado\n",
    "for archivo in busca_archivos(\"/ruta/a/directorio\", \".txt\"):\n",
    "    print(archivo)\n",
    "```\n",
    "\n",
    "En este ejemplo avanzado, la función generadora `busca_archivos` busca archivos con una extensión específica en un directorio y sus subdirectorios de manera eficiente, ya que no carga todos los nombres de archivo en la memoria de una vez.\n",
    "\n",
    "Las funciones generadoras son especialmente útiles cuando trabajas con conjuntos de datos grandes o cuando deseas generar secuencias infinitas de valores, como números primos. Te permiten conservar recursos de memoria al generar valores bajo demanda.\n"
   ]
  },
  {
   "cell_type": "markdown",
   "id": "e0b2f950-c5da-4ea9-8920-4beecb270bf2",
   "metadata": {},
   "source": [
    "## Espacio usado\n",
    "\n",
    "Comparemos las diferencias entre funciones y generadoras creando muchas cadenas"
   ]
  },
  {
   "cell_type": "code",
   "execution_count": 34,
   "id": "270e29fc-6ba4-44cc-80ad-d1fa154aa4be",
   "metadata": {},
   "outputs": [],
   "source": [
    "def crea_cadenas(n):\n",
    "    cadenas = []\n",
    "    for i in range(n):\n",
    "        cadenas.append(\"Cadena número \" + str(i))\n",
    "    return cadenas\n",
    "\n",
    "\n",
    "#cadenas = crea_cadenas(1000000)  # Crea un millón de cadenas"
   ]
  },
  {
   "cell_type": "markdown",
   "id": "5f6aa9e8-3e52-47a2-bb25-cb51fae16120",
   "metadata": {},
   "source": [
    "Ahora, la función generadora que hace lo mismo:"
   ]
  },
  {
   "cell_type": "code",
   "execution_count": 35,
   "id": "ebd4fc99-2f43-4823-aff3-c1ee2f0e86a2",
   "metadata": {},
   "outputs": [],
   "source": [
    "def generador_cadenas(n):\n",
    "    for i in range(n):\n",
    "        yield \"Cadena número \" + str(i)\n",
    "\n",
    "#generador = generador_cadenas(1000000)  # Crea un generador de un millón de cadenas"
   ]
  },
  {
   "cell_type": "markdown",
   "id": "bcd3fcc4-504d-4da2-9c8c-61477bce8647",
   "metadata": {},
   "source": [
    "Para comparar los tamaños de los resultados, puedes usar la biblioteca `sys` para obtener el tamaño en bytes de las listas y generadores:"
   ]
  },
  {
   "cell_type": "code",
   "execution_count": 36,
   "id": "eb602225-8b7e-4463-9cef-9cae9f983cbf",
   "metadata": {},
   "outputs": [
    {
     "name": "stdout",
     "output_type": "stream",
     "text": [
      "Tamaño de la lista: 85176 bytes\n",
      "Tamaño del generador: 224 bytes\n"
     ]
    }
   ],
   "source": [
    "import sys\n",
    "\n",
    "n = 10_000\n",
    "# Tamaño de la lista de cadenas en bytes\n",
    "tamano_lista = sys.getsizeof(crea_cadenas(n))\n",
    "\n",
    "# Tamaño del generador de cadenas en bytes\n",
    "tamano_generador = sys.getsizeof(generador_cadenas(n))\n",
    "\n",
    "print(f\"Tamaño de la lista: {tamano_lista} bytes\")\n",
    "print(f\"Tamaño del generador: {tamano_generador} bytes\")"
   ]
  },
  {
   "cell_type": "markdown",
   "id": "8c70190f-0635-4096-b48c-06e57c47634c",
   "metadata": {},
   "source": [
    "La diferencia en el uso de memoria entre una lista de cadenas y un generador de cadenas será significativa. La lista ocupará mucho más espacio en memoria, ya que almacena todas las cadenas en la memoria, mientras que el generador solo almacena una cadena a la vez y se genera bajo demanda, ocupando mucho menos espacio."
   ]
  },
  {
   "cell_type": "markdown",
   "id": "150ef6b6-6961-4ed8-b786-e891b1da7c54",
   "metadata": {},
   "source": [
    "## Ejercicio 1: Generador de Números Pares\n",
    "Escribe una función generadora llamada `generar_pares` que genere todos los números pares menores que un número dado `n`."
   ]
  },
  {
   "cell_type": "code",
   "execution_count": null,
   "id": "7cf60276-503d-410f-8825-ac71096290d7",
   "metadata": {},
   "outputs": [],
   "source": []
  },
  {
   "cell_type": "markdown",
   "id": "68cab300-4bc2-44ff-815f-8822825a3429",
   "metadata": {},
   "source": [
    "## Ejercicio 2: Generador de Potencias de 2\n",
    "\n",
    "Crea un generador llamado `potencias_de_dos` que genere las primeras `n` potencias de 2.\n"
   ]
  },
  {
   "cell_type": "code",
   "execution_count": null,
   "id": "429698b3-ffc6-4e55-a1b6-c6ea4ff2ef43",
   "metadata": {},
   "outputs": [],
   "source": []
  },
  {
   "cell_type": "markdown",
   "id": "7c314f03-193e-4382-b440-5123a4e10ab5",
   "metadata": {},
   "source": [
    "## Ejercicio 3: Generador de Números Primos\n",
    "\n",
    "Implementa un generador llamado `generar_primos` que genere números primos indefinidamente."
   ]
  },
  {
   "cell_type": "code",
   "execution_count": null,
   "id": "4a9de0b1-83a7-4fcd-8c87-9f1a5d57fb4d",
   "metadata": {},
   "outputs": [],
   "source": []
  },
  {
   "cell_type": "markdown",
   "id": "792a5d47-ef77-4f03-847d-e3fc6c8dad22",
   "metadata": {},
   "source": [
    "## Ejercicio 4: Generador de Fibonacci\n",
    "\n",
    "Crea un generador llamado `fibonacci` que genere la secuencia de Fibonacci indefinidamente.\n"
   ]
  },
  {
   "cell_type": "code",
   "execution_count": null,
   "id": "fac8942a-453d-4ae6-92cc-c6f7c3ca9590",
   "metadata": {},
   "outputs": [],
   "source": []
  }
 ],
 "metadata": {
  "kernelspec": {
   "display_name": "Python 3 (ipykernel)",
   "language": "python",
   "name": "python3"
  },
  "language_info": {
   "codemirror_mode": {
    "name": "ipython",
    "version": 3
   },
   "file_extension": ".py",
   "mimetype": "text/x-python",
   "name": "python",
   "nbconvert_exporter": "python",
   "pygments_lexer": "ipython3",
   "version": "3.11.5"
  }
 },
 "nbformat": 4,
 "nbformat_minor": 5
}
