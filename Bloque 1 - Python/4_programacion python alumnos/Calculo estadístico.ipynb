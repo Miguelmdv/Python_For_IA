{
 "cells": [
  {
   "cell_type": "markdown",
   "id": "3762ac79-52ca-49aa-baa5-075dc5e5ef0f",
   "metadata": {},
   "source": [
    "# Calcular operaciones estadísticas\n",
    "\n",
    "Caclular la media, mediana y las desviaciones estandar de una lista de datos numéricos"
   ]
  },
  {
   "cell_type": "code",
   "execution_count": null,
   "id": "6b94bc67-f76a-4d57-bab5-85fc4c81661b",
   "metadata": {},
   "outputs": [],
   "source": [
    "# Función para calcular la media\n",
    "def calcular_media(datos):\n",
    "    if len(datos) == 0:\n",
    "        return None\n",
    "    else:\n",
    "        return sum(datos) / len(datos)\n",
    "\n",
    "# Función para calcular la mediana\n",
    "def calcular_mediana(datos):\n",
    "    if len(datos) == 0:\n",
    "        return None\n",
    "    else:\n",
    "        datos_ordenados = sorted(datos)\n",
    "        n = len(datos_ordenados)\n",
    "        if n % 2 == 0:\n",
    "            mediana = (datos_ordenados[n // 2 - 1] + datos_ordenados[n // 2]) / 2\n",
    "        else:\n",
    "            mediana = datos_ordenados[n // 2]\n",
    "        return mediana\n",
    "\n",
    "# Función para calcular la desviación estándar (desviación típica)\n",
    "def calcular_desviacion_estandar(datos):\n",
    "    if len(datos) == 0:\n",
    "        return None\n",
    "    else:\n",
    "        media = calcular_media(datos)\n",
    "        suma_cuadrados = sum((x - media) ** 2 for x in datos)\n",
    "        desviacion_estandar = (suma_cuadrados / (len(datos) - 1)) ** 0.5\n",
    "        return desviacion_estandar"
   ]
  },
  {
   "cell_type": "code",
   "execution_count": null,
   "id": "bf4bde71-f606-4800-ba28-366cbcc10646",
   "metadata": {},
   "outputs": [],
   "source": [
    "## O aún mejor si se usa la librería de statistics\n",
    "\n",
    "import statistics\n",
    "\n",
    "# Función para calcular la media\n",
    "def calcular_media(datos):\n",
    "    if len(datos) == 0:\n",
    "        return None\n",
    "    else:\n",
    "        return sum(datos) / len(datos)\n",
    "\n",
    "# Función para calcular la mediana\n",
    "def calcular_mediana(datos):\n",
    "    if len(datos) == 0:\n",
    "        return None\n",
    "    else:\n",
    "        return statistics.median(datos)\n",
    "\n",
    "# Función para calcular la desviación estándar (desviación típica)\n",
    "def calcular_desviacion_estandar(datos):\n",
    "    if len(datos) == 0:\n",
    "        return None\n",
    "    else:\n",
    "        return statistics.stdev(datos)\n"
   ]
  },
  {
   "cell_type": "code",
   "execution_count": null,
   "id": "53d612a1-230c-4c7e-b79c-ffc85c914b64",
   "metadata": {},
   "outputs": [],
   "source": [
    "# Ejemplo de uso de las funciones\n",
    "datos = [1.2, 2.4, 3.6, 4.8, 6.0]\n",
    "media = calcular_media(datos)\n",
    "mediana = calcular_mediana(datos)\n",
    "percentil_25 = calcular_percentil(datos, 25)\n",
    "desviacion_estandar = calcular_desviacion_estandar(datos)\n",
    "\n",
    "print(\"Media:\", media)\n",
    "print(\"Mediana:\", mediana)\n",
    "print(\"Desviación Estándar:\", desviacion_estandar)"
   ]
  },
  {
   "cell_type": "code",
   "execution_count": null,
   "id": "095bef6b-72e4-43e0-a82a-1ac18a10d4e6",
   "metadata": {},
   "outputs": [],
   "source": []
  }
 ],
 "metadata": {
  "kernelspec": {
   "display_name": "Python 3 (ipykernel)",
   "language": "python",
   "name": "python3"
  },
  "language_info": {
   "codemirror_mode": {
    "name": "ipython",
    "version": 3
   },
   "file_extension": ".py",
   "mimetype": "text/x-python",
   "name": "python",
   "nbconvert_exporter": "python",
   "pygments_lexer": "ipython3",
   "version": "3.10.10"
  }
 },
 "nbformat": 4,
 "nbformat_minor": 5
}
