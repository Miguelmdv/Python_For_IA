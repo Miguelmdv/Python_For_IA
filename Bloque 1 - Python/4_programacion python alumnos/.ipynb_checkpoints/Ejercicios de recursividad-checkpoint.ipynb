{
 "cells": [
  {
   "cell_type": "markdown",
   "id": "4bafe5dd-3b92-4f8a-9363-7faaeae470e1",
   "metadata": {
    "editable": true,
    "slideshow": {
     "slide_type": ""
    },
    "tags": []
   },
   "source": [
    "# Recursividad con ejemplos\n",
    "\n",
    "* Cálculo de números primos\n",
    "* Tic tac toe"
   ]
  },
  {
   "cell_type": "markdown",
   "id": "d6031eb4-c3d1-40c5-a70a-d805d27a0b03",
   "metadata": {},
   "source": [
    "## Cálculo de números primos\n",
    "\n",
    "Un número primo es un número mayor o igual que 1 que es solo divisible entre si mismo y no es multiplo de otros"
   ]
  },
  {
   "cell_type": "code",
   "execution_count": null,
   "id": "d957f7f4-12fd-4d3a-8ffa-8d4697310077",
   "metadata": {},
   "outputs": [],
   "source": []
  },
  {
   "cell_type": "code",
   "execution_count": null,
   "id": "e73a5295-0aec-494e-9697-a5a901ad5033",
   "metadata": {},
   "outputs": [],
   "source": []
  },
  {
   "cell_type": "code",
   "execution_count": null,
   "id": "a65c6743-931e-4c41-9f3a-f2be511b7f8d",
   "metadata": {},
   "outputs": [],
   "source": []
  },
  {
   "cell_type": "markdown",
   "id": "64119d7b-9149-4612-a21c-bafa41cc2e59",
   "metadata": {},
   "source": [
    "## Tic Tac Toe\n",
    "\n",
    "El juego consiste en un tablero de 9 posiciones donde en cada turno uno de los jugadores debe de elegir una fila y columna que donde quiere poner su ficha\n",
    "\n",
    "En cada turno se cambia de jugador\n",
    "\n",
    "Gana el jugador que consiga colocar 3 fichas consecutivas de forma vertical, horizontal u oblicua"
   ]
  },
  {
   "cell_type": "code",
   "execution_count": null,
   "id": "50fa859d-26f7-4ec4-86bb-b201cacf0e94",
   "metadata": {},
   "outputs": [],
   "source": []
  },
  {
   "cell_type": "code",
   "execution_count": null,
   "id": "99f7742b-2c28-4f62-8873-5a395ee1d4e2",
   "metadata": {},
   "outputs": [],
   "source": []
  },
  {
   "cell_type": "code",
   "execution_count": null,
   "id": "279685cb-92c4-4a18-822f-32b9dcf6254e",
   "metadata": {},
   "outputs": [],
   "source": []
  },
  {
   "cell_type": "code",
   "execution_count": null,
   "id": "b44dfee2-25c1-4758-8718-c4bbdbd2aa31",
   "metadata": {},
   "outputs": [],
   "source": []
  }
 ],
 "metadata": {
  "kernelspec": {
   "display_name": "Python 3 (ipykernel)",
   "language": "python",
   "name": "python3"
  },
  "language_info": {
   "codemirror_mode": {
    "name": "ipython",
    "version": 3
   },
   "file_extension": ".py",
   "mimetype": "text/x-python",
   "name": "python",
   "nbconvert_exporter": "python",
   "pygments_lexer": "ipython3",
   "version": "3.10.10"
  }
 },
 "nbformat": 4,
 "nbformat_minor": 5
}
