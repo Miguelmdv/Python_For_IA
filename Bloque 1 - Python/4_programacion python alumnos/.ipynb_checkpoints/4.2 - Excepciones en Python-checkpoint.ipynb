{
 "cells": [
  {
   "cell_type": "markdown",
   "id": "f330ca05",
   "metadata": {},
   "source": [
    "# Excepciones\n",
    "\n",
    "Las excepciones están presentes en Python y permiten controlar el flujo de la ejecución y ser elevadas cuando un error de cualquier tipo es encontrado\n",
    "\n",
    "Las excepciones en Python son derivadas de una clase principal llamada `Exception` y todas las demás se crean para atajar errores más y más concretos siguiendo una estructura de árbol como sigue:\n"
   ]
  },
  {
   "cell_type": "markdown",
   "id": "8519d389",
   "metadata": {},
   "source": [
    "```python\n",
    "BaseException\n",
    " +-- SystemExit\n",
    " +-- KeyboardInterrupt\n",
    " +-- GeneratorExit\n",
    " +-- Exception\n",
    "      +-- StopIteration\n",
    "      +-- StopAsyncIteration\n",
    "      +-- ArithmeticError\n",
    "      |    +-- FloatingPointError\n",
    "      |    +-- OverflowError\n",
    "      |    +-- ZeroDivisionError\n",
    "      +-- AssertionError\n",
    "      +-- AttributeError\n",
    "      +-- BufferError\n",
    "      +-- EOFError\n",
    "      +-- ImportError\n",
    "      |    +-- ModuleNotFoundError\n",
    "      +-- LookupError\n",
    "      |    +-- IndexError\n",
    "      |    +-- KeyError\n",
    "      +-- MemoryError\n",
    "      +-- NameError\n",
    "      |    +-- UnboundLocalError\n",
    "      +-- OSError\n",
    "      |    +-- BlockingIOError\n",
    "      |    +-- ChildProcessError\n",
    "      |    +-- ConnectionError\n",
    "      |    |    +-- BrokenPipeError\n",
    "      |    |    +-- ConnectionAbortedError\n",
    "      |    |    +-- ConnectionRefusedError\n",
    "      |    |    +-- ConnectionResetError\n",
    "      |    +-- FileExistsError\n",
    "      |    +-- FileNotFoundError\n",
    "      |    +-- InterruptedError\n",
    "      |    +-- IsADirectoryError\n",
    "      |    +-- NotADirectoryError\n",
    "      |    +-- PermissionError\n",
    "      |    +-- ProcessLookupError\n",
    "      |    +-- TimeoutError\n",
    "      +-- ReferenceError\n",
    "      +-- RuntimeError\n",
    "      |    +-- NotImplementedError\n",
    "      |    +-- RecursionError\n",
    "      +-- SyntaxError\n",
    "      |    +-- IndentationError\n",
    "      |         +-- TabError\n",
    "      +-- SystemError\n",
    "      +-- TypeError\n",
    "      +-- ValueError\n",
    "      |    +-- UnicodeError\n",
    "      |         +-- UnicodeDecodeError\n",
    "      |         +-- UnicodeEncodeError\n",
    "      |         +-- UnicodeTranslateError\n",
    "      +-- Warning\n",
    "           +-- DeprecationWarning\n",
    "           +-- PendingDeprecationWarning\n",
    "           +-- RuntimeWarning\n",
    "           +-- SyntaxWarning\n",
    "           +-- UserWarning\n",
    "           +-- FutureWarning\n",
    "           +-- ImportWarning\n",
    "           +-- UnicodeWarning\n",
    "           +-- BytesWarning\n",
    "           +-- ResourceWarning\n",
    "```"
   ]
  },
  {
   "cell_type": "markdown",
   "id": "cc333a98",
   "metadata": {},
   "source": [
    "## Creación de excepciones propias\n",
    "\n",
    "Python permite crear excepciones propias heredando de excepciones definidas o del propio `Exception` y se pueden elevar usando `raise`"
   ]
  },
  {
   "cell_type": "code",
   "execution_count": 6,
   "id": "08f6cf3f",
   "metadata": {},
   "outputs": [
    {
     "ename": "MiExcepcion",
     "evalue": "'No puedo ver que 4 sea mayor que 1'",
     "output_type": "error",
     "traceback": [
      "\u001b[0;31m---------------------------------------------------------------------------\u001b[0m",
      "\u001b[0;31mMiExcepcion\u001b[0m                               Traceback (most recent call last)",
      "\u001b[0;32m<ipython-input-6-0711890e0ba9>\u001b[0m in \u001b[0;36m<module>\u001b[0;34m\u001b[0m\n\u001b[1;32m      3\u001b[0m \u001b[0;34m\u001b[0m\u001b[0m\n\u001b[1;32m      4\u001b[0m \u001b[0;32mif\u001b[0m \u001b[0;36m1\u001b[0m \u001b[0;34m<\u001b[0m \u001b[0;36m4\u001b[0m\u001b[0;34m:\u001b[0m\u001b[0;34m\u001b[0m\u001b[0;34m\u001b[0m\u001b[0m\n\u001b[0;32m----> 5\u001b[0;31m     \u001b[0;32mraise\u001b[0m \u001b[0mMiExcepcion\u001b[0m\u001b[0;34m(\u001b[0m\u001b[0;34m'No puedo ver que 4 sea mayor que 1'\u001b[0m\u001b[0;34m)\u001b[0m\u001b[0;34m\u001b[0m\u001b[0;34m\u001b[0m\u001b[0m\n\u001b[0m",
      "\u001b[0;31mMiExcepcion\u001b[0m: 'No puedo ver que 4 sea mayor que 1'"
     ]
    }
   ],
   "source": [
    "class MiExcepcion(KeyError):\n",
    "    pass\n",
    "\n",
    "if 1 < 4:\n",
    "    raise MiExcepcion('No puedo ver que 4 sea mayor que 1')"
   ]
  },
  {
   "cell_type": "markdown",
   "id": "9d00fd4c",
   "metadata": {},
   "source": [
    "## Manejo de excepciones `try-except`\n",
    "\n",
    "La forma de manejar excepciones más común es mediante el encapsulamiento de bloques de código que potencialmente pueden elevar alguna excepción en bloques try-except tal como:\n",
    "\n",
    "```python\n",
    "try:\n",
    "    res = dct[x]\n",
    "except KeyError:\n",
    "    print('El elemento no está presente en el diccionario')\n",
    "```\n",
    "\n",
    "Pero adicionalmente se pueden añadir las sentencias `else` y `finally` para ejecutar un código en caso de que no se lance la excepción y para que siempre se ejecute respectivamente"
   ]
  },
  {
   "cell_type": "code",
   "execution_count": 1,
   "id": "dcce8ef9",
   "metadata": {},
   "outputs": [
    {
     "name": "stdout",
     "output_type": "stream",
     "text": [
      "El elemento rueda no está presente en {'tipo': 'Coche'}\n",
      "Ejecución completada\n"
     ]
    }
   ],
   "source": [
    "def obtener_valor(dct, key):\n",
    "    try:\n",
    "        res = dct[key]\n",
    "    except KeyError:\n",
    "        print(f'El elemento {key} no está presente en {dct}')\n",
    "    else:\n",
    "        print(f'El elemento {key} es \"{res}\"')\n",
    "    finally:\n",
    "        print('Ejecución completada')\n",
    "\n",
    "dct = dict(tipo='Coche')\n",
    "\n",
    "obtener_valor(dct, 'rueda')\n"
   ]
  },
  {
   "cell_type": "code",
   "execution_count": 2,
   "id": "dc60ba0d",
   "metadata": {},
   "outputs": [
    {
     "name": "stdout",
     "output_type": "stream",
     "text": [
      "El elemento tipo es Coche\n",
      "Ejecución completada\n"
     ]
    }
   ],
   "source": [
    "obtener_valor(dct, 'tipo')"
   ]
  },
  {
   "cell_type": "markdown",
   "id": "0a8f0f0f-34df-42e7-aa8b-5adf78c40050",
   "metadata": {},
   "source": [
    "## Ejercicio\n",
    "\n",
    "Crear una función que pinte los elementos de una lista y si encuentra el elemento `Azul` debe de elevar una excepción `ValueError`"
   ]
  },
  {
   "cell_type": "code",
   "execution_count": null,
   "id": "063386fc-03f4-4df6-9cdb-f3403681dea5",
   "metadata": {},
   "outputs": [],
   "source": []
  }
 ],
 "metadata": {
  "kernelspec": {
   "display_name": "Python 3 (ipykernel)",
   "language": "python",
   "name": "python3"
  },
  "language_info": {
   "codemirror_mode": {
    "name": "ipython",
    "version": 3
   },
   "file_extension": ".py",
   "mimetype": "text/x-python",
   "name": "python",
   "nbconvert_exporter": "python",
   "pygments_lexer": "ipython3",
   "version": "3.10.10"
  }
 },
 "nbformat": 4,
 "nbformat_minor": 5
}
