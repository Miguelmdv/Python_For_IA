{
 "cells": [
  {
   "cell_type": "markdown",
   "id": "e906d29b-8a29-4da5-a796-44cf62f3f101",
   "metadata": {
    "editable": true,
    "slideshow": {
     "slide_type": ""
    },
    "tags": []
   },
   "source": [
    "# Obtener información de un CSV - Análisis de MOTO GP\n",
    "\n",
    "Para obtener información de un CSV, primero hay que poder manejar archivos\n",
    "\n",
    "Para esto se utiliza la función `open` la cual permite abrir archivos y gracias al uso de contextos con `with` de python podemos hacer uso del contexto de la función y abrir lo en diferentes modos:\n",
    "* `r`: para modo lectura\n",
    "* `w`: para modo escritura\n",
    "* `a`: para modo añadir\n",
    "* `b`: para modo escritura de bytes\n",
    "* `+`: para actualizar (lectura y escritura)\n",
    "\n",
    "La apertura de fichero nos proporciona un descriptor al cual se le puede pedir datos usando el método `read`, o `write`. [Dcoumentación de open](https://docs.python.org/3/library/functions.html#open)"
   ]
  },
  {
   "cell_type": "code",
   "execution_count": 1,
   "id": "5b3aa52d-4d0a-4eab-9828-632eb61d1299",
   "metadata": {},
   "outputs": [
    {
     "name": "stdout",
     "output_type": "stream",
     "text": [
      "Pos.,Piloto,nombre,constructor,Puntos\n",
      "1,Italia,Francesco Bagnaia,Ducati,251\n",
      "2,España,Jorge Martín,Ducati,189\n",
      "3,Italia,Marco Bezzecchi,Ducati,183\n",
      "4,Sudáfrica,Brad Binder       ,KTM,160\n",
      "5,Francia,Johann Zarco,Ducati,125\n",
      "6,Italia,Luca Marini       ,Ducati,120\n",
      "7,España,Aleix Espargaró       ,Aprilia,117\n",
      "8,Australia,Jack Miller,KTM,96\n",
      "9,España,Álex Márquez       ,Ducati,92\n",
      "10,España,Maverick Viñales       ,Aprilia,86\n",
      "11,Francia,Fabio Quartararo       ,Yamaha,73\n",
      "12,Italia,Franco Morbidelli       ,Yamaha,65\n",
      "13,España,Augusto Fernández       ,KTM,51\n",
      "14,España,Alex Rins       ,Honda,47\n",
      "15,Portugal,Miguel Oliveira       ,Aprilia,40\n",
      "16,Italia,Fabio Di Giannantonio       ,Ducati,37\n",
      "17,Japón,Takaaki Nakagami       ,Honda,34\n",
      "18,Italia,Enea Bastianini       ,Ducati,24\n",
      "19,España,Marc Márquez       ,Honda,19\n",
      "20,España,Raúl Fernández       ,Aprilia,14\n",
      "21,España,Dani Pedrosa       ,KTM,13\n",
      "22,Italia,Lorenzo Savadori,Aprilia,9\n",
      "23,Alemania,Jonas Folger       ,KTM,9\n",
      "24,España,Pol Espargaró,KTM,8\n",
      "25,España,Joan Mir,Honda,5\n",
      "26,Italia,Michele Pirro       ,Ducati,5\n",
      "27,Italia,Danilo Petrucci        ,Ducati,5\n",
      "28,Alemania,Stefan Bradl       ,Honda,5\n",
      "29,España,Iker Lecuona Gascón,Honda,0\n"
     ]
    }
   ],
   "source": [
    "with open(\"Clasificacion-actual.csv\", \"r\") as archivo:\n",
    "    # Lee el contenido del archivo\n",
    "    contenido = archivo.read()\n",
    "    # Realiza operaciones con el contenido, por ejemplo, imprimirlo\n",
    "    print(contenido)\n"
   ]
  },
  {
   "cell_type": "markdown",
   "id": "011b5b10-d8dc-4a98-921d-cba738acbcb7",
   "metadata": {},
   "source": [
    "Como se puede ver, la lecutra la hace directamente sobre el fichero en tipo texto por defecto\n",
    "\n",
    "Para poder analizar el contenido deberíamos de ir partiendo cada línea separando por el separador utilizado (en nuestro caso `,`) e ir analizando según la cabecera y según cada línea"
   ]
  },
  {
   "cell_type": "code",
   "execution_count": 2,
   "id": "1c6b130f-5340-4aff-a09d-06a087d1759c",
   "metadata": {
    "scrolled": true
   },
   "outputs": [
    {
     "name": "stdout",
     "output_type": "stream",
     "text": [
      "[['Pos.', 'Piloto', 'nombre', 'constructor', 'Puntos\\n'],\n",
      " ['1', 'Italia', 'Francesco Bagnaia', 'Ducati', '251\\n'],\n",
      " ['2', 'España', 'Jorge Martín', 'Ducati', '189\\n'],\n",
      " ['3', 'Italia', 'Marco Bezzecchi', 'Ducati', '183\\n'],\n",
      " ['4', 'Sudáfrica', 'Brad Binder       ', 'KTM', '160\\n'],\n",
      " ['5', 'Francia', 'Johann Zarco', 'Ducati', '125\\n'],\n",
      " ['6', 'Italia', 'Luca Marini       ', 'Ducati', '120\\n'],\n",
      " ['7', 'España', 'Aleix Espargaró       ', 'Aprilia', '117\\n'],\n",
      " ['8', 'Australia', 'Jack Miller', 'KTM', '96\\n'],\n",
      " ['9', 'España', 'Álex Márquez       ', 'Ducati', '92\\n'],\n",
      " ['10', 'España', 'Maverick Viñales       ', 'Aprilia', '86\\n'],\n",
      " ['11', 'Francia', 'Fabio Quartararo       ', 'Yamaha', '73\\n'],\n",
      " ['12', 'Italia', 'Franco Morbidelli       ', 'Yamaha', '65\\n'],\n",
      " ['13', 'España', 'Augusto Fernández       ', 'KTM', '51\\n'],\n",
      " ['14', 'España', 'Alex Rins       ', 'Honda', '47\\n'],\n",
      " ['15', 'Portugal', 'Miguel Oliveira       ', 'Aprilia', '40\\n'],\n",
      " ['16', 'Italia', 'Fabio Di Giannantonio       ', 'Ducati', '37\\n'],\n",
      " ['17', 'Japón', 'Takaaki Nakagami       ', 'Honda', '34\\n'],\n",
      " ['18', 'Italia', 'Enea Bastianini       ', 'Ducati', '24\\n'],\n",
      " ['19', 'España', 'Marc Márquez       ', 'Honda', '19\\n'],\n",
      " ['20', 'España', 'Raúl Fernández       ', 'Aprilia', '14\\n'],\n",
      " ['21', 'España', 'Dani Pedrosa       ', 'KTM', '13\\n'],\n",
      " ['22', 'Italia', 'Lorenzo Savadori', 'Aprilia', '9\\n'],\n",
      " ['23', 'Alemania', 'Jonas Folger       ', 'KTM', '9\\n'],\n",
      " ['24', 'España', 'Pol Espargaró', 'KTM', '8\\n'],\n",
      " ['25', 'España', 'Joan Mir', 'Honda', '5\\n'],\n",
      " ['26', 'Italia', 'Michele Pirro       ', 'Ducati', '5\\n'],\n",
      " ['27', 'Italia', 'Danilo Petrucci        ', 'Ducati', '5\\n'],\n",
      " ['28', 'Alemania', 'Stefan Bradl       ', 'Honda', '5\\n'],\n",
      " ['29', 'España', 'Iker Lecuona Gascón', 'Honda', '0']]\n"
     ]
    }
   ],
   "source": [
    "from pprint import pprint\n",
    "\n",
    "idx = 0\n",
    "contenido = []\n",
    "cabecera = []\n",
    "with open(\"Clasificacion-actual.csv\", \"r\") as archivo:\n",
    "    for linea in archivo.readlines():\n",
    "        linea_analizada = linea.split(',')\n",
    "        contenido.append(linea_analizada)\n",
    "\n",
    "pprint(contenido)"
   ]
  },
  {
   "cell_type": "markdown",
   "id": "a42d02ca-4f2a-4497-8918-65175fdd6265",
   "metadata": {},
   "source": [
    "## Uso de csv\n",
    "\n",
    "En el build-in podemos encontrar la librería CSV la cual es de gran ayuda para fichero separados por cualquier delimitador [documentación de CSV](https://docs.python.org/3/library/csv.html)"
   ]
  },
  {
   "cell_type": "markdown",
   "id": "096a0808-c730-44be-ae6c-b7fad2f5e7c8",
   "metadata": {
    "editable": true,
    "slideshow": {
     "slide_type": ""
    },
    "tags": []
   },
   "source": [
    "La librería `csv` permite trabajar con ficheros de datos en formato CSV, o valores separados por delimitadores (no solo comas).\n",
    "\n",
    "Principalmente tiene 4 funciones:\n",
    "* **csv.reader(descriptor, delimiter=',')**: permite crear un lector de ficheros CSV (se lee haciendo `row in lector`).\n",
    "\n",
    "```python\n",
    "import csv\n",
    "with open('eggs.csv', newline='') as csvfile:\n",
    "     spamreader = csv.reader(csvfile, delimiter=' ', quotechar='|')\n",
    "     for row in spamreader:\n",
    "         print(', '.join(row))\n",
    "Spam, Spam, Spam, Spam, Spam, Baked Beans\n",
    "Spam, Lovely Spam, Wonderful Spam\n",
    "```\n",
    "\n",
    "* **csv.write(descriptor, delimiter=',')**: permite crear un escritor de ficheros CSV\n",
    "* **csv.writerow(iter)**: permite guardar una línea como el iterador.\n",
    "\n",
    "```python\n",
    "import csv\n",
    "with open('eggs.csv', 'w', newline='') as csvfile:\n",
    "    spamwriter = csv.writer(csvfile, delimiter=' ',\n",
    "                            quotechar='|', quoting=csv.QUOTE_MINIMAL)\n",
    "    spamwriter.writerow(['Spam'] * 5 + ['Baked Beans'])\n",
    "    spamwriter.writerow(['Spam', 'Lovely Spam', 'Wonderful Spam'])\n",
    "```\n",
    "\n",
    "* **csv.DictReader(descriptor, fieldnames=None)**: permite leer información como diccionario definiendo las claves en fieldnames, sin fieldnames se usa la primera línea como claves del diccionario.\n",
    "\n",
    "```python\n",
    "import csv\n",
    "with open('names.csv', newline='') as csvfile:\n",
    "    reader = csv.DictReader(csvfile)\n",
    "    for row in reader:\n",
    "        print(row['first_name'], row['last_name'])\n",
    "\n",
    "Eric Idle\n",
    "John Cleese\n",
    "\n",
    "print(row)\n",
    "{'first_name': 'John', 'last_name': 'Cleese'}\n",
    "```\n",
    "\n",
    "* **csv.DictWriter(descriptor, fieldnames)**: permite escribir información como diccionarios definiendo las claves en fieldnames, sin fieldnames se usa la primera línea como claves del diccionario.\n",
    "\n",
    "```python\n",
    "with open('names.csv', 'w', newline='') as csvfile:\n",
    "    fieldnames = ['first_name', 'last_name']\n",
    "    writer = csv.DictWriter(csvfile, fieldnames=fieldnames)\n",
    "\n",
    "    writer.writeheader()\n",
    "    writer.writerow({'first_name': 'Baked', 'last_name': 'Beans'})\n",
    "    writer.writerow({'first_name': 'Lovely', 'last_name': 'Spam'})\n",
    "    writer.writerow({'first_name': 'Wonderful', 'last_name': 'Spam'})\n",
    "```\n",
    "\n",
    "Más info en: [csv](https://docs.python.org/es/3/library/csv.html)"
   ]
  },
  {
   "cell_type": "code",
   "execution_count": 3,
   "id": "f6bd0e33-b954-4fdc-be9b-ec80824aab30",
   "metadata": {},
   "outputs": [
    {
     "name": "stdout",
     "output_type": "stream",
     "text": [
      "['Pos.', 'Piloto', 'nombre', 'constructor', 'Puntos']\n",
      "['1', 'Italia', 'Francesco Bagnaia', 'Ducati', '251']\n",
      "['2', 'España', 'Jorge Martín', 'Ducati', '189']\n",
      "['3', 'Italia', 'Marco Bezzecchi', 'Ducati', '183']\n",
      "['4', 'Sudáfrica', 'Brad Binder       ', 'KTM', '160']\n",
      "['5', 'Francia', 'Johann Zarco', 'Ducati', '125']\n",
      "['6', 'Italia', 'Luca Marini       ', 'Ducati', '120']\n",
      "['7', 'España', 'Aleix Espargaró       ', 'Aprilia', '117']\n",
      "['8', 'Australia', 'Jack Miller', 'KTM', '96']\n",
      "['9', 'España', 'Álex Márquez       ', 'Ducati', '92']\n",
      "['10', 'España', 'Maverick Viñales       ', 'Aprilia', '86']\n",
      "['11', 'Francia', 'Fabio Quartararo       ', 'Yamaha', '73']\n",
      "['12', 'Italia', 'Franco Morbidelli       ', 'Yamaha', '65']\n",
      "['13', 'España', 'Augusto Fernández       ', 'KTM', '51']\n",
      "['14', 'España', 'Alex Rins       ', 'Honda', '47']\n",
      "['15', 'Portugal', 'Miguel Oliveira       ', 'Aprilia', '40']\n",
      "['16', 'Italia', 'Fabio Di Giannantonio       ', 'Ducati', '37']\n",
      "['17', 'Japón', 'Takaaki Nakagami       ', 'Honda', '34']\n",
      "['18', 'Italia', 'Enea Bastianini       ', 'Ducati', '24']\n",
      "['19', 'España', 'Marc Márquez       ', 'Honda', '19']\n",
      "['20', 'España', 'Raúl Fernández       ', 'Aprilia', '14']\n",
      "['21', 'España', 'Dani Pedrosa       ', 'KTM', '13']\n",
      "['22', 'Italia', 'Lorenzo Savadori', 'Aprilia', '9']\n",
      "['23', 'Alemania', 'Jonas Folger       ', 'KTM', '9']\n",
      "['24', 'España', 'Pol Espargaró', 'KTM', '8']\n",
      "['25', 'España', 'Joan Mir', 'Honda', '5']\n",
      "['26', 'Italia', 'Michele Pirro       ', 'Ducati', '5']\n",
      "['27', 'Italia', 'Danilo Petrucci        ', 'Ducati', '5']\n",
      "['28', 'Alemania', 'Stefan Bradl       ', 'Honda', '5']\n",
      "['29', 'España', 'Iker Lecuona Gascón', 'Honda', '0']\n"
     ]
    }
   ],
   "source": [
    "import csv\n",
    "\n",
    "with open(\"Clasificacion-actual.csv\", \"r\", newline=\"\") as archivo:\n",
    "    lector_csv = csv.reader(archivo)\n",
    "    for fila in lector_csv:\n",
    "        # Cada fila es una lista de valores en el archivo CSV\n",
    "        print(fila)"
   ]
  },
  {
   "cell_type": "code",
   "execution_count": 4,
   "id": "e2041af2-8e1d-4554-b93e-c850526a3f06",
   "metadata": {
    "scrolled": true
   },
   "outputs": [
    {
     "data": {
      "text/plain": [
       "[{'Pos.': '1',\n",
       "  'Piloto': 'Italia',\n",
       "  'nombre': 'Francesco Bagnaia',\n",
       "  'constructor': 'Ducati',\n",
       "  'Puntos': '251'},\n",
       " {'Pos.': '2',\n",
       "  'Piloto': 'España',\n",
       "  'nombre': 'Jorge Martín',\n",
       "  'constructor': 'Ducati',\n",
       "  'Puntos': '189'},\n",
       " {'Pos.': '3',\n",
       "  'Piloto': 'Italia',\n",
       "  'nombre': 'Marco Bezzecchi',\n",
       "  'constructor': 'Ducati',\n",
       "  'Puntos': '183'},\n",
       " {'Pos.': '4',\n",
       "  'Piloto': 'Sudáfrica',\n",
       "  'nombre': 'Brad Binder',\n",
       "  'constructor': 'KTM',\n",
       "  'Puntos': '160'},\n",
       " {'Pos.': '5',\n",
       "  'Piloto': 'Francia',\n",
       "  'nombre': 'Johann Zarco',\n",
       "  'constructor': 'Ducati',\n",
       "  'Puntos': '125'},\n",
       " {'Pos.': '6',\n",
       "  'Piloto': 'Italia',\n",
       "  'nombre': 'Luca Marini',\n",
       "  'constructor': 'Ducati',\n",
       "  'Puntos': '120'},\n",
       " {'Pos.': '7',\n",
       "  'Piloto': 'España',\n",
       "  'nombre': 'Aleix Espargaró',\n",
       "  'constructor': 'Aprilia',\n",
       "  'Puntos': '117'},\n",
       " {'Pos.': '8',\n",
       "  'Piloto': 'Australia',\n",
       "  'nombre': 'Jack Miller',\n",
       "  'constructor': 'KTM',\n",
       "  'Puntos': '96'},\n",
       " {'Pos.': '9',\n",
       "  'Piloto': 'España',\n",
       "  'nombre': 'Álex Márquez',\n",
       "  'constructor': 'Ducati',\n",
       "  'Puntos': '92'},\n",
       " {'Pos.': '10',\n",
       "  'Piloto': 'España',\n",
       "  'nombre': 'Maverick Viñales',\n",
       "  'constructor': 'Aprilia',\n",
       "  'Puntos': '86'},\n",
       " {'Pos.': '11',\n",
       "  'Piloto': 'Francia',\n",
       "  'nombre': 'Fabio Quartararo',\n",
       "  'constructor': 'Yamaha',\n",
       "  'Puntos': '73'},\n",
       " {'Pos.': '12',\n",
       "  'Piloto': 'Italia',\n",
       "  'nombre': 'Franco Morbidelli',\n",
       "  'constructor': 'Yamaha',\n",
       "  'Puntos': '65'},\n",
       " {'Pos.': '13',\n",
       "  'Piloto': 'España',\n",
       "  'nombre': 'Augusto Fernández',\n",
       "  'constructor': 'KTM',\n",
       "  'Puntos': '51'},\n",
       " {'Pos.': '14',\n",
       "  'Piloto': 'España',\n",
       "  'nombre': 'Alex Rins',\n",
       "  'constructor': 'Honda',\n",
       "  'Puntos': '47'},\n",
       " {'Pos.': '15',\n",
       "  'Piloto': 'Portugal',\n",
       "  'nombre': 'Miguel Oliveira',\n",
       "  'constructor': 'Aprilia',\n",
       "  'Puntos': '40'},\n",
       " {'Pos.': '16',\n",
       "  'Piloto': 'Italia',\n",
       "  'nombre': 'Fabio Di Giannantonio',\n",
       "  'constructor': 'Ducati',\n",
       "  'Puntos': '37'},\n",
       " {'Pos.': '17',\n",
       "  'Piloto': 'Japón',\n",
       "  'nombre': 'Takaaki Nakagami',\n",
       "  'constructor': 'Honda',\n",
       "  'Puntos': '34'},\n",
       " {'Pos.': '18',\n",
       "  'Piloto': 'Italia',\n",
       "  'nombre': 'Enea Bastianini',\n",
       "  'constructor': 'Ducati',\n",
       "  'Puntos': '24'},\n",
       " {'Pos.': '19',\n",
       "  'Piloto': 'España',\n",
       "  'nombre': 'Marc Márquez',\n",
       "  'constructor': 'Honda',\n",
       "  'Puntos': '19'},\n",
       " {'Pos.': '20',\n",
       "  'Piloto': 'España',\n",
       "  'nombre': 'Raúl Fernández',\n",
       "  'constructor': 'Aprilia',\n",
       "  'Puntos': '14'},\n",
       " {'Pos.': '21',\n",
       "  'Piloto': 'España',\n",
       "  'nombre': 'Dani Pedrosa',\n",
       "  'constructor': 'KTM',\n",
       "  'Puntos': '13'},\n",
       " {'Pos.': '22',\n",
       "  'Piloto': 'Italia',\n",
       "  'nombre': 'Lorenzo Savadori',\n",
       "  'constructor': 'Aprilia',\n",
       "  'Puntos': '9'},\n",
       " {'Pos.': '23',\n",
       "  'Piloto': 'Alemania',\n",
       "  'nombre': 'Jonas Folger',\n",
       "  'constructor': 'KTM',\n",
       "  'Puntos': '9'},\n",
       " {'Pos.': '24',\n",
       "  'Piloto': 'España',\n",
       "  'nombre': 'Pol Espargaró',\n",
       "  'constructor': 'KTM',\n",
       "  'Puntos': '8'},\n",
       " {'Pos.': '25',\n",
       "  'Piloto': 'España',\n",
       "  'nombre': 'Joan Mir',\n",
       "  'constructor': 'Honda',\n",
       "  'Puntos': '5'},\n",
       " {'Pos.': '26',\n",
       "  'Piloto': 'Italia',\n",
       "  'nombre': 'Michele Pirro',\n",
       "  'constructor': 'Ducati',\n",
       "  'Puntos': '5'},\n",
       " {'Pos.': '27',\n",
       "  'Piloto': 'Italia',\n",
       "  'nombre': 'Danilo Petrucci',\n",
       "  'constructor': 'Ducati',\n",
       "  'Puntos': '5'},\n",
       " {'Pos.': '28',\n",
       "  'Piloto': 'Alemania',\n",
       "  'nombre': 'Stefan Bradl',\n",
       "  'constructor': 'Honda',\n",
       "  'Puntos': '5'},\n",
       " {'Pos.': '29',\n",
       "  'Piloto': 'España',\n",
       "  'nombre': 'Iker Lecuona Gascón',\n",
       "  'constructor': 'Honda',\n",
       "  'Puntos': '0'}]"
      ]
     },
     "execution_count": 4,
     "metadata": {},
     "output_type": "execute_result"
    }
   ],
   "source": [
    "import csv\n",
    "\n",
    "pilotos = []\n",
    "\n",
    "with open(\"Clasificacion-actual.csv\", \"r\", newline=\"\") as archivo:\n",
    "    lector_csv = csv.DictReader(archivo)\n",
    "    for fila in lector_csv:\n",
    "        fila['nombre'] = fila['nombre'].strip()\n",
    "        pilotos.append(fila)\n",
    "pilotos"
   ]
  },
  {
   "cell_type": "markdown",
   "id": "6218b110-8357-4ff7-a218-e06694d7685d",
   "metadata": {},
   "source": [
    "## Ejercicio 1 \n",
    "\n",
    "Definir una función que obtenga los nombres y las posiciones de los pilotos analizando el CSV (Clasificacion-actual.csv)"
   ]
  },
  {
   "cell_type": "code",
   "execution_count": null,
   "id": "dd3bc497-145d-42c6-85ea-bec170392db3",
   "metadata": {},
   "outputs": [],
   "source": []
  },
  {
   "cell_type": "code",
   "execution_count": null,
   "id": "44ca19e3-3e3e-43af-b5a9-8d83bd6af77e",
   "metadata": {},
   "outputs": [],
   "source": []
  },
  {
   "cell_type": "markdown",
   "id": "8d77f8b4-3360-40c3-97cd-05470fe8811c",
   "metadata": {},
   "source": [
    "## Ejercicio 2\n",
    "\n",
    "Analizar y obtener los datos de los pilotos en el archivo de \"Clasificaciones por cada gran premio.csv\""
   ]
  },
  {
   "cell_type": "code",
   "execution_count": null,
   "id": "e3f378b0-208a-44fd-806e-4f6cbf4dfa98",
   "metadata": {},
   "outputs": [],
   "source": []
  },
  {
   "cell_type": "code",
   "execution_count": null,
   "id": "608298b6-bf4c-4854-a71c-51246457ac5c",
   "metadata": {
    "scrolled": true
   },
   "outputs": [],
   "source": []
  },
  {
   "cell_type": "markdown",
   "id": "800a1f9b-deff-44e0-9681-cc22ff5f985a",
   "metadata": {},
   "source": [
    "## Ejercicio 3\n",
    "\n",
    "Crear una función que con el nombre de un piloto devuelva un diccionario con los resultados del piloto en todos los grandes premios"
   ]
  },
  {
   "cell_type": "code",
   "execution_count": null,
   "id": "604bd116-77da-448c-919d-1f4c06360690",
   "metadata": {},
   "outputs": [],
   "source": []
  },
  {
   "cell_type": "code",
   "execution_count": null,
   "id": "d1a2e25b-d3ce-4471-b136-bbecb10ad085",
   "metadata": {
    "scrolled": true
   },
   "outputs": [],
   "source": []
  },
  {
   "cell_type": "markdown",
   "id": "efd83171-6ee8-4df9-8aa3-0352656e9bc3",
   "metadata": {},
   "source": [
    "## Ejercicio 4\n",
    "\n",
    "Pintar los resultados de varios pilotos según los resultados usando las funciones de Gráficos en jupyter"
   ]
  },
  {
   "cell_type": "code",
   "execution_count": 5,
   "id": "bfe5e08c-9c24-4a1f-b989-74f8c604200c",
   "metadata": {
    "jupyter": {
     "source_hidden": true
    }
   },
   "outputs": [],
   "source": [
    "import matplotlib.pyplot as plt\n",
    "\n",
    "def pintar_grafico(datos_x, datos_y, colores, tooltips=None, title_x='Datos en el Eje X', title_y='Datos en el Eje Y', title='Gráfico Personalizado'):\n",
    "    \"\"\"\n",
    "    Crea un gráfico personalizado con datos en el eje X y en el eje Y, colores personalizados y tooltips.\n",
    "\n",
    "    :param datos_x: Un diccionario donde las claves son las etiquetas y los valores son listas de datos en el eje X.\n",
    "    :param datos_y: Un diccionario donde las claves son las etiquetas y los valores son listas de datos en el eje Y.\n",
    "    :param colores: Un diccionario que asigna colores a cada serie.\n",
    "    :param tooltips: Un diccionario que asigna tooltips a cada punto de datos.\n",
    "    \"\"\"\n",
    "    fig, ax = plt.subplots()\n",
    "\n",
    "    for etiqueta in datos_x.keys():\n",
    "        if etiqueta in colores:\n",
    "            color = colores[etiqueta]\n",
    "        else:\n",
    "            color = 'blue'  # Color predeterminado si no se especifica\n",
    "\n",
    "        if etiqueta in tooltips:\n",
    "            texto_tooltip = tooltips[etiqueta]\n",
    "        else:\n",
    "            texto_tooltip = None\n",
    "\n",
    "        ax.plot(datos_x[etiqueta], datos_y[etiqueta], label=etiqueta, color=color, marker='o', linestyle='-')\n",
    "\n",
    "        if texto_tooltip:\n",
    "            for x, y, tooltip in zip(datos_x[etiqueta], datos_y[etiqueta], texto_tooltip):\n",
    "                ax.annotate(f'{tooltip}', (x, y), textcoords=\"offset points\", xytext=(0, 10), ha='center')\n",
    "\n",
    "    # Personalización del gráfico\n",
    "    ax.set_xlabel(title_x)\n",
    "    ax.set_ylabel(title_y)\n",
    "    ax.set_title(title)\n",
    "    #ax.set_xticklabels(ax.get_xticks(), rotation=45)\n",
    "    ax.legend()\n",
    "    plt.grid(True)\n",
    "    plt.xticks(rotation=45)\n",
    "\n",
    "    plt.show()"
   ]
  },
  {
   "cell_type": "code",
   "execution_count": null,
   "id": "d94464d2-a72e-4986-bdb5-2a81be24ef83",
   "metadata": {},
   "outputs": [],
   "source": []
  },
  {
   "cell_type": "markdown",
   "id": "8444be7f-eeae-4638-a621-4bd8107c9b79",
   "metadata": {},
   "source": [
    "## Ejercicio 5\n",
    "\n",
    "Obtener la media de puntos obtenidas por cada contructor (Honda, Ducati, KTM, etc)"
   ]
  },
  {
   "cell_type": "code",
   "execution_count": null,
   "id": "9a31f4fd-61bd-482d-8ae1-930d00d1b3e6",
   "metadata": {},
   "outputs": [],
   "source": []
  },
  {
   "cell_type": "markdown",
   "id": "d6eedd1c-8d47-4ab8-a177-35ecfa9578eb",
   "metadata": {},
   "source": [
    "## Ejercicio 6\n",
    "\n",
    "Obtener la mediana de los puntos obtenidos según cada país (nacionalidad)"
   ]
  },
  {
   "cell_type": "code",
   "execution_count": null,
   "id": "45d44774-e172-48c9-a587-4bd4422adee0",
   "metadata": {},
   "outputs": [],
   "source": []
  },
  {
   "cell_type": "markdown",
   "id": "96e1c799-8f55-4377-94fa-cf114a76081c",
   "metadata": {},
   "source": [
    "## Ejercicio 7\n",
    "\n",
    "Crear una función que actualice los datos de la Clasificaciones por cada gran premio pasandole como parámetro los resultados de cada piloto (debe de dejar como '-' los pilotos que no hayan terminado o no tengan puntos de clasificación)"
   ]
  },
  {
   "cell_type": "code",
   "execution_count": null,
   "id": "7adbab28-c3a7-4cc3-847e-13c40c6e695a",
   "metadata": {},
   "outputs": [],
   "source": []
  },
  {
   "cell_type": "markdown",
   "id": "4ace9341-6db7-4d94-a9e6-b6225e919e4e",
   "metadata": {},
   "source": [
    "## Otros ejercicios\n",
    "\n",
    "Desde el archivo guardado en CSV analizar la información\n",
    "* Obtener medias\n",
    "* Obtener percentiles\n",
    "* Unir la información de la nacionalidad de cada piloto en un mismo CSV\n",
    "* Agrupar por constructores\n",
    "* Filtrar por países\n",
    "* Actualizar el contenido de nuevos campeonatos e ir añadiendo en el CSV\n",
    "* Que circuitos tienen más accidentes\n",
    "* En qué circuitos destacan los españoles\n",
    "* Que circuitos son mejores para Honda, o para KTM\n",
    "* Influye la longitud del nombre en ser más ganador?\n",
    "* Influye el número de vocales en que tengas mas o menos puntos?\n",
    "* Obtener la lista de los pilotos de Italia\n",
    "* Y ordenarlos por sus puntos\n",
    "* Filtrar la lista por pilotos que corran con un constructor que tenga la letra a (mayuscula o minuscula), mostrando los nombres\n",
    "* Actualizar CSV de clasificación actual y de cada campeonato\n",
    "* Ejercicio pintar los top 5 pilotos de moto GP desde un archivo CSV\n",
    "Sacar los top pilotos por páis\n",
    "Sacar los top pilotos por constructores\n",
    "Obtener los 3 pilotos con más podios\n",
    "Sacar la suma de puntos por constructores\n",
    "Sacar la media de triunfos por constructores\n",
    "Actualizar las posiciones según la última carrera o una carrera futura\n",
    "* Podríamos dar una distribución de cómo tiene que quedar cada jugador para poder ganar?\n",
    "Podríamos saber qué jugadores ya es imposible que ganen?\n",
    "Podríamos calcular el efecto \"patria\" comprobando si la media de los puntos aumenta al correr en su propio país? (por cada piloto)\n",
    "Calcular las posiciones añadiendo la clasificación de un nuevo campeonato\n"
   ]
  },
  {
   "cell_type": "code",
   "execution_count": null,
   "id": "3dfc3b02-eb9d-4686-b690-73c89454685d",
   "metadata": {},
   "outputs": [],
   "source": []
  }
 ],
 "metadata": {
  "kernelspec": {
   "display_name": "Python 3 (ipykernel)",
   "language": "python",
   "name": "python3"
  },
  "language_info": {
   "codemirror_mode": {
    "name": "ipython",
    "version": 3
   },
   "file_extension": ".py",
   "mimetype": "text/x-python",
   "name": "python",
   "nbconvert_exporter": "python",
   "pygments_lexer": "ipython3",
   "version": "3.11.5"
  }
 },
 "nbformat": 4,
 "nbformat_minor": 5
}
