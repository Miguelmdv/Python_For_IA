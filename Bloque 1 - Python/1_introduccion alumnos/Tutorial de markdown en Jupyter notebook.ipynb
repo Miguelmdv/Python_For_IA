{
 "cells": [
  {
   "cell_type": "markdown",
   "id": "856bbae0",
   "metadata": {
    "slideshow": {
     "slide_type": "slide"
    }
   },
   "source": [
    "# Tutorial de markdown\n",
    "\n",
    "Markdown es un lenguaje de marcado simple que permite obtener una representación efectiva de texto plano interpretable por diferentes sistemas añadiendo muy poco contenido extra"
   ]
  },
  {
   "cell_type": "markdown",
   "id": "7d149082",
   "metadata": {
    "slideshow": {
     "slide_type": "slide"
    }
   },
   "source": [
    "## Cabeceras: \n",
    "\n",
    "Permite añadir cabeceras de diferentes tamaños. Los tamaños se especifican utilizando el simbolo # y cuantos más haya más pequeña será la cabecera.\n",
    "\n",
    "# Cabecera principal (h1)  `#` \n",
    "## Subcabecera (h2) `##`\n",
    "### Sub-Subcabecera (h3)  `###`\n",
    "...\n",
    "###### Cabecera menor de todas (h6) `######`"
   ]
  },
  {
   "cell_type": "markdown",
   "id": "4fcd1ce2",
   "metadata": {
    "slideshow": {
     "slide_type": "slide"
    }
   },
   "source": [
    "## Bloques de código\n",
    "\n",
    "Se puede hacer dos tipos de bloques de código, los simples utlizando solo un caracter \"\\`\" y los que usan múltiples líneas usando \"\\`\\`\\`\"\n",
    "\n",
    "Esto sería un ejemplo de `código simple` donde está en mitad del texto.\n",
    "\n",
    "```python\n",
    "Esto sin embargo es un \n",
    "ejemplo de un código en \n",
    "mútliples líneas\n",
    "\n",
    "def mi_funcion(x):\n",
    "   return x * 2\n",
    "```\n",
    "\n",
    "Además se puede añadir el tipo del lenguaje tras los tres \"\\`\\`\\`\" para que se coloree correctamente el código:\n",
    "\n",
    "```javascript\n",
    "function mi_funcion_js(){\n",
    "    console.log(\"Hola mundo\");\n",
    "}\n",
    "```\n",
    "    "
   ]
  },
  {
   "cell_type": "markdown",
   "id": "d279f473",
   "metadata": {
    "slideshow": {
     "slide_type": "slide"
    }
   },
   "source": [
    "## Estilos de texto\n",
    "\n",
    "Markdown permite cambiar el tipo d texto para poder hacerlo:\n",
    "\n",
    "* *cursiva* _cursiva utilizando \"_\" _ `*cursiva*`\n",
    "* **negrita** `**negrita**`\n",
    "* _o tambien *una* **combinación de los mismos**_ `_**combinación de los mismos**_`"
   ]
  },
  {
   "cell_type": "markdown",
   "id": "10749933",
   "metadata": {
    "slideshow": {
     "slide_type": "slide"
    }
   },
   "source": [
    "## Listas\n",
    "\n",
    "Markdown permite tener listas **no** ordenadas utilizando * y ordenadas utilizando números seguidos de puntos.\n",
    "\n",
    "Tambien permite utilizar sub listas utilizando un margen:\n",
    "\n",
    "* Esto\n",
    "* Sería una lista no\n",
    "* Ordenada\n",
    "  * Con elementos\n",
    "  * Anidados\n",
    "  \n",
    "1. Esto en cambio\n",
    "2. Sería una lista ordenada\n",
    "  * Con elementos\n",
    "  * Anidados tambien"
   ]
  },
  {
   "cell_type": "markdown",
   "id": "46e97b55",
   "metadata": {
    "editable": true,
    "slideshow": {
     "slide_type": "slide"
    },
    "tags": []
   },
   "source": [
    "## Imágenes\n",
    "\n",
    "Para insertar imágenes en markdown hay que usar ![] envolviendo el nombre de la imagen y justo a continuación se pone el path de donde se encuentra la imagen entre () `![Logo de python](python-logo.png)`\n",
    "\n",
    "![Logo de python](python-logo.png)"
   ]
  },
  {
   "cell_type": "markdown",
   "id": "262b63c3",
   "metadata": {
    "editable": true,
    "slideshow": {
     "slide_type": "slide"
    },
    "tags": []
   },
   "source": [
    "## Enlaces\n",
    "\n",
    "Para añadir enlaces con un nombre específico se pone el nombre del enlace entre [] y el link hacia donde apunta entre () `[Python a fondo](https://elpythonista.com/python-a-fondo)`\n",
    "\n",
    "[Python a fondo](https://elpythonista.com/python-a-fondo)\n",
    "\n",
    "O también se puede añadir el enlace y se interpreta directamente\n",
    "\n",
    "https://www.google.com/"
   ]
  },
  {
   "cell_type": "markdown",
   "id": "8451fa9e",
   "metadata": {
    "slideshow": {
     "slide_type": "slide"
    }
   },
   "source": [
    "## Citas\n",
    "\n",
    "Para añadir citas se utiliza el caracter > añadido antes de cualquier frase:\n",
    "\n",
    "> En un lugar de la mancha\n",
    "> de cuyo nombre no quiero acordarme\n",
    "\n",
    "> El Quijote"
   ]
  },
  {
   "cell_type": "markdown",
   "id": "eadaf71c",
   "metadata": {
    "slideshow": {
     "slide_type": "slide"
    }
   },
   "source": [
    "## Listas de tareas\n",
    "\n",
    "Se pueden crear listas de tareas utilizando [ ] o [x] para marcar si están terminadas o no las mismas: \n",
    "\n",
    "- [ ] elemento uno sin hacer\n",
    "- [x] elemento 2 hecho\n",
    "- [ ] elemento pendiente también"
   ]
  },
  {
   "cell_type": "markdown",
   "id": "aff98d78",
   "metadata": {
    "slideshow": {
     "slide_type": "slide"
    }
   },
   "source": [
    "## Tablas\n",
    "\n",
    "Markdown también permite añadir tablas a los documentos como en el siguiente ejemplo\n",
    "\n",
    "\n",
    "link web | concepto\n",
    "---------|---------\n",
    "[google.es](www.google.es) | uno de los mayores buscadores de internet\n",
    "[elpythonista.com](www.elpythonista.com)| web especializada en python \n",
    "\n",
    "Las tablas también permite alinear el contenido:\n",
    "* `:-----`: alineado a la izquierda\n",
    "* `:----:`: alineado al centro\n",
    "* `-----:`: alineado a la derecha (por defecto)\n",
    "\n",
    "|Nombre|Clasificación|Clase|\n",
    "|----:|:--:|:----|\n",
    "Juan Fernandez Zafra|Sobresaliente|Grupo B\n",
    "Bartolome Ramirez Rodriguez| Notable | Grupo A de Magisterio infantil\n",
    "Maria Jimenez Molina| Matrícula de honor | Grupo B de Ingeniería Informática"
   ]
  },
  {
   "cell_type": "markdown",
   "id": "5e7ad550-213e-4d7e-94f7-6a3d6e8731fd",
   "metadata": {},
   "source": [
    "# Línea horizontal\n",
    "\n",
    "---"
   ]
  },
  {
   "cell_type": "markdown",
   "id": "04ac8adb-399c-4f60-8804-4dd1f7764f01",
   "metadata": {
    "editable": true,
    "slideshow": {
     "slide_type": "slide"
    },
    "tags": []
   },
   "source": [
    "## Ejercicio 1 - Primeros pasos con markdown\n",
    "\n",
    "Crear una lista de elementos con los conceptos aprendido hoy\n",
    "\n",
    "La lista de elementos debe de contener al menos un enlace\n",
    "\n",
    "Tras la lista hay que añadir un logo de Markdown desde un sitio de internet "
   ]
  },
  {
   "cell_type": "markdown",
   "id": "4d168000-ce28-4dfb-8c2f-7e90540a3874",
   "metadata": {},
   "source": [
    "## Ejercicio 2 - Crear una tabla con los alumnos\n",
    "\n",
    "Crear una tabla con los alumnos de clase con 3 columnas: \n",
    "* Nombre, Primer apellido y segundo apellido \n",
    "* Los nombres deben de estar en negrita\n",
    "* Los primeros apellidos marcados como código\n",
    "* Los segundos apellidos alineados a la derecha"
   ]
  }
 ],
 "metadata": {
  "kernelspec": {
   "display_name": "Python 3 (ipykernel)",
   "language": "python",
   "name": "python3"
  },
  "language_info": {
   "codemirror_mode": {
    "name": "ipython",
    "version": 3
   },
   "file_extension": ".py",
   "mimetype": "text/x-python",
   "name": "python",
   "nbconvert_exporter": "python",
   "pygments_lexer": "ipython3",
   "version": "3.10.10"
  }
 },
 "nbformat": 4,
 "nbformat_minor": 5
}
