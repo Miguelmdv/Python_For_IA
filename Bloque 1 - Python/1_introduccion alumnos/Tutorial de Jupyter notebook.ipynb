{
 "cells": [
  {
   "cell_type": "markdown",
   "id": "8e493156",
   "metadata": {
    "slideshow": {
     "slide_type": "slide"
    }
   },
   "source": [
    "# Primeros pasos en jupyter notebook\n",
    "\n",
    "Este primer jupyter notebook explica los conceptos esenciales de cómo utilizar jupyter notebook y cómo familiarizarse con sus herramientas\n",
    "\n",
    "Jupyter notebook se compone de bloques y cada bloque es de un tipo, el tipo principal es el blóque de código, el cual sirve para ejecutar cógido directamente:"
   ]
  },
  {
   "cell_type": "code",
   "execution_count": 3,
   "id": "bdacedd4",
   "metadata": {
    "slideshow": {
     "slide_type": "subslide"
    }
   },
   "outputs": [
    {
     "name": "stdout",
     "output_type": "stream",
     "text": [
      "Hola mundo\n"
     ]
    }
   ],
   "source": [
    "print('Hola mundo')"
   ]
  },
  {
   "cell_type": "markdown",
   "id": "b3c3ac3c",
   "metadata": {
    "slideshow": {
     "slide_type": "slide"
    }
   },
   "source": [
    "## Ejecución de bloques\n",
    "\n",
    "Cada fila se le denomina bloque o celda y puede ser de diferentes tipos (Markdown o código son los más habituales)\n",
    "\n",
    "Para ejecutar un bloque se puede hacer de las siguietnes formas:\n",
    "\n",
    "* Clicando en Run\n",
    "* Shift+Intro ejecuta el bloque actual \n",
    "* Ctrl+ Intro ejecuta el bloque actual y crea un nuevo bloque\n"
   ]
  },
  {
   "cell_type": "code",
   "execution_count": 4,
   "id": "1092ebee",
   "metadata": {
    "slideshow": {
     "slide_type": "fragment"
    }
   },
   "outputs": [
    {
     "data": {
      "text/plain": [
       "7"
      ]
     },
     "execution_count": 4,
     "metadata": {},
     "output_type": "execute_result"
    }
   ],
   "source": [
    "3 + 4"
   ]
  },
  {
   "cell_type": "code",
   "execution_count": 9,
   "id": "285e6f3a",
   "metadata": {
    "slideshow": {
     "slide_type": "fragment"
    },
    "tags": []
   },
   "outputs": [
    {
     "data": {
      "text/plain": [
       "26.89887640449438"
      ]
     },
     "execution_count": 9,
     "metadata": {},
     "output_type": "execute_result"
    }
   ],
   "source": [
    "7 * 342 / 89"
   ]
  },
  {
   "cell_type": "markdown",
   "id": "46f26324",
   "metadata": {
    "slideshow": {
     "slide_type": "slide"
    }
   },
   "source": [
    "### Ejecución de múltiples líneas de código\n",
    "\n",
    "Jupyter permite ejecutar multiples líneas de código y mostrar directamente la salida de la consola"
   ]
  },
  {
   "cell_type": "code",
   "execution_count": 13,
   "id": "c3e1a644",
   "metadata": {
    "slideshow": {
     "slide_type": "fragment"
    }
   },
   "outputs": [
    {
     "data": {
      "text/plain": [
       "'Juan Va A Comprar El Pan'"
      ]
     },
     "execution_count": 13,
     "metadata": {},
     "output_type": "execute_result"
    }
   ],
   "source": [
    "msg = 'Juan va a comprar el pan'\n",
    "msg.title()"
   ]
  },
  {
   "cell_type": "code",
   "execution_count": 2,
   "id": "a393989e-f4f3-45c8-b7b3-5c4054a14bb3",
   "metadata": {},
   "outputs": [
    {
     "data": {
      "text/plain": [
       "'¡JUAN VE A COMPRAR EL PAN!'"
      ]
     },
     "execution_count": 2,
     "metadata": {},
     "output_type": "execute_result"
    }
   ],
   "source": [
    "msg = '¡Juan ve a comprar el pan!'\n",
    "msg.upper()"
   ]
  },
  {
   "cell_type": "markdown",
   "id": "b06dd9e0",
   "metadata": {
    "slideshow": {
     "slide_type": "slide"
    }
   },
   "source": [
    "### Importación de librerías de python directamente\n",
    "\n",
    "Jupyter permite importar librerías que estén instaladas en el entorno virtual que se está ejecutando y hacer uso de las mismas"
   ]
  },
  {
   "cell_type": "code",
   "execution_count": 15,
   "id": "30d170ee",
   "metadata": {
    "slideshow": {
     "slide_type": "fragment"
    }
   },
   "outputs": [
    {
     "name": "stdout",
     "output_type": "stream",
     "text": [
      "2021-06-03 21:32:53.654008\n"
     ]
    }
   ],
   "source": [
    "from datetime import datetime\n",
    "\n",
    "print(datetime.now())"
   ]
  },
  {
   "cell_type": "code",
   "execution_count": 18,
   "id": "64ad85b6",
   "metadata": {
    "slideshow": {
     "slide_type": "fragment"
    }
   },
   "outputs": [
    {
     "data": {
      "text/plain": [
       "{'num': 42, 'resp': 'respuesta a todo'}"
      ]
     },
     "execution_count": 18,
     "metadata": {},
     "output_type": "execute_result"
    }
   ],
   "source": [
    "import json\n",
    "\n",
    "json.loads('{\"num\": 42, \"resp\": \"respuesta a todo\"}')"
   ]
  },
  {
   "cell_type": "markdown",
   "id": "6b129f13",
   "metadata": {
    "slideshow": {
     "slide_type": "slide"
    }
   },
   "source": [
    "### Instanciación de tipos de datos\n",
    "\n",
    "Jupyter permite instanciar cualquier tipo de dato y utilizar como si fuera una consola de intérprete más, lo que facilita su uso directo"
   ]
  },
  {
   "cell_type": "code",
   "execution_count": 28,
   "id": "b9ca0c8a",
   "metadata": {
    "slideshow": {
     "slide_type": "fragment"
    }
   },
   "outputs": [
    {
     "name": "stdout",
     "output_type": "stream",
     "text": [
      "Elemento máximo 5\n",
      "Elemento mínimo 1\n",
      "Media 3.0\n"
     ]
    }
   ],
   "source": [
    "elems = [1, 2, 3, 4, 5]\n",
    "print(f'Elemento máximo {max(elems)}')\n",
    "print(f'Elemento mínimo {min(elems)}')\n",
    "print(f'Media {sum(elems)/len(elems)}')"
   ]
  },
  {
   "cell_type": "markdown",
   "id": "2e99906a",
   "metadata": {
    "slideshow": {
     "slide_type": "slide"
    }
   },
   "source": [
    "### Ejecución secuencial de las sentencias\n",
    "\n",
    "Jupyter notebook ejecuta las sentencias según el orden en el que aparecen, por lo tanto se pueden definir variables en bloques anteriores que se pasarán a los siguientes"
   ]
  },
  {
   "cell_type": "code",
   "execution_count": 23,
   "id": "d2db3b76",
   "metadata": {
    "slideshow": {
     "slide_type": "fragment"
    }
   },
   "outputs": [],
   "source": [
    "name = 'Juan'"
   ]
  },
  {
   "cell_type": "code",
   "execution_count": 24,
   "id": "d444b8eb",
   "metadata": {
    "slideshow": {
     "slide_type": "fragment"
    }
   },
   "outputs": [],
   "source": [
    "full_name = name + ' José'"
   ]
  },
  {
   "cell_type": "code",
   "execution_count": 31,
   "id": "291fb5c0",
   "metadata": {
    "slideshow": {
     "slide_type": "fragment"
    }
   },
   "outputs": [
    {
     "name": "stdout",
     "output_type": "stream",
     "text": [
      "Juan José\n"
     ]
    }
   ],
   "source": [
    "print(full_name)"
   ]
  },
  {
   "cell_type": "markdown",
   "id": "ea814399",
   "metadata": {
    "slideshow": {
     "slide_type": "slide"
    }
   },
   "source": [
    "### Inspeccionar variables\n",
    "\n",
    "Permite inspeccionar variables y mostrar todos los métodos disponibles"
   ]
  },
  {
   "cell_type": "code",
   "execution_count": 33,
   "id": "3ab66a1d",
   "metadata": {
    "slideshow": {
     "slide_type": "fragment"
    }
   },
   "outputs": [
    {
     "data": {
      "text/plain": [
       "['__add__',\n",
       " '__class__',\n",
       " '__contains__',\n",
       " '__delattr__',\n",
       " '__dir__',\n",
       " '__doc__',\n",
       " '__eq__',\n",
       " '__format__',\n",
       " '__ge__',\n",
       " '__getattribute__',\n",
       " '__getitem__',\n",
       " '__getnewargs__',\n",
       " '__gt__',\n",
       " '__hash__',\n",
       " '__init__',\n",
       " '__init_subclass__',\n",
       " '__iter__',\n",
       " '__le__',\n",
       " '__len__',\n",
       " '__lt__',\n",
       " '__mod__',\n",
       " '__mul__',\n",
       " '__ne__',\n",
       " '__new__',\n",
       " '__reduce__',\n",
       " '__reduce_ex__',\n",
       " '__repr__',\n",
       " '__rmod__',\n",
       " '__rmul__',\n",
       " '__setattr__',\n",
       " '__sizeof__',\n",
       " '__str__',\n",
       " '__subclasshook__',\n",
       " 'capitalize',\n",
       " 'casefold',\n",
       " 'center',\n",
       " 'count',\n",
       " 'encode',\n",
       " 'endswith',\n",
       " 'expandtabs',\n",
       " 'find',\n",
       " 'format',\n",
       " 'format_map',\n",
       " 'index',\n",
       " 'isalnum',\n",
       " 'isalpha',\n",
       " 'isascii',\n",
       " 'isdecimal',\n",
       " 'isdigit',\n",
       " 'isidentifier',\n",
       " 'islower',\n",
       " 'isnumeric',\n",
       " 'isprintable',\n",
       " 'isspace',\n",
       " 'istitle',\n",
       " 'isupper',\n",
       " 'join',\n",
       " 'ljust',\n",
       " 'lower',\n",
       " 'lstrip',\n",
       " 'maketrans',\n",
       " 'partition',\n",
       " 'replace',\n",
       " 'rfind',\n",
       " 'rindex',\n",
       " 'rjust',\n",
       " 'rpartition',\n",
       " 'rsplit',\n",
       " 'rstrip',\n",
       " 'split',\n",
       " 'splitlines',\n",
       " 'startswith',\n",
       " 'strip',\n",
       " 'swapcase',\n",
       " 'title',\n",
       " 'translate',\n",
       " 'upper',\n",
       " 'zfill']"
      ]
     },
     "execution_count": 33,
     "metadata": {},
     "output_type": "execute_result"
    }
   ],
   "source": [
    "msg = 'Hola mundo'\n",
    "dir(msg)"
   ]
  },
  {
   "cell_type": "markdown",
   "id": "468d9a17",
   "metadata": {
    "slideshow": {
     "slide_type": "slide"
    }
   },
   "source": [
    "### Modos de teclado\n",
    "\n",
    "En Jupyter existen dos modos de:\n",
    "\n",
    "* Modo edición\n",
    "* Modo Comando\n",
    "\n",
    "Las combinaciones de teclas en cada modo son diferentes y la lista complea de opciones se pueden ver pulsando:\n",
    "`Esc` y despues `H`"
   ]
  },
  {
   "cell_type": "markdown",
   "id": "223e4a23",
   "metadata": {
    "slideshow": {
     "slide_type": "subslide"
    }
   },
   "source": [
    "![Combinaciones en edit](imagenes/Edit_mode.png)"
   ]
  },
  {
   "cell_type": "markdown",
   "id": "1befe7e7",
   "metadata": {
    "editable": true,
    "slideshow": {
     "slide_type": "slide"
    },
    "tags": []
   },
   "source": [
    "![Combinaciones en command mode](imagenes/Command_mode.png)"
   ]
  },
  {
   "cell_type": "markdown",
   "id": "44961a9d-eadc-4309-9b62-00e4f4f851eb",
   "metadata": {},
   "source": [
    "## Aceptar datos del usuario e imprimir datos\n",
    "\n",
    "Para pedir datos del usuario se utiliza la función `input` y como argumento el texto que se le va a mostrar al usuario\n",
    "\n",
    "Para mostrar información por pantalla se utiliza la función `print` y los argumentos que se le pasen serán mostrados por la salida estandar por defecto (que es la pantalla en la mayoría de los sistemas)"
   ]
  },
  {
   "cell_type": "code",
   "execution_count": 5,
   "id": "206e88be-3d4d-4e51-84ee-28a78f0f77c0",
   "metadata": {},
   "outputs": [
    {
     "name": "stdout",
     "output_type": "stream",
     "text": [
      "Su numero es el:  5\n"
     ]
    }
   ],
   "source": [
    "numero = int(input('Escriba un número'))\n",
    "\n",
    "print('Su numero es el: ', numero)"
   ]
  },
  {
   "cell_type": "markdown",
   "id": "a92d1cb8-a398-4219-bdf7-4508c2d5e1eb",
   "metadata": {},
   "source": [
    "## Ejercicio 1 - Escribe un pequeño programa\n",
    "\n",
    "Escriba un pequeño programa que pida dos números al usuario y los sume"
   ]
  },
  {
   "cell_type": "code",
   "execution_count": 10,
   "id": "73bdac36-0d2d-4042-836e-54909cd25dd2",
   "metadata": {
    "editable": true,
    "slideshow": {
     "slide_type": "slide"
    },
    "tags": []
   },
   "outputs": [
    {
     "name": "stdout",
     "output_type": "stream",
     "text": [
      "Primer número: 23\n",
      "Segundo número: 45\n"
     ]
    },
    {
     "name": "stdout",
     "output_type": "stream",
     "text": [
      "68\n"
     ]
    }
   ],
   "source": [
    "num1 = int(input('Primer número:'))\n",
    "num2 = int(input('Segundo número:'))\n",
    "\n",
    "print(num1 + num2)"
   ]
  },
  {
   "cell_type": "markdown",
   "id": "06bbd51c-4b3e-4ff8-9665-7ff3a8a5375d",
   "metadata": {},
   "source": [
    "## Ejercicio 2 - Escribe un pequeño programa 2\n",
    "\n",
    "Escriba un pequeño programa que pida dos números al usuario:\n",
    "* El primero será el número base\n",
    "* El segundo el porcentaje\n",
    "* Debe de mostrar el porcentaje del número base al finalizar el programa"
   ]
  },
  {
   "cell_type": "code",
   "execution_count": 5,
   "id": "124a77dd-26d6-4636-94f4-c312392460ba",
   "metadata": {},
   "outputs": [
    {
     "name": "stdout",
     "output_type": "stream",
     "text": [
      "Número base: 100\n",
      "Porcentaje: 10\n"
     ]
    },
    {
     "name": "stdout",
     "output_type": "stream",
     "text": [
      "10.0\n"
     ]
    }
   ],
   "source": [
    "base = int(input('Número base:'))\n",
    "percent = float(input('Porcentaje:'))\n",
    "\n",
    "print(base * percent / 100)\n"
   ]
  },
  {
   "cell_type": "markdown",
   "id": "7daeca08-4d21-4ebc-af97-9d0ec2713ce9",
   "metadata": {},
   "source": [
    "# Explorador de archivos\n",
    "\n",
    "Permite explorar archivos desde donde se está ejecutando de forma simple\n",
    "\n",
    "Además permite eliminar, renombrar o añadir archivos de forma simple incluso con arrastrando\n",
    "\n",
    "Además de añadir nuevas carpetas o ficheros, o filtrar por nombre\n",
    "\n",
    "![Gestor de archivos](Gestor-de-archivos.png)"
   ]
  },
  {
   "cell_type": "markdown",
   "id": "3a4de224-01b1-4020-9ebd-930f5789d744",
   "metadata": {},
   "source": [
    "# Terminales y kernels\n",
    "\n",
    "Se pueden ver los terminales y los kernels que se están usando e incluso pararlos todos\n",
    "\n",
    "\n",
    "![Gestor de archivos](Kernels-y-ejecuciones.png)\n",
    "\n"
   ]
  },
  {
   "cell_type": "markdown",
   "id": "196c9f18-c927-4871-9074-e334646924c3",
   "metadata": {},
   "source": [
    "# Tabla de contenidos markdown\n",
    "\n",
    "Se puede ver la tabla de contenidos de forma facil desde el panel lateral\n",
    "\n",
    "![Tabla de contenidos](Tabla-de-contenidos.png)\n"
   ]
  },
  {
   "cell_type": "markdown",
   "id": "335a6524-630d-4d92-ae7e-744576992f06",
   "metadata": {},
   "source": [
    "# Interactuar con PIP\n",
    "\n",
    "Se puede ejecutar comandos para instalar librerías externas en el entornos virtual fácilmente\n",
    "\n",
    "```bash\n",
    "!pip3 install requests\n",
    "```"
   ]
  },
  {
   "cell_type": "code",
   "execution_count": 15,
   "id": "e4de7b32-f7cf-4ece-9baa-44f97ea128b4",
   "metadata": {},
   "outputs": [
    {
     "name": "stderr",
     "output_type": "stream",
     "text": [
      "3425.81s - pydevd: Sending message related to process being replaced timed-out after 5 seconds\n"
     ]
    },
    {
     "name": "stdout",
     "output_type": "stream",
     "text": [
      "Requirement already satisfied: requests in /Users/tuxskar/CursoPythonJovenes/venv/lib/python3.10/site-packages (2.31.0)\n",
      "Requirement already satisfied: charset-normalizer<4,>=2 in /Users/tuxskar/CursoPythonJovenes/venv/lib/python3.10/site-packages (from requests) (3.2.0)\n",
      "Requirement already satisfied: certifi>=2017.4.17 in /Users/tuxskar/CursoPythonJovenes/venv/lib/python3.10/site-packages (from requests) (2023.7.22)\n",
      "Requirement already satisfied: urllib3<3,>=1.21.1 in /Users/tuxskar/CursoPythonJovenes/venv/lib/python3.10/site-packages (from requests) (2.0.4)\n",
      "Requirement already satisfied: idna<4,>=2.5 in /Users/tuxskar/CursoPythonJovenes/venv/lib/python3.10/site-packages (from requests) (3.4)\n",
      "\n",
      "\u001b[1m[\u001b[0m\u001b[34;49mnotice\u001b[0m\u001b[1;39;49m]\u001b[0m\u001b[39;49m A new release of pip available: \u001b[0m\u001b[31;49m22.3.1\u001b[0m\u001b[39;49m -> \u001b[0m\u001b[32;49m23.2.1\u001b[0m\n",
      "\u001b[1m[\u001b[0m\u001b[34;49mnotice\u001b[0m\u001b[1;39;49m]\u001b[0m\u001b[39;49m To update, run: \u001b[0m\u001b[32;49mpip install --upgrade pip\u001b[0m\n"
     ]
    }
   ],
   "source": [
    "!pip3 install requests"
   ]
  },
  {
   "cell_type": "markdown",
   "id": "d56934ed-1dbc-4f4a-9343-d5eb726b2439",
   "metadata": {},
   "source": [
    "# Depuración de código\n",
    "\n",
    "Se puede activar la depuración de código en jupyter notebook fácilmente clickando en el botón superior derecho\n",
    "\n",
    "Esto permite ver las variables que se ejecutan pero además añadir puntos de ruptura (breakpoints) lo que parará la ejecución y permitirá poder inspecionar las variables y controlar la ejecución del programa paso por paso"
   ]
  },
  {
   "cell_type": "code",
   "execution_count": 16,
   "id": "db9c74a5-470d-4f69-bc3f-61d03cd011bc",
   "metadata": {
    "editable": true,
    "scrolled": true,
    "slideshow": {
     "slide_type": "slide"
    },
    "tags": []
   },
   "outputs": [
    {
     "name": "stdout",
     "output_type": "stream",
     "text": [
      "Nombre del primer jugador 1\n",
      "Nombre del primer jugador 2\n",
      "Proporcione un comando (S,X) x\n"
     ]
    },
    {
     "name": "stdout",
     "output_type": "stream",
     "text": [
      "x\n"
     ]
    }
   ],
   "source": [
    "from random import random\n",
    "\n",
    "primer_usuario = input('Nombre del primer jugador')\n",
    "segundo_usuario = input('Nombre del primer jugador')\n",
    "\n",
    "contador_usuario_1 = 0\n",
    "contador_usuario_2 = 0\n",
    "\n",
    "comando = input('Proporcione un comando (S,X)')\n",
    "print(comando)\n",
    "while comando.upper() == 'S':\n",
    "    contador_usuario_1 += int(random() * 10)\n",
    "    contador_usuario_2 += int(random() * 10)\n",
    "    numero_maximo = 7.5\n",
    "    if contador_usuario_1 > numero_maximo or contador_usuario_2 > numero_maximo:\n",
    "        if contador_usuario_1 > numero_maximo:\n",
    "            print(f'{primer_usuario} ha perdido :( al tener {contador_usuario_1}')\n",
    "            break\n",
    "\n",
    "        print(f'{segundo_usuario} ha perdido :( al tener {contador_usuario_2}')\n",
    "        break\n",
    "    print(f'{contador_usuario_1}: {contador_usuario_1} puntos')\n",
    "    print(f'{contador_usuario_2}: {contador_usuario_2} puntos')\n",
    "    comando = input('Proporcione un comando (S,X)')\n",
    "        \n"
   ]
  },
  {
   "cell_type": "markdown",
   "id": "0269d73f-b1db-438e-bc5a-f5e8abf0b45c",
   "metadata": {
    "editable": true,
    "slideshow": {
     "slide_type": "slide"
    },
    "tags": []
   },
   "source": [
    "# Barra de estado\n",
    "\n",
    "Informa del modo en el que se encuentra, el kernel, el nombre del kernel y mucho más\n",
    "\n",
    "![Bara de estado](Bara-de-estado.png)"
   ]
  },
  {
   "cell_type": "markdown",
   "id": "8aa901a4-4156-4281-8e77-1eaca9fbf4ea",
   "metadata": {},
   "source": [
    "# Plugins\n",
    "\n",
    "También se pueden añadir multitud de plugins de terceros para ampliar la funcionalidad\n",
    "\n",
    "Hay que tener en cuenta que puede conllevar riesgos y asegurarse de que el plugin realmente hace lo que se desea o lo que promete hacer\n",
    "\n",
    "\n",
    "![Plugins](Plugins.png)"
   ]
  },
  {
   "cell_type": "markdown",
   "id": "a58ebea4",
   "metadata": {
    "slideshow": {
     "slide_type": "slide"
    }
   },
   "source": [
    "# Dibujo de gráficos\n",
    "\n",
    "Gracias a la estupenda integración que tiene jupyter notebook con _matplolib_, se puede graficar de forma muy sencilla como se puede ver a continuación:"
   ]
  },
  {
   "cell_type": "code",
   "execution_count": 16,
   "id": "0d42aa8b",
   "metadata": {
    "editable": true,
    "slideshow": {
     "slide_type": "slide"
    },
    "tags": []
   },
   "outputs": [
    {
     "data": {
      "image/png": "[encoded data removed]",
      "text/plain": [
       "<Figure size 432x288 with 1 Axes>"
      ]
     },
     "metadata": {
      "needs_background": "light"
     },
     "output_type": "display_data"
    }
   ],
   "source": [
    "import matplotlib.pyplot as plt\n",
    "\n",
    "points = [1, 1, 2, 3, 5, 8, 13, 21, 34, 55]\n",
    "serie = list(range(len(points)))\n",
    "\n",
    "plt.plot(serie, points, marker='.', label='Fibo')\n",
    "plt.ylabel('Valores de fibonacci')\n",
    "\n",
    "plt.legend()\n",
    "\n",
    "plt.show()"
   ]
  },
  {
   "cell_type": "markdown",
   "id": "7c588a92-5619-41ab-b7f4-151d82e24505",
   "metadata": {},
   "source": [
    "## Ejercicio 1 - Mostrar cuadrados\n",
    "\n",
    "Obtener la lista de los números al cuadrado de la serie númerica desde el 1 hasta el 8\n",
    "\n",
    "Pintar la serie numérica junto con la de fibonacci\n"
   ]
  },
  {
   "cell_type": "code",
   "execution_count": 22,
   "id": "2cd1ba62-fafb-40f2-85c5-9e79c3fbdabc",
   "metadata": {},
   "outputs": [
    {
     "data": {
      "image/png": "[encoded data removed]",
      "text/plain": [
       "<Figure size 432x288 with 1 Axes>"
      ]
     },
     "metadata": {
      "needs_background": "light"
     },
     "output_type": "display_data"
    }
   ],
   "source": [
    "valores_fibo = [1, 1, 2, 3, 5, 8, 13, 21, 34, 55] #, 89, 144]\n",
    "serie = list(range(len(valores_fibo)))\n",
    "\n",
    "plt.plot(serie, valores_fibo, marker='.', label='Fibo')\n",
    "\n",
    "cuadrados = [x**2 for x in serie]\n",
    "\n",
    "plt.plot(serie, cuadrados, color='g', label='Cuadrados', marker='o')\n",
    "\n",
    "plt.ylabel('Valores de fibo frente a cuadrados')\n",
    "\n",
    "plt.legend()\n",
    "\n",
    "plt.show()\n"
   ]
  },
  {
   "cell_type": "code",
   "execution_count": 25,
   "id": "df224471",
   "metadata": {
    "scrolled": true,
    "slideshow": {
     "slide_type": "subslide"
    },
    "tags": []
   },
   "outputs": [
    {
     "data": {
      "image/png": "[encoded data removed]",
      "text/plain": [
       "<Figure size 432x288 with 1 Axes>"
      ]
     },
     "metadata": {
      "needs_background": "light"
     },
     "output_type": "display_data"
    }
   ],
   "source": [
    "players = ['Juan', 'Ana', 'Pepe', 'Maria']\n",
    "scores = [9, 4, 5, 8]\n",
    "\n",
    "\n",
    "plt.bar(players, scores, color='c')\n",
    "plt.show()"
   ]
  },
  {
   "cell_type": "markdown",
   "id": "a2cdb98e-4b27-4bce-a66c-fc7c367a1119",
   "metadata": {},
   "source": [
    "## Ejercicio 2\n",
    "\n",
    "Convertir el diagrama de líneas con los valores de fibonacci en un diagrama de barras"
   ]
  },
  {
   "cell_type": "code",
   "execution_count": 27,
   "id": "38d4fc2a-1bce-4cbf-a04d-61af746c4861",
   "metadata": {},
   "outputs": [
    {
     "data": {
      "image/png": "[encoded data removed]",
      "text/plain": [
       "<Figure size 432x288 with 1 Axes>"
      ]
     },
     "metadata": {
      "needs_background": "light"
     },
     "output_type": "display_data"
    }
   ],
   "source": [
    "points = [1, 1, 2, 3, 5, 8, 13, 21, 34, 55]\n",
    "serie = list(range(len(points)))\n",
    "\n",
    "plt.bar(serie, points, label='Fibo')\n",
    "plt.ylabel('Valores de fibonacci')\n",
    "\n",
    "plt.legend()\n",
    "\n",
    "plt.show()"
   ]
  },
  {
   "cell_type": "markdown",
   "id": "3c7348c1",
   "metadata": {
    "editable": true,
    "slideshow": {
     "slide_type": "slide"
    },
    "tags": []
   },
   "source": [
    "## Exportar documento en diferentes formatos\n",
    "\n",
    "Jupyter permite exportar el documento en diferentes formatos dependiendo del uso que se le quiera dar:\n",
    "\n",
    "* **Jupyter notebook (.ipynb)**: permite compartir el mismo documento para ser ejecutado en otra instancia de jupyter notebook\n",
    "* **Asciidoc**: documento simple de texto con toda la información añadida\n",
    "* **LaTex**: formato matemático muy utilizado\n",
    "* **Diferentes formas de html**: desde html puro hasta revealsjs para guardar el contenido como una página web estática para servirla desde un navegador.\n",
    "* **PDF**: es necesario tener instalado la librería necesaria Tex para el sistema operativo y se obtiene una versión para imprimir del documento\n",
    "* **Fichero python**: permite exportar todo lo que se ha escrito a un fichero Python que puede ser reutilizado."
   ]
  }
 ],
 "metadata": {
  "kernelspec": {
   "display_name": "Python 3 (ipykernel)",
   "language": "python",
   "name": "python3"
  },
  "language_info": {
   "codemirror_mode": {
    "name": "ipython",
    "version": 3
   },
   "file_extension": ".py",
   "mimetype": "text/x-python",
   "name": "python",
   "nbconvert_exporter": "python",
   "pygments_lexer": "ipython3",
   "version": "3.10.11"
  }
 },
 "nbformat": 4,
 "nbformat_minor": 5
}
