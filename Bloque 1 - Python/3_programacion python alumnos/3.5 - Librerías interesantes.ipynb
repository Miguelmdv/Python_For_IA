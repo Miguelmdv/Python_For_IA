{
 "cells": [
  {
   "cell_type": "markdown",
   "id": "4cf6c862-ee8e-4ffc-8929-1d6ecf59bcfa",
   "metadata": {},
   "source": [
    "# Datetime\n",
    "\n",
    "\n",
    "Permite trabajar de forma cómoda con fechas, más información en [la documentación oficial](https://docs.python.org/3/library/datetime.html)\n",
    "\n",
    "Las más usadas son:\n",
    "\n",
    "* **datetime.date**: Representa una fecha (sin tiempo).\n",
    "* **datetime.datetime**: Representa una fecha completa con tiempo.\n",
    "* **datetime.timedelta**: representa un periodo (4, días, 10 minutos) y se puede sumar a otros objetos tipo datetime.\n",
    "* **date.today()**: devuelve una fecha con el día de hoy.\n",
    "* **datetime.now() datetime.nowutc()**: representa el tiempo actual en UTC (universal time coordinated) o según un huso horario.\n",
    "* **strftime y strptime**: permiten *f*ormatear o *p*arsear fechas representadas como cadenas de caracteres en datetimes - información sobre los formatos en [aquí](https://docs.python.org/3/library/datetime.html#strftime-and-strptime-format-codes)\n"
   ]
  },
  {
   "cell_type": "code",
   "execution_count": 1,
   "id": "dc94bd1e-7a1e-40cc-9542-9104ba7a46d8",
   "metadata": {},
   "outputs": [
    {
     "data": {
      "text/plain": [
       "(datetime.date(2023, 9, 10),\n",
       " datetime.datetime(2023, 9, 10, 14, 48, 22, 841648),\n",
       " datetime.datetime(2023, 9, 10, 12, 48, 22, 841649))"
      ]
     },
     "execution_count": 1,
     "metadata": {},
     "output_type": "execute_result"
    }
   ],
   "source": [
    "import datetime\n",
    "\n",
    "datetime.date.today(), datetime.datetime.now(), datetime.datetime.utcnow()"
   ]
  },
  {
   "cell_type": "code",
   "execution_count": 2,
   "id": "f7d6823c-fa6d-41af-96ef-4938a4e5cdd7",
   "metadata": {},
   "outputs": [
    {
     "name": "stdout",
     "output_type": "stream",
     "text": [
      "2023-10-09 00:00:00\n",
      "01/23/24\n",
      "Tue Jan 23 00:00:00 2024\n",
      "01/23/24\n"
     ]
    }
   ],
   "source": [
    "fecha = '2023-09-10'\n",
    "formato = '%Y-%d-%m'\n",
    "\n",
    "print(datetime.datetime.strptime(fecha, formato)) \n",
    "print(datetime.datetime(2024, 1, 23).strftime('%D'))\n",
    "print(datetime.datetime(2024, 1, 23).strftime('%c'))\n",
    "print(datetime.datetime(2024, 1, 23).strftime('%x'))"
   ]
  },
  {
   "cell_type": "markdown",
   "id": "1bc5d8c1",
   "metadata": {},
   "source": [
    "# Random\n",
    "\n",
    "Es una librería que permite hacer operaciones pseudo aleatorias.\n",
    "\n",
    "Las más usadas son:\n",
    "\n",
    "* **random()**: devuelve un número entre 0.0 y 1.0 de forma aleatoria (excluyendo el 0.0.\n",
    "* **shuffle(x, random=random())**: permite desordenar una secuencia.\n",
    "* **choice(sequencia)**: elige un elemento de una secuencia.\n",
    "* **Choices(iter, peso, número_iteraciones)**: elige multiples veces un elemento de una secuencia pudiendo dar pesos.\n",
    "* **randrange(fin) o radrange(inicio, fin, paso)**: permite obtener un número aleatorio de una secuencia numérica.\n"
   ]
  },
  {
   "cell_type": "code",
   "execution_count": 3,
   "id": "ac1fea86",
   "metadata": {},
   "outputs": [],
   "source": [
    "from random import random, shuffle, choice, choices\n",
    "\n",
    "nombres = ['Hugo', 'Lucia', 'Martin', 'Sofia', 'Lucas', 'Martina', 'Mateo', 'Maria', 'Leo', \n",
    "           'Julia',  'Daniel', 'Paula', 'Alejandro', 'Emma', 'Pablo', 'Daniela', \n",
    "           'Manuel', 'Valeria', 'Alvaro', 'Alba']"
   ]
  },
  {
   "cell_type": "code",
   "execution_count": 4,
   "id": "1cef4a6b",
   "metadata": {},
   "outputs": [
    {
     "data": {
      "text/plain": [
       "(0.4084899513203569, 'Alba', ['Daniela', 'Martin', 'Maria', 'Daniel', 'Mateo'])"
      ]
     },
     "execution_count": 4,
     "metadata": {},
     "output_type": "execute_result"
    }
   ],
   "source": [
    "random(), choice(nombres), choices(nombres, k=5)"
   ]
  },
  {
   "cell_type": "code",
   "execution_count": 5,
   "id": "612497b2",
   "metadata": {
    "scrolled": true,
    "tags": []
   },
   "outputs": [
    {
     "data": {
      "text/plain": [
       "['Leo',\n",
       " 'Paula',\n",
       " 'Martina',\n",
       " 'Sofia',\n",
       " 'Valeria',\n",
       " 'Lucia',\n",
       " 'Alba',\n",
       " 'Daniel',\n",
       " 'Daniela',\n",
       " 'Pablo',\n",
       " 'Maria',\n",
       " 'Mateo',\n",
       " 'Manuel',\n",
       " 'Alvaro',\n",
       " 'Alejandro',\n",
       " 'Julia',\n",
       " 'Hugo',\n",
       " 'Emma',\n",
       " 'Lucas',\n",
       " 'Martin']"
      ]
     },
     "execution_count": 5,
     "metadata": {},
     "output_type": "execute_result"
    }
   ],
   "source": [
    "shuffle(nombres)\n",
    "nombres"
   ]
  },
  {
   "cell_type": "markdown",
   "id": "6e770853",
   "metadata": {},
   "source": [
    "Más información en: [random](https://docs.python.org/es/3/library/random.html)"
   ]
  },
  {
   "cell_type": "markdown",
   "id": "674b51b2-8f05-4816-bece-2ae8f0596614",
   "metadata": {},
   "source": [
    "## Ejercicio\n",
    "\n",
    "Obtener 10 números aleatorios de una serie de números entre 1 y 100.\n",
    "\n",
    "Siempre que salga un número, ese número debe de ser eliminado de las posiblidades, tal y como pasa en un bingo."
   ]
  },
  {
   "cell_type": "code",
   "execution_count": null,
   "id": "ffdb69e4-e684-43ba-b1ba-e35226940a2f",
   "metadata": {},
   "outputs": [],
   "source": []
  },
  {
   "cell_type": "markdown",
   "id": "424f80ad-181a-48d1-88ae-fbf5edce2e63",
   "metadata": {},
   "source": [
    "## Ejercicio 2\n",
    "\n",
    "Hacer un programa que lance un dado y devuelva su valor obtenido de forma aleatoria."
   ]
  },
  {
   "cell_type": "code",
   "execution_count": null,
   "id": "6b53a1c4-05b1-4fa8-ac3e-91698469ec98",
   "metadata": {},
   "outputs": [],
   "source": []
  },
  {
   "cell_type": "markdown",
   "id": "339874e1",
   "metadata": {},
   "source": [
    "# Itertools\n",
    "\n",
    "Permite utilizar funciones para iterar sobre secuencias de forma simple y rápida.\n",
    "\n",
    "Algunas de las funciones más usadas son:\n",
    "\n",
    "* **count(inicio, paso)**: permite obtener una secuencia desde el inicio con un paso específico.\n",
    "* **cycle(secuencia)**: permite tener una secuencia repetida indefinidamente\n",
    "* **repeat(elemento, n)**: repite un elemento un número n de veces\n",
    "* **chain(sec1, sec2)**: une diferentes secuencias como si fuera una sola.\n",
    "* **compress(sec, selectores)**: permite obtener una mascara de selección sobre la secuencia basada en si hay 1 o 0 en los selectores\n",
    "* **dropwhile(funcion, secuencia)**: solo devuelve los elementos que pasen la condición que define la función\n",
    "* **groupby(sequencia, key=None)**: agrupa el contenido\n",
    "* **tee(sequencia, n)**: crea n secuencias desde la que se le pasa como parámetro\n",
    "* **product(sec1, sec2, ...)**: hace el producto cartesiano entre los elementos de las secuecnias\n",
    "* **permutations(secuencia, longitud)**: crea permutaciones de los elementos de la secuencia\n",
    "* **combinations(secuencia, longitud)**: crea combinaciones de los elementos de la secuencia"
   ]
  },
  {
   "cell_type": "code",
   "execution_count": 6,
   "id": "0e3a1294",
   "metadata": {},
   "outputs": [
    {
     "name": "stdout",
     "output_type": "stream",
     "text": [
      "0 - J\n",
      "1 - u\n",
      "2 - a\n",
      "3 - n\n",
      "4 - J\n",
      "5 - u\n"
     ]
    }
   ],
   "source": [
    "from itertools import count, cycle, repeat, chain, compress, dropwhile, groupby, tee\n",
    "from itertools import product, permutations, combinations\n",
    "\n",
    "\n",
    "for idx, x in enumerate(cycle('Juan')):\n",
    "    print(f'{idx} - {x}')\n",
    "    if idx >= 5:\n",
    "        break"
   ]
  },
  {
   "cell_type": "code",
   "execution_count": 7,
   "id": "b251e8b0",
   "metadata": {},
   "outputs": [
    {
     "name": "stdout",
     "output_type": "stream",
     "text": [
      "0 - 982\n",
      "1 - 983\n",
      "2 - 984\n",
      "3 - 985\n",
      "4 - 986\n",
      "5 - 987\n"
     ]
    }
   ],
   "source": [
    "for idx, x in enumerate(count(982)):\n",
    "    print(f'{idx} - {x}')\n",
    "    if idx >= 5:\n",
    "        break"
   ]
  },
  {
   "cell_type": "code",
   "execution_count": 8,
   "id": "438d91bf",
   "metadata": {},
   "outputs": [
    {
     "data": {
      "text/plain": [
       "['Pepe', 'Pepe', 'Pepe', 'Pepe', 'Pepe']"
      ]
     },
     "execution_count": 8,
     "metadata": {},
     "output_type": "execute_result"
    }
   ],
   "source": [
    "list(repeat('Pepe', 5))"
   ]
  },
  {
   "cell_type": "code",
   "execution_count": 9,
   "id": "cd81ace8",
   "metadata": {},
   "outputs": [
    {
     "data": {
      "text/plain": [
       "['E', 'n', ' ', 'n']"
      ]
     },
     "execution_count": 9,
     "metadata": {},
     "output_type": "execute_result"
    }
   ],
   "source": [
    "list(compress('En un lugar de la mancha', [1, 1, 1, 0, 1]))"
   ]
  },
  {
   "cell_type": "code",
   "execution_count": 10,
   "id": "034bab81",
   "metadata": {},
   "outputs": [
    {
     "name": "stdout",
     "output_type": "stream",
     "text": [
      "Elemento:   - 5 veces\n",
      "Elemento: E - 1 veces\n",
      "Elemento: a - 4 veces\n",
      "Elemento: c - 1 veces\n",
      "Elemento: d - 1 veces\n",
      "Elemento: e - 1 veces\n",
      "Elemento: g - 1 veces\n",
      "Elemento: h - 1 veces\n",
      "Elemento: l - 2 veces\n",
      "Elemento: m - 1 veces\n",
      "Elemento: n - 3 veces\n",
      "Elemento: r - 1 veces\n",
      "Elemento: u - 2 veces\n"
     ]
    }
   ],
   "source": [
    "msg = list('En un lugar de la mancha')\n",
    "for elem, group in groupby(sorted(msg)):\n",
    "    print(f'Elemento: {elem} - {len(list(group))} veces')"
   ]
  },
  {
   "cell_type": "code",
   "execution_count": 11,
   "id": "8c144a71",
   "metadata": {},
   "outputs": [
    {
     "name": "stdout",
     "output_type": "stream",
     "text": [
      "['Leo', 'Paula', 'Martina', 'Sofia', 'Valeria', 'Lucia', 'Alba', 'Daniel', 'Daniela', 'Pablo', 'Maria', 'Mateo', 'Manuel', 'Alvaro', 'Alejandro', 'Julia', 'Hugo', 'Emma', 'Lucas', 'Martin']\n",
      "['Leo', 'Paula', 'Martina', 'Sofia', 'Valeria', 'Lucia', 'Alba', 'Daniel', 'Daniela', 'Pablo', 'Maria', 'Mateo', 'Manuel', 'Alvaro', 'Alejandro', 'Julia', 'Hugo', 'Emma', 'Lucas', 'Martin']\n",
      "['Leo', 'Paula', 'Martina', 'Sofia', 'Valeria', 'Lucia', 'Alba', 'Daniel', 'Daniela', 'Pablo', 'Maria', 'Mateo', 'Manuel', 'Alvaro', 'Alejandro', 'Julia', 'Hugo', 'Emma', 'Lucas', 'Martin']\n"
     ]
    }
   ],
   "source": [
    "for grp in tee(nombres, 3):\n",
    "    print(list(grp))"
   ]
  },
  {
   "cell_type": "code",
   "execution_count": 12,
   "id": "299e6fe6",
   "metadata": {},
   "outputs": [
    {
     "data": {
      "text/plain": [
       "[('a', 'z'),\n",
       " ('a', 'y'),\n",
       " ('a', 'x'),\n",
       " ('c', 'z'),\n",
       " ('c', 'y'),\n",
       " ('c', 'x'),\n",
       " ('e', 'z'),\n",
       " ('e', 'y'),\n",
       " ('e', 'x')]"
      ]
     },
     "execution_count": 12,
     "metadata": {},
     "output_type": "execute_result"
    }
   ],
   "source": [
    "list(product('ace', 'zyx'))"
   ]
  },
  {
   "cell_type": "code",
   "execution_count": 13,
   "id": "81f017db",
   "metadata": {},
   "outputs": [
    {
     "data": {
      "text/plain": [
       "[('a', 'c'), ('a', 'e'), ('c', 'a'), ('c', 'e'), ('e', 'a'), ('e', 'c')]"
      ]
     },
     "execution_count": 13,
     "metadata": {},
     "output_type": "execute_result"
    }
   ],
   "source": [
    "list(permutations('ace', 2))"
   ]
  },
  {
   "cell_type": "code",
   "execution_count": 14,
   "id": "8cd51092",
   "metadata": {
    "scrolled": true
   },
   "outputs": [
    {
     "data": {
      "text/plain": [
       "[('a', 'c'), ('a', 'e'), ('c', 'e')]"
      ]
     },
     "execution_count": 14,
     "metadata": {},
     "output_type": "execute_result"
    }
   ],
   "source": [
    "list(combinations('ace', 2))"
   ]
  },
  {
   "cell_type": "markdown",
   "id": "92c7b3a3",
   "metadata": {},
   "source": [
    "Más información en: [itertools](https://docs.python.org/es/3/library/itertools.html?highlight=itertools)"
   ]
  },
  {
   "cell_type": "markdown",
   "id": "6aae9d9a",
   "metadata": {},
   "source": [
    "# Collections\n",
    "\n",
    "Collections es una librería con útiles tipos de datos como:\n",
    "\n",
    "* **numedtuple()**: permite crear tuplas con nombre que funcionan similar a clases completas pero mucho más cómodas\n",
    "* **deque**: permite crear colas que tienen appends y pop para apilar y desapilar contenido\n",
    "* **Counter(sequencia)**: construye diccionarios contando la cardinalidad de cada uno de los elementos en la secuencia\n",
    "* **defaultdict**: permite crear diccionarios que tienen un valor por defecto cuando no se ha dado ningún valor a una clave"
   ]
  },
  {
   "cell_type": "code",
   "execution_count": 15,
   "id": "a6badcf5",
   "metadata": {},
   "outputs": [
    {
     "name": "stdout",
     "output_type": "stream",
     "text": [
      "Coche(ruedas=5, tipo='Sub', marca='Honda')\n"
     ]
    }
   ],
   "source": [
    "from collections import namedtuple, deque, Counter, defaultdict\n",
    "\n",
    "modelo_coche = namedtuple('Coche', 'ruedas tipo marca')\n",
    "honda = modelo_coche(5, 'Sub', 'Honda')\n",
    "print(honda)"
   ]
  },
  {
   "cell_type": "code",
   "execution_count": 16,
   "id": "8829cf87",
   "metadata": {
    "scrolled": true
   },
   "outputs": [
    {
     "data": {
      "text/plain": [
       "Counter({'a': 3,\n",
       "         ' ': 3,\n",
       "         'l': 2,\n",
       "         'e': 2,\n",
       "         't': 2,\n",
       "         'H': 1,\n",
       "         'o': 1,\n",
       "         'q': 1,\n",
       "         'u': 1,\n",
       "         's': 1,\n",
       "         'n': 1})"
      ]
     },
     "execution_count": 16,
     "metadata": {},
     "output_type": "execute_result"
    }
   ],
   "source": [
    "cc = Counter('Hola que tal estan')\n",
    "cc"
   ]
  },
  {
   "cell_type": "code",
   "execution_count": 17,
   "id": "cd8993bc",
   "metadata": {},
   "outputs": [
    {
     "data": {
      "text/plain": [
       "defaultdict(list, {'a': [], 'k': ['Some element']})"
      ]
     },
     "execution_count": 17,
     "metadata": {},
     "output_type": "execute_result"
    }
   ],
   "source": [
    "dd = defaultdict(list)\n",
    "\n",
    "dd['a']\n",
    "\n",
    "dd['k'].append('Some element')\n",
    "\n",
    "dd"
   ]
  },
  {
   "cell_type": "markdown",
   "id": "85ef048b-f160-439b-8dce-70e44e6c9716",
   "metadata": {},
   "source": [
    "## Ejercicio \n",
    "\n",
    "Crear un diccionario que por defecto tenga otros diccionarios"
   ]
  },
  {
   "cell_type": "code",
   "execution_count": null,
   "id": "acc4aa03-9510-4c40-9241-7f46c7a50bcd",
   "metadata": {},
   "outputs": [],
   "source": []
  },
  {
   "cell_type": "markdown",
   "id": "8e2e0129-b462-4261-9cdd-53167c10a63d",
   "metadata": {},
   "source": [
    "## Ejercicio 2\n",
    "\n",
    "Crear un diccionario que tenga Counters por defecto"
   ]
  },
  {
   "cell_type": "code",
   "execution_count": null,
   "id": "7fe74f2f-56f2-4f64-9052-b1abd4738830",
   "metadata": {},
   "outputs": [],
   "source": []
  },
  {
   "cell_type": "markdown",
   "id": "fe94222e-802d-488d-97dc-2fed79907e02",
   "metadata": {},
   "source": []
  }
 ],
 "metadata": {
  "kernelspec": {
   "display_name": "Python 3 (ipykernel)",
   "language": "python",
   "name": "python3"
  },
  "language_info": {
   "codemirror_mode": {
    "name": "ipython",
    "version": 3
   },
   "file_extension": ".py",
   "mimetype": "text/x-python",
   "name": "python",
   "nbconvert_exporter": "python",
   "pygments_lexer": "ipython3",
   "version": "3.11.5"
  }
 },
 "nbformat": 4,
 "nbformat_minor": 5
}
