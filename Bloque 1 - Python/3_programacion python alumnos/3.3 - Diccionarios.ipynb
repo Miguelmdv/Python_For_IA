{
 "cells": [
  {
   "cell_type": "markdown",
   "id": "fd1b2000",
   "metadata": {},
   "source": [
    "# Diccionarios"
   ]
  },
  {
   "cell_type": "markdown",
   "id": "4f8b0c9c",
   "metadata": {},
   "source": [
    "Los diccionarios en Python son mapas que permite relacionar claves con valores con las siguientes características:\n",
    "* Es un tipo mutable\n",
    "* Las claves de los diccionarios son siempre únicas pero hasheables\n",
    "* Los valores pueden ser cualquier tipo (includo estructuras anidadas)\n",
    "* Las claves de los diccionarios en Python 3 están ordenadas según su creación\n",
    "\n",
    "\n",
    "![Diccionarios_En_Python.jpeg](imagenes/Diccionarios_En_Python.jpeg)"
   ]
  },
  {
   "cell_type": "markdown",
   "id": "8cf7f91e",
   "metadata": {},
   "source": [
    "Se instancia un diccionario de las siguientes formas:\n",
    "* Utilizando un literal tipo diccionario con claves y valores separados por `:`:\n",
    "\n",
    "```python\n",
    "\n",
    "mi_dict = {'juan': 9, 'ana': 8, 89: 'Pepe'}\n",
    "\n",
    "```\n",
    "\n",
    "* Contruyendo objetos clave valor por argumentos:\n",
    "\n",
    "```python\n",
    "\n",
    "mi_dict = dict(juan=9, ana=8)\n",
    "\n",
    "```\n",
    "\n",
    "* O también usando diccionarios por comprensión (se verá más adelante)\n"
   ]
  },
  {
   "cell_type": "code",
   "execution_count": 2,
   "id": "bdc104a4",
   "metadata": {},
   "outputs": [
    {
     "data": {
      "text/plain": [
       "['__class__',\n",
       " '__class_getitem__',\n",
       " '__contains__',\n",
       " '__delattr__',\n",
       " '__delitem__',\n",
       " '__dir__',\n",
       " '__doc__',\n",
       " '__eq__',\n",
       " '__format__',\n",
       " '__ge__',\n",
       " '__getattribute__',\n",
       " '__getitem__',\n",
       " '__getstate__',\n",
       " '__gt__',\n",
       " '__hash__',\n",
       " '__init__',\n",
       " '__init_subclass__',\n",
       " '__ior__',\n",
       " '__iter__',\n",
       " '__le__',\n",
       " '__len__',\n",
       " '__lt__',\n",
       " '__ne__',\n",
       " '__new__',\n",
       " '__or__',\n",
       " '__reduce__',\n",
       " '__reduce_ex__',\n",
       " '__repr__',\n",
       " '__reversed__',\n",
       " '__ror__',\n",
       " '__setattr__',\n",
       " '__setitem__',\n",
       " '__sizeof__',\n",
       " '__str__',\n",
       " '__subclasshook__',\n",
       " 'clear',\n",
       " 'copy',\n",
       " 'fromkeys',\n",
       " 'get',\n",
       " 'items',\n",
       " 'keys',\n",
       " 'pop',\n",
       " 'popitem',\n",
       " 'setdefault',\n",
       " 'update',\n",
       " 'values']"
      ]
     },
     "execution_count": 2,
     "metadata": {},
     "output_type": "execute_result"
    }
   ],
   "source": [
    "# métodos disponibles para diccionarios\n",
    "dir(dict())"
   ]
  },
  {
   "cell_type": "markdown",
   "id": "2049e8b9",
   "metadata": {},
   "source": [
    "Los métodos disponibles son los siguientes:\n",
    "\n",
    "Nombre|Acción|ejemplo\n",
    ":-:|:-:|:-:\n",
    "clear | Borra todo el contenido de un diccionario | `dct.clear()`\n",
    "copy | Devuelve una copia superficial del diccionario | `dct.copy()`\n",
    "fromkeys | Crea un nuevo diccionario con las claves y el mismo valor | `dict.fromkeys(['uno', 'dos'], True)`\n",
    "get | Permite obtener el valor de una clave o un valor por defecto | `dct.get('Juan', -1)`\n",
    "items | Devuelve un iterador con los pares clave y valor del diccionario | `dct.items()`\n",
    "keys | Devuelve un iterador por todas las claves del diccionario | `dct.keys()`\n",
    "pop | Permite sacar un par clave valor del diccionario definido por el argumento devolviendo el valor | `dct.pop('Pepe')`\n",
    "popitem | Permite sacar un par de clave y valor sin poder seleccionar cual | `dct.popitem()`\n",
    "setdefault | Inserta una clave con el valor proporcionado si no está aún presente | `dct.setdefault('pepe', 3)`\n",
    "update | Permite actualizar el diccionario con otro | `dct1.update(dct2)`\n",
    "values | Devuelve un iterador con todos los valores | `dct1.values() `"
   ]
  },
  {
   "cell_type": "code",
   "execution_count": 3,
   "id": "e7bbc57c",
   "metadata": {},
   "outputs": [
    {
     "data": {
      "text/plain": [
       "['coche', 'moto', 'bicicleta']"
      ]
     },
     "execution_count": 3,
     "metadata": {},
     "output_type": "execute_result"
    }
   ],
   "source": [
    "# mer define cuantos vehiculos tiene un concesionario de motos, coches y bicicletas\n",
    "mer = {\n",
    "    'coche': 5,\n",
    "    'moto': 10,\n",
    "    'bicicleta': 54\n",
    "}\n",
    "\n",
    "list(mer.keys())"
   ]
  },
  {
   "cell_type": "code",
   "execution_count": 4,
   "id": "8bcc73e1",
   "metadata": {},
   "outputs": [
    {
     "data": {
      "text/plain": [
       "[5, 10, 54]"
      ]
     },
     "execution_count": 4,
     "metadata": {},
     "output_type": "execute_result"
    }
   ],
   "source": [
    "list(mer.values())"
   ]
  },
  {
   "cell_type": "markdown",
   "id": "e9e9c7eb",
   "metadata": {},
   "source": [
    "## Ejercicio 1\n",
    "\n",
    "Obtener el número total de vehiculos que hay"
   ]
  },
  {
   "cell_type": "code",
   "execution_count": 9,
   "id": "4aa182e2",
   "metadata": {},
   "outputs": [
    {
     "name": "stdout",
     "output_type": "stream",
     "text": [
      "69\n"
     ]
    }
   ],
   "source": [
    "print(sum(mer.values()))"
   ]
  },
  {
   "cell_type": "markdown",
   "id": "1f75e9f2",
   "metadata": {},
   "source": [
    "## Ejercicio 2 - Patrimonio\n",
    "\n",
    "Teniendo en cuenta que los precios de los vehiculos se definen en `precios`, obtener cuanto patrimonio hay en `mer`\n",
    "\n",
    "```python\n",
    "precios = dict(coche=9000, moto=3900, bicicleta=400)\n",
    "```"
   ]
  },
  {
   "cell_type": "code",
   "execution_count": 10,
   "id": "ba62170d",
   "metadata": {},
   "outputs": [
    {
     "data": {
      "text/plain": [
       "105600"
      ]
     },
     "execution_count": 10,
     "metadata": {},
     "output_type": "execute_result"
    }
   ],
   "source": [
    "precios = dict(coche=9000, moto=3900, bicicleta=400)\n",
    "patrimonio = 0\n",
    "\n",
    "for vehiculo, cantidad in mer.items():\n",
    "    precios_vehiculo = precios[vehiculo]\n",
    "    patrimonio += precios_vehiculo * cantidad\n",
    "    \n",
    "patrimonio"
   ]
  },
  {
   "cell_type": "markdown",
   "id": "ce8cb111",
   "metadata": {},
   "source": [
    "## Ejercicio 3 - Patrimonio por tipo\n",
    "\n",
    "Obtener el patrimonio por cada tipo de vehiculo (cuanto patrimonio hay en coches, en motos o en bicicletas)"
   ]
  },
  {
   "cell_type": "code",
   "execution_count": 13,
   "id": "1c0648d8",
   "metadata": {},
   "outputs": [
    {
     "data": {
      "text/plain": [
       "{'coche': 45000, 'moto': 39000, 'bicicleta': 21600}"
      ]
     },
     "execution_count": 13,
     "metadata": {},
     "output_type": "execute_result"
    }
   ],
   "source": [
    "precios = dict(coche=9000, moto=3900, bicicleta=400)\n",
    "patrimonio = {\"coche\" : 0, \"moto\" : 0, \"bicicleta\" : 0}\n",
    "\n",
    "for vehiculo, cantidad in mer.items():\n",
    "    precios_vehiculo = precios[vehiculo]\n",
    "    patrimonio[vehiculo] += precios_vehiculo * cantidad\n",
    "    \n",
    "patrimonio"
   ]
  },
  {
   "cell_type": "markdown",
   "id": "a8eca5e5",
   "metadata": {},
   "source": [
    "## Ejemplo ampliado - Aplicaciones reales de diccionarios\n",
    "\n",
    "Sacar las medias de las notas de una clase expresadas en un diccionario agrupadas:\n",
    "* Aprobados y suspensos\n",
    "* Categoría de notas (Aprobado, Bien, notable y sobresaliente)\n",
    "* Sacar la media de cada categoría\n",
    "* Obtener las medias por edad\n",
    "* Unir las notas con una correción del 70% y sumar participación con hasta 3 puntos más de otro diccionario"
   ]
  },
  {
   "cell_type": "code",
   "execution_count": 14,
   "id": "f68eb1e2",
   "metadata": {},
   "outputs": [],
   "source": [
    "notas = {\n",
    "    'Juan': {'nota': 8.7, 'edad': 37},\n",
    "    'María': {'nota': 6.2, 'edad': 27},\n",
    "    'Antonio': {'nota': 9.7, 'edad': 42},\n",
    "    'Ana': {'nota': 5.2, 'edad': 18},\n",
    "    'Pedro': {'nota': 7.5, 'edad': 31},\n",
    "    'Pepi': {'nota': 3.3, 'edad': 29},\n",
    "    'Salva': {'nota': 4.5, 'edad': 21},\n",
    "    'Mario': {'nota': 5, 'edad': 36},\n",
    "}"
   ]
  },
  {
   "cell_type": "markdown",
   "id": "899445f9",
   "metadata": {},
   "source": [
    "Mostrar la información de cada alumno como:\n",
    "\n",
    "`<nombre> obtuvo una nota de: <nota> y tiene una edad de: <edad>`"
   ]
  },
  {
   "cell_type": "code",
   "execution_count": 26,
   "id": "9b685f10",
   "metadata": {},
   "outputs": [
    {
     "name": "stdout",
     "output_type": "stream",
     "text": [
      "Juan obtuvo una nota de: 8.7 y tiene una edad de: 37\n",
      "María obtuvo una nota de: 6.2 y tiene una edad de: 27\n",
      "Antonio obtuvo una nota de: 9.7 y tiene una edad de: 42\n",
      "Ana obtuvo una nota de: 5.2 y tiene una edad de: 18\n",
      "Pedro obtuvo una nota de: 7.5 y tiene una edad de: 31\n",
      "Pepi obtuvo una nota de: 3.3 y tiene una edad de: 29\n",
      "Salva obtuvo una nota de: 4.5 y tiene una edad de: 21\n",
      "Mario obtuvo una nota de: 5 y tiene una edad de: 36\n"
     ]
    }
   ],
   "source": [
    "for name in notas:\n",
    "    print(f\"{name} obtuvo una nota de: {notas[name]['nota']} y tiene una edad de: {notas[name]['edad']}\")"
   ]
  },
  {
   "cell_type": "markdown",
   "id": "943f640f",
   "metadata": {},
   "source": [
    "Obtener el nombre de los aprobados (nota >= 5)"
   ]
  },
  {
   "cell_type": "code",
   "execution_count": 28,
   "id": "f159826d",
   "metadata": {},
   "outputs": [
    {
     "name": "stdout",
     "output_type": "stream",
     "text": [
      "Juan obtuvo una nota de: 8.7\n",
      "María obtuvo una nota de: 6.2\n",
      "Antonio obtuvo una nota de: 9.7\n",
      "Ana obtuvo una nota de: 5.2\n",
      "Pedro obtuvo una nota de: 7.5\n",
      "Mario obtuvo una nota de: 5\n"
     ]
    }
   ],
   "source": [
    "for name in notas:\n",
    "    if notas[name]['nota'] >=5:\n",
    "        print(f\"{name} obtuvo una nota de: {notas[name]['nota']}\")"
   ]
  },
  {
   "cell_type": "markdown",
   "id": "e528e6c3",
   "metadata": {},
   "source": [
    "Obtener cuantos alumnos tienen un Notable (7 < nota < 9)"
   ]
  },
  {
   "cell_type": "code",
   "execution_count": 29,
   "id": "45bdb52f",
   "metadata": {},
   "outputs": [
    {
     "name": "stdout",
     "output_type": "stream",
     "text": [
      "Juan obtuvo una nota de: 8.7\n",
      "Pedro obtuvo una nota de: 7.5\n"
     ]
    }
   ],
   "source": [
    "for name in notas:\n",
    "    if 7 < notas[name]['nota'] < 9:\n",
    "        print(f\"{name} obtuvo una nota de: {notas[name]['nota']}\")"
   ]
  },
  {
   "cell_type": "markdown",
   "id": "74a013c3",
   "metadata": {},
   "source": [
    "Cuantos alumnos mayores de 30 años han aprobado"
   ]
  },
  {
   "cell_type": "code",
   "execution_count": 31,
   "id": "544040b7",
   "metadata": {},
   "outputs": [
    {
     "name": "stdout",
     "output_type": "stream",
     "text": [
      "Juan obtuvo una nota de: 8.7 y tiene una edad de: 37\n",
      "Antonio obtuvo una nota de: 9.7 y tiene una edad de: 42\n",
      "Pedro obtuvo una nota de: 7.5 y tiene una edad de: 31\n",
      "Mario obtuvo una nota de: 5 y tiene una edad de: 36\n"
     ]
    }
   ],
   "source": [
    "for name in notas:\n",
    "    if notas[name]['nota'] >=5 and notas[name]['edad'] > 30:\n",
    "        print(f\"{name} obtuvo una nota de: {notas[name]['nota']} y tiene una edad de: {notas[name]['edad']}\")"
   ]
  },
  {
   "cell_type": "markdown",
   "id": "278e4421",
   "metadata": {},
   "source": [
    "Agrupar número por alumnos por categorías:\n",
    "* Suspenso: nota < 5\n",
    "* Suficiente: 5 <= nota < 6\n",
    "* Bien: 6 <= nota < 7\n",
    "* Notable: 7 <= nota < 9\n",
    "* Sobresaliente: 9 <= nota < 10"
   ]
  },
  {
   "cell_type": "code",
   "execution_count": 37,
   "id": "4c17c21b",
   "metadata": {},
   "outputs": [
    {
     "data": {
      "text/plain": [
       "{'suspenso': {'Salva': {4.5, 21}},\n",
       " 'suficiente': {'Mario': {5, 36}},\n",
       " 'bien': {'María': {6.2, 27}},\n",
       " 'notable': {'Pedro': {7.5, 31}},\n",
       " 'sobresaliente': {'Antonio': {9.7, 42}}}"
      ]
     },
     "execution_count": 37,
     "metadata": {},
     "output_type": "execute_result"
    }
   ],
   "source": [
    "rangos = {\"suspenso\":0, \"suficiente\":0, \"bien\":0, \"notable\":0, \"sobresaliente\":0}\n",
    "for name in notas:\n",
    "    \n",
    "    if notas[name]['nota'] < 5:\n",
    "        rangos[\"suspenso\"] = {name: {notas[name]['nota'], notas[name]['edad']}}\n",
    "        \n",
    "    elif 5 <= notas[name]['nota'] < 6:\n",
    "        rangos[\"suficiente\"] = {name: {notas[name]['nota'], notas[name]['edad']}}\n",
    "        \n",
    "    elif 6 <= notas[name]['nota'] < 7:\n",
    "        rangos[\"bien\"] = {name: {notas[name]['nota'], notas[name]['edad']}}\n",
    "    \n",
    "    elif 7 <= notas[name]['nota'] < 9:\n",
    "        rangos[\"notable\"] = {name: {notas[name]['nota'], notas[name]['edad']}}\n",
    "    \n",
    "    elif 9 <= notas[name]['nota'] < 10:\n",
    "        rangos[\"sobresaliente\"] = {name: {notas[name]['nota'], notas[name]['edad']}}\n",
    "        \n",
    "rangos"
   ]
  },
  {
   "cell_type": "markdown",
   "id": "cd821c64",
   "metadata": {},
   "source": [
    "Obtener la nota final ponderando la nota más los puntos extras expuestos en el siguiente diccionario:"
   ]
  },
  {
   "cell_type": "code",
   "execution_count": 27,
   "id": "108e9013",
   "metadata": {},
   "outputs": [],
   "source": [
    "puntos_extra = {\n",
    "    'Juan': 2.3,\n",
    "    'María': 1.2,\n",
    "    'Antonio': 0.4,\n",
    "    'Ana': 0,\n",
    "    'Pedro': 0.7,\n",
    "    'Pepi': 0.87,\n",
    "    'Salva': 2.98,\n",
    "    'Mario': 2.15,\n",
    "}"
   ]
  },
  {
   "cell_type": "code",
   "execution_count": null,
   "id": "03aca8d5",
   "metadata": {},
   "outputs": [],
   "source": []
  },
  {
   "cell_type": "markdown",
   "id": "878e64b2-dfb7-4ccc-b4a4-511baec37adf",
   "metadata": {},
   "source": []
  },
  {
   "cell_type": "markdown",
   "id": "87b9f5d7-6be8-48a9-b260-2c142625b4b2",
   "metadata": {},
   "source": [
    "## Ejercicio 4: Eliminación de duplicados en una lista de diccionarios\n",
    "\n",
    "Escribe un programa que tome una lista de diccionarios y elimine los diccionarios duplicados basados en un conjunto de claves específicas.\n",
    "\n",
    "```python\n",
    "lista_de_diccionarios = [\n",
    "    {\"id\": 1, \"nombre\": \"Alice\"},\n",
    "    {\"id\": 2, \"nombre\": \"Bob\"},\n",
    "    {\"id\": 1, \"nombre\": \"Alice\"},\n",
    "    {\"id\": 3, \"nombre\": \"Charlie\"}\n",
    "]\n",
    "```"
   ]
  },
  {
   "cell_type": "code",
   "execution_count": null,
   "id": "60b31680-e89f-4dbc-b4b4-335f8c19d238",
   "metadata": {},
   "outputs": [],
   "source": []
  },
  {
   "cell_type": "markdown",
   "id": "987e8a5f-4f8a-404a-8db2-1acb9aec9533",
   "metadata": {},
   "source": [
    "## Ejercicio 5: Verificación de anagramas en una lista\n",
    "\n",
    "Escribe un programa que tome una lista de palabras y encuentre los grupos de anagramas dentro de la lista.\n",
    "\n",
    "```python\n",
    "palabras = [\"rat\", \"tar\", \"car\", \"arc\", \"art\", \"bat\"]\n",
    "```"
   ]
  },
  {
   "cell_type": "code",
   "execution_count": null,
   "id": "415ccb67-9ee5-4a80-8254-c020640ba9ad",
   "metadata": {},
   "outputs": [],
   "source": []
  },
  {
   "cell_type": "markdown",
   "id": "8c5470a1-6fce-49cc-bfe3-4f43c6f87c38",
   "metadata": {},
   "source": [
    "## Ejercicio 6: Conteo de palabras en una lista\n",
    "\n",
    "Escribe un programa que tome una lista de palabras y genere un diccionario que cuente cuántas veces aparece cada palabra en la lista.\n",
    "\n",
    "```python\n",
    "palabras = [\"manzana\", \"banana\", \"manzana\", \"cereza\", \"uva\", \"banana\"]\n",
    "```"
   ]
  },
  {
   "cell_type": "code",
   "execution_count": null,
   "id": "78b07efc-3b23-4f2c-b4dd-c882789f0e02",
   "metadata": {},
   "outputs": [],
   "source": []
  },
  {
   "cell_type": "markdown",
   "id": "2f5d3fe0-a154-4a9c-b049-9a7e13b3f0de",
   "metadata": {},
   "source": [
    "## Ejercicio 7: Cálculo de promedio de calificaciones\n",
    "\n",
    "Escribe un programa que tome una lista de calificaciones (números de punto flotante) y calcule el promedio de calificaciones. Luego, clasifica a los estudiantes en diferentes categorías según sus calificaciones.\n",
    "\n",
    "```python\n",
    "calificaciones = [8.5, 7.0, 9.2, 6.5, 8.0, 9.8, 7.2, 9.0, 6.8, 8.7]\n",
    "```"
   ]
  },
  {
   "cell_type": "code",
   "execution_count": null,
   "id": "a670cb37-b0df-47b9-b36e-3f92b95bcddb",
   "metadata": {},
   "outputs": [],
   "source": []
  },
  {
   "cell_type": "markdown",
   "id": "9371a7d0-44d6-4424-b0fb-ff78301b6cb4",
   "metadata": {},
   "source": [
    "## Ejercicio 8: Conteo de elementos en una lista y almacenamiento en un diccionario\n",
    "\n",
    "Escribe un programa que tome una lista de elementos y genere un diccionario que cuente cuántas veces aparece cada elemento en la lista.\n",
    "\n",
    "```python\n",
    "elementos = [1, \"manzana\", 3.14, \"banana\", 1, \"manzana\", 3.14, 2, 3.14]\n",
    "```"
   ]
  },
  {
   "cell_type": "code",
   "execution_count": null,
   "id": "a52e59c9-130a-487d-b6f0-7d82ae8b7058",
   "metadata": {},
   "outputs": [],
   "source": []
  },
  {
   "cell_type": "markdown",
   "id": "412c9880-1c3e-44cd-9a4c-b19d3af7668a",
   "metadata": {},
   "source": [
    "## Ejercicio 9: Extracción de datos de un diccionario\n",
    "\n",
    "Escribe un programa que tome un diccionario de estudiantes y muestre información específica sobre ellos, como los estudiantes con calificaciones sobresalientes.\n",
    "\n",
    "```python\n",
    "estudiantes = {\n",
    "    \"María\": {\"calificacion\": 9.5, \"edad\": 20},\n",
    "    \"Antonio\": {\"calificacion\": 8.0, \"edad\": 22},\n",
    "    \"Juan\": {\"calificacion\": 9.8, \"edad\": 21},\n",
    "    \"Pepe\": {\"calificacion\": 7.2, \"edad\": 19}\n",
    "}\n",
    "```"
   ]
  },
  {
   "cell_type": "code",
   "execution_count": null,
   "id": "69bd3c19-4461-4cc7-be07-64030f12cf18",
   "metadata": {},
   "outputs": [],
   "source": []
  },
  {
   "cell_type": "markdown",
   "id": "22f32440-8452-4396-874b-e5a9dffc8c8d",
   "metadata": {},
   "source": [
    "## Ejercicio 10: Creación de un diccionario a partir de dos listas\n",
    "\n",
    "Escribe un programa que tome dos listas, una con nombres y otra con edades, y cree un diccionario donde los nombres sean las claves y las edades sean los valores.\n",
    "\n",
    "```python\n",
    "nombres = [\"María\", \"Antonio\", \"Juan\", \"Pepe\"]\n",
    "edades = [25, 30, 22, 28]\n",
    "```"
   ]
  },
  {
   "cell_type": "code",
   "execution_count": null,
   "id": "2bb69606-c644-4913-b3e5-e7c571638bc4",
   "metadata": {},
   "outputs": [],
   "source": []
  },
  {
   "cell_type": "markdown",
   "id": "a2c33634-485b-4bb4-9ab7-178caf9d0977",
   "metadata": {},
   "source": [
    "## Ejercicio 11: Búsqueda en un diccionario de estudiantes\n",
    "\n",
    "Escribe un programa que tome un diccionario de estudiantes y permita al usuario buscar información sobre un estudiante específico por su nombre.\n",
    "\n",
    "```python\n",
    "estudiantes = {\n",
    "    \"María\": {\"calificacion\": 9.5, \"edad\": 20},\n",
    "    \"Antonio\": {\"calificacion\": 8.0, \"edad\": 22},\n",
    "    \"Juan\": {\"calificacion\": 9.8, \"edad\": 21},\n",
    "    \"Pepe\": {\"calificacion\": 7.2, \"edad\": 19}\n",
    "}\n",
    "```"
   ]
  },
  {
   "cell_type": "code",
   "execution_count": null,
   "id": "238789dd-f481-486b-b0d4-34746aa63298",
   "metadata": {},
   "outputs": [],
   "source": []
  },
  {
   "cell_type": "markdown",
   "id": "77859084-3065-4c99-9264-f69026c9b0a6",
   "metadata": {},
   "source": [
    "## Ejercicio 12: Cálculo de estadísticas de calificaciones\n",
    "\n",
    "Escribe un programa que tome un diccionario de calificaciones de estudiantes y calcule estadísticas, como el promedio y la calificación más alta.\n",
    "\n",
    "```python\n",
    "calificaciones = {\n",
    "    \"María\": 9.5,\n",
    "    \"Antonio\": 8.0,\n",
    "    \"Juan\": 9.8,\n",
    "    \"Pepe\": 7.2\n",
    "}\n",
    "```"
   ]
  },
  {
   "cell_type": "code",
   "execution_count": null,
   "id": "7f7795c8-3d02-472d-a51a-468d2ba9fe0a",
   "metadata": {},
   "outputs": [],
   "source": []
  },
  {
   "cell_type": "markdown",
   "id": "b1ad9df1-478e-45dd-a6f2-5cd463b79b80",
   "metadata": {},
   "source": [
    "## Ejercicio 13: Conteo de letras en un texto\n",
    "\n",
    "Escribe un programa que tome un texto (cadena de caracteres) y cuente la frecuencia de cada letra en el texto utilizando un diccionario.\n",
    "\n",
    "```python\n",
    "texto = \"La programación en Python es increíble\"\n",
    "```"
   ]
  },
  {
   "cell_type": "code",
   "execution_count": null,
   "id": "e3fe4c82-5106-484b-82b1-d8f7d38d0898",
   "metadata": {},
   "outputs": [],
   "source": []
  }
 ],
 "metadata": {
  "kernelspec": {
   "display_name": "Python 3 (ipykernel)",
   "language": "python",
   "name": "python3"
  },
  "language_info": {
   "codemirror_mode": {
    "name": "ipython",
    "version": 3
   },
   "file_extension": ".py",
   "mimetype": "text/x-python",
   "name": "python",
   "nbconvert_exporter": "python",
   "pygments_lexer": "ipython3",
   "version": "3.11.5"
  }
 },
 "nbformat": 4,
 "nbformat_minor": 5
}
