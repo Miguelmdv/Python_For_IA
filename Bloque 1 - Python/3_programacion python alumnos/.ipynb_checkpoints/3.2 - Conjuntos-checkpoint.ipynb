{
 "cells": [
  {
   "cell_type": "markdown",
   "id": "13553da9",
   "metadata": {
    "editable": true,
    "slideshow": {
     "slide_type": ""
    },
    "tags": []
   },
   "source": [
    "# Conjuntos en Python\n",
    "\n",
    "Los conjuntos en python permiten almacenar datos de diferente tipo sin límite lógico (el límite lo impone los recursos de la máquina) NO PERMITE ELEMENTOS DUPLICADOS!\n",
    "\n",
    "![Conjuntos_En_Python.jpeg](imagenes/Conjuntos_En_Python.jpeg)\n",
    "\n",
    "Los conjuntos presentan las siguientes características:\n",
    "* Crean objetos mutables\n",
    "* Todos sus elementos son hasheables\n",
    "* Solo se permite una ocurrencia de cada elemento en cada conjunto\n",
    "* Sus elementos no están ordenados"
   ]
  },
  {
   "cell_type": "markdown",
   "id": "3962b41c",
   "metadata": {},
   "source": [
    "Se instancia un conjunto de las siguientes formas:\n",
    "* Utilizando un literal tipo conjunto: \n",
    "```python\n",
    "mi_variable = {1, 'juan', True, 9.8, (3, 4)}\n",
    "```\n",
    "* Convirtiendo cualquier objeto a su representación en conjuntos:"
   ]
  },
  {
   "cell_type": "code",
   "execution_count": 1,
   "id": "626d5e74",
   "metadata": {},
   "outputs": [
    {
     "data": {
      "text/plain": [
       "{'P', 'e', 'p'}"
      ]
     },
     "execution_count": 1,
     "metadata": {},
     "output_type": "execute_result"
    }
   ],
   "source": [
    "set('Pepe')"
   ]
  },
  {
   "cell_type": "code",
   "execution_count": 2,
   "id": "d9ed5025",
   "metadata": {},
   "outputs": [
    {
     "data": {
      "text/plain": [
       "{'2', '3', '4', '5', '6'}"
      ]
     },
     "execution_count": 2,
     "metadata": {},
     "output_type": "execute_result"
    }
   ],
   "source": [
    "set('23222222244563')"
   ]
  },
  {
   "cell_type": "markdown",
   "id": "49bf2078",
   "metadata": {},
   "source": [
    "* Conjuntos por comprensión (se verán más adelante)"
   ]
  },
  {
   "cell_type": "code",
   "execution_count": 3,
   "id": "81cc2adf",
   "metadata": {},
   "outputs": [
    {
     "data": {
      "text/plain": [
       "['__and__',\n",
       " '__class__',\n",
       " '__class_getitem__',\n",
       " '__contains__',\n",
       " '__delattr__',\n",
       " '__dir__',\n",
       " '__doc__',\n",
       " '__eq__',\n",
       " '__format__',\n",
       " '__ge__',\n",
       " '__getattribute__',\n",
       " '__gt__',\n",
       " '__hash__',\n",
       " '__iand__',\n",
       " '__init__',\n",
       " '__init_subclass__',\n",
       " '__ior__',\n",
       " '__isub__',\n",
       " '__iter__',\n",
       " '__ixor__',\n",
       " '__le__',\n",
       " '__len__',\n",
       " '__lt__',\n",
       " '__ne__',\n",
       " '__new__',\n",
       " '__or__',\n",
       " '__rand__',\n",
       " '__reduce__',\n",
       " '__reduce_ex__',\n",
       " '__repr__',\n",
       " '__ror__',\n",
       " '__rsub__',\n",
       " '__rxor__',\n",
       " '__setattr__',\n",
       " '__sizeof__',\n",
       " '__str__',\n",
       " '__sub__',\n",
       " '__subclasshook__',\n",
       " '__xor__',\n",
       " 'add',\n",
       " 'clear',\n",
       " 'copy',\n",
       " 'difference',\n",
       " 'difference_update',\n",
       " 'discard',\n",
       " 'intersection',\n",
       " 'intersection_update',\n",
       " 'isdisjoint',\n",
       " 'issubset',\n",
       " 'issuperset',\n",
       " 'pop',\n",
       " 'remove',\n",
       " 'symmetric_difference',\n",
       " 'symmetric_difference_update',\n",
       " 'union',\n",
       " 'update']"
      ]
     },
     "execution_count": 3,
     "metadata": {},
     "output_type": "execute_result"
    }
   ],
   "source": [
    "# Métodos disponibles para conjuntos\n",
    "dir(set())"
   ]
  },
  {
   "cell_type": "markdown",
   "id": "6007f39a",
   "metadata": {},
   "source": [
    "Los métodos disponibles son los siguientes:\n",
    "\n",
    "Nombre|Acción|ejemplo\n",
    "------|:------:|:-------\n",
    "add | Añade un nuevo elemento al conjunto | `st.add('juan')`\n",
    "clear | Elimina todos los elementos del conjunto | `st.clear()`\n",
    "copy | Devuelve una copia del conjunto | `st.copy()`\n",
    "difference | Devuelve la diferencia que hay entre dos conjuntos | `st.difference(st2)`\n",
    "difference_update | Permite eliminar elementos que estén presentes en otro conjunto | `st.difference_update([2, 3, 'día'])`\n",
    "discard | Permite eliminar un elemento si existe | `st.discard(78)`\n",
    "intersection | Devuelve los elementos que estan presentes en los dos conjuntos| `st.intersection(st2)`\n",
    "intersection_update | Actualiza el conjunto original con la intersección | `st.intersection(st2) `\n",
    "isdisjoint | Comprueba si no hay intersección de los conjuntos | `{1, 2}.isdisjoint({4, 5}) == True `\n",
    "issubset | Comprueba si un conjunto está dentro de otro | `{1, 2}.issubset({1, 2, 3}) == True `\n",
    "issuperset | Comprueba si otro conjunto está dentro del propio | `{1, 2, 3}.issuperset({1, 2}) == True `\n",
    "pop | Permite extraer un elemento aleatorio del conjunto | `{1, 2, 3}.pop() `\n",
    "remove | Permite eliminar un elemento específico del conjunto | `{1, 2}.remove(2) `\n",
    "symmetric_difference | Devuelve los elementos que están sólo en uno de cada conjunto | `{1, 2, 3}.symmetric_difference({1}) == {2, 3} `\n",
    "symmetric_difference_update | Actualiza el conjunto usando la diferencia simétrica | `{1, 2, 3}.symmetric_difference_update({1}) `\n",
    "union | Devuelve la unión de los elementos de todo | `{1, 2}.union({3}) `\n",
    "update | Permite actualizar el conjunto con multiples valores | `st.update([1, 2, 3]) `\n"
   ]
  },
  {
   "cell_type": "code",
   "execution_count": 4,
   "id": "0b0d98bd",
   "metadata": {},
   "outputs": [
    {
     "data": {
      "text/plain": [
       "({1, 2, 3, False, 'ana', 'juan'}, {0, 1, 2, 3, 4, 5})"
      ]
     },
     "execution_count": 4,
     "metadata": {},
     "output_type": "execute_result"
    }
   ],
   "source": [
    "st1 = {1, 2, 3, 3, 'juan', 'ana', False}\n",
    "st2 = set(range(6))\n",
    "st1, st2"
   ]
  },
  {
   "cell_type": "code",
   "execution_count": 5,
   "id": "bcf811fa",
   "metadata": {},
   "outputs": [
    {
     "data": {
      "text/plain": [
       "{1, 2, 3, False, 'ana', 'antonio', 'juan'}"
      ]
     },
     "execution_count": 5,
     "metadata": {},
     "output_type": "execute_result"
    }
   ],
   "source": [
    "st1.add('antonio')\n",
    "st1"
   ]
  },
  {
   "cell_type": "code",
   "execution_count": 6,
   "id": "dcede230",
   "metadata": {},
   "outputs": [
    {
     "data": {
      "text/plain": [
       "({1, 2, 3, False, 'ana', 'antonio', 'juan'}, {0, 1, 2, 3, 4, 5})"
      ]
     },
     "execution_count": 6,
     "metadata": {},
     "output_type": "execute_result"
    }
   ],
   "source": [
    "st1, st2"
   ]
  },
  {
   "cell_type": "code",
   "execution_count": 7,
   "id": "f31cd0b5",
   "metadata": {},
   "outputs": [
    {
     "data": {
      "text/plain": [
       "{'ana', 'antonio', 'juan'}"
      ]
     },
     "execution_count": 7,
     "metadata": {},
     "output_type": "execute_result"
    }
   ],
   "source": [
    "st1.difference(st2)"
   ]
  },
  {
   "cell_type": "code",
   "execution_count": 8,
   "id": "fece6aca",
   "metadata": {},
   "outputs": [
    {
     "data": {
      "text/plain": [
       "{4, 5}"
      ]
     },
     "execution_count": 8,
     "metadata": {},
     "output_type": "execute_result"
    }
   ],
   "source": [
    "st2.difference(st1)"
   ]
  },
  {
   "cell_type": "code",
   "execution_count": 9,
   "id": "21437a26",
   "metadata": {},
   "outputs": [
    {
     "data": {
      "text/plain": [
       "{1, 2, 3, 4, 5, False, 'ana', 'antonio', 'juan'}"
      ]
     },
     "execution_count": 9,
     "metadata": {},
     "output_type": "execute_result"
    }
   ],
   "source": [
    "st1.union(st2)"
   ]
  },
  {
   "cell_type": "code",
   "execution_count": 10,
   "id": "74e59ed1",
   "metadata": {},
   "outputs": [
    {
     "data": {
      "text/plain": [
       "{0, 1, 2, 3}"
      ]
     },
     "execution_count": 10,
     "metadata": {},
     "output_type": "execute_result"
    }
   ],
   "source": [
    "st1.intersection(st2)"
   ]
  },
  {
   "cell_type": "code",
   "execution_count": 11,
   "id": "cdf26de2",
   "metadata": {},
   "outputs": [
    {
     "data": {
      "text/plain": [
       "{0, 1, 2, 3}"
      ]
     },
     "execution_count": 11,
     "metadata": {},
     "output_type": "execute_result"
    }
   ],
   "source": [
    "st2.intersection(st1)"
   ]
  },
  {
   "cell_type": "markdown",
   "id": "a21af3bc",
   "metadata": {},
   "source": [
    "### Ejemplo - Obtener nombres repetidos en dos clases\n",
    "\n",
    "Obtener los nombres que están en las dos clases\n",
    "\n",
    "```python\n",
    "clase_a = ['Juan', 'Ana', 'María', 'Antonio']\n",
    "clase_b = ['Juan', 'Pepe', 'Mario']\n",
    "```\n"
   ]
  },
  {
   "cell_type": "code",
   "execution_count": 12,
   "id": "c56674fc",
   "metadata": {},
   "outputs": [],
   "source": [
    "clase_a = {'Juan', 'Ana', 'María', 'Antonio'}\n",
    "clase_b = {'Juan', 'Pepe', 'Mario'}"
   ]
  },
  {
   "cell_type": "code",
   "execution_count": 13,
   "id": "279e09c0",
   "metadata": {},
   "outputs": [
    {
     "data": {
      "text/plain": [
       "{'Juan'}"
      ]
     },
     "execution_count": 13,
     "metadata": {},
     "output_type": "execute_result"
    }
   ],
   "source": [
    "clase_a.intersection(clase_b)"
   ]
  },
  {
   "cell_type": "markdown",
   "id": "76ac78df-642d-4eed-b4f0-f7e7acc4f668",
   "metadata": {},
   "source": [
    "### Ejemplo - Comprobación de diferencias entre listas\n",
    "\n",
    "Escribe un programa que tome dos listas y calcule la diferencia entre ellas, es decir, los elementos que están en una lista pero no en la otra.\n",
    "\n",
    "```python\n",
    "lista_1 = [1, 2, 3, 4, 5]\n",
    "lista_2 = [3, 4, 5, 6, 7]\n",
    "```"
   ]
  },
  {
   "cell_type": "code",
   "execution_count": null,
   "id": "648c1ca7-f0ac-4877-8a19-c4bd36d19f4f",
   "metadata": {},
   "outputs": [],
   "source": [
    "lista_1 = [1, 2, 3, 4, 5]\n",
    "lista_2 = [3, 4, 5, 6, 7]\n",
    "\n",
    "diferencia_1 = [elemento for elemento in lista_1 if elemento not in lista_2]\n",
    "diferencia_2 = [elemento for elemento in lista_2 if elemento not in lista_1]\n",
    "\n",
    "diff_conjunto_1 = set(lista_1)\n",
    "\n",
    "print(\"Lista 1:\", lista_1)\n",
    "print(\"Lista 2:\", lista_2)\n",
    "print(\"Elementos en Lista 1 pero no en Lista 2:\", diferencia_1)\n",
    "print(\"Elementos en Lista 2 pero no en Lista 1:\", diferencia_2)\n",
    "print(\"Elementos en Lista 1 pero no en Lista 2 en conjuntos:\", set(lista_1).difference(set(lista_2)))\n",
    "print(\"Elementos en Lista 2 pero no en Lista 1 en conjuntos:\", set(lista_2).difference(set(lista_1)))"
   ]
  },
  {
   "cell_type": "markdown",
   "id": "8f3dbc84",
   "metadata": {},
   "source": [
    "## Ejercicio 2 - Obtener la lista de todos los nombres de los alumnos\n",
    "\n",
    "Los alumnos que estén en una clase y los que estén en la otra"
   ]
  },
  {
   "cell_type": "code",
   "execution_count": null,
   "id": "427b17d7",
   "metadata": {},
   "outputs": [],
   "source": []
  },
  {
   "cell_type": "markdown",
   "id": "a22e2aac-cdf5-46a9-911b-e49beb426952",
   "metadata": {},
   "source": [
    "## Ejercicio 3: Eliminación de duplicados en una lista\n",
    "\n",
    "Escribe un programa que tome una lista con elementos duplicados y genere un conjunto que contenga solo los elementos únicos.\n",
    "\n",
    "```python\n",
    "entrada = [1, 2, 2, 3, 4, 4, 5, 5]\n",
    "```\n",
    "\n"
   ]
  },
  {
   "cell_type": "code",
   "execution_count": null,
   "id": "ee6e631f-3d4d-4aa2-a7b3-9f537ef0ea03",
   "metadata": {},
   "outputs": [],
   "source": []
  },
  {
   "cell_type": "markdown",
   "id": "064012c9-1dd3-42ec-b528-f1a92f602220",
   "metadata": {},
   "source": [
    "## Ejercicio 4: Eliminación de elementos de una lista basada en un conjunto\n",
    "\n",
    "Escribe un programa que tome una lista de números enteros y elimine los elementos que están presentes en un conjunto dado.\n",
    "\n",
    "```python\n",
    "lista = [1, 2, 3, 4, 5, 6, 7, 8, 9]\n",
    "```"
   ]
  },
  {
   "cell_type": "code",
   "execution_count": null,
   "id": "22cb4563-906b-4fe6-bd24-bfc1b5f32341",
   "metadata": {},
   "outputs": [],
   "source": []
  },
  {
   "cell_type": "markdown",
   "id": "09496176-4952-4f92-ae7f-2844d769d6fd",
   "metadata": {},
   "source": [
    "## Ejercicio 5: Encontrar elementos únicos y comunes en dos listas\n",
    "\n",
    "Escribe un programa que use dos listas de números enteros y encuentre los elementos únicos en cada una de ellas y los que son comunes en ambas listas.\n",
    "\n",
    "```python\n",
    "lista1 = [1, 2, 3, 4, 5]\n",
    "lista2 = [3, 4, 5, 6, 7]\n",
    "```"
   ]
  },
  {
   "cell_type": "code",
   "execution_count": null,
   "id": "8cfff085-d829-4bf6-87cb-fdf21779e7e7",
   "metadata": {},
   "outputs": [],
   "source": []
  },
  {
   "cell_type": "markdown",
   "id": "1f6b172f-c147-4110-8a8e-a36552a078cd",
   "metadata": {},
   "source": [
    "## Ejercicio 7: Detección de elementos duplicados en una lista\n",
    "\n",
    "Escribe un programa que tome una lista de elementos de diferentes tipos y detecte si hay elementos duplicados en ella.\n",
    "\n",
    "```python\n",
    "elementos = [1, 2, 3, \"cuatro\", \"cinco\", 3, 6, \"cuatro\", 8, 9]\n",
    "```"
   ]
  },
  {
   "cell_type": "code",
   "execution_count": null,
   "id": "8e843176-7ed0-4c75-ab04-3f2f456e2db3",
   "metadata": {},
   "outputs": [],
   "source": []
  },
  {
   "cell_type": "code",
   "execution_count": null,
   "id": "fd1d3439-7183-4e91-bcf6-a8f48bcc2dbf",
   "metadata": {},
   "outputs": [],
   "source": []
  }
 ],
 "metadata": {
  "kernelspec": {
   "display_name": "Python 3 (ipykernel)",
   "language": "python",
   "name": "python3"
  },
  "language_info": {
   "codemirror_mode": {
    "name": "ipython",
    "version": 3
   },
   "file_extension": ".py",
   "mimetype": "text/x-python",
   "name": "python",
   "nbconvert_exporter": "python",
   "pygments_lexer": "ipython3",
   "version": "3.10.10"
  }
 },
 "nbformat": 4,
 "nbformat_minor": 5
}
