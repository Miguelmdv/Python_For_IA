{
 "cells": [
  {
   "cell_type": "markdown",
   "id": "d29fcce7",
   "metadata": {},
   "source": [
    "# Listas en Python\n",
    "\n",
    "Las listas en python permiten almacenar datos de diferente tipo sin límite lógico (el límite lo impone los recursos de la máquina)\n",
    "\n",
    "![Listas_En_Python.jpeg](imagenes/Listas_En_Python.jpeg)\n",
    "\n",
    "Se instancia una lista de las siguientes formas:\n",
    "* Utilizando un literal tipo lista: \n",
    "```python\n",
    "mi_variable = [1, 'juan', True, 9.8, (3, 4)]\n",
    "```\n",
    "* Convirtiendo cualquier objeto a su representación en listas:\n"
   ]
  },
  {
   "cell_type": "code",
   "execution_count": 9,
   "id": "42f825ca",
   "metadata": {},
   "outputs": [
    {
     "data": {
      "text/plain": [
       "['p', 'e', 'p', 'e']"
      ]
     },
     "execution_count": 9,
     "metadata": {},
     "output_type": "execute_result"
    }
   ],
   "source": [
    "list('pepe')"
   ]
  },
  {
   "cell_type": "code",
   "execution_count": 7,
   "id": "da453978",
   "metadata": {},
   "outputs": [
    {
     "data": {
      "text/plain": [
       "(['3', '4', '2', '5'], [453, 3], [True, 9.8])"
      ]
     },
     "execution_count": 7,
     "metadata": {},
     "output_type": "execute_result"
    }
   ],
   "source": [
    "list('3425'), list((453, 3)), list({True, 9.8})"
   ]
  },
  {
   "cell_type": "markdown",
   "id": "77897a67",
   "metadata": {},
   "source": [
    "* Usando listas por comprensión (se verá más adelante)"
   ]
  },
  {
   "cell_type": "code",
   "execution_count": 1,
   "id": "6599951b",
   "metadata": {
    "scrolled": true
   },
   "outputs": [
    {
     "data": {
      "text/plain": [
       "['__add__',\n",
       " '__class__',\n",
       " '__contains__',\n",
       " '__delattr__',\n",
       " '__delitem__',\n",
       " '__dir__',\n",
       " '__doc__',\n",
       " '__eq__',\n",
       " '__format__',\n",
       " '__ge__',\n",
       " '__getattribute__',\n",
       " '__getitem__',\n",
       " '__gt__',\n",
       " '__hash__',\n",
       " '__iadd__',\n",
       " '__imul__',\n",
       " '__init__',\n",
       " '__init_subclass__',\n",
       " '__iter__',\n",
       " '__le__',\n",
       " '__len__',\n",
       " '__lt__',\n",
       " '__mul__',\n",
       " '__ne__',\n",
       " '__new__',\n",
       " '__reduce__',\n",
       " '__reduce_ex__',\n",
       " '__repr__',\n",
       " '__reversed__',\n",
       " '__rmul__',\n",
       " '__setattr__',\n",
       " '__setitem__',\n",
       " '__sizeof__',\n",
       " '__str__',\n",
       " '__subclasshook__',\n",
       " 'append',\n",
       " 'clear',\n",
       " 'copy',\n",
       " 'count',\n",
       " 'extend',\n",
       " 'index',\n",
       " 'insert',\n",
       " 'pop',\n",
       " 'remove',\n",
       " 'reverse',\n",
       " 'sort']"
      ]
     },
     "execution_count": 1,
     "metadata": {},
     "output_type": "execute_result"
    }
   ],
   "source": [
    "# métodos asociados a listas\n",
    "dir([])"
   ]
  },
  {
   "cell_type": "markdown",
   "id": "d8a0c1b5",
   "metadata": {},
   "source": [
    "Los métodos disponibles son los siguientes:\n",
    "\n",
    "Nombre|Acción|ejemplo\n",
    "------:|:------:|:-------\n",
    "append | Añade un elemento a la lista | `lst.append(4)`\n",
    "clear | Elimina todo el contenido de la lista | `lst.clear()`\n",
    "copy | Crea una copia superficial de la lista | `lst.copy()`\n",
    "count | Cuenta el número de ocurrencias de un elemento | `lst.count('Ana')`\n",
    "extend | Añade una secuencia de elementos a la lista | `lst.extend([1, 2, 'Antonio'])`\n",
    "index | Devuelve el índice que ocupa un elemento | `lst.index('juan')`\n",
    "insert | Inserta en la posición indicada un elemento | `lst.insert('453', 3)`\n",
    "pop | Extrae y devuelve un elemento de la lista de una posición concreta | `lst.pop(5)`\n",
    "remove | Elmina la primera ocurrencia del elemento como argumento  | `lst.remove(4)`\n",
    "reverse | Invierte el orden de la lista | `lst.reverse()`\n",
    "sort | Ordena la lista según la función que se pase en el argumento key | `lst.sort(key=lambda x: x + 10)`\n"
   ]
  },
  {
   "cell_type": "code",
   "execution_count": 14,
   "id": "1353e294",
   "metadata": {},
   "outputs": [
    {
     "data": {
      "text/plain": [
       "[1, 2, 3, 4, 5]"
      ]
     },
     "execution_count": 14,
     "metadata": {},
     "output_type": "execute_result"
    }
   ],
   "source": [
    "lst = [1, 2, 3, 4]\n",
    "lst.append(5)\n",
    "lst"
   ]
  },
  {
   "cell_type": "code",
   "execution_count": 15,
   "id": "c07edb58",
   "metadata": {},
   "outputs": [
    {
     "data": {
      "text/plain": [
       "[]"
      ]
     },
     "execution_count": 15,
     "metadata": {},
     "output_type": "execute_result"
    }
   ],
   "source": [
    "lst.clear()\n",
    "lst"
   ]
  },
  {
   "cell_type": "code",
   "execution_count": 16,
   "id": "03599437",
   "metadata": {},
   "outputs": [
    {
     "data": {
      "text/plain": [
       "[1, 2, 2, 2, 3, 4, 5, 6]"
      ]
     },
     "execution_count": 16,
     "metadata": {},
     "output_type": "execute_result"
    }
   ],
   "source": [
    "otra_lista = [1, 2, 2, 2, 3, 4, 5, 6]\n",
    "lst.extend(otra_lista)\n",
    "lst"
   ]
  },
  {
   "cell_type": "code",
   "execution_count": 17,
   "id": "39a9e341",
   "metadata": {},
   "outputs": [
    {
     "name": "stdout",
     "output_type": "stream",
     "text": [
      "[1, 2, 2, 2, 3, 4, 5, 6] 6 [1, 2, 2, 2, 3, 4, 5]\n"
     ]
    }
   ],
   "source": [
    "copia = lst.copy()\n",
    "\n",
    "elem = lst.pop()\n",
    "print(copia, elem, lst)"
   ]
  },
  {
   "cell_type": "code",
   "execution_count": 20,
   "id": "f3e7e706",
   "metadata": {},
   "outputs": [
    {
     "data": {
      "text/plain": [
       "(3, 1)"
      ]
     },
     "execution_count": 20,
     "metadata": {},
     "output_type": "execute_result"
    }
   ],
   "source": [
    "lst.count(2), lst.count(5)"
   ]
  },
  {
   "cell_type": "code",
   "execution_count": 21,
   "id": "9c61be9e",
   "metadata": {},
   "outputs": [
    {
     "data": {
      "text/plain": [
       "[1, 2, 2, 2, 3, 4]"
      ]
     },
     "execution_count": 21,
     "metadata": {},
     "output_type": "execute_result"
    }
   ],
   "source": [
    "lst.remove(5)\n",
    "lst"
   ]
  },
  {
   "cell_type": "code",
   "execution_count": 24,
   "id": "58da55fa",
   "metadata": {},
   "outputs": [
    {
     "data": {
      "text/plain": [
       "([4, 3, 2, 2, 2, 1], None)"
      ]
     },
     "execution_count": 24,
     "metadata": {},
     "output_type": "execute_result"
    }
   ],
   "source": [
    "lst.reverse()\n",
    "lst"
   ]
  },
  {
   "cell_type": "code",
   "execution_count": 31,
   "id": "24d26fc2",
   "metadata": {},
   "outputs": [
    {
     "data": {
      "text/plain": [
       "[4, 2, 2, 2, 3, 1]"
      ]
     },
     "execution_count": 31,
     "metadata": {},
     "output_type": "execute_result"
    }
   ],
   "source": [
    "lst.sort(key=lambda x: x % 2)\n",
    "lst"
   ]
  },
  {
   "cell_type": "code",
   "execution_count": 32,
   "id": "1b8d28b5",
   "metadata": {},
   "outputs": [
    {
     "data": {
      "text/plain": [
       "[1, 2, 2, 2, 3, 4]"
      ]
     },
     "execution_count": 32,
     "metadata": {},
     "output_type": "execute_result"
    }
   ],
   "source": [
    "lst.sort()\n",
    "lst"
   ]
  },
  {
   "cell_type": "markdown",
   "id": "ef8854c9",
   "metadata": {},
   "source": [
    "## Ejercicio 1 de listas\n",
    "\n",
    "Crear una lista de números y ver la posición que ocupa el 5 en ella."
   ]
  },
  {
   "cell_type": "code",
   "execution_count": 3,
   "id": "f2b2993a",
   "metadata": {},
   "outputs": [
    {
     "data": {
      "text/plain": [
       "5"
      ]
     },
     "execution_count": 3,
     "metadata": {},
     "output_type": "execute_result"
    }
   ],
   "source": [
    "lista = range(1,10)\n",
    "cont = 1\n",
    "if 5 in lista:\n",
    "    for n in lista:\n",
    "        if n == 5:\n",
    "            break\n",
    "        cont += 1\n",
    "cont"
   ]
  },
  {
   "cell_type": "markdown",
   "id": "5a59c17b",
   "metadata": {},
   "source": [
    "## Ejercicio 2 de listas\n",
    "\n",
    "Convertir una cadena en lista y contar el número de vocales que tiene"
   ]
  },
  {
   "cell_type": "code",
   "execution_count": 4,
   "id": "5e35bca3",
   "metadata": {},
   "outputs": [
    {
     "data": {
      "text/plain": [
       "16"
      ]
     },
     "execution_count": 4,
     "metadata": {},
     "output_type": "execute_result"
    }
   ],
   "source": [
    "cadena = \"asidhqwieoqwencpqwepoaASIDQWEQEolasfqwe\"\n",
    "vocal = \"aeiouAEIOU\"\n",
    "cont = 0\n",
    "long = len(cadena)+1\n",
    "\n",
    "for v in cadena:\n",
    "    if v in vocal:\n",
    "        cont += 1\n",
    "        \n",
    "cont"
   ]
  },
  {
   "cell_type": "markdown",
   "id": "fc4b7370-7087-44de-8cca-e3c8f46219ea",
   "metadata": {},
   "source": [
    "## Ejercicio 3 ordenar lista de cadenas\n",
    "\n",
    "\n",
    "Ordenar la lista siguiente lista de elementos, añadir 3 elementos más uno a uno que sean: `Pedro`, `Paco` y `Pepe`\n",
    "\n",
    "```python\n",
    "cadenas = ['Juan', 'Ana', 'Maria', 'Antonio']\n",
    "```\n",
    "Despues ordenar y devolver la lista invertida"
   ]
  },
  {
   "cell_type": "code",
   "execution_count": 9,
   "id": "68c4386b-b8aa-4da4-8e5e-37c6fea76596",
   "metadata": {},
   "outputs": [
    {
     "name": "stdout",
     "output_type": "stream",
     "text": [
      "['Juan', 'Ana', 'Maria', 'Antonio']\n",
      "['Ana', 'Antonio', 'Juan', 'Maria']\n",
      "['Ana', 'Antonio', 'Juan', 'Maria', 'Pedro', 'Paco', 'Pepe']\n",
      "['Ana', 'Antonio', 'Juan', 'Maria', 'Paco', 'Pedro', 'Pepe']\n",
      "['Pepe', 'Pedro', 'Paco', 'Maria', 'Juan', 'Antonio', 'Ana']\n"
     ]
    }
   ],
   "source": [
    "cadenas = ['Juan', 'Ana', 'Maria', 'Antonio']\n",
    "print(cadenas)\n",
    "cadenas.sort()\n",
    "print(cadenas)\n",
    "cadenas.extend([\"Pedro\", \"Paco\", \"Pepe\"])\n",
    "print(cadenas)\n",
    "cadenas.sort()\n",
    "print(cadenas)\n",
    "cadenas.sort(reverse=True)\n",
    "print(cadenas)"
   ]
  },
  {
   "cell_type": "markdown",
   "id": "602c676f-c29a-4f9e-9e4b-85df48d15cbc",
   "metadata": {},
   "source": [
    "## Ejercicio 4 concatenar cadenas\n",
    "\n",
    "\n",
    "Concatenar las cadenas\n",
    "\n",
    "```python\n",
    "nombres = ['Juan', 'Ana', 'Maria', 'Antonio']\n",
    "numeros = [5, 6, 23, 51, -2, 3]\n",
    "```\n",
    "\n",
    "Obtener el índice que ocupa el elemento `Ana`"
   ]
  },
  {
   "cell_type": "code",
   "execution_count": 15,
   "id": "b9a4112f-7dde-49b4-aca4-d4055475fdd4",
   "metadata": {},
   "outputs": [
    {
     "name": "stdout",
     "output_type": "stream",
     "text": [
      "juan\n"
     ]
    }
   ],
   "source": []
  },
  {
   "cell_type": "markdown",
   "id": "a3644297-c00f-456c-8ba1-c18a2d558cf4",
   "metadata": {},
   "source": [
    "\n",
    "\n",
    "## Ejercicio 5: Suma de números pares\n",
    "Escribe un programa que sume todos los números pares en una lista de números enteros y muestre el resultado.\n",
    "\n",
    "```python\n",
    "numeros = [1, 2, 3, 4, 5, 6, 7, 8, 9, 10]\n",
    "````\n",
    "\n"
   ]
  },
  {
   "cell_type": "code",
   "execution_count": null,
   "id": "c1d6ebd6-c698-483a-894c-850ce981a568",
   "metadata": {},
   "outputs": [],
   "source": []
  },
  {
   "cell_type": "markdown",
   "id": "3113b8fd-7059-4c7a-9c5f-e4c5e223ced9",
   "metadata": {},
   "source": [
    "## Ejercicio 6: Conteo de elementos en una lista\n",
    "Escribe un programa que cuente cuántas veces aparece una palabra específica en una lista de palabras.\n",
    "\n",
    "```python\n",
    "palabras = [\"manzana\", \"banana\", \"cereza\", \"manzana\", \"uva\", \"manzana\"]\n",
    "```"
   ]
  },
  {
   "cell_type": "code",
   "execution_count": null,
   "id": "e43e13c2-6865-46e9-b5e9-51e2911a0c99",
   "metadata": {},
   "outputs": [],
   "source": []
  },
  {
   "cell_type": "markdown",
   "id": "ea13b9a5-ec87-4a73-b20e-68073e04d634",
   "metadata": {},
   "source": [
    "## Ejercicio 7: Promedio de calificaciones\n",
    "Escribe un programa que calcule el promedio de calificaciones en una lista de números de punto flotante.\n",
    "\n",
    "```python\n",
    "calificaciones = [9.5, 8.0, 7.5, 9.0, 8.5]\n",
    "```"
   ]
  },
  {
   "cell_type": "code",
   "execution_count": null,
   "id": "e8f6aea7-a0ba-4041-ad1f-5c3c61dc45da",
   "metadata": {},
   "outputs": [],
   "source": []
  },
  {
   "cell_type": "markdown",
   "id": "338c49ca-ce47-408a-a7b6-713dc3259ce7",
   "metadata": {},
   "source": [
    "## Ejercicio 8: Eliminación de duplicados en una lista\n",
    "\n",
    "Escribe un programa que tome una lista con elementos duplicados y genere una nueva lista que contenga solo los elementos únicos, manteniendo el orden original.\n",
    "\n",
    "```python\n",
    "entrada = [3, 1, 4, 1, 5, 9, 2, 6, 5, 3, 5]\n",
    "```"
   ]
  },
  {
   "cell_type": "code",
   "execution_count": null,
   "id": "d5dd387c-60bf-4de6-9906-df91ff8eb3c5",
   "metadata": {},
   "outputs": [],
   "source": []
  },
  {
   "cell_type": "markdown",
   "id": "c1fd63ce-4f09-47ce-80e8-929a8eef653a",
   "metadata": {},
   "source": [
    "## Ejercicio 9: Combinación de dos listas\n",
    "\n",
    "Escribe un programa que tome dos listas y genere una tercera lista que contenga elementos comunes entre las dos listas sin duplicados.\n",
    "\n",
    "```python\n",
    "lista1 = [1, 2, 3, 4, 5]\n",
    "lista2 = [3, 4, 5, 6, 7]\n",
    "```"
   ]
  },
  {
   "cell_type": "code",
   "execution_count": null,
   "id": "0964649e-7da9-406a-8b68-6c9684cdc6ea",
   "metadata": {},
   "outputs": [],
   "source": []
  },
  {
   "cell_type": "markdown",
   "id": "eee1ca4c-1a87-4b90-953f-a1497f91190d",
   "metadata": {},
   "source": [
    "## Ejercicio 10: Multiplicación de matrices\n",
    "\n",
    "Escribe un programa que realice la multiplicación de dos matrices (listas de listas) y muestre el resultado.\n",
    "\n",
    "![Multiplicación de matríces](Explicacion-de-multiplicacion-de-matrices.png)\n"
   ]
  },
  {
   "cell_type": "code",
   "execution_count": null,
   "id": "f2637240-8976-4ca9-8b5a-27fd6874c0c0",
   "metadata": {},
   "outputs": [],
   "source": []
  },
  {
   "cell_type": "markdown",
   "id": "bc4cfc1a",
   "metadata": {},
   "source": [
    "# Operaciones comunes sobre iteradores\n",
    "\n",
    "\n",
    "\n",
    "Operador| Descripción | Función mágica\n",
    "---------:|:-----------:|:-------------\n",
    "`len`| Longitud | `__len__`\n",
    "`sum`| Suma acumulada | \n",
    "`max`| Valor máximo | \n",
    "`min`| Valor mínimo | \n",
    "`zip` | Unión de cada elemento de cada iterador |\n",
    "`filter` | Filtra los elementos de cada iterador | \n",
    "`map`| Devuelve un nuevo iterador pudiendo modificaro los elementos |\n",
    "`sorted`| Devuelve un nuevo iterador ordenado pudiendo añadir el parámetro key como una función de ordenación y reverse:bool para el orden final |"
   ]
  },
  {
   "cell_type": "code",
   "execution_count": 120,
   "id": "ae68c63b",
   "metadata": {},
   "outputs": [
    {
     "data": {
      "text/plain": [
       "(11, 5)"
      ]
     },
     "execution_count": 120,
     "metadata": {},
     "output_type": "execute_result"
    }
   ],
   "source": [
    "numeros = [2, 3, 5, 1, 6, 2, 3, 58, -4, -9, -54]\n",
    "nombres = ['Juan', 'Ana', 'María', 'José', 'ElPythonista']\n",
    "\n",
    "len(numeros), len(nombres)"
   ]
  },
  {
   "cell_type": "code",
   "execution_count": 122,
   "id": "76afc744",
   "metadata": {},
   "outputs": [
    {
     "data": {
      "text/plain": [
       "13"
      ]
     },
     "execution_count": 122,
     "metadata": {},
     "output_type": "execute_result"
    }
   ],
   "source": [
    "sum(numeros) #, sum(nombres) no se puede usar en str"
   ]
  },
  {
   "cell_type": "code",
   "execution_count": 123,
   "id": "7c109d1f",
   "metadata": {},
   "outputs": [
    {
     "data": {
      "text/plain": [
       "(58, 'María')"
      ]
     },
     "execution_count": 123,
     "metadata": {},
     "output_type": "execute_result"
    }
   ],
   "source": [
    "max(numeros), max(nombres)"
   ]
  },
  {
   "cell_type": "code",
   "execution_count": 124,
   "id": "f72dcc98",
   "metadata": {},
   "outputs": [
    {
     "data": {
      "text/plain": [
       "(-54, 'Ana')"
      ]
     },
     "execution_count": 124,
     "metadata": {},
     "output_type": "execute_result"
    }
   ],
   "source": [
    "min(numeros), min(nombres)"
   ]
  },
  {
   "cell_type": "code",
   "execution_count": 127,
   "id": "ac5751e4",
   "metadata": {},
   "outputs": [
    {
     "data": {
      "text/plain": [
       "[(2, 'Juan'), (3, 'Ana'), (5, 'María'), (1, 'José'), (6, 'ElPythonista')]"
      ]
     },
     "execution_count": 127,
     "metadata": {},
     "output_type": "execute_result"
    }
   ],
   "source": [
    "list(zip(numeros, nombres))"
   ]
  },
  {
   "cell_type": "code",
   "execution_count": 152,
   "id": "503db606",
   "metadata": {},
   "outputs": [
    {
     "data": {
      "text/plain": [
       "[4, 9, 25, 1, 36, 4, 9, 3364, 16, 81, 2916]"
      ]
     },
     "execution_count": 152,
     "metadata": {},
     "output_type": "execute_result"
    }
   ],
   "source": [
    "list(map(lambda x: x**2, numeros))"
   ]
  },
  {
   "cell_type": "code",
   "execution_count": 149,
   "id": "f63f8c23",
   "metadata": {},
   "outputs": [
    {
     "data": {
      "text/plain": [
       "['Juan hola', 'Ana hola', 'María hola', 'José hola', 'ElPythonista hola']"
      ]
     },
     "execution_count": 149,
     "metadata": {},
     "output_type": "execute_result"
    }
   ],
   "source": [
    "list(map(lambda x: x + ' hola', nombres))"
   ]
  },
  {
   "cell_type": "code",
   "execution_count": 150,
   "id": "394425b3",
   "metadata": {},
   "outputs": [
    {
     "data": {
      "text/plain": [
       "[6, 58]"
      ]
     },
     "execution_count": 150,
     "metadata": {},
     "output_type": "execute_result"
    }
   ],
   "source": [
    "list(filter(lambda x: x > 5, numeros))"
   ]
  },
  {
   "cell_type": "code",
   "execution_count": 153,
   "id": "0cfbbd26",
   "metadata": {
    "collapsed": true,
    "jupyter": {
     "outputs_hidden": true
    }
   },
   "outputs": [
    {
     "data": {
      "text/plain": [
       "['José', 'ElPythonista']"
      ]
     },
     "execution_count": 153,
     "metadata": {},
     "output_type": "execute_result"
    }
   ],
   "source": [
    "list(filter(lambda x: 'o' in x , nombres))"
   ]
  },
  {
   "cell_type": "markdown",
   "id": "033c3fad-9ed8-442d-9332-ac8cc429debb",
   "metadata": {},
   "source": [
    "## Ejercicio\n",
    "Convertir una cadena caracteres a una cadena de enteros usando map\n",
    "\n",
    "`str_list = ['1', '23', '342', '3452', '3241', '5346']`"
   ]
  },
  {
   "cell_type": "code",
   "execution_count": null,
   "id": "5c006f37-bc98-4760-b06c-1018e54eeaf9",
   "metadata": {},
   "outputs": [],
   "source": []
  },
  {
   "cell_type": "markdown",
   "id": "a2b7ab85-7e3a-401e-9de3-c0c03805b991",
   "metadata": {},
   "source": [
    "## Ejercicio\n",
    "\n",
    "Ordenar alfabéticamente los nombres de los alumnos\n",
    "\n",
    "`str_list = ['Juan', 'Pedro', 'Juan Manuel', 'María Teresa', 'Ana', 'Paloma', 'Paola', 'María']`\n"
   ]
  },
  {
   "cell_type": "code",
   "execution_count": null,
   "id": "f6530a67-a4d4-4e05-a8cd-00c12b70fd3c",
   "metadata": {},
   "outputs": [],
   "source": []
  },
  {
   "cell_type": "markdown",
   "id": "ce82ceb9-c1d1-4962-bc89-5ed2c7ac9213",
   "metadata": {},
   "source": [
    "## Ejercicio\n",
    "\n",
    "Similar al anterior pero ordenando por longitud de cada cadena\n",
    "\n",
    "`str_list = ['Juan', 'Pedro', 'Juan Manuel', 'María Teresa', 'Ana', 'Paloma', 'Paola', 'María']`"
   ]
  },
  {
   "cell_type": "code",
   "execution_count": null,
   "id": "8ca58765-6bb0-4e4e-81a2-9a93a2752021",
   "metadata": {},
   "outputs": [],
   "source": []
  },
  {
   "cell_type": "markdown",
   "id": "eaf35ebc-9ca8-4f8d-8432-26a8d5640ec3",
   "metadata": {},
   "source": [
    "Y ahora por longitud y por nombre"
   ]
  },
  {
   "cell_type": "code",
   "execution_count": null,
   "id": "3aac2aab-b3f9-49bc-837a-3472d79caf3b",
   "metadata": {},
   "outputs": [],
   "source": []
  },
  {
   "cell_type": "markdown",
   "id": "ee098f71",
   "metadata": {},
   "source": [
    "## Ejercicio 1 - Múltiplos de 3\n",
    "\n",
    "Sacar los múltiplos de 3 de una lista de números\n",
    "\n",
    "`numeros = [4, 5, 7, 34, 56, 43, 21, 63, 4, 29]`"
   ]
  },
  {
   "cell_type": "code",
   "execution_count": null,
   "id": "adc4c186",
   "metadata": {},
   "outputs": [],
   "source": []
  },
  {
   "cell_type": "code",
   "execution_count": null,
   "id": "20754196-992f-4458-b150-f3018616ac99",
   "metadata": {},
   "outputs": [],
   "source": []
  },
  {
   "cell_type": "markdown",
   "id": "4f9bc21b",
   "metadata": {},
   "source": [
    "## Ejercicio 2 - Elevar al cubo cada elemento\n",
    "\n",
    "Elevar al cubo cada elemento de la lista"
   ]
  },
  {
   "cell_type": "code",
   "execution_count": null,
   "id": "7fde5102",
   "metadata": {},
   "outputs": [],
   "source": []
  },
  {
   "cell_type": "markdown",
   "id": "cb81d783",
   "metadata": {},
   "source": [
    "# Selección de subsecuencias (slicing)\n",
    "\n",
    "Una parte muy útil de las secuencias de python es que pueden ser utilizadas como subsecuencias de diferentes formas.\n",
    "\n",
    "Cada forma es una manera de iterar por las secuencias parecidas a como se hacen con los rangos pero con algunas mejoras.\n",
    "\n",
    "La forma de crear subsecuencias de iteradores es usando indices de inicio, de fin y un paso como:\n",
    "\n",
    "```python\n",
    "secuecnia[inicio] == selección de elemento único (puede ser negativo para comenzar por el final)\n",
    "secuecnia[inicio:] == selección de elementos desde inicio en adelante\n",
    "secuecnia[:fin] == selección de elementos hasta fin\n",
    "secuecnia[inicio:fin:paso] == selección desde inicio, hasta fin con paso\n",
    "secuecnia[::] == selección de toda la secuencia (usado como copia)\n",
    "secuecnia[::-1] == selección de toda la secuencia en orden inverso\n",
    "```"
   ]
  },
  {
   "cell_type": "code",
   "execution_count": 23,
   "id": "02aca1fc",
   "metadata": {},
   "outputs": [
    {
     "data": {
      "text/plain": [
       "(1, 'Bici')"
      ]
     },
     "execution_count": 23,
     "metadata": {},
     "output_type": "execute_result"
    }
   ],
   "source": [
    "sec_num = [1, 2, 3, 4, 5, 6, 7]\n",
    "sec_str = ['Coche', 'Moto', 'Camión', 'Bici']\n",
    "\n",
    "sec_num[0], sec_str[3]"
   ]
  },
  {
   "cell_type": "code",
   "execution_count": 135,
   "id": "a044e39e",
   "metadata": {},
   "outputs": [
    {
     "data": {
      "text/plain": [
       "(7, 'Moto')"
      ]
     },
     "execution_count": 135,
     "metadata": {},
     "output_type": "execute_result"
    }
   ],
   "source": [
    "sec_num[-1], sec_str[-3]"
   ]
  },
  {
   "cell_type": "code",
   "execution_count": 136,
   "id": "c6a497e0",
   "metadata": {},
   "outputs": [
    {
     "data": {
      "text/plain": [
       "([5, 6, 7], [])"
      ]
     },
     "execution_count": 136,
     "metadata": {},
     "output_type": "execute_result"
    }
   ],
   "source": [
    "sec_num[4:], sec_str[5:]"
   ]
  },
  {
   "cell_type": "code",
   "execution_count": 143,
   "id": "81719f69",
   "metadata": {},
   "outputs": [
    {
     "data": {
      "text/plain": [
       "([3, 4], ['Moto'])"
      ]
     },
     "execution_count": 143,
     "metadata": {},
     "output_type": "execute_result"
    }
   ],
   "source": [
    "sec_num[2:4], sec_str[1:2]"
   ]
  },
  {
   "cell_type": "code",
   "execution_count": 144,
   "id": "e9ae3e45",
   "metadata": {},
   "outputs": [
    {
     "data": {
      "text/plain": [
       "([], [])"
      ]
     },
     "execution_count": 144,
     "metadata": {},
     "output_type": "execute_result"
    }
   ],
   "source": [
    "sec_num[2:2], sec_str[5:2]"
   ]
  },
  {
   "cell_type": "code",
   "execution_count": 146,
   "id": "5f5a20d7",
   "metadata": {},
   "outputs": [
    {
     "data": {
      "text/plain": [
       "([7, 4, 1], ['Bici'])"
      ]
     },
     "execution_count": 146,
     "metadata": {},
     "output_type": "execute_result"
    }
   ],
   "source": [
    "sec_num[::-3], sec_str[5:0:-4]"
   ]
  },
  {
   "cell_type": "code",
   "execution_count": 1,
   "id": "a027446b",
   "metadata": {
    "scrolled": true
   },
   "outputs": [
    {
     "ename": "NameError",
     "evalue": "name 'sec_num' is not defined",
     "output_type": "error",
     "traceback": [
      "\u001b[1;31m---------------------------------------------------------------------------\u001b[0m",
      "\u001b[1;31mNameError\u001b[0m                                 Traceback (most recent call last)",
      "\u001b[1;32me:\\Mis Proyectos\\Programacion\\IA Septiembre\\3_programacion python alumnos\\3.1 - Listas y tuplas.ipynb Cell 66\u001b[0m line \u001b[0;36m1\n\u001b[1;32m----> <a href='vscode-notebook-cell:/e%3A/Mis%20Proyectos/Programacion/IA%20Septiembre/3_programacion%20python%20alumnos/3.1%20-%20Listas%20y%20tuplas.ipynb#Y122sZmlsZQ%3D%3D?line=0'>1</a>\u001b[0m sec_num[\u001b[39m2\u001b[39m::\u001b[39m-\u001b[39m\u001b[39m1\u001b[39m], sec_str[\u001b[39m50\u001b[39m::\u001b[39m-\u001b[39m\u001b[39m2\u001b[39m]\n",
      "\u001b[1;31mNameError\u001b[0m: name 'sec_num' is not defined"
     ]
    }
   ],
   "source": [
    "sec_num[2::-1], sec_str[50::-2]"
   ]
  },
  {
   "cell_type": "markdown",
   "id": "9468450b",
   "metadata": {},
   "source": [
    "## Ejercicio 1 - Obtener algunos valores\n",
    "\n",
    "Usando la lista sec_str obtener ['Moto', 'Bici']"
   ]
  },
  {
   "cell_type": "code",
   "execution_count": null,
   "id": "b886009e",
   "metadata": {},
   "outputs": [],
   "source": []
  },
  {
   "cell_type": "markdown",
   "id": "9bcf5d1f",
   "metadata": {},
   "source": [
    "## Ejercicio 2 - Obtener algunos valores\n",
    "\n",
    "Usando la lista sec_str obtener `'Moto'` usando paso negativo"
   ]
  },
  {
   "cell_type": "code",
   "execution_count": null,
   "id": "95c5f5d9",
   "metadata": {
    "scrolled": true
   },
   "outputs": [],
   "source": []
  },
  {
   "cell_type": "markdown",
   "id": "10696dea-4744-4a1d-9e7f-fff3fff337ad",
   "metadata": {},
   "source": [
    "## Ejercicio 3 - Obtener el penultimo par\n",
    "\n",
    "Obtener la lista de elementos en las posiciones pares y devolver el penúltimo elemento"
   ]
  },
  {
   "cell_type": "code",
   "execution_count": null,
   "id": "4c9388de-9e08-4f40-bdbd-e9155e363e90",
   "metadata": {},
   "outputs": [],
   "source": []
  },
  {
   "cell_type": "markdown",
   "id": "a0ba01ae",
   "metadata": {},
   "source": [
    "# Tuplas en Python\n",
    "\n",
    "Las tuplas en python permiten almacenar datos de diferente al igual que las listas pero con las salvedad de que SON INMUTABLES.\n",
    "\n",
    "Al ser inmutables consiguen que la memoria utilizada para almacenar esos datos sea mucho menor y sea más recomendable su uso cuando no se van a expandir los datos que guardan.\n",
    "\n",
    "![Tuplas_En_Python.jpeg](imagenes/Tuplas_En_Python.jpeg)\n",
    "\n",
    "Se instancia una tupla de las siguientes formas:\n",
    "* Utilizando un literal tipo tupla: \n",
    "```python\n",
    "mi_variable = (1, 'juan', True, 9.8, (3, 4))\n",
    "```\n",
    "* Por defecto al poner una coma entre dos variables se crea una tupla en Python\n",
    "* Convirtiendo cualquier objeto a su representación en tupla:\n"
   ]
  },
  {
   "cell_type": "code",
   "execution_count": 20,
   "id": "3f0ae8b1",
   "metadata": {},
   "outputs": [
    {
     "data": {
      "text/plain": [
       "(1, 2, 3, 4)"
      ]
     },
     "execution_count": 20,
     "metadata": {},
     "output_type": "execute_result"
    }
   ],
   "source": [
    "tuple([1, 2, 3, 4])"
   ]
  },
  {
   "cell_type": "code",
   "execution_count": 21,
   "id": "3e0b5b3b",
   "metadata": {},
   "outputs": [
    {
     "data": {
      "text/plain": [
       "['__add__',\n",
       " '__class__',\n",
       " '__contains__',\n",
       " '__delattr__',\n",
       " '__dir__',\n",
       " '__doc__',\n",
       " '__eq__',\n",
       " '__format__',\n",
       " '__ge__',\n",
       " '__getattribute__',\n",
       " '__getitem__',\n",
       " '__getnewargs__',\n",
       " '__gt__',\n",
       " '__hash__',\n",
       " '__init__',\n",
       " '__init_subclass__',\n",
       " '__iter__',\n",
       " '__le__',\n",
       " '__len__',\n",
       " '__lt__',\n",
       " '__mul__',\n",
       " '__ne__',\n",
       " '__new__',\n",
       " '__reduce__',\n",
       " '__reduce_ex__',\n",
       " '__repr__',\n",
       " '__rmul__',\n",
       " '__setattr__',\n",
       " '__sizeof__',\n",
       " '__str__',\n",
       " '__subclasshook__',\n",
       " 'count',\n",
       " 'index']"
      ]
     },
     "execution_count": 21,
     "metadata": {},
     "output_type": "execute_result"
    }
   ],
   "source": [
    "dir(())"
   ]
  },
  {
   "cell_type": "markdown",
   "id": "dc10ba9a",
   "metadata": {},
   "source": [
    "Operador| Descripción | Función mágica\n",
    "---------:|:-----------:|:-------------\n",
    "`count`| Contador de ocurrencias de un elemento | `tpl.count(4)`\n",
    "`index`| Devuelve el índice que ocupa un elemento | `tpl.index(45)`"
   ]
  },
  {
   "cell_type": "code",
   "execution_count": 2,
   "id": "72219470",
   "metadata": {},
   "outputs": [
    {
     "data": {
      "text/plain": [
       "('Juan', 5, ('Juan', True, 3, 4, 5))"
      ]
     },
     "execution_count": 2,
     "metadata": {},
     "output_type": "execute_result"
    }
   ],
   "source": [
    "mi_tupla = (5, 4, 3, True, 'Juan')\n",
    "\n",
    "mi_tupla[-1], mi_tupla[0], mi_tupla[5::-1]"
   ]
  },
  {
   "cell_type": "code",
   "execution_count": 3,
   "id": "0dfe2ced",
   "metadata": {},
   "outputs": [
    {
     "data": {
      "text/plain": [
       "(1, 4)"
      ]
     },
     "execution_count": 3,
     "metadata": {},
     "output_type": "execute_result"
    }
   ],
   "source": [
    "mi_tupla.count(True), mi_tupla.index('Juan')"
   ]
  },
  {
   "cell_type": "code",
   "execution_count": 4,
   "id": "db9dc368",
   "metadata": {},
   "outputs": [
    {
     "ename": "ValueError",
     "evalue": "tuple.index(x): x not in tuple",
     "output_type": "error",
     "traceback": [
      "\u001b[0;31m---------------------------------------------------------------------------\u001b[0m",
      "\u001b[0;31mValueError\u001b[0m                                Traceback (most recent call last)",
      "Cell \u001b[0;32mIn[4], line 1\u001b[0m\n\u001b[0;32m----> 1\u001b[0m \u001b[43mmi_tupla\u001b[49m\u001b[38;5;241;43m.\u001b[39;49m\u001b[43mindex\u001b[49m\u001b[43m(\u001b[49m\u001b[38;5;124;43m'\u001b[39;49m\u001b[38;5;124;43mPepe\u001b[39;49m\u001b[38;5;124;43m'\u001b[39;49m\u001b[43m)\u001b[49m\n",
      "\u001b[0;31mValueError\u001b[0m: tuple.index(x): x not in tuple"
     ]
    }
   ],
   "source": [
    "mi_tupla.index('Pepe')"
   ]
  },
  {
   "cell_type": "markdown",
   "id": "f13a6209-00f4-4131-9ccd-7015c46ae9de",
   "metadata": {},
   "source": [
    "# Ejercicio 1 - \n",
    "\n",
    "Crear una tupla desde una lista de dividir entre 87 la serie desde el 1 hasta el 5 (1/87, 2/87, ..., 5/87)"
   ]
  },
  {
   "cell_type": "code",
   "execution_count": null,
   "id": "281f5359-e8ea-4757-b102-1e0c5f2b49e9",
   "metadata": {},
   "outputs": [],
   "source": []
  },
  {
   "cell_type": "markdown",
   "id": "aeb57ee2-200f-4658-af85-1ae2d9c16bd7",
   "metadata": {},
   "source": [
    "# Ejercicio 2 - \n",
    "\n",
    "Crear una tupla de tuplas de 3 elementos donde para la serie desde el 1 hasta el 5 se guarden los valores de:\n",
    "* `num`, `num * 2`, `num * num`"
   ]
  },
  {
   "cell_type": "code",
   "execution_count": null,
   "id": "d5d13a0e-b768-4e86-9b8d-4ec2db9571c0",
   "metadata": {},
   "outputs": [],
   "source": []
  },
  {
   "cell_type": "markdown",
   "id": "07fd96e7-cc10-469a-bc9b-f034d0ac8fe2",
   "metadata": {},
   "source": [
    "# Tamaño de una variable\n",
    "\n",
    "Para saber el tamaño de una variable se puede utilizar `sys.getsizeof`"
   ]
  },
  {
   "cell_type": "code",
   "execution_count": 18,
   "id": "768c26f3-81b5-45a7-afec-e75feac788f1",
   "metadata": {},
   "outputs": [
    {
     "name": "stdout",
     "output_type": "stream",
     "text": [
      "La lista ocupa 89095160\n",
      "La tupla ocupa 80000040\n"
     ]
    }
   ],
   "source": [
    "from sys import getsizeof\n",
    "\n",
    "n_elems = 10 ** 7\n",
    "lista_grande = list(x for x in range(n_elems))\n",
    "tupla_grande = tuple(x for x in range(n_elems))\n",
    "\n",
    "print(f'La lista ocupa {getsizeof(lista_grande)}')\n",
    "print(f'La tupla ocupa {getsizeof(tupla_grande)}')"
   ]
  },
  {
   "cell_type": "markdown",
   "id": "8043bfc7-9c5f-49c9-ae10-1fa15b29c920",
   "metadata": {},
   "source": [
    "## Ejercicio\n",
    "\n",
    "Obtener el tamaño que ocupa:\n",
    "* `Hola Mundo`\n",
    "* `Hola Mundo` * 100\n",
    "* [1] * 100\n",
    "* '1' * 100"
   ]
  },
  {
   "cell_type": "code",
   "execution_count": null,
   "id": "d1581647-7e8e-4bab-8392-20e55639b424",
   "metadata": {},
   "outputs": [],
   "source": []
  },
  {
   "cell_type": "markdown",
   "id": "1b45f39f-7897-4cf1-a3e7-fc1f9f524235",
   "metadata": {
    "editable": true,
    "slideshow": {
     "slide_type": ""
    },
    "tags": []
   },
   "source": [
    "# Funciones anónimas - lambda\n",
    "\n",
    "Las funciones anónimas son similares a las funciones estándar salvo que no tienen nombre y que el contexto en el que se crean y se destruyen es en la propia aplicación de la función\n",
    "\n",
    "Mientras que una función estándar se carga en memoria y se llama tantas veces sea necesario, una función anónima solo se ejecuta en el momento de ejecución\n",
    "\n",
    "Las funciones anónimas en python se definen con la palabra reservada `labmda`, aceptan parámetros de cualquier tipo pero sólo pueden definirse en una línea\n",
    "\n",
    "Son empleadas comúnmente combinadas con otras operaciones como:\n",
    "* `sorted(<iterador>, key=lambda x: x)`\n",
    "* `sorted(<iterador>, key=lambda x, y: (-y, x))`\n",
    "* `map(lambda x: x*2, range(5))`\n",
    "* `list(filter(lambda x: x > 2, range(5)))`"
   ]
  },
  {
   "cell_type": "code",
   "execution_count": 28,
   "id": "a50fc91c-166a-46ac-b787-65605845119c",
   "metadata": {},
   "outputs": [
    {
     "name": "stdout",
     "output_type": "stream",
     "text": [
      "[2, 3, 4.5, 63.4, 90]\n",
      "[90, 63.4, 4.5, 3, 2]\n"
     ]
    }
   ],
   "source": [
    "iterador = [90, 2, 4.5, 63.4, 3]\n",
    "\n",
    "print(sorted(iterador, key=lambda x: str(x)))\n",
    "print(sorted(iterador, key=lambda x: str(x), reverse=True))\n"
   ]
  },
  {
   "cell_type": "code",
   "execution_count": 33,
   "id": "3ab620a4-edad-4bd0-a0de-b1643d6e0df2",
   "metadata": {},
   "outputs": [
    {
     "data": {
      "text/plain": [
       "[('maría', 89), ('juan', 34), ('mario', 25)]"
      ]
     },
     "execution_count": 33,
     "metadata": {},
     "output_type": "execute_result"
    }
   ],
   "source": [
    "iterador = [('juan', 34), ('maría', 89), ('mario', 25)]\n",
    "\n",
    "sorted(iterador, key=lambda x: (-x[1], x[0]))"
   ]
  },
  {
   "cell_type": "code",
   "execution_count": 37,
   "id": "c6efcdf4-a574-4032-a08c-736f0933d8de",
   "metadata": {},
   "outputs": [
    {
     "data": {
      "text/plain": [
       "[(0, 0, 0, 0), (1, 1, 5, 1), (2, 4, 10, 2), (3, 9, 15, 0), (4, 16, 20, 1)]"
      ]
     },
     "execution_count": 37,
     "metadata": {},
     "output_type": "execute_result"
    }
   ],
   "source": [
    "list(map(lambda x: (x, x ** 2, x * 5, x % 3), range(5)))"
   ]
  },
  {
   "cell_type": "code",
   "execution_count": 40,
   "id": "78cac412-2fe4-4bbb-b749-41d67f4284e8",
   "metadata": {},
   "outputs": [
    {
     "data": {
      "text/plain": [
       "[3, 4]"
      ]
     },
     "execution_count": 40,
     "metadata": {},
     "output_type": "execute_result"
    }
   ],
   "source": [
    "list(filter(lambda x: x > 2, range(5)))"
   ]
  },
  {
   "cell_type": "code",
   "execution_count": 42,
   "id": "d455d785-34ab-4563-a8dc-d0a8c96e524a",
   "metadata": {},
   "outputs": [
    {
     "data": {
      "text/plain": [
       "'HOLA AMIJO'"
      ]
     },
     "execution_count": 42,
     "metadata": {},
     "output_type": "execute_result"
    }
   ],
   "source": [
    "my_func = lambda x: x.upper()  # cercano a una función estándar, función anónima en variable con nombre\n",
    "\n",
    "my_func('hola amijo')"
   ]
  }
 ],
 "metadata": {
  "kernelspec": {
   "display_name": "Python 3 (ipykernel)",
   "language": "python",
   "name": "python3"
  },
  "language_info": {
   "codemirror_mode": {
    "name": "ipython",
    "version": 3
   },
   "file_extension": ".py",
   "mimetype": "text/x-python",
   "name": "python",
   "nbconvert_exporter": "python",
   "pygments_lexer": "ipython3",
   "version": "3.11.5"
  }
 },
 "nbformat": 4,
 "nbformat_minor": 5
}
