{
 "cells": [
  {
   "cell_type": "markdown",
   "id": "64b5f2d0",
   "metadata": {},
   "source": [
    "# Creación de datos por comprensión\n",
    "\n",
    "La creación por comprensión se hace usando uno o varios bucles for y ayuda a crear el tipo de objeto de forma simplificada aplicando alguna regla de map y reduce directamente.\n",
    "\n",
    "El uso de creación de datos por comprensión ayuda a la legibilidad de código al ser muy expresivo pero es responsabilidad del desarrollador usar un bucle normal si el uso de esta técnica merma la legibilidad del código.\n",
    "\n",
    "Se pueden crear por comprensión cualquier tipo iterable como listas, diccionarios o conjuntos"
   ]
  },
  {
   "cell_type": "code",
   "execution_count": 4,
   "id": "a2fd3ebd",
   "metadata": {},
   "outputs": [
    {
     "data": {
      "text/plain": [
       "[0, 2, 4, 6, 8]"
      ]
     },
     "execution_count": 4,
     "metadata": {},
     "output_type": "execute_result"
    }
   ],
   "source": [
    "# Lista\n",
    "[x for x in range(10) if not x % 2]"
   ]
  },
  {
   "cell_type": "code",
   "execution_count": 5,
   "id": "7aee5a08",
   "metadata": {},
   "outputs": [
    {
     "data": {
      "text/plain": [
       "{'J', 'P', 'a', 'e', 'n', 'p', 'u', 'y'}"
      ]
     },
     "execution_count": 5,
     "metadata": {},
     "output_type": "execute_result"
    }
   ],
   "source": [
    "# Conjunto\n",
    "{x for x in 'Pepe y Juan' if x != ' '}"
   ]
  },
  {
   "cell_type": "code",
   "execution_count": 9,
   "id": "ad08e5bc",
   "metadata": {},
   "outputs": [
    {
     "data": {
      "text/plain": [
       "{65: 'A', 66: 'B', 67: 'C', 68: 'D', 69: 'E'}"
      ]
     },
     "execution_count": 9,
     "metadata": {},
     "output_type": "execute_result"
    }
   ],
   "source": [
    "# Diccionario\n",
    "{x: chr(x) for x in range(65, 70)}"
   ]
  },
  {
   "cell_type": "code",
   "execution_count": 1,
   "id": "e541c78d",
   "metadata": {},
   "outputs": [
    {
     "data": {
      "text/plain": [
       "['Paco', 'Paco', 'Paco', 'Paco', 'Josefa', 'Josefa', 'Josefa', 'Josefa']"
      ]
     },
     "execution_count": 1,
     "metadata": {},
     "output_type": "execute_result"
    }
   ],
   "source": [
    "nombres = ['Juan', 'Paco', 'Josefa', 'Ana']\n",
    "veces = 4\n",
    "\n",
    "[nombre for nombre in nombres if 'o' in nombre for _ in range(veces)]\n"
   ]
  },
  {
   "cell_type": "markdown",
   "id": "6ad90ee2",
   "metadata": {},
   "source": [
    "### Ejercicio rombo\n",
    "\n",
    "Escriba un programa cuya salida por pantalla sea la siguiente:\n",
    "```\n",
    "         *          \n",
    "        ***         \n",
    "       *****        \n",
    "      *******       \n",
    "     *********      \n",
    "    ***********     \n",
    "   *************    \n",
    "   *************    \n",
    "    ***********     \n",
    "     *********      \n",
    "      *******       \n",
    "       *****        \n",
    "        ***         \n",
    "         *          \n",
    "```\n"
   ]
  },
  {
   "cell_type": "code",
   "execution_count": 16,
   "id": "1b4bac8c",
   "metadata": {
    "scrolled": true
   },
   "outputs": [
    {
     "name": "stdout",
     "output_type": "stream",
     "text": [
      "         *          \n",
      "        ***         \n",
      "       *****        \n",
      "      *******       \n",
      "     *********      \n",
      "    ***********     \n",
      "   *************    \n",
      "   *************    \n",
      "    ***********     \n",
      "     *********      \n",
      "      *******       \n",
      "       *****        \n",
      "        ***         \n",
      "         *          \n"
     ]
    }
   ],
   "source": [
    "caracter = '*'\n",
    "\n",
    "caracteres = [caracter + caracter * (2 * veces) for veces in range(7)]\n",
    "\n",
    "for c in caracteres + caracteres[::-1]:\n",
    "    print(f'{c: ^20}')"
   ]
  },
  {
   "cell_type": "markdown",
   "id": "16a63ed9",
   "metadata": {},
   "source": [
    "### Ejercicio arbol\n",
    "\n",
    "Escriba un programa cuya salida por pantalla sea la siguiente:\n",
    "```\n",
    "         *          \n",
    "        ***         \n",
    "       *****        \n",
    "      *******       \n",
    "     *********      \n",
    "    ***********     \n",
    "   *************    \n",
    "         *          \n",
    "         *          \n",
    "         *      \n",
    "```\n"
   ]
  },
  {
   "cell_type": "code",
   "execution_count": 15,
   "id": "0990875a",
   "metadata": {},
   "outputs": [
    {
     "name": "stdout",
     "output_type": "stream",
     "text": [
      "         *          \n",
      "        ***         \n",
      "       *****        \n",
      "      *******       \n",
      "     *********      \n",
      "    ***********     \n",
      "   *************    \n",
      "         *          \n",
      "         *          \n",
      "         *          \n"
     ]
    }
   ],
   "source": [
    "# Copa del árbol\n",
    "caracteres = [caracter + caracter * (2 * veces) for veces in range(7)]\n",
    "\n",
    "for c in caracteres:\n",
    "    print(f'{c: ^20}')\n",
    "\n",
    "# tronco\n",
    "for _ in range(3):\n",
    "    print(f'{\"*\": ^20}')"
   ]
  }
 ],
 "metadata": {
  "kernelspec": {
   "display_name": "Python 3 (ipykernel)",
   "language": "python",
   "name": "python3"
  },
  "language_info": {
   "codemirror_mode": {
    "name": "ipython",
    "version": 3
   },
   "file_extension": ".py",
   "mimetype": "text/x-python",
   "name": "python",
   "nbconvert_exporter": "python",
   "pygments_lexer": "ipython3",
   "version": "3.10.10"
  }
 },
 "nbformat": 4,
 "nbformat_minor": 5
}
