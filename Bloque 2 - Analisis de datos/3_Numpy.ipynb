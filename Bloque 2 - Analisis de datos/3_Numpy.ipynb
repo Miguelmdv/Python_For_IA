{
  "cells": [
    {
      "cell_type": "markdown",
      "metadata": {
        "id": "P7zrnJJ2_UEa"
      },
      "source": [
        "# **Numpy**"
      ]
    },
    {
      "cell_type": "code",
      "execution_count": 33,
      "metadata": {
        "colab": {
          "base_uri": "https://localhost:8080/",
          "height": 35
        },
        "id": "Je15rPp8_QqE",
        "outputId": "6094db80-bb09-46d2-bed8-37741a482bdd"
      },
      "outputs": [
        {
          "data": {
            "text/plain": [
              "'1.24.3'"
            ]
          },
          "execution_count": 33,
          "metadata": {},
          "output_type": "execute_result"
        }
      ],
      "source": [
        "## Importamos la librería de algebra lineal numpy\n",
        "import numpy as np\n",
        "np.__version__"
      ]
    },
    {
      "cell_type": "markdown",
      "metadata": {
        "id": "WM-yw7OWAYIh"
      },
      "source": [
        "### **Listas y arrays**"
      ]
    },
    {
      "cell_type": "code",
      "execution_count": 34,
      "metadata": {
        "colab": {
          "base_uri": "https://localhost:8080/"
        },
        "id": "EF8cbkif_f-y",
        "outputId": "4fcabf36-e0b9-4afc-e97b-013348f52c5d"
      },
      "outputs": [
        {
          "data": {
            "text/plain": [
              "[1, 1, 2, 3, 5, 8]"
            ]
          },
          "execution_count": 34,
          "metadata": {},
          "output_type": "execute_result"
        }
      ],
      "source": [
        "lista = [1,1,2,3,5,8]\n",
        "lista"
      ]
    },
    {
      "cell_type": "code",
      "execution_count": 35,
      "metadata": {
        "colab": {
          "base_uri": "https://localhost:8080/"
        },
        "id": "zMfgPtePAH9Q",
        "outputId": "edc0c5ef-6f47-4a3d-8177-81c0871f0624"
      },
      "outputs": [
        {
          "data": {
            "text/plain": [
              "[1, 1, 2, 3, 5, 8, 1, 1, 2, 3, 5, 8]"
            ]
          },
          "execution_count": 35,
          "metadata": {},
          "output_type": "execute_result"
        }
      ],
      "source": [
        "lista*2"
      ]
    },
    {
      "cell_type": "code",
      "execution_count": 36,
      "metadata": {
        "colab": {
          "base_uri": "https://localhost:8080/"
        },
        "id": "6hj2TmggACEv",
        "outputId": "2c0848e3-318d-4c1b-bcfa-05661f9d1dfa"
      },
      "outputs": [
        {
          "data": {
            "text/plain": [
              "array([1, 1, 2, 3, 5, 8])"
            ]
          },
          "execution_count": 36,
          "metadata": {},
          "output_type": "execute_result"
        }
      ],
      "source": [
        "array = np.array(lista)\n",
        "array"
      ]
    },
    {
      "cell_type": "code",
      "execution_count": 37,
      "metadata": {
        "colab": {
          "base_uri": "https://localhost:8080/"
        },
        "id": "Vw2WT4k1VRx3",
        "outputId": "4024f121-77df-463f-e38b-dc5e944a9937"
      },
      "outputs": [
        {
          "data": {
            "text/plain": [
              "array([1., 1., 2., 3., 5., 8.], dtype=float32)"
            ]
          },
          "execution_count": 37,
          "metadata": {},
          "output_type": "execute_result"
        }
      ],
      "source": [
        "## podemos elegir el tipo de variable\n",
        "array_float = np.array(lista, dtype=\"f\")\n",
        "array_float"
      ]
    },
    {
      "cell_type": "code",
      "execution_count": 38,
      "metadata": {},
      "outputs": [
        {
          "data": {
            "text/plain": [
              "numpy.ndarray"
            ]
          },
          "execution_count": 38,
          "metadata": {},
          "output_type": "execute_result"
        }
      ],
      "source": [
        "type(array_float)"
      ]
    },
    {
      "cell_type": "code",
      "execution_count": 39,
      "metadata": {
        "colab": {
          "base_uri": "https://localhost:8080/"
        },
        "id": "_pmafRB5VqkM",
        "outputId": "77044120-c684-4175-ccdb-f14ddc650873"
      },
      "outputs": [
        {
          "data": {
            "text/plain": [
              "dtype('float32')"
            ]
          },
          "execution_count": 39,
          "metadata": {},
          "output_type": "execute_result"
        }
      ],
      "source": [
        "array_float.dtype"
      ]
    },
    {
      "cell_type": "code",
      "execution_count": 40,
      "metadata": {
        "colab": {
          "base_uri": "https://localhost:8080/"
        },
        "id": "KZQLARiDALn4",
        "outputId": "ba30a4c6-856f-419d-e8e7-0870b8fcd39b"
      },
      "outputs": [
        {
          "data": {
            "text/plain": [
              "array([ 2,  2,  4,  6, 10, 16])"
            ]
          },
          "execution_count": 40,
          "metadata": {},
          "output_type": "execute_result"
        }
      ],
      "source": [
        "array*2"
      ]
    },
    {
      "cell_type": "code",
      "execution_count": 41,
      "metadata": {
        "colab": {
          "base_uri": "https://localhost:8080/"
        },
        "id": "qKPpjfjqANdQ",
        "outputId": "66a9976a-76f6-44ce-b111-e6b8c2e964ea"
      },
      "outputs": [
        {
          "data": {
            "text/plain": [
              "['1', '1', '2', '3', '5', '8']"
            ]
          },
          "execution_count": 41,
          "metadata": {},
          "output_type": "execute_result"
        }
      ],
      "source": [
        "lista_str = [str(x) for x in lista]\n",
        "lista_str"
      ]
    },
    {
      "cell_type": "code",
      "execution_count": 42,
      "metadata": {},
      "outputs": [
        {
          "data": {
            "text/plain": [
              "[1, 1, 8, 27, 125, 512]"
            ]
          },
          "execution_count": 42,
          "metadata": {},
          "output_type": "execute_result"
        }
      ],
      "source": [
        "[x**3 for x in array]"
      ]
    },
    {
      "cell_type": "code",
      "execution_count": 43,
      "metadata": {
        "colab": {
          "base_uri": "https://localhost:8080/"
        },
        "id": "Ul1j0FNCBCML",
        "outputId": "b698c11c-1287-45c3-ce0f-4dc9b156cd63"
      },
      "outputs": [
        {
          "data": {
            "text/plain": [
              "['1', '1', '2', '3', '5', '8']"
            ]
          },
          "execution_count": 43,
          "metadata": {},
          "output_type": "execute_result"
        }
      ],
      "source": [
        "array_str = [str(x) for x in array]\n",
        "array_str"
      ]
    },
    {
      "cell_type": "markdown",
      "metadata": {
        "id": "J3b19xji_tb-"
      },
      "source": [
        "#### Ejercicio 1: Convierte la lista de enteros a = [12,23,58,78] en un array y conviértela en un array de strings"
      ]
    },
    {
      "cell_type": "code",
      "execution_count": 44,
      "metadata": {},
      "outputs": [
        {
          "data": {
            "text/plain": [
              "['12', '23', '58', '78']"
            ]
          },
          "execution_count": 44,
          "metadata": {},
          "output_type": "execute_result"
        }
      ],
      "source": [
        "ar = np.array([12,23,58,78])\n",
        "b = [str(x) for x in ar]\n",
        "b"
      ]
    },
    {
      "cell_type": "code",
      "execution_count": 45,
      "metadata": {
        "colab": {
          "base_uri": "https://localhost:8080/"
        },
        "id": "5E8MzF4jBI_A",
        "outputId": "9b142dc3-6a14-41dd-85bd-d95c4119d99e"
      },
      "outputs": [
        {
          "data": {
            "text/plain": [
              "[[1, 2, 3], [5, 6, 7], [8, 4, 3]]"
            ]
          },
          "execution_count": 45,
          "metadata": {},
          "output_type": "execute_result"
        }
      ],
      "source": [
        "listas = [[1,2,3], [5,6,7], [8,4,3]]\n",
        "listas"
      ]
    },
    {
      "cell_type": "code",
      "execution_count": 46,
      "metadata": {
        "colab": {
          "base_uri": "https://localhost:8080/"
        },
        "id": "OvrLKC9KBQ9X",
        "outputId": "1ab96437-d2b6-48b1-f207-af835ae76353"
      },
      "outputs": [
        {
          "data": {
            "text/plain": [
              "array([[1, 2, 3],\n",
              "       [5, 6, 7],\n",
              "       [8, 4, 3]])"
            ]
          },
          "execution_count": 46,
          "metadata": {},
          "output_type": "execute_result"
        }
      ],
      "source": [
        "matriz = np.array(listas)\n",
        "matriz"
      ]
    },
    {
      "cell_type": "code",
      "execution_count": 109,
      "metadata": {
        "colab": {
          "base_uri": "https://localhost:8080/"
        },
        "id": "CZ0pvY53BTNp",
        "outputId": "33770b61-91a4-46cf-f211-0a07647a3cff"
      },
      "outputs": [
        {
          "name": "stdout",
          "output_type": "stream",
          "text": [
            "<class 'list'>\n",
            "<class 'numpy.ndarray'>\n"
          ]
        }
      ],
      "source": [
        "print(type(listas))\n",
        "print(type(matriz))"
      ]
    },
    {
      "cell_type": "code",
      "execution_count": 48,
      "metadata": {
        "colab": {
          "base_uri": "https://localhost:8080/"
        },
        "id": "1aS2sF85BaLh",
        "outputId": "a11b1ce4-0c1a-472f-f802-14a7b0548cfa"
      },
      "outputs": [
        {
          "name": "stdout",
          "output_type": "stream",
          "text": [
            "(6,)\n",
            "(3, 3)\n"
          ]
        },
        {
          "data": {
            "text/plain": [
              "<function print(*args, sep=' ', end='\\n', file=None, flush=False)>"
            ]
          },
          "execution_count": 48,
          "metadata": {},
          "output_type": "execute_result"
        }
      ],
      "source": [
        "print (np.shape(array))\n",
        "print (np.shape(matriz))\n",
        "print"
      ]
    },
    {
      "cell_type": "markdown",
      "metadata": {
        "id": "tjCgB8u4CFdJ"
      },
      "source": [
        "### **Creando numpy arrays sin usar listas**"
      ]
    },
    {
      "cell_type": "code",
      "execution_count": 110,
      "metadata": {
        "colab": {
          "base_uri": "https://localhost:8080/"
        },
        "id": "Cv6VzCe_Bha3",
        "outputId": "43b32a9a-75fb-4c17-9f85-74a298becfeb"
      },
      "outputs": [
        {
          "data": {
            "text/plain": [
              "array([0., 0., 0., 0., 0.])"
            ]
          },
          "execution_count": 110,
          "metadata": {},
          "output_type": "execute_result"
        }
      ],
      "source": [
        "## inicializamos un array con ceros\n",
        "np.zeros(5)"
      ]
    },
    {
      "cell_type": "code",
      "execution_count": 111,
      "metadata": {
        "colab": {
          "base_uri": "https://localhost:8080/"
        },
        "id": "oa6VwrPBCNTw",
        "outputId": "7fba96c0-5291-4268-8fbb-b78d2eedbcd0"
      },
      "outputs": [
        {
          "data": {
            "text/plain": [
              "array([[0., 0., 0., 0., 0.],\n",
              "       [0., 0., 0., 0., 0.],\n",
              "       [0., 0., 0., 0., 0.]])"
            ]
          },
          "execution_count": 111,
          "metadata": {},
          "output_type": "execute_result"
        }
      ],
      "source": [
        "np.zeros([3,5])"
      ]
    },
    {
      "cell_type": "code",
      "execution_count": 113,
      "metadata": {
        "colab": {
          "base_uri": "https://localhost:8080/"
        },
        "id": "8UcDHDuRCPe3",
        "outputId": "e46d5869-a064-405a-b555-201a440cdffe"
      },
      "outputs": [
        {
          "data": {
            "text/plain": [
              "array([0, 2, 4, 6, 8])"
            ]
          },
          "execution_count": 113,
          "metadata": {},
          "output_type": "execute_result"
        }
      ],
      "source": [
        "## Si sabemos el valor de separación entre valores\n",
        "np.arange(start=0,stop=10,step=2)"
      ]
    },
    {
      "cell_type": "code",
      "execution_count": 115,
      "metadata": {
        "id": "7AoqLqRoCX5A"
      },
      "outputs": [
        {
          "name": "stdout",
          "output_type": "stream",
          "text": [
            "\u001b[1;31mDocstring:\u001b[0m\n",
            "arange([start,] stop[, step,], dtype=None, *, like=None)\n",
            "\n",
            "Return evenly spaced values within a given interval.\n",
            "\n",
            "``arange`` can be called with a varying number of positional arguments:\n",
            "\n",
            "* ``arange(stop)``: Values are generated within the half-open interval\n",
            "  ``[0, stop)`` (in other words, the interval including `start` but\n",
            "  excluding `stop`).\n",
            "* ``arange(start, stop)``: Values are generated within the half-open\n",
            "  interval ``[start, stop)``.\n",
            "* ``arange(start, stop, step)`` Values are generated within the half-open\n",
            "  interval ``[start, stop)``, with spacing between values given by\n",
            "  ``step``.\n",
            "\n",
            "For integer arguments the function is roughly equivalent to the Python\n",
            "built-in :py:class:`range`, but returns an ndarray rather than a ``range``\n",
            "instance.\n",
            "\n",
            "When using a non-integer step, such as 0.1, it is often better to use\n",
            "`numpy.linspace`.\n",
            "\n",
            "See the Warning sections below for more information.\n",
            "\n",
            "Parameters\n",
            "----------\n",
            "start : integer or real, optional\n",
            "    Start of interval.  The interval includes this value.  The default\n",
            "    start value is 0.\n",
            "stop : integer or real\n",
            "    End of interval.  The interval does not include this value, except\n",
            "    in some cases where `step` is not an integer and floating point\n",
            "    round-off affects the length of `out`.\n",
            "step : integer or real, optional\n",
            "    Spacing between values.  For any output `out`, this is the distance\n",
            "    between two adjacent values, ``out[i+1] - out[i]``.  The default\n",
            "    step size is 1.  If `step` is specified as a position argument,\n",
            "    `start` must also be given.\n",
            "dtype : dtype, optional\n",
            "    The type of the output array.  If `dtype` is not given, infer the data\n",
            "    type from the other input arguments.\n",
            "like : array_like, optional\n",
            "    Reference object to allow the creation of arrays which are not\n",
            "    NumPy arrays. If an array-like passed in as ``like`` supports\n",
            "    the ``__array_function__`` protocol, the result will be defined\n",
            "    by it. In this case, it ensures the creation of an array object\n",
            "    compatible with that passed in via this argument.\n",
            "\n",
            "    .. versionadded:: 1.20.0\n",
            "\n",
            "Returns\n",
            "-------\n",
            "arange : ndarray\n",
            "    Array of evenly spaced values.\n",
            "\n",
            "    For floating point arguments, the length of the result is\n",
            "    ``ceil((stop - start)/step)``.  Because of floating point overflow,\n",
            "    this rule may result in the last element of `out` being greater\n",
            "    than `stop`.\n",
            "\n",
            "Warnings\n",
            "--------\n",
            "The length of the output might not be numerically stable.\n",
            "\n",
            "Another stability issue is due to the internal implementation of\n",
            "`numpy.arange`.\n",
            "The actual step value used to populate the array is\n",
            "``dtype(start + step) - dtype(start)`` and not `step`. Precision loss\n",
            "can occur here, due to casting or due to using floating points when\n",
            "`start` is much larger than `step`. This can lead to unexpected\n",
            "behaviour. For example::\n",
            "\n",
            "  >>> np.arange(0, 5, 0.5, dtype=int)\n",
            "  array([0, 0, 0, 0, 0, 0, 0, 0, 0, 0])\n",
            "  >>> np.arange(-3, 3, 0.5, dtype=int)\n",
            "  array([-3, -2, -1,  0,  1,  2,  3,  4,  5,  6,  7,  8])\n",
            "\n",
            "In such cases, the use of `numpy.linspace` should be preferred.\n",
            "\n",
            "The built-in :py:class:`range` generates :std:doc:`Python built-in integers\n",
            "that have arbitrary size <python:c-api/long>`, while `numpy.arange`\n",
            "produces `numpy.int32` or `numpy.int64` numbers. This may result in\n",
            "incorrect results for large integer values::\n",
            "\n",
            "  >>> power = 40\n",
            "  >>> modulo = 10000\n",
            "  >>> x1 = [(n ** power) % modulo for n in range(8)]\n",
            "  >>> x2 = [(n ** power) % modulo for n in np.arange(8)]\n",
            "  >>> print(x1)\n",
            "  [0, 1, 7776, 8801, 6176, 625, 6576, 4001]  # correct\n",
            "  >>> print(x2)\n",
            "  [0, 1, 7776, 7185, 0, 5969, 4816, 3361]  # incorrect\n",
            "\n",
            "See Also\n",
            "--------\n",
            "numpy.linspace : Evenly spaced numbers with careful handling of endpoints.\n",
            "numpy.ogrid: Arrays of evenly spaced numbers in N-dimensions.\n",
            "numpy.mgrid: Grid-shaped arrays of evenly spaced numbers in N-dimensions.\n",
            ":ref:`how-to-partition`\n",
            "\n",
            "Examples\n",
            "--------\n",
            ">>> np.arange(3)\n",
            "array([0, 1, 2])\n",
            ">>> np.arange(3.0)\n",
            "array([ 0.,  1.,  2.])\n",
            ">>> np.arange(3,7)\n",
            "array([3, 4, 5, 6])\n",
            ">>> np.arange(3,7,2)\n",
            "array([3, 5])\n",
            "\u001b[1;31mType:\u001b[0m      builtin_function_or_method"
          ]
        }
      ],
      "source": [
        "np.arange?"
      ]
    },
    {
      "cell_type": "code",
      "execution_count": 117,
      "metadata": {
        "id": "FsL_X85TChSg"
      },
      "outputs": [
        {
          "name": "stdout",
          "output_type": "stream",
          "text": [
            "\u001b[1;31mSignature:\u001b[0m\n",
            "\u001b[0mnp\u001b[0m\u001b[1;33m.\u001b[0m\u001b[0mlinspace\u001b[0m\u001b[1;33m(\u001b[0m\u001b[1;33m\n",
            "\u001b[0m    \u001b[0mstart\u001b[0m\u001b[1;33m,\u001b[0m\u001b[1;33m\n",
            "\u001b[0m    \u001b[0mstop\u001b[0m\u001b[1;33m,\u001b[0m\u001b[1;33m\n",
            "\u001b[0m    \u001b[0mnum\u001b[0m\u001b[1;33m=\u001b[0m\u001b[1;36m50\u001b[0m\u001b[1;33m,\u001b[0m\u001b[1;33m\n",
            "\u001b[0m    \u001b[0mendpoint\u001b[0m\u001b[1;33m=\u001b[0m\u001b[1;32mTrue\u001b[0m\u001b[1;33m,\u001b[0m\u001b[1;33m\n",
            "\u001b[0m    \u001b[0mretstep\u001b[0m\u001b[1;33m=\u001b[0m\u001b[1;32mFalse\u001b[0m\u001b[1;33m,\u001b[0m\u001b[1;33m\n",
            "\u001b[0m    \u001b[0mdtype\u001b[0m\u001b[1;33m=\u001b[0m\u001b[1;32mNone\u001b[0m\u001b[1;33m,\u001b[0m\u001b[1;33m\n",
            "\u001b[0m    \u001b[0maxis\u001b[0m\u001b[1;33m=\u001b[0m\u001b[1;36m0\u001b[0m\u001b[1;33m,\u001b[0m\u001b[1;33m\n",
            "\u001b[0m\u001b[1;33m)\u001b[0m\u001b[1;33m\u001b[0m\u001b[1;33m\u001b[0m\u001b[0m\n",
            "\u001b[1;31mDocstring:\u001b[0m\n",
            "Return evenly spaced numbers over a specified interval.\n",
            "\n",
            "Returns `num` evenly spaced samples, calculated over the\n",
            "interval [`start`, `stop`].\n",
            "\n",
            "The endpoint of the interval can optionally be excluded.\n",
            "\n",
            ".. versionchanged:: 1.16.0\n",
            "    Non-scalar `start` and `stop` are now supported.\n",
            "\n",
            ".. versionchanged:: 1.20.0\n",
            "    Values are rounded towards ``-inf`` instead of ``0`` when an\n",
            "    integer ``dtype`` is specified. The old behavior can\n",
            "    still be obtained with ``np.linspace(start, stop, num).astype(int)``\n",
            "\n",
            "Parameters\n",
            "----------\n",
            "start : array_like\n",
            "    The starting value of the sequence.\n",
            "stop : array_like\n",
            "    The end value of the sequence, unless `endpoint` is set to False.\n",
            "    In that case, the sequence consists of all but the last of ``num + 1``\n",
            "    evenly spaced samples, so that `stop` is excluded.  Note that the step\n",
            "    size changes when `endpoint` is False.\n",
            "num : int, optional\n",
            "    Number of samples to generate. Default is 50. Must be non-negative.\n",
            "endpoint : bool, optional\n",
            "    If True, `stop` is the last sample. Otherwise, it is not included.\n",
            "    Default is True.\n",
            "retstep : bool, optional\n",
            "    If True, return (`samples`, `step`), where `step` is the spacing\n",
            "    between samples.\n",
            "dtype : dtype, optional\n",
            "    The type of the output array.  If `dtype` is not given, the data type\n",
            "    is inferred from `start` and `stop`. The inferred dtype will never be\n",
            "    an integer; `float` is chosen even if the arguments would produce an\n",
            "    array of integers.\n",
            "\n",
            "    .. versionadded:: 1.9.0\n",
            "\n",
            "axis : int, optional\n",
            "    The axis in the result to store the samples.  Relevant only if start\n",
            "    or stop are array-like.  By default (0), the samples will be along a\n",
            "    new axis inserted at the beginning. Use -1 to get an axis at the end.\n",
            "\n",
            "    .. versionadded:: 1.16.0\n",
            "\n",
            "Returns\n",
            "-------\n",
            "samples : ndarray\n",
            "    There are `num` equally spaced samples in the closed interval\n",
            "    ``[start, stop]`` or the half-open interval ``[start, stop)``\n",
            "    (depending on whether `endpoint` is True or False).\n",
            "step : float, optional\n",
            "    Only returned if `retstep` is True\n",
            "\n",
            "    Size of spacing between samples.\n",
            "\n",
            "\n",
            "See Also\n",
            "--------\n",
            "arange : Similar to `linspace`, but uses a step size (instead of the\n",
            "         number of samples).\n",
            "geomspace : Similar to `linspace`, but with numbers spaced evenly on a log\n",
            "            scale (a geometric progression).\n",
            "logspace : Similar to `geomspace`, but with the end points specified as\n",
            "           logarithms.\n",
            ":ref:`how-to-partition`\n",
            "\n",
            "Examples\n",
            "--------\n",
            ">>> np.linspace(2.0, 3.0, num=5)\n",
            "array([2.  , 2.25, 2.5 , 2.75, 3.  ])\n",
            ">>> np.linspace(2.0, 3.0, num=5, endpoint=False)\n",
            "array([2. ,  2.2,  2.4,  2.6,  2.8])\n",
            ">>> np.linspace(2.0, 3.0, num=5, retstep=True)\n",
            "(array([2.  ,  2.25,  2.5 ,  2.75,  3.  ]), 0.25)\n",
            "\n",
            "Graphical illustration:\n",
            "\n",
            ">>> import matplotlib.pyplot as plt\n",
            ">>> N = 8\n",
            ">>> y = np.zeros(N)\n",
            ">>> x1 = np.linspace(0, 10, N, endpoint=True)\n",
            ">>> x2 = np.linspace(0, 10, N, endpoint=False)\n",
            ">>> plt.plot(x1, y, 'o')\n",
            "[<matplotlib.lines.Line2D object at 0x...>]\n",
            ">>> plt.plot(x2, y + 0.5, 'o')\n",
            "[<matplotlib.lines.Line2D object at 0x...>]\n",
            ">>> plt.ylim([-0.5, 1])\n",
            "(-0.5, 1)\n",
            ">>> plt.show()\n",
            "\u001b[1;31mFile:\u001b[0m      e:\\anaconda3\\lib\\site-packages\\numpy\\core\\function_base.py\n",
            "\u001b[1;31mType:\u001b[0m      function"
          ]
        }
      ],
      "source": [
        "## Si sabemos cuántos valores resultantes queremos\n",
        "np.linspace?"
      ]
    },
    {
      "cell_type": "code",
      "execution_count": 54,
      "metadata": {
        "colab": {
          "base_uri": "https://localhost:8080/"
        },
        "id": "fDW99NPpCmyY",
        "outputId": "671b0d47-e435-46fb-dc6b-4ac7cbad1dae"
      },
      "outputs": [
        {
          "data": {
            "text/plain": [
              "array([ 5.        , 11.42857143, 17.85714286, 24.28571429, 30.71428571,\n",
              "       37.14285714, 43.57142857, 50.        ])"
            ]
          },
          "execution_count": 54,
          "metadata": {},
          "output_type": "execute_result"
        }
      ],
      "source": [
        "np.linspace(5,50,8)"
      ]
    },
    {
      "cell_type": "code",
      "execution_count": 55,
      "metadata": {
        "colab": {
          "base_uri": "https://localhost:8080/"
        },
        "id": "2-_nKcPECuE4",
        "outputId": "606597a8-00ae-4ad3-c7de-03f756b63fbe"
      },
      "outputs": [
        {
          "data": {
            "text/plain": [
              "array([[5, 8, 9],\n",
              "       [9, 2, 3]])"
            ]
          },
          "execution_count": 55,
          "metadata": {},
          "output_type": "execute_result"
        }
      ],
      "source": [
        "## Si queremos valores enteros aleatorios\n",
        "np.random.randint(0,10,[2,3])"
      ]
    },
    {
      "cell_type": "code",
      "execution_count": 56,
      "metadata": {
        "colab": {
          "base_uri": "https://localhost:8080/"
        },
        "id": "ke8a6tDaC59A",
        "outputId": "ca421f01-0084-4072-8778-efbc3ad58c05"
      },
      "outputs": [
        {
          "data": {
            "text/plain": [
              "dtype('float64')"
            ]
          },
          "execution_count": 56,
          "metadata": {},
          "output_type": "execute_result"
        }
      ],
      "source": [
        "## teniendo en cuenta el tipo de los valores\n",
        "np.zeros(10).dtype"
      ]
    },
    {
      "cell_type": "code",
      "execution_count": 57,
      "metadata": {
        "colab": {
          "base_uri": "https://localhost:8080/"
        },
        "id": "sNlzKJLKDqxE",
        "outputId": "3ad6b916-adf0-468a-a852-e77d48371dd2"
      },
      "outputs": [
        {
          "data": {
            "text/plain": [
              "array([0, 0, 0, 0, 0, 0, 0, 0, 0, 0], dtype=int16)"
            ]
          },
          "execution_count": 57,
          "metadata": {},
          "output_type": "execute_result"
        }
      ],
      "source": [
        "np.zeros(10, dtype=np.int16)"
      ]
    },
    {
      "cell_type": "code",
      "execution_count": 58,
      "metadata": {
        "colab": {
          "base_uri": "https://localhost:8080/"
        },
        "id": "_m2ea_bRDrWI",
        "outputId": "9b0bfc4e-322e-402c-e645-6c387b1154cf"
      },
      "outputs": [
        {
          "data": {
            "text/plain": [
              "array([[[7, 6, 1, 4, 4],\n",
              "        [4, 0, 6, 4, 2],\n",
              "        [6, 4, 4, 6, 0],\n",
              "        [0, 5, 3, 8, 3]],\n",
              "\n",
              "       [[3, 4, 7, 6, 5],\n",
              "        [3, 7, 9, 3, 7],\n",
              "        [3, 6, 8, 4, 9],\n",
              "        [6, 8, 5, 4, 7]],\n",
              "\n",
              "       [[1, 4, 9, 0, 7],\n",
              "        [5, 7, 7, 2, 7],\n",
              "        [2, 0, 3, 8, 9],\n",
              "        [2, 6, 9, 6, 5]]])"
            ]
          },
          "execution_count": 58,
          "metadata": {},
          "output_type": "execute_result"
        }
      ],
      "source": [
        "## Array de tres dimensiones\n",
        "x3 = np.random.randint(10, size=(3, 4, 5))\n",
        "x3"
      ]
    },
    {
      "cell_type": "code",
      "execution_count": 59,
      "metadata": {
        "colab": {
          "base_uri": "https://localhost:8080/"
        },
        "id": "nQkLhb_CEmbn",
        "outputId": "133c85c4-399f-4860-a958-dee6743474a7"
      },
      "outputs": [
        {
          "name": "stdout",
          "output_type": "stream",
          "text": [
            "x3 ndim:  3\n",
            "x3 shape: (3, 4, 5)\n",
            "x3 size:  60\n"
          ]
        }
      ],
      "source": [
        "print(\"x3 ndim: \", x3.ndim)\n",
        "print(\"x3 shape:\", x3.shape)\n",
        "print(\"x3 size: \", x3.size)"
      ]
    },
    {
      "cell_type": "code",
      "execution_count": 60,
      "metadata": {
        "colab": {
          "base_uri": "https://localhost:8080/"
        },
        "id": "qJiDWLHHNehu",
        "outputId": "c8b41ae3-d94f-4f8b-e7cd-b502116fa18c"
      },
      "outputs": [
        {
          "data": {
            "text/plain": [
              "array([[0.55947078, 0.93036437],\n",
              "       [0.04156405, 0.18639065],\n",
              "       [0.00206412, 0.29492326]])"
            ]
          },
          "execution_count": 60,
          "metadata": {},
          "output_type": "execute_result"
        }
      ],
      "source": [
        "## Si queremos que tenga valores decimales aleatorios\n",
        "np.random.rand(3,2)#.round(2)"
      ]
    },
    {
      "cell_type": "markdown",
      "metadata": {
        "id": "inj7zEghBgll"
      },
      "source": [
        "#### Ejercicio 2: Crea un array con valores enteros aleatorios del 5 al 20 y con dimensiones de 3x4"
      ]
    },
    {
      "cell_type": "code",
      "execution_count": 119,
      "metadata": {},
      "outputs": [
        {
          "data": {
            "text/plain": [
              "array([[ 7, 19, 19,  8],\n",
              "       [18, 18, 17, 17],\n",
              "       [ 8, 11, 16, 15]])"
            ]
          },
          "execution_count": 119,
          "metadata": {},
          "output_type": "execute_result"
        }
      ],
      "source": [
        "x = np.random.randint(5, 20, size=(3, 4))\n",
        "x"
      ]
    },
    {
      "cell_type": "markdown",
      "metadata": {
        "id": "mMTU0NAbFB3c"
      },
      "source": [
        "### **Array Indexing**"
      ]
    },
    {
      "cell_type": "code",
      "execution_count": 120,
      "metadata": {
        "colab": {
          "base_uri": "https://localhost:8080/"
        },
        "id": "-oxh4zkeEvoo",
        "outputId": "3fda0353-b141-46f5-ac5f-3ee0ac73ef2a"
      },
      "outputs": [
        {
          "data": {
            "text/plain": [
              "array([6, 2, 1, 3, 6, 7, 6, 6])"
            ]
          },
          "execution_count": 120,
          "metadata": {},
          "output_type": "execute_result"
        }
      ],
      "source": [
        "x1 = np.random.randint(10, size=8)\n",
        "x1"
      ]
    },
    {
      "cell_type": "code",
      "execution_count": 121,
      "metadata": {
        "colab": {
          "base_uri": "https://localhost:8080/"
        },
        "id": "nBwna_hZFPeA",
        "outputId": "d100b4f0-7245-44d5-ace0-aba8d2d342c0"
      },
      "outputs": [
        {
          "name": "stdout",
          "output_type": "stream",
          "text": [
            "1\n",
            "[1 3]\n",
            "[1 3 6 7 6 6]\n",
            "[6 2 1 3]\n",
            "6\n",
            "[6 2 1 3 6 7]\n"
          ]
        }
      ],
      "source": [
        "print(x1[2])\n",
        "print(x1[2:4])\n",
        "print(x1[2:])\n",
        "print(x1[:4])\n",
        "print(x1[-2])\n",
        "print(x1[:-2])"
      ]
    },
    {
      "cell_type": "code",
      "execution_count": 122,
      "metadata": {
        "colab": {
          "base_uri": "https://localhost:8080/"
        },
        "id": "Jl6rQNVkFQAo",
        "outputId": "17e9bfd3-5c55-4df9-cb97-dae045990633"
      },
      "outputs": [
        {
          "data": {
            "text/plain": [
              "array([6, 1, 6, 6])"
            ]
          },
          "execution_count": 122,
          "metadata": {},
          "output_type": "execute_result"
        }
      ],
      "source": [
        "## Usando un step-value\n",
        "x1[::2] ## índices: 0,2,4,6"
      ]
    },
    {
      "cell_type": "code",
      "execution_count": 123,
      "metadata": {
        "colab": {
          "base_uri": "https://localhost:8080/"
        },
        "id": "601auX5GF7Xw",
        "outputId": "bef95c53-61f3-4536-d415-b04ed192f092"
      },
      "outputs": [
        {
          "data": {
            "text/plain": [
              "array([2, 6, 6])"
            ]
          },
          "execution_count": 123,
          "metadata": {},
          "output_type": "execute_result"
        }
      ],
      "source": [
        "x1[1::3] ## índices: 1,4,7"
      ]
    },
    {
      "cell_type": "markdown",
      "metadata": {
        "id": "c7rGMaiFB56m"
      },
      "source": [
        "#### Ejercicio 3: Del siguiente array [2,5,8,9,-4,-8,12], selecciona el primero, los tres primeros, el último y los 3 últimos"
      ]
    },
    {
      "cell_type": "code",
      "execution_count": 126,
      "metadata": {},
      "outputs": [
        {
          "name": "stdout",
          "output_type": "stream",
          "text": [
            "2\n",
            "[2 5 8]\n",
            "12\n",
            "[-4 -8 12]\n"
          ]
        }
      ],
      "source": [
        "a = np.array([2,5,8,9,-4,-8,12])\n",
        "print(a[0])\n",
        "print(a[:3])\n",
        "print(a[-1])\n",
        "print(a[-3:])"
      ]
    },
    {
      "cell_type": "markdown",
      "metadata": {
        "id": "sU7XfkH_GoSQ"
      },
      "source": [
        "### **Reshaping**"
      ]
    },
    {
      "cell_type": "code",
      "execution_count": 127,
      "metadata": {
        "colab": {
          "base_uri": "https://localhost:8080/"
        },
        "id": "ipJyLvUOF-Bn",
        "outputId": "83a3ebbb-4e00-4d02-c6dc-428cf35e3fc8"
      },
      "outputs": [
        {
          "data": {
            "text/plain": [
              "array([6, 2, 1, 3, 6, 7, 6, 6])"
            ]
          },
          "execution_count": 127,
          "metadata": {},
          "output_type": "execute_result"
        }
      ],
      "source": [
        "x1"
      ]
    },
    {
      "cell_type": "code",
      "execution_count": 128,
      "metadata": {
        "colab": {
          "base_uri": "https://localhost:8080/"
        },
        "id": "nTIPqCHSGtF_",
        "outputId": "f159d83c-2d13-46b1-baf4-c61ac8f4aead"
      },
      "outputs": [
        {
          "data": {
            "text/plain": [
              "array([[6, 2],\n",
              "       [1, 3],\n",
              "       [6, 7],\n",
              "       [6, 6]])"
            ]
          },
          "execution_count": 128,
          "metadata": {},
          "output_type": "execute_result"
        }
      ],
      "source": [
        "x1.reshape(4,2)"
      ]
    },
    {
      "cell_type": "code",
      "execution_count": 129,
      "metadata": {
        "colab": {
          "base_uri": "https://localhost:8080/"
        },
        "id": "Cev0p6uqGvy4",
        "outputId": "d6625026-efa6-47e4-e0f7-a68363f80b53"
      },
      "outputs": [
        {
          "data": {
            "text/plain": [
              "array([[6, 2, 1, 3],\n",
              "       [6, 7, 6, 6]])"
            ]
          },
          "execution_count": 129,
          "metadata": {},
          "output_type": "execute_result"
        }
      ],
      "source": [
        "x1.reshape(2,4)"
      ]
    },
    {
      "cell_type": "code",
      "execution_count": 130,
      "metadata": {
        "colab": {
          "base_uri": "https://localhost:8080/"
        },
        "id": "hNhffyV7G0w_",
        "outputId": "66c1624b-dde4-4c46-925d-28be4c064082"
      },
      "outputs": [
        {
          "data": {
            "text/plain": [
              "array([[6],\n",
              "       [2],\n",
              "       [1],\n",
              "       [3],\n",
              "       [6],\n",
              "       [7],\n",
              "       [6],\n",
              "       [6]])"
            ]
          },
          "execution_count": 130,
          "metadata": {},
          "output_type": "execute_result"
        }
      ],
      "source": [
        "xr = x1.reshape(2,4)\n",
        "xr.reshape(-1,1)"
      ]
    },
    {
      "cell_type": "code",
      "execution_count": 69,
      "metadata": {
        "colab": {
          "base_uri": "https://localhost:8080/"
        },
        "id": "EkoTiYt0Cg-A",
        "outputId": "df861a59-c445-4422-b0a7-b8627d93cbeb"
      },
      "outputs": [
        {
          "data": {
            "text/plain": [
              "(8, 1)"
            ]
          },
          "execution_count": 69,
          "metadata": {},
          "output_type": "execute_result"
        }
      ],
      "source": [
        "xr.reshape(-1,1).shape"
      ]
    },
    {
      "cell_type": "code",
      "execution_count": 70,
      "metadata": {
        "colab": {
          "base_uri": "https://localhost:8080/"
        },
        "id": "8Z7-4HGUHAdf",
        "outputId": "91f51ecc-6763-4e4f-9e76-713b382cb30b"
      },
      "outputs": [
        {
          "data": {
            "text/plain": [
              "array([[0, 5, 2, 2, 8, 5, 8, 0]])"
            ]
          },
          "execution_count": 70,
          "metadata": {},
          "output_type": "execute_result"
        }
      ],
      "source": [
        "xr.reshape(1,-1)"
      ]
    },
    {
      "cell_type": "code",
      "execution_count": 71,
      "metadata": {
        "colab": {
          "base_uri": "https://localhost:8080/"
        },
        "id": "TmlA_vmkCc8W",
        "outputId": "2d745928-1249-48ee-9aa0-89d3f5f259d1"
      },
      "outputs": [
        {
          "data": {
            "text/plain": [
              "(1, 8)"
            ]
          },
          "execution_count": 71,
          "metadata": {},
          "output_type": "execute_result"
        }
      ],
      "source": [
        "xr.reshape(1,-1).shape"
      ]
    },
    {
      "cell_type": "code",
      "execution_count": 72,
      "metadata": {
        "colab": {
          "base_uri": "https://localhost:8080/"
        },
        "id": "8C95gtVtHEK3",
        "outputId": "fd6a3ff3-da2a-451d-cb8f-e5724070d94c"
      },
      "outputs": [
        {
          "data": {
            "text/plain": [
              "array([0, 5, 2, 2, 8, 5, 8, 0])"
            ]
          },
          "execution_count": 72,
          "metadata": {},
          "output_type": "execute_result"
        }
      ],
      "source": [
        "## cambiamos una dimensión\n",
        "xr.flatten()"
      ]
    },
    {
      "cell_type": "code",
      "execution_count": 73,
      "metadata": {
        "colab": {
          "base_uri": "https://localhost:8080/"
        },
        "id": "4ruVJ-tzC2Ey",
        "outputId": "61b266da-2c7d-44f6-c1a5-2119a05d04d4"
      },
      "outputs": [
        {
          "data": {
            "text/plain": [
              "(8,)"
            ]
          },
          "execution_count": 73,
          "metadata": {},
          "output_type": "execute_result"
        }
      ],
      "source": [
        "xr.flatten().shape"
      ]
    },
    {
      "cell_type": "markdown",
      "metadata": {
        "id": "9zbt0uxhC4aI"
      },
      "source": [
        "#### Ejercicio 4: Crea un array de 2x5 como en el ejercicio 2. Pásalo a 1x10 y después a una sola dimensión."
      ]
    },
    {
      "cell_type": "code",
      "execution_count": 137,
      "metadata": {},
      "outputs": [
        {
          "name": "stdout",
          "output_type": "stream",
          "text": [
            "[[1 2 8 8 1]\n",
            " [9 1 6 6 3]]\n",
            "[[1 2 8 8 1 9 1 6 6 3]]\n",
            "[1 2 8 8 1 9 1 6 6 3]\n"
          ]
        }
      ],
      "source": [
        "x = np.random.randint(1, 10, size=(2, 5))\n",
        "print(x)\n",
        "print(x.reshape(1,-1))\n",
        "print(x.flatten())"
      ]
    },
    {
      "cell_type": "markdown",
      "metadata": {
        "id": "IMyIc4jQHnC6"
      },
      "source": [
        "### **Concatenar y separar**"
      ]
    },
    {
      "cell_type": "code",
      "execution_count": 74,
      "metadata": {
        "colab": {
          "base_uri": "https://localhost:8080/"
        },
        "id": "mpKGwv3gHH_n",
        "outputId": "4f9b889c-9aa0-4e55-ce37-eb3e620f5810"
      },
      "outputs": [
        {
          "data": {
            "text/plain": [
              "array([10, 25, 32,  5, 88, 15])"
            ]
          },
          "execution_count": 74,
          "metadata": {},
          "output_type": "execute_result"
        }
      ],
      "source": [
        "x = np.array([10, 25, 32])\n",
        "y = np.array([5, 88, 15])\n",
        "z = np.concatenate([x, y])\n",
        "z"
      ]
    },
    {
      "cell_type": "code",
      "execution_count": 75,
      "metadata": {
        "colab": {
          "base_uri": "https://localhost:8080/"
        },
        "id": "SNDOdMgYHvlv",
        "outputId": "a66df6bf-4ec2-4381-beca-491da86cb5b2"
      },
      "outputs": [
        {
          "data": {
            "text/plain": [
              "array([10, 25, 32,  5, 88, 15, 10, 25, 32,  5, 88, 15])"
            ]
          },
          "execution_count": 75,
          "metadata": {},
          "output_type": "execute_result"
        }
      ],
      "source": [
        "zz = np.concatenate([z, z])\n",
        "zz"
      ]
    },
    {
      "cell_type": "code",
      "execution_count": 76,
      "metadata": {
        "colab": {
          "base_uri": "https://localhost:8080/"
        },
        "id": "Y7dcC1wvIFCg",
        "outputId": "4330bad3-9412-4d60-dd76-07b1180912d5"
      },
      "outputs": [
        {
          "data": {
            "text/plain": [
              "(12,)"
            ]
          },
          "execution_count": 76,
          "metadata": {},
          "output_type": "execute_result"
        }
      ],
      "source": [
        "zz.shape"
      ]
    },
    {
      "cell_type": "code",
      "execution_count": 77,
      "metadata": {
        "colab": {
          "base_uri": "https://localhost:8080/"
        },
        "id": "xRcYJKcGIZAD",
        "outputId": "ac8d36da-2619-4a41-c38d-799578d2027f"
      },
      "outputs": [
        {
          "data": {
            "text/plain": [
              "array([[10, 25, 32,  5],\n",
              "       [88, 15, 10, 25],\n",
              "       [32,  5, 88, 15]])"
            ]
          },
          "execution_count": 77,
          "metadata": {},
          "output_type": "execute_result"
        }
      ],
      "source": [
        "m = zz.reshape(3,4)\n",
        "m"
      ]
    },
    {
      "cell_type": "code",
      "execution_count": 78,
      "metadata": {
        "colab": {
          "base_uri": "https://localhost:8080/"
        },
        "id": "O5VuhI3ZKSkO",
        "outputId": "8afc8493-527a-4c31-8dbd-c11f71ece049"
      },
      "outputs": [
        {
          "data": {
            "text/plain": [
              "(3, 4)"
            ]
          },
          "execution_count": 78,
          "metadata": {},
          "output_type": "execute_result"
        }
      ],
      "source": [
        "m.shape"
      ]
    },
    {
      "cell_type": "code",
      "execution_count": 79,
      "metadata": {
        "colab": {
          "base_uri": "https://localhost:8080/"
        },
        "id": "V1z7lixVKUIX",
        "outputId": "2cde875f-d80d-4b93-95f5-dcc44f19c835"
      },
      "outputs": [
        {
          "data": {
            "text/plain": [
              "array([10, 25, 32,  5])"
            ]
          },
          "execution_count": 79,
          "metadata": {},
          "output_type": "execute_result"
        }
      ],
      "source": [
        "m[0]"
      ]
    },
    {
      "cell_type": "code",
      "execution_count": 80,
      "metadata": {
        "id": "NcZsSdGgKVIe"
      },
      "outputs": [],
      "source": [
        "## Si queremos obtener las diferentes filas del array\n",
        "f1, f2, f3 = [m[i] for i in range(3)]"
      ]
    },
    {
      "cell_type": "code",
      "execution_count": 81,
      "metadata": {
        "colab": {
          "base_uri": "https://localhost:8080/"
        },
        "id": "0VXEfwagD9eq",
        "outputId": "5159ad17-72ef-4f62-d441-61868dbbc9c4"
      },
      "outputs": [
        {
          "data": {
            "text/plain": [
              "(array([10, 25, 32,  5]), array([88, 15, 10, 25]), array([32,  5, 88, 15]))"
            ]
          },
          "execution_count": 81,
          "metadata": {},
          "output_type": "execute_result"
        }
      ],
      "source": [
        "f1, f2, f3"
      ]
    },
    {
      "cell_type": "code",
      "execution_count": 82,
      "metadata": {
        "id": "OhNQsYrXDzRF"
      },
      "outputs": [],
      "source": [
        "## Si queremos obtener las diferentes columnas del array\n",
        "c1, c2, c3 = [m[:,i] for i in range(3)]"
      ]
    },
    {
      "cell_type": "code",
      "execution_count": 83,
      "metadata": {
        "colab": {
          "base_uri": "https://localhost:8080/"
        },
        "id": "8YEhbiEKKf6Y",
        "outputId": "303d4ab5-9178-4501-b94a-78007ab1cdad"
      },
      "outputs": [
        {
          "data": {
            "text/plain": [
              "(array([10, 88, 32]), array([25, 15,  5]), array([32, 10, 88]))"
            ]
          },
          "execution_count": 83,
          "metadata": {},
          "output_type": "execute_result"
        }
      ],
      "source": [
        "c1, c2, c3"
      ]
    },
    {
      "cell_type": "code",
      "execution_count": 84,
      "metadata": {
        "colab": {
          "base_uri": "https://localhost:8080/"
        },
        "id": "LampHqqqEWaO",
        "outputId": "2aeb2f76-9758-4150-86cd-53c148318850"
      },
      "outputs": [
        {
          "data": {
            "text/plain": [
              "5"
            ]
          },
          "execution_count": 84,
          "metadata": {},
          "output_type": "execute_result"
        }
      ],
      "source": [
        "## Si queremos seleccionar un valor en concreto\n",
        "m[0,3]"
      ]
    },
    {
      "cell_type": "code",
      "execution_count": 85,
      "metadata": {
        "colab": {
          "base_uri": "https://localhost:8080/"
        },
        "id": "76z5ze68ElpG",
        "outputId": "c3fd7105-f1b0-443a-b457-8dd365edbbf8"
      },
      "outputs": [
        {
          "data": {
            "text/plain": [
              "array([[10, 25],\n",
              "       [88, 15]])"
            ]
          },
          "execution_count": 85,
          "metadata": {},
          "output_type": "execute_result"
        }
      ],
      "source": [
        "## Si queremos seleccionar una submatriz\n",
        "m[0:2,0:2]"
      ]
    },
    {
      "cell_type": "markdown",
      "metadata": {
        "id": "BICoiQkeEyhg"
      },
      "source": [
        "#### Ejercicio 5: De la matriz anterior \"m\" escoge el valor de la esquina inferior derecha y la submatriz de 2x2 de esa misma esquina"
      ]
    },
    {
      "cell_type": "markdown",
      "metadata": {
        "id": "-p55ggCcK6UG"
      },
      "source": [
        "### **Operaciones con Arrays (UFuncs)**"
      ]
    },
    {
      "cell_type": "code",
      "execution_count": 86,
      "metadata": {
        "colab": {
          "base_uri": "https://localhost:8080/"
        },
        "id": "_u_YDDQJKilW",
        "outputId": "cc92e57e-97e0-4a44-b662-10ea436acaab"
      },
      "outputs": [
        {
          "name": "stdout",
          "output_type": "stream",
          "text": [
            "x = [0 1 2 3]\n",
            "x + 5 = [5 6 7 8]\n",
            "x - 5 = [-5 -4 -3 -2]\n",
            "x * 2 = [0 2 4 6]\n",
            "x / 2 = [0.  0.5 1.  1.5]\n",
            "x // 2 = [0 0 1 1]\n"
          ]
        }
      ],
      "source": [
        "x = np.arange(4)\n",
        "print(\"x =\", x)\n",
        "print(\"x + 5 =\", x + 5)\n",
        "print(\"x - 5 =\", x - 5)\n",
        "print(\"x * 2 =\", x * 2)\n",
        "print(\"x / 2 =\", x / 2)\n",
        "print(\"x // 2 =\", x // 2) # devuelve cociente entero"
      ]
    },
    {
      "cell_type": "code",
      "execution_count": 87,
      "metadata": {
        "colab": {
          "base_uri": "https://localhost:8080/"
        },
        "id": "iEP9Jc5XLDJw",
        "outputId": "35c96318-90a5-4337-bc69-822487974891"
      },
      "outputs": [
        {
          "name": "stdout",
          "output_type": "stream",
          "text": [
            "-x =  [ 0 -1 -2 -3]\n",
            "x ** 2 =  [0 1 4 9]\n",
            "x % 2 =  [0 1 0 1]\n"
          ]
        }
      ],
      "source": [
        "print(\"-x = \", -x)\n",
        "print(\"x ** 2 = \", x ** 2)\n",
        "print(\"x % 2 = \", x % 2) # devuelve el resto --> 0 si es par"
      ]
    },
    {
      "cell_type": "code",
      "execution_count": 88,
      "metadata": {
        "colab": {
          "base_uri": "https://localhost:8080/"
        },
        "id": "-O4i2-8zLQXe",
        "outputId": "3f398f39-c604-4e91-c058-eaa981e5f2ea"
      },
      "outputs": [
        {
          "name": "stdout",
          "output_type": "stream",
          "text": [
            "abs:  [0 1 2 3]\n"
          ]
        }
      ],
      "source": [
        "print(\"abs: \", np.abs(-x))"
      ]
    },
    {
      "cell_type": "code",
      "execution_count": 89,
      "metadata": {
        "colab": {
          "base_uri": "https://localhost:8080/"
        },
        "id": "v7-izGgLMx7M",
        "outputId": "2775cc61-0fd5-4e81-c3ff-34e6f68ddbe2"
      },
      "outputs": [
        {
          "name": "stdout",
          "output_type": "stream",
          "text": [
            "theta =  [0.         3.14159265]\n",
            "sin(theta) =  [0.0000000e+00 1.2246468e-16]\n",
            "cos(theta) =  [ 1. -1.]\n",
            "tan(theta) =  [ 0.0000000e+00 -1.2246468e-16]\n"
          ]
        }
      ],
      "source": [
        "theta = np.linspace(0, np.pi, 2)\n",
        "print(\"theta = \", theta)\n",
        "print(\"sin(theta) = \", np.sin(theta))\n",
        "print(\"cos(theta) = \", np.cos(theta))\n",
        "print(\"tan(theta) = \", np.tan(theta))"
      ]
    },
    {
      "cell_type": "code",
      "execution_count": 90,
      "metadata": {
        "colab": {
          "base_uri": "https://localhost:8080/"
        },
        "id": "iOGziF6ZMYf2",
        "outputId": "79e79d9e-4fbf-4dd9-b398-a666b65065e8"
      },
      "outputs": [
        {
          "name": "stdout",
          "output_type": "stream",
          "text": [
            "x =  [-1, 0, 1]\n",
            "arcsin(x) =  [-1.57079633  0.          1.57079633]\n",
            "arccos(x) =  [3.14159265 1.57079633 0.        ]\n",
            "arctan(x) =  [-0.78539816  0.          0.78539816]\n"
          ]
        }
      ],
      "source": [
        "x = [-1, 0, 1]\n",
        "print(\"x = \", x)\n",
        "print(\"arcsin(x) = \", np.arcsin(x))\n",
        "print(\"arccos(x) = \", np.arccos(x))\n",
        "print(\"arctan(x) = \", np.arctan(x))"
      ]
    },
    {
      "cell_type": "code",
      "execution_count": 91,
      "metadata": {
        "colab": {
          "base_uri": "https://localhost:8080/"
        },
        "id": "nNkiXmTtMjvH",
        "outputId": "873892bd-843d-42ca-b148-bf2b8e27d6f7"
      },
      "outputs": [
        {
          "name": "stdout",
          "output_type": "stream",
          "text": [
            "x = [1, 2, 3]\n",
            "e^x = [ 2.71828183  7.3890561  20.08553692]\n",
            "2^x = [2. 4. 8.]\n",
            "3^x = [ 3  9 27]\n"
          ]
        }
      ],
      "source": [
        "x = [1, 2, 3]\n",
        "print(\"x =\", x)\n",
        "print(\"e^x =\", np.exp(x))\n",
        "print(\"2^x =\", np.exp2(x))\n",
        "print(\"3^x =\", np.power(3, x))"
      ]
    },
    {
      "cell_type": "code",
      "execution_count": 92,
      "metadata": {
        "colab": {
          "base_uri": "https://localhost:8080/"
        },
        "id": "VU794OEDMm_f",
        "outputId": "a2ffa4f8-cc1e-4d6e-e4ac-22a04e67af05"
      },
      "outputs": [
        {
          "name": "stdout",
          "output_type": "stream",
          "text": [
            "x = [1, 2, 4, 10]\n",
            "ln(x) = [0.         0.69314718 1.38629436 2.30258509]\n",
            "log2(x) = [0.         1.         2.         3.32192809]\n",
            "log10(x) = [0.         0.30103    0.60205999 1.        ]\n"
          ]
        }
      ],
      "source": [
        "x = [1, 2, 4, 10]\n",
        "print(\"x =\", x)\n",
        "print(\"ln(x) =\", np.log(x))\n",
        "print(\"log2(x) =\", np.log2(x))\n",
        "print(\"log10(x) =\", np.log10(x))"
      ]
    },
    {
      "cell_type": "markdown",
      "metadata": {
        "id": "sF-ABX5i0U2z"
      },
      "source": [
        "### **Gráficos con arrays**"
      ]
    },
    {
      "cell_type": "code",
      "execution_count": 93,
      "metadata": {
        "id": "aKHze5zGMuU4"
      },
      "outputs": [],
      "source": [
        "## importamos la librería de gráficos \"matplotlib\"\n",
        "import matplotlib.pyplot as plt\n",
        "%matplotlib inline"
      ]
    },
    {
      "cell_type": "code",
      "execution_count": 138,
      "metadata": {
        "id": "3l_CyhPm3l_r"
      },
      "outputs": [
        {
          "data": {
            "text/plain": [
              "array([0.        , 0.12822827, 0.25645654, 0.38468481, 0.51291309,\n",
              "       0.64114136, 0.76936963, 0.8975979 , 1.02582617, 1.15405444,\n",
              "       1.28228272, 1.41051099, 1.53873926, 1.66696753, 1.7951958 ,\n",
              "       1.92342407, 2.05165235, 2.17988062, 2.30810889, 2.43633716,\n",
              "       2.56456543, 2.6927937 , 2.82102197, 2.94925025, 3.07747852,\n",
              "       3.20570679, 3.33393506, 3.46216333, 3.5903916 , 3.71861988,\n",
              "       3.84684815, 3.97507642, 4.10330469, 4.23153296, 4.35976123,\n",
              "       4.48798951, 4.61621778, 4.74444605, 4.87267432, 5.00090259,\n",
              "       5.12913086, 5.25735913, 5.38558741, 5.51381568, 5.64204395,\n",
              "       5.77027222, 5.89850049, 6.02672876, 6.15495704, 6.28318531])"
            ]
          },
          "execution_count": 138,
          "metadata": {},
          "output_type": "execute_result"
        }
      ],
      "source": [
        "x = np.linspace(0,2*np.pi,50)\n",
        "x"
      ]
    },
    {
      "cell_type": "code",
      "execution_count": 95,
      "metadata": {
        "colab": {
          "base_uri": "https://localhost:8080/"
        },
        "id": "y1EhS_0E4B41",
        "outputId": "a1fed47e-8ee6-4b00-9bd2-a206ec829009"
      },
      "outputs": [
        {
          "data": {
            "text/plain": [
              "array([ 0.  ,  0.13,  0.25,  0.38,  0.49,  0.6 ,  0.7 ,  0.78,  0.86,\n",
              "        0.91,  0.96,  0.99,  1.  ,  1.  ,  0.97,  0.94,  0.89,  0.82,\n",
              "        0.74,  0.65,  0.55,  0.43,  0.32,  0.19,  0.06, -0.06, -0.19,\n",
              "       -0.32, -0.43, -0.55, -0.65, -0.74, -0.82, -0.89, -0.94, -0.97,\n",
              "       -1.  , -1.  , -0.99, -0.96, -0.91, -0.86, -0.78, -0.7 , -0.6 ,\n",
              "       -0.49, -0.38, -0.25, -0.13, -0.  ])"
            ]
          },
          "execution_count": 95,
          "metadata": {},
          "output_type": "execute_result"
        }
      ],
      "source": [
        "y = np.sin(x)\n",
        "y.round(2)"
      ]
    },
    {
      "cell_type": "code",
      "execution_count": 96,
      "metadata": {
        "colab": {
          "base_uri": "https://localhost:8080/",
          "height": 291
        },
        "id": "S_xNiaNc4NiR",
        "outputId": "bb3b34bc-51da-4f27-9e37-86abc85bbae4"
      },
      "outputs": [
        {
          "data": {
            "image/png": "[encoded data removed]",
            "text/plain": [
              "<Figure size 1000x300 with 1 Axes>"
            ]
          },
          "metadata": {},
          "output_type": "display_data"
        }
      ],
      "source": [
        "plt.figure(figsize=(10,3))\n",
        "plt.plot(y, c=\"orange\")\n",
        "plt.show()"
      ]
    },
    {
      "cell_type": "markdown",
      "metadata": {
        "id": "KsJJq_1X5laT"
      },
      "source": [
        "#### Ejercicio 6: Haz la gráfica de x elevado a 5, con 2x5 pulgadas y de color verde"
      ]
    },
    {
      "cell_type": "code",
      "execution_count": 140,
      "metadata": {
        "colab": {
          "base_uri": "https://localhost:8080/",
          "height": 445
        },
        "id": "f0V4AFv24cAh",
        "outputId": "557a984b-5e47-491f-f981-305ed0b80fdf"
      },
      "outputs": [
        {
          "data": {
            "image/png": "[encoded data removed]",
            "text/plain": [
              "<Figure size 200x500 with 1 Axes>"
            ]
          },
          "metadata": {},
          "output_type": "display_data"
        }
      ],
      "source": [
        "x = np.linspace(0,100,50)\n",
        "y = x**5\n",
        "plt.figure(figsize=(2,5))\n",
        "plt.plot(y, c=\"green\")\n",
        "plt.show()"
      ]
    },
    {
      "cell_type": "markdown",
      "metadata": {
        "id": "L-tTFWAY6euC"
      },
      "source": [
        "### **Imágenes**"
      ]
    },
    {
      "cell_type": "code",
      "execution_count": 98,
      "metadata": {
        "id": "AmmUycja5BeS"
      },
      "outputs": [],
      "source": [
        "x = np.linspace(0, 5, 50)\n",
        "y = np.linspace(0, 5, 50).reshape(-1,1)\n",
        "z = np.sin(x) ** 10 + np.cos(10 + y * x) * np.cos(x)"
      ]
    },
    {
      "cell_type": "code",
      "execution_count": 99,
      "metadata": {
        "colab": {
          "base_uri": "https://localhost:8080/"
        },
        "id": "4E5ia1Z_6B9q",
        "outputId": "34a8a4e9-5929-41eb-822a-4b04f63c18b1"
      },
      "outputs": [
        {
          "data": {
            "text/plain": [
              "array([0.        , 0.10204082, 0.20408163, 0.30612245, 0.40816327,\n",
              "       0.51020408, 0.6122449 , 0.71428571, 0.81632653, 0.91836735,\n",
              "       1.02040816, 1.12244898, 1.2244898 , 1.32653061, 1.42857143,\n",
              "       1.53061224, 1.63265306, 1.73469388, 1.83673469, 1.93877551,\n",
              "       2.04081633, 2.14285714, 2.24489796, 2.34693878, 2.44897959,\n",
              "       2.55102041, 2.65306122, 2.75510204, 2.85714286, 2.95918367,\n",
              "       3.06122449, 3.16326531, 3.26530612, 3.36734694, 3.46938776,\n",
              "       3.57142857, 3.67346939, 3.7755102 , 3.87755102, 3.97959184,\n",
              "       4.08163265, 4.18367347, 4.28571429, 4.3877551 , 4.48979592,\n",
              "       4.59183673, 4.69387755, 4.79591837, 4.89795918, 5.        ])"
            ]
          },
          "execution_count": 99,
          "metadata": {},
          "output_type": "execute_result"
        }
      ],
      "source": [
        "x"
      ]
    },
    {
      "cell_type": "code",
      "execution_count": 100,
      "metadata": {
        "colab": {
          "base_uri": "https://localhost:8080/"
        },
        "id": "bbRXg0Lp6Da6",
        "outputId": "b462f211-d696-4f6a-c0c7-241e7eedb121"
      },
      "outputs": [
        {
          "data": {
            "text/plain": [
              "array([[0.        ],\n",
              "       [0.10204082],\n",
              "       [0.20408163],\n",
              "       [0.30612245],\n",
              "       [0.40816327],\n",
              "       [0.51020408],\n",
              "       [0.6122449 ],\n",
              "       [0.71428571],\n",
              "       [0.81632653],\n",
              "       [0.91836735],\n",
              "       [1.02040816],\n",
              "       [1.12244898],\n",
              "       [1.2244898 ],\n",
              "       [1.32653061],\n",
              "       [1.42857143],\n",
              "       [1.53061224],\n",
              "       [1.63265306],\n",
              "       [1.73469388],\n",
              "       [1.83673469],\n",
              "       [1.93877551],\n",
              "       [2.04081633],\n",
              "       [2.14285714],\n",
              "       [2.24489796],\n",
              "       [2.34693878],\n",
              "       [2.44897959],\n",
              "       [2.55102041],\n",
              "       [2.65306122],\n",
              "       [2.75510204],\n",
              "       [2.85714286],\n",
              "       [2.95918367],\n",
              "       [3.06122449],\n",
              "       [3.16326531],\n",
              "       [3.26530612],\n",
              "       [3.36734694],\n",
              "       [3.46938776],\n",
              "       [3.57142857],\n",
              "       [3.67346939],\n",
              "       [3.7755102 ],\n",
              "       [3.87755102],\n",
              "       [3.97959184],\n",
              "       [4.08163265],\n",
              "       [4.18367347],\n",
              "       [4.28571429],\n",
              "       [4.3877551 ],\n",
              "       [4.48979592],\n",
              "       [4.59183673],\n",
              "       [4.69387755],\n",
              "       [4.79591837],\n",
              "       [4.89795918],\n",
              "       [5.        ]])"
            ]
          },
          "execution_count": 100,
          "metadata": {},
          "output_type": "execute_result"
        }
      ],
      "source": [
        "y"
      ]
    },
    {
      "cell_type": "code",
      "execution_count": 101,
      "metadata": {
        "colab": {
          "base_uri": "https://localhost:8080/"
        },
        "id": "GmAOafwQ7kFP",
        "outputId": "dd43056b-7ac1-4552-c5a0-318b927e64b8"
      },
      "outputs": [
        {
          "data": {
            "text/plain": [
              "(50, 50)"
            ]
          },
          "execution_count": 101,
          "metadata": {},
          "output_type": "execute_result"
        }
      ],
      "source": [
        "z.shape"
      ]
    },
    {
      "cell_type": "code",
      "execution_count": 102,
      "metadata": {
        "colab": {
          "base_uri": "https://localhost:8080/",
          "height": 435
        },
        "id": "mxzVhfLo6MUS",
        "outputId": "c53399c8-eb07-42e4-d00b-bf594d503e63"
      },
      "outputs": [
        {
          "data": {
            "image/png": "[encoded data removed]",
            "text/plain": [
              "<Figure size 640x480 with 2 Axes>"
            ]
          },
          "metadata": {},
          "output_type": "display_data"
        }
      ],
      "source": [
        "plt.imshow(z,  origin='lower', extent=[0, 5, 0, 5], cmap='viridis')\n",
        "plt.colorbar();"
      ]
    },
    {
      "cell_type": "code",
      "execution_count": 103,
      "metadata": {
        "colab": {
          "base_uri": "https://localhost:8080/",
          "height": 435
        },
        "id": "hwBr4-HR-tHQ",
        "outputId": "f9b29536-9de0-43fd-9d40-234491ca29e8"
      },
      "outputs": [
        {
          "data": {
            "image/png": "[encoded data removed]",
            "text/plain": [
              "<Figure size 640x480 with 2 Axes>"
            ]
          },
          "metadata": {},
          "output_type": "display_data"
        }
      ],
      "source": [
        "plt.imshow(z,  origin='lower', extent=[0, 5, 0, 5], cmap='gray')\n",
        "plt.colorbar();"
      ]
    },
    {
      "cell_type": "code",
      "execution_count": 104,
      "metadata": {
        "colab": {
          "base_uri": "https://localhost:8080/"
        },
        "id": "TsfkZHEk85Fo",
        "outputId": "7e2bf710-a6b9-47f4-981a-83d8697f00c3"
      },
      "outputs": [
        {
          "ename": "ModuleNotFoundError",
          "evalue": "No module named 'tensorflow'",
          "output_type": "error",
          "traceback": [
            "\u001b[1;31m---------------------------------------------------------------------------\u001b[0m",
            "\u001b[1;31mModuleNotFoundError\u001b[0m                       Traceback (most recent call last)",
            "\u001b[1;32me:\\Mis Proyectos\\Programacion\\Python EOI\\IA Septiembre\\Bloque 2 - Analisis de datos\\3_Numpy.ipynb Celda 87\u001b[0m line \u001b[0;36m1\n\u001b[1;32m----> <a href='vscode-notebook-cell:/e%3A/Mis%20Proyectos/Programacion/Python%20EOI/IA%20Septiembre/Bloque%202%20-%20Analisis%20de%20datos/3_Numpy.ipynb#Y146sZmlsZQ%3D%3D?line=0'>1</a>\u001b[0m \u001b[39mfrom\u001b[39;00m \u001b[39mtensorflow\u001b[39;00m\u001b[39m.\u001b[39;00m\u001b[39mkeras\u001b[39;00m\u001b[39m.\u001b[39;00m\u001b[39mdatasets\u001b[39;00m \u001b[39mimport\u001b[39;00m mnist\n\u001b[0;32m      <a href='vscode-notebook-cell:/e%3A/Mis%20Proyectos/Programacion/Python%20EOI/IA%20Septiembre/Bloque%202%20-%20Analisis%20de%20datos/3_Numpy.ipynb#Y146sZmlsZQ%3D%3D?line=1'>2</a>\u001b[0m (X_train, Y_train), (X_test, Y_test) \u001b[39m=\u001b[39m mnist\u001b[39m.\u001b[39mload_data()\n",
            "\u001b[1;31mModuleNotFoundError\u001b[0m: No module named 'tensorflow'"
          ]
        }
      ],
      "source": [
        "from tensorflow.keras.datasets import mnist\n",
        "(X_train, Y_train), (X_test, Y_test) = mnist.load_data()"
      ]
    },
    {
      "cell_type": "code",
      "execution_count": null,
      "metadata": {
        "colab": {
          "base_uri": "https://localhost:8080/"
        },
        "id": "NvgWTtzn9BLv",
        "outputId": "5acb034d-1687-4b31-a956-4ec054aec53a"
      },
      "outputs": [],
      "source": [
        "X_train[0].shape"
      ]
    },
    {
      "cell_type": "code",
      "execution_count": null,
      "metadata": {
        "colab": {
          "base_uri": "https://localhost:8080/",
          "height": 447
        },
        "id": "4_mCKmdU8PiL",
        "outputId": "8462bc83-be48-46f4-f6b8-ad3515ce1a6d"
      },
      "outputs": [],
      "source": [
        "print(Y_train)\n",
        "plt.imshow(X_train[0])\n",
        "plt.colorbar();"
      ]
    },
    {
      "cell_type": "code",
      "execution_count": null,
      "metadata": {
        "colab": {
          "base_uri": "https://localhost:8080/"
        },
        "id": "gqR_h0Dx8il6",
        "outputId": "4a783ff5-3c93-4777-ad5c-1741b31ce157"
      },
      "outputs": [],
      "source": [
        "X_train[0][0:10]"
      ]
    },
    {
      "cell_type": "code",
      "execution_count": null,
      "metadata": {
        "colab": {
          "base_uri": "https://localhost:8080/",
          "height": 415
        },
        "id": "Y8PN2dPu95Hy",
        "outputId": "26949a39-f61d-4d01-d3cf-95d289bf0ced"
      },
      "outputs": [],
      "source": [
        "plt.imshow(X_train[0][0:10])\n",
        "plt.colorbar();"
      ]
    },
    {
      "cell_type": "code",
      "execution_count": null,
      "metadata": {
        "id": "3XoGxN9W-ViT"
      },
      "outputs": [],
      "source": []
    }
  ],
  "metadata": {
    "colab": {
      "provenance": [],
      "toc_visible": true
    },
    "kernelspec": {
      "display_name": "Python 3",
      "name": "python3"
    },
    "language_info": {
      "codemirror_mode": {
        "name": "ipython",
        "version": 3
      },
      "file_extension": ".py",
      "mimetype": "text/x-python",
      "name": "python",
      "nbconvert_exporter": "python",
      "pygments_lexer": "ipython3",
      "version": "3.11.5"
    }
  },
  "nbformat": 4,
  "nbformat_minor": 0
}
