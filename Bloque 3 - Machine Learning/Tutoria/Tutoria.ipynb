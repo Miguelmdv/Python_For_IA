{
 "cells": [
  {
   "cell_type": "code",
   "execution_count": 38,
   "metadata": {},
   "outputs": [],
   "source": [
    "import pandas as pd\n",
    "\n",
    "df = pd.read_csv(\"rpg_steam_clean.csv\", thousands=\",\")\n",
    "df= df.drop(columns=\"steam_id_number\")\n",
    "df = df.sort_values(['release_year', 'release_month'])"
   ]
  },
  {
   "cell_type": "code",
   "execution_count": 39,
   "metadata": {},
   "outputs": [
    {
     "data": {
      "text/plain": [
       "(10477, 9)"
      ]
     },
     "execution_count": 39,
     "metadata": {},
     "output_type": "execute_result"
    }
   ],
   "source": [
    "df.shape"
   ]
  },
  {
   "cell_type": "markdown",
   "metadata": {},
   "source": [
    "- [X] Evolución precio a lo largo del tiempo\n",
    "- [ ] Identificar palabras estrella en los nombres del os juegos\n",
    "- [X] Normalizar precio y ventas por el momento en el tiempo\n",
    "- [ ] Regresión del precio del juego en función de palabras en título\n",
    "- [ ] Jugadores estimados en función del desarrollador y medir éxito de desarrollador\n"
   ]
  },
  {
   "cell_type": "code",
   "execution_count": 40,
   "metadata": {},
   "outputs": [
    {
     "data": {
      "text/html": [
       "<div>\n",
       "<style scoped>\n",
       "    .dataframe tbody tr th:only-of-type {\n",
       "        vertical-align: middle;\n",
       "    }\n",
       "\n",
       "    .dataframe tbody tr th {\n",
       "        vertical-align: top;\n",
       "    }\n",
       "\n",
       "    .dataframe thead th {\n",
       "        text-align: right;\n",
       "    }\n",
       "</style>\n",
       "<table border=\"1\" class=\"dataframe\">\n",
       "  <thead>\n",
       "    <tr style=\"text-align: right;\">\n",
       "      <th></th>\n",
       "      <th>game_title</th>\n",
       "      <th>release_month</th>\n",
       "      <th>release_year</th>\n",
       "      <th>release_price</th>\n",
       "      <th>lowest_estimated_owners_number</th>\n",
       "      <th>highest_estimated_owners_number</th>\n",
       "      <th>average_estimated_owners_number</th>\n",
       "      <th>developer</th>\n",
       "      <th>publisher</th>\n",
       "    </tr>\n",
       "  </thead>\n",
       "  <tbody>\n",
       "    <tr>\n",
       "      <th>1040</th>\n",
       "      <td>Gates to Terra II</td>\n",
       "      <td>October</td>\n",
       "      <td>2019</td>\n",
       "      <td>0.00</td>\n",
       "      <td>20000</td>\n",
       "      <td>20000</td>\n",
       "      <td>20000</td>\n",
       "      <td>SeasonQuest</td>\n",
       "      <td>SeasonQuest</td>\n",
       "    </tr>\n",
       "    <tr>\n",
       "      <th>5696</th>\n",
       "      <td>死亡编码-Death Code</td>\n",
       "      <td>December</td>\n",
       "      <td>2021</td>\n",
       "      <td>2.99</td>\n",
       "      <td>20000</td>\n",
       "      <td>50000</td>\n",
       "      <td>35000</td>\n",
       "      <td>橙光游戏</td>\n",
       "      <td>橙光游戏</td>\n",
       "    </tr>\n",
       "    <tr>\n",
       "      <th>3532</th>\n",
       "      <td>I'm a sardine Keita</td>\n",
       "      <td>September</td>\n",
       "      <td>2022</td>\n",
       "      <td>2.99</td>\n",
       "      <td>20000</td>\n",
       "      <td>20000</td>\n",
       "      <td>20000</td>\n",
       "      <td>African Boy Keita Studio, 非洲小男孩凯塔工作室</td>\n",
       "      <td>African Boy Keita Studio, 非洲小男孩凯塔工作室</td>\n",
       "    </tr>\n",
       "    <tr>\n",
       "      <th>9650</th>\n",
       "      <td>冷血症骰子</td>\n",
       "      <td>September</td>\n",
       "      <td>2020</td>\n",
       "      <td>7.99</td>\n",
       "      <td>20000</td>\n",
       "      <td>20000</td>\n",
       "      <td>20000</td>\n",
       "      <td>CHARON</td>\n",
       "      <td>Pujia8 Studio</td>\n",
       "    </tr>\n",
       "    <tr>\n",
       "      <th>9899</th>\n",
       "      <td>Atonement: Scourge of Time</td>\n",
       "      <td>July</td>\n",
       "      <td>2015</td>\n",
       "      <td>5.99</td>\n",
       "      <td>500000</td>\n",
       "      <td>1000000</td>\n",
       "      <td>750000</td>\n",
       "      <td>Astronomic Games</td>\n",
       "      <td>New Reality Games</td>\n",
       "    </tr>\n",
       "  </tbody>\n",
       "</table>\n",
       "</div>"
      ],
      "text/plain": [
       "                      game_title release_month  release_year  release_price  \\\n",
       "1040           Gates to Terra II       October          2019           0.00   \n",
       "5696             死亡编码-Death Code      December          2021           2.99   \n",
       "3532         I'm a sardine Keita     September          2022           2.99   \n",
       "9650                       冷血症骰子     September          2020           7.99   \n",
       "9899  Atonement: Scourge of Time          July          2015           5.99   \n",
       "\n",
       "      lowest_estimated_owners_number  highest_estimated_owners_number  \\\n",
       "1040                           20000                            20000   \n",
       "5696                           20000                            50000   \n",
       "3532                           20000                            20000   \n",
       "9650                           20000                            20000   \n",
       "9899                          500000                          1000000   \n",
       "\n",
       "      average_estimated_owners_number                             developer  \\\n",
       "1040                            20000                           SeasonQuest   \n",
       "5696                            35000                                  橙光游戏   \n",
       "3532                            20000  African Boy Keita Studio, 非洲小男孩凯塔工作室   \n",
       "9650                            20000                                CHARON   \n",
       "9899                           750000                      Astronomic Games   \n",
       "\n",
       "                                 publisher  \n",
       "1040                           SeasonQuest  \n",
       "5696                                  橙光游戏  \n",
       "3532  African Boy Keita Studio, 非洲小男孩凯塔工作室  \n",
       "9650                         Pujia8 Studio  \n",
       "9899                     New Reality Games  "
      ]
     },
     "execution_count": 40,
     "metadata": {},
     "output_type": "execute_result"
    }
   ],
   "source": [
    "df.sample(5)"
   ]
  },
  {
   "cell_type": "code",
   "execution_count": 41,
   "metadata": {},
   "outputs": [],
   "source": [
    "df['year_month'] = df.release_year.astype('str').str.cat(df.release_month, sep='_')"
   ]
  },
  {
   "cell_type": "code",
   "execution_count": 42,
   "metadata": {},
   "outputs": [
    {
     "data": {
      "text/plain": [
       "' a aszxczxc asdasd '"
      ]
     },
     "execution_count": 42,
     "metadata": {},
     "output_type": "execute_result"
    }
   ],
   "source": [
    "import re\n",
    "\n",
    "re.sub(r\"\\s+\", \" \", \" a  aszxczxc  asdasd \")"
   ]
  },
  {
   "cell_type": "code",
   "execution_count": 43,
   "metadata": {},
   "outputs": [],
   "source": [
    "df['develop_equals_published'] = df.developer.eq(df.publisher)"
   ]
  }
 ],
 "metadata": {
  "kernelspec": {
   "display_name": "base",
   "language": "python",
   "name": "python3"
  },
  "language_info": {
   "codemirror_mode": {
    "name": "ipython",
    "version": 3
   },
   "file_extension": ".py",
   "mimetype": "text/x-python",
   "name": "python",
   "nbconvert_exporter": "python",
   "pygments_lexer": "ipython3",
   "version": "3.11.5"
  },
  "orig_nbformat": 4
 },
 "nbformat": 4,
 "nbformat_minor": 2
}
